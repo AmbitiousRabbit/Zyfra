{
 "cells": [
  {
   "cell_type": "markdown",
   "metadata": {},
   "source": [
    "# Introduction"
   ]
  },
  {
   "cell_type": "markdown",
   "metadata": {},
   "source": [
    "### Stated Objective(s) Here:\n",
    "* Optimize gold production and eliminate unprofitable parameters within the mining process (i.e. extraction and purification level).\n",
    "\n",
    "### Stated Goal(s) Here:\n",
    "* Build a prototype model that will predict the amount of gold is recovered from gold ore.\n",
    "\n",
    "### Initial Question(s): \n",
    "* Is there any minerals that goes beyond the standard process (i.e. needing several more pass-throughs to the purification process)?\n",
    "* Does a shorter or lengther purification process harm or benefit an ore?"
   ]
  },
  {
   "cell_type": "markdown",
   "metadata": {},
   "source": [
    "## Data Wrangling"
   ]
  },
  {
   "cell_type": "markdown",
   "metadata": {},
   "source": [
    "### Libraries & Data"
   ]
  },
  {
   "cell_type": "code",
   "execution_count": 1,
   "metadata": {},
   "outputs": [],
   "source": [
    "#Load Libraries Here\n",
    "import pandas as pd\n",
    "import numpy as np\n",
    "import matplotlib.pyplot as plt\n",
    "from numpy.random import RandomState\n",
    "from sklearn.model_selection import train_test_split, cross_val_score, RandomizedSearchCV\n",
    "from sklearn.linear_model import LinearRegression\n",
    "from sklearn.ensemble import RandomForestRegressor\n",
    "from sklearn.tree import DecisionTreeRegressor\n",
    "from sklearn.dummy import DummyRegressor\n",
    "from sklearn.metrics import mean_squared_error, mean_absolute_error, make_scorer\n",
    "\n",
    "# from sklearn.model_selection import RandomizedSearchCV"
   ]
  },
  {
   "cell_type": "code",
   "execution_count": 2,
   "metadata": {},
   "outputs": [],
   "source": [
    "#Load Data Here\n",
    "train = pd.read_csv('/datasets/gold_recovery_train.csv')\n",
    "test = pd.read_csv('/datasets/gold_recovery_test.csv')\n",
    "full = pd.read_csv('/datasets/gold_recovery_full.csv')"
   ]
  },
  {
   "cell_type": "markdown",
   "metadata": {},
   "source": [
    "#### Training Dataset"
   ]
  },
  {
   "cell_type": "code",
   "execution_count": 3,
   "metadata": {},
   "outputs": [
    {
     "data": {
      "text/html": [
       "<div>\n",
       "<style scoped>\n",
       "    .dataframe tbody tr th:only-of-type {\n",
       "        vertical-align: middle;\n",
       "    }\n",
       "\n",
       "    .dataframe tbody tr th {\n",
       "        vertical-align: top;\n",
       "    }\n",
       "\n",
       "    .dataframe thead th {\n",
       "        text-align: right;\n",
       "    }\n",
       "</style>\n",
       "<table border=\"1\" class=\"dataframe\">\n",
       "  <thead>\n",
       "    <tr style=\"text-align: right;\">\n",
       "      <th></th>\n",
       "      <th>date</th>\n",
       "      <th>final.output.concentrate_ag</th>\n",
       "      <th>final.output.concentrate_pb</th>\n",
       "      <th>final.output.concentrate_sol</th>\n",
       "      <th>final.output.concentrate_au</th>\n",
       "      <th>final.output.recovery</th>\n",
       "      <th>final.output.tail_ag</th>\n",
       "      <th>final.output.tail_pb</th>\n",
       "      <th>final.output.tail_sol</th>\n",
       "      <th>final.output.tail_au</th>\n",
       "      <th>...</th>\n",
       "      <th>secondary_cleaner.state.floatbank4_a_air</th>\n",
       "      <th>secondary_cleaner.state.floatbank4_a_level</th>\n",
       "      <th>secondary_cleaner.state.floatbank4_b_air</th>\n",
       "      <th>secondary_cleaner.state.floatbank4_b_level</th>\n",
       "      <th>secondary_cleaner.state.floatbank5_a_air</th>\n",
       "      <th>secondary_cleaner.state.floatbank5_a_level</th>\n",
       "      <th>secondary_cleaner.state.floatbank5_b_air</th>\n",
       "      <th>secondary_cleaner.state.floatbank5_b_level</th>\n",
       "      <th>secondary_cleaner.state.floatbank6_a_air</th>\n",
       "      <th>secondary_cleaner.state.floatbank6_a_level</th>\n",
       "    </tr>\n",
       "  </thead>\n",
       "  <tbody>\n",
       "    <tr>\n",
       "      <th>0</th>\n",
       "      <td>2016-01-15 00:00:00</td>\n",
       "      <td>6.055403</td>\n",
       "      <td>9.889648</td>\n",
       "      <td>5.507324</td>\n",
       "      <td>42.192020</td>\n",
       "      <td>70.541216</td>\n",
       "      <td>10.411962</td>\n",
       "      <td>0.895447</td>\n",
       "      <td>16.904297</td>\n",
       "      <td>2.143149</td>\n",
       "      <td>...</td>\n",
       "      <td>14.016835</td>\n",
       "      <td>-502.488007</td>\n",
       "      <td>12.099931</td>\n",
       "      <td>-504.715942</td>\n",
       "      <td>9.925633</td>\n",
       "      <td>-498.310211</td>\n",
       "      <td>8.079666</td>\n",
       "      <td>-500.470978</td>\n",
       "      <td>14.151341</td>\n",
       "      <td>-605.841980</td>\n",
       "    </tr>\n",
       "    <tr>\n",
       "      <th>1</th>\n",
       "      <td>2016-01-15 01:00:00</td>\n",
       "      <td>6.029369</td>\n",
       "      <td>9.968944</td>\n",
       "      <td>5.257781</td>\n",
       "      <td>42.701629</td>\n",
       "      <td>69.266198</td>\n",
       "      <td>10.462676</td>\n",
       "      <td>0.927452</td>\n",
       "      <td>16.634514</td>\n",
       "      <td>2.224930</td>\n",
       "      <td>...</td>\n",
       "      <td>13.992281</td>\n",
       "      <td>-505.503262</td>\n",
       "      <td>11.950531</td>\n",
       "      <td>-501.331529</td>\n",
       "      <td>10.039245</td>\n",
       "      <td>-500.169983</td>\n",
       "      <td>7.984757</td>\n",
       "      <td>-500.582168</td>\n",
       "      <td>13.998353</td>\n",
       "      <td>-599.787184</td>\n",
       "    </tr>\n",
       "    <tr>\n",
       "      <th>2</th>\n",
       "      <td>2016-01-15 02:00:00</td>\n",
       "      <td>6.055926</td>\n",
       "      <td>10.213995</td>\n",
       "      <td>5.383759</td>\n",
       "      <td>42.657501</td>\n",
       "      <td>68.116445</td>\n",
       "      <td>10.507046</td>\n",
       "      <td>0.953716</td>\n",
       "      <td>16.208849</td>\n",
       "      <td>2.257889</td>\n",
       "      <td>...</td>\n",
       "      <td>14.015015</td>\n",
       "      <td>-502.520901</td>\n",
       "      <td>11.912783</td>\n",
       "      <td>-501.133383</td>\n",
       "      <td>10.070913</td>\n",
       "      <td>-500.129135</td>\n",
       "      <td>8.013877</td>\n",
       "      <td>-500.517572</td>\n",
       "      <td>14.028663</td>\n",
       "      <td>-601.427363</td>\n",
       "    </tr>\n",
       "    <tr>\n",
       "      <th>3</th>\n",
       "      <td>2016-01-15 03:00:00</td>\n",
       "      <td>6.047977</td>\n",
       "      <td>9.977019</td>\n",
       "      <td>4.858634</td>\n",
       "      <td>42.689819</td>\n",
       "      <td>68.347543</td>\n",
       "      <td>10.422762</td>\n",
       "      <td>0.883763</td>\n",
       "      <td>16.532835</td>\n",
       "      <td>2.146849</td>\n",
       "      <td>...</td>\n",
       "      <td>14.036510</td>\n",
       "      <td>-500.857308</td>\n",
       "      <td>11.999550</td>\n",
       "      <td>-501.193686</td>\n",
       "      <td>9.970366</td>\n",
       "      <td>-499.201640</td>\n",
       "      <td>7.977324</td>\n",
       "      <td>-500.255908</td>\n",
       "      <td>14.005551</td>\n",
       "      <td>-599.996129</td>\n",
       "    </tr>\n",
       "    <tr>\n",
       "      <th>4</th>\n",
       "      <td>2016-01-15 04:00:00</td>\n",
       "      <td>6.148599</td>\n",
       "      <td>10.142511</td>\n",
       "      <td>4.939416</td>\n",
       "      <td>42.774141</td>\n",
       "      <td>66.927016</td>\n",
       "      <td>10.360302</td>\n",
       "      <td>0.792826</td>\n",
       "      <td>16.525686</td>\n",
       "      <td>2.055292</td>\n",
       "      <td>...</td>\n",
       "      <td>14.027298</td>\n",
       "      <td>-499.838632</td>\n",
       "      <td>11.953070</td>\n",
       "      <td>-501.053894</td>\n",
       "      <td>9.925709</td>\n",
       "      <td>-501.686727</td>\n",
       "      <td>7.894242</td>\n",
       "      <td>-500.356035</td>\n",
       "      <td>13.996647</td>\n",
       "      <td>-601.496691</td>\n",
       "    </tr>\n",
       "  </tbody>\n",
       "</table>\n",
       "<p>5 rows × 87 columns</p>\n",
       "</div>"
      ],
      "text/plain": [
       "                  date  final.output.concentrate_ag  \\\n",
       "0  2016-01-15 00:00:00                     6.055403   \n",
       "1  2016-01-15 01:00:00                     6.029369   \n",
       "2  2016-01-15 02:00:00                     6.055926   \n",
       "3  2016-01-15 03:00:00                     6.047977   \n",
       "4  2016-01-15 04:00:00                     6.148599   \n",
       "\n",
       "   final.output.concentrate_pb  final.output.concentrate_sol  \\\n",
       "0                     9.889648                      5.507324   \n",
       "1                     9.968944                      5.257781   \n",
       "2                    10.213995                      5.383759   \n",
       "3                     9.977019                      4.858634   \n",
       "4                    10.142511                      4.939416   \n",
       "\n",
       "   final.output.concentrate_au  final.output.recovery  final.output.tail_ag  \\\n",
       "0                    42.192020              70.541216             10.411962   \n",
       "1                    42.701629              69.266198             10.462676   \n",
       "2                    42.657501              68.116445             10.507046   \n",
       "3                    42.689819              68.347543             10.422762   \n",
       "4                    42.774141              66.927016             10.360302   \n",
       "\n",
       "   final.output.tail_pb  final.output.tail_sol  final.output.tail_au  ...  \\\n",
       "0              0.895447              16.904297              2.143149  ...   \n",
       "1              0.927452              16.634514              2.224930  ...   \n",
       "2              0.953716              16.208849              2.257889  ...   \n",
       "3              0.883763              16.532835              2.146849  ...   \n",
       "4              0.792826              16.525686              2.055292  ...   \n",
       "\n",
       "   secondary_cleaner.state.floatbank4_a_air  \\\n",
       "0                                 14.016835   \n",
       "1                                 13.992281   \n",
       "2                                 14.015015   \n",
       "3                                 14.036510   \n",
       "4                                 14.027298   \n",
       "\n",
       "   secondary_cleaner.state.floatbank4_a_level  \\\n",
       "0                                 -502.488007   \n",
       "1                                 -505.503262   \n",
       "2                                 -502.520901   \n",
       "3                                 -500.857308   \n",
       "4                                 -499.838632   \n",
       "\n",
       "   secondary_cleaner.state.floatbank4_b_air  \\\n",
       "0                                 12.099931   \n",
       "1                                 11.950531   \n",
       "2                                 11.912783   \n",
       "3                                 11.999550   \n",
       "4                                 11.953070   \n",
       "\n",
       "   secondary_cleaner.state.floatbank4_b_level  \\\n",
       "0                                 -504.715942   \n",
       "1                                 -501.331529   \n",
       "2                                 -501.133383   \n",
       "3                                 -501.193686   \n",
       "4                                 -501.053894   \n",
       "\n",
       "   secondary_cleaner.state.floatbank5_a_air  \\\n",
       "0                                  9.925633   \n",
       "1                                 10.039245   \n",
       "2                                 10.070913   \n",
       "3                                  9.970366   \n",
       "4                                  9.925709   \n",
       "\n",
       "   secondary_cleaner.state.floatbank5_a_level  \\\n",
       "0                                 -498.310211   \n",
       "1                                 -500.169983   \n",
       "2                                 -500.129135   \n",
       "3                                 -499.201640   \n",
       "4                                 -501.686727   \n",
       "\n",
       "   secondary_cleaner.state.floatbank5_b_air  \\\n",
       "0                                  8.079666   \n",
       "1                                  7.984757   \n",
       "2                                  8.013877   \n",
       "3                                  7.977324   \n",
       "4                                  7.894242   \n",
       "\n",
       "   secondary_cleaner.state.floatbank5_b_level  \\\n",
       "0                                 -500.470978   \n",
       "1                                 -500.582168   \n",
       "2                                 -500.517572   \n",
       "3                                 -500.255908   \n",
       "4                                 -500.356035   \n",
       "\n",
       "   secondary_cleaner.state.floatbank6_a_air  \\\n",
       "0                                 14.151341   \n",
       "1                                 13.998353   \n",
       "2                                 14.028663   \n",
       "3                                 14.005551   \n",
       "4                                 13.996647   \n",
       "\n",
       "   secondary_cleaner.state.floatbank6_a_level  \n",
       "0                                 -605.841980  \n",
       "1                                 -599.787184  \n",
       "2                                 -601.427363  \n",
       "3                                 -599.996129  \n",
       "4                                 -601.496691  \n",
       "\n",
       "[5 rows x 87 columns]"
      ]
     },
     "execution_count": 3,
     "metadata": {},
     "output_type": "execute_result"
    }
   ],
   "source": [
    "train.head()"
   ]
  },
  {
   "cell_type": "code",
   "execution_count": 4,
   "metadata": {},
   "outputs": [
    {
     "name": "stdout",
     "output_type": "stream",
     "text": [
      "<class 'pandas.core.frame.DataFrame'>\n",
      "RangeIndex: 16860 entries, 0 to 16859\n",
      "Data columns (total 87 columns):\n",
      " #   Column                                              Non-Null Count  Dtype  \n",
      "---  ------                                              --------------  -----  \n",
      " 0   date                                                16860 non-null  object \n",
      " 1   final.output.concentrate_ag                         16788 non-null  float64\n",
      " 2   final.output.concentrate_pb                         16788 non-null  float64\n",
      " 3   final.output.concentrate_sol                        16490 non-null  float64\n",
      " 4   final.output.concentrate_au                         16789 non-null  float64\n",
      " 5   final.output.recovery                               15339 non-null  float64\n",
      " 6   final.output.tail_ag                                16794 non-null  float64\n",
      " 7   final.output.tail_pb                                16677 non-null  float64\n",
      " 8   final.output.tail_sol                               16715 non-null  float64\n",
      " 9   final.output.tail_au                                16794 non-null  float64\n",
      " 10  primary_cleaner.input.sulfate                       15553 non-null  float64\n",
      " 11  primary_cleaner.input.depressant                    15598 non-null  float64\n",
      " 12  primary_cleaner.input.feed_size                     16860 non-null  float64\n",
      " 13  primary_cleaner.input.xanthate                      15875 non-null  float64\n",
      " 14  primary_cleaner.output.concentrate_ag               16778 non-null  float64\n",
      " 15  primary_cleaner.output.concentrate_pb               16502 non-null  float64\n",
      " 16  primary_cleaner.output.concentrate_sol              16224 non-null  float64\n",
      " 17  primary_cleaner.output.concentrate_au               16778 non-null  float64\n",
      " 18  primary_cleaner.output.tail_ag                      16777 non-null  float64\n",
      " 19  primary_cleaner.output.tail_pb                      16761 non-null  float64\n",
      " 20  primary_cleaner.output.tail_sol                     16579 non-null  float64\n",
      " 21  primary_cleaner.output.tail_au                      16777 non-null  float64\n",
      " 22  primary_cleaner.state.floatbank8_a_air              16820 non-null  float64\n",
      " 23  primary_cleaner.state.floatbank8_a_level            16827 non-null  float64\n",
      " 24  primary_cleaner.state.floatbank8_b_air              16820 non-null  float64\n",
      " 25  primary_cleaner.state.floatbank8_b_level            16833 non-null  float64\n",
      " 26  primary_cleaner.state.floatbank8_c_air              16822 non-null  float64\n",
      " 27  primary_cleaner.state.floatbank8_c_level            16833 non-null  float64\n",
      " 28  primary_cleaner.state.floatbank8_d_air              16821 non-null  float64\n",
      " 29  primary_cleaner.state.floatbank8_d_level            16833 non-null  float64\n",
      " 30  rougher.calculation.sulfate_to_au_concentrate       16833 non-null  float64\n",
      " 31  rougher.calculation.floatbank10_sulfate_to_au_feed  16833 non-null  float64\n",
      " 32  rougher.calculation.floatbank11_sulfate_to_au_feed  16833 non-null  float64\n",
      " 33  rougher.calculation.au_pb_ratio                     15618 non-null  float64\n",
      " 34  rougher.input.feed_ag                               16778 non-null  float64\n",
      " 35  rougher.input.feed_pb                               16632 non-null  float64\n",
      " 36  rougher.input.feed_rate                             16347 non-null  float64\n",
      " 37  rougher.input.feed_size                             16443 non-null  float64\n",
      " 38  rougher.input.feed_sol                              16568 non-null  float64\n",
      " 39  rougher.input.feed_au                               16777 non-null  float64\n",
      " 40  rougher.input.floatbank10_sulfate                   15816 non-null  float64\n",
      " 41  rougher.input.floatbank10_xanthate                  16514 non-null  float64\n",
      " 42  rougher.input.floatbank11_sulfate                   16237 non-null  float64\n",
      " 43  rougher.input.floatbank11_xanthate                  14956 non-null  float64\n",
      " 44  rougher.output.concentrate_ag                       16778 non-null  float64\n",
      " 45  rougher.output.concentrate_pb                       16778 non-null  float64\n",
      " 46  rougher.output.concentrate_sol                      16698 non-null  float64\n",
      " 47  rougher.output.concentrate_au                       16778 non-null  float64\n",
      " 48  rougher.output.recovery                             14287 non-null  float64\n",
      " 49  rougher.output.tail_ag                              14610 non-null  float64\n",
      " 50  rougher.output.tail_pb                              16778 non-null  float64\n",
      " 51  rougher.output.tail_sol                             14611 non-null  float64\n",
      " 52  rougher.output.tail_au                              14611 non-null  float64\n",
      " 53  rougher.state.floatbank10_a_air                     16807 non-null  float64\n",
      " 54  rougher.state.floatbank10_a_level                   16807 non-null  float64\n",
      " 55  rougher.state.floatbank10_b_air                     16807 non-null  float64\n",
      " 56  rougher.state.floatbank10_b_level                   16807 non-null  float64\n",
      " 57  rougher.state.floatbank10_c_air                     16807 non-null  float64\n",
      " 58  rougher.state.floatbank10_c_level                   16814 non-null  float64\n",
      " 59  rougher.state.floatbank10_d_air                     16802 non-null  float64\n",
      " 60  rougher.state.floatbank10_d_level                   16809 non-null  float64\n",
      " 61  rougher.state.floatbank10_e_air                     16257 non-null  float64\n",
      " 62  rougher.state.floatbank10_e_level                   16809 non-null  float64\n",
      " 63  rougher.state.floatbank10_f_air                     16802 non-null  float64\n",
      " 64  rougher.state.floatbank10_f_level                   16802 non-null  float64\n",
      " 65  secondary_cleaner.output.tail_ag                    16776 non-null  float64\n",
      " 66  secondary_cleaner.output.tail_pb                    16764 non-null  float64\n",
      " 67  secondary_cleaner.output.tail_sol                   14874 non-null  float64\n",
      " 68  secondary_cleaner.output.tail_au                    16778 non-null  float64\n",
      " 69  secondary_cleaner.state.floatbank2_a_air            16497 non-null  float64\n",
      " 70  secondary_cleaner.state.floatbank2_a_level          16751 non-null  float64\n",
      " 71  secondary_cleaner.state.floatbank2_b_air            16705 non-null  float64\n",
      " 72  secondary_cleaner.state.floatbank2_b_level          16748 non-null  float64\n",
      " 73  secondary_cleaner.state.floatbank3_a_air            16763 non-null  float64\n",
      " 74  secondary_cleaner.state.floatbank3_a_level          16747 non-null  float64\n",
      " 75  secondary_cleaner.state.floatbank3_b_air            16752 non-null  float64\n",
      " 76  secondary_cleaner.state.floatbank3_b_level          16750 non-null  float64\n",
      " 77  secondary_cleaner.state.floatbank4_a_air            16731 non-null  float64\n",
      " 78  secondary_cleaner.state.floatbank4_a_level          16747 non-null  float64\n",
      " 79  secondary_cleaner.state.floatbank4_b_air            16768 non-null  float64\n",
      " 80  secondary_cleaner.state.floatbank4_b_level          16767 non-null  float64\n",
      " 81  secondary_cleaner.state.floatbank5_a_air            16775 non-null  float64\n",
      " 82  secondary_cleaner.state.floatbank5_a_level          16775 non-null  float64\n",
      " 83  secondary_cleaner.state.floatbank5_b_air            16775 non-null  float64\n",
      " 84  secondary_cleaner.state.floatbank5_b_level          16776 non-null  float64\n",
      " 85  secondary_cleaner.state.floatbank6_a_air            16757 non-null  float64\n",
      " 86  secondary_cleaner.state.floatbank6_a_level          16775 non-null  float64\n",
      "dtypes: float64(86), object(1)\n",
      "memory usage: 11.2+ MB\n"
     ]
    }
   ],
   "source": [
    "train.info()"
   ]
  },
  {
   "cell_type": "code",
   "execution_count": 5,
   "metadata": {},
   "outputs": [
    {
     "data": {
      "text/plain": [
       "0"
      ]
     },
     "execution_count": 5,
     "metadata": {},
     "output_type": "execute_result"
    }
   ],
   "source": [
    "train.duplicated().sum()"
   ]
  },
  {
   "cell_type": "code",
   "execution_count": 6,
   "metadata": {},
   "outputs": [
    {
     "data": {
      "text/plain": [
       "30320"
      ]
     },
     "execution_count": 6,
     "metadata": {},
     "output_type": "execute_result"
    }
   ],
   "source": [
    "train.isna().sum().sum()"
   ]
  },
  {
   "cell_type": "markdown",
   "metadata": {},
   "source": [
    "This training set has a 86 columns, close to 17k entries per column, but has 30,320 missing observations in total."
   ]
  },
  {
   "cell_type": "markdown",
   "metadata": {},
   "source": [
    "#### Testing Dataset"
   ]
  },
  {
   "cell_type": "code",
   "execution_count": 7,
   "metadata": {},
   "outputs": [
    {
     "data": {
      "text/html": [
       "<div>\n",
       "<style scoped>\n",
       "    .dataframe tbody tr th:only-of-type {\n",
       "        vertical-align: middle;\n",
       "    }\n",
       "\n",
       "    .dataframe tbody tr th {\n",
       "        vertical-align: top;\n",
       "    }\n",
       "\n",
       "    .dataframe thead th {\n",
       "        text-align: right;\n",
       "    }\n",
       "</style>\n",
       "<table border=\"1\" class=\"dataframe\">\n",
       "  <thead>\n",
       "    <tr style=\"text-align: right;\">\n",
       "      <th></th>\n",
       "      <th>date</th>\n",
       "      <th>primary_cleaner.input.sulfate</th>\n",
       "      <th>primary_cleaner.input.depressant</th>\n",
       "      <th>primary_cleaner.input.feed_size</th>\n",
       "      <th>primary_cleaner.input.xanthate</th>\n",
       "      <th>primary_cleaner.state.floatbank8_a_air</th>\n",
       "      <th>primary_cleaner.state.floatbank8_a_level</th>\n",
       "      <th>primary_cleaner.state.floatbank8_b_air</th>\n",
       "      <th>primary_cleaner.state.floatbank8_b_level</th>\n",
       "      <th>primary_cleaner.state.floatbank8_c_air</th>\n",
       "      <th>...</th>\n",
       "      <th>secondary_cleaner.state.floatbank4_a_air</th>\n",
       "      <th>secondary_cleaner.state.floatbank4_a_level</th>\n",
       "      <th>secondary_cleaner.state.floatbank4_b_air</th>\n",
       "      <th>secondary_cleaner.state.floatbank4_b_level</th>\n",
       "      <th>secondary_cleaner.state.floatbank5_a_air</th>\n",
       "      <th>secondary_cleaner.state.floatbank5_a_level</th>\n",
       "      <th>secondary_cleaner.state.floatbank5_b_air</th>\n",
       "      <th>secondary_cleaner.state.floatbank5_b_level</th>\n",
       "      <th>secondary_cleaner.state.floatbank6_a_air</th>\n",
       "      <th>secondary_cleaner.state.floatbank6_a_level</th>\n",
       "    </tr>\n",
       "  </thead>\n",
       "  <tbody>\n",
       "    <tr>\n",
       "      <th>0</th>\n",
       "      <td>2016-09-01 00:59:59</td>\n",
       "      <td>210.800909</td>\n",
       "      <td>14.993118</td>\n",
       "      <td>8.080000</td>\n",
       "      <td>1.005021</td>\n",
       "      <td>1398.981301</td>\n",
       "      <td>-500.225577</td>\n",
       "      <td>1399.144926</td>\n",
       "      <td>-499.919735</td>\n",
       "      <td>1400.102998</td>\n",
       "      <td>...</td>\n",
       "      <td>12.023554</td>\n",
       "      <td>-497.795834</td>\n",
       "      <td>8.016656</td>\n",
       "      <td>-501.289139</td>\n",
       "      <td>7.946562</td>\n",
       "      <td>-432.317850</td>\n",
       "      <td>4.872511</td>\n",
       "      <td>-500.037437</td>\n",
       "      <td>26.705889</td>\n",
       "      <td>-499.709414</td>\n",
       "    </tr>\n",
       "    <tr>\n",
       "      <th>1</th>\n",
       "      <td>2016-09-01 01:59:59</td>\n",
       "      <td>215.392455</td>\n",
       "      <td>14.987471</td>\n",
       "      <td>8.080000</td>\n",
       "      <td>0.990469</td>\n",
       "      <td>1398.777912</td>\n",
       "      <td>-500.057435</td>\n",
       "      <td>1398.055362</td>\n",
       "      <td>-499.778182</td>\n",
       "      <td>1396.151033</td>\n",
       "      <td>...</td>\n",
       "      <td>12.058140</td>\n",
       "      <td>-498.695773</td>\n",
       "      <td>8.130979</td>\n",
       "      <td>-499.634209</td>\n",
       "      <td>7.958270</td>\n",
       "      <td>-525.839648</td>\n",
       "      <td>4.878850</td>\n",
       "      <td>-500.162375</td>\n",
       "      <td>25.019940</td>\n",
       "      <td>-499.819438</td>\n",
       "    </tr>\n",
       "    <tr>\n",
       "      <th>2</th>\n",
       "      <td>2016-09-01 02:59:59</td>\n",
       "      <td>215.259946</td>\n",
       "      <td>12.884934</td>\n",
       "      <td>7.786667</td>\n",
       "      <td>0.996043</td>\n",
       "      <td>1398.493666</td>\n",
       "      <td>-500.868360</td>\n",
       "      <td>1398.860436</td>\n",
       "      <td>-499.764529</td>\n",
       "      <td>1398.075709</td>\n",
       "      <td>...</td>\n",
       "      <td>11.962366</td>\n",
       "      <td>-498.767484</td>\n",
       "      <td>8.096893</td>\n",
       "      <td>-500.827423</td>\n",
       "      <td>8.071056</td>\n",
       "      <td>-500.801673</td>\n",
       "      <td>4.905125</td>\n",
       "      <td>-499.828510</td>\n",
       "      <td>24.994862</td>\n",
       "      <td>-500.622559</td>\n",
       "    </tr>\n",
       "    <tr>\n",
       "      <th>3</th>\n",
       "      <td>2016-09-01 03:59:59</td>\n",
       "      <td>215.336236</td>\n",
       "      <td>12.006805</td>\n",
       "      <td>7.640000</td>\n",
       "      <td>0.863514</td>\n",
       "      <td>1399.618111</td>\n",
       "      <td>-498.863574</td>\n",
       "      <td>1397.440120</td>\n",
       "      <td>-499.211024</td>\n",
       "      <td>1400.129303</td>\n",
       "      <td>...</td>\n",
       "      <td>12.033091</td>\n",
       "      <td>-498.350935</td>\n",
       "      <td>8.074946</td>\n",
       "      <td>-499.474407</td>\n",
       "      <td>7.897085</td>\n",
       "      <td>-500.868509</td>\n",
       "      <td>4.931400</td>\n",
       "      <td>-499.963623</td>\n",
       "      <td>24.948919</td>\n",
       "      <td>-498.709987</td>\n",
       "    </tr>\n",
       "    <tr>\n",
       "      <th>4</th>\n",
       "      <td>2016-09-01 04:59:59</td>\n",
       "      <td>199.099327</td>\n",
       "      <td>10.682530</td>\n",
       "      <td>7.530000</td>\n",
       "      <td>0.805575</td>\n",
       "      <td>1401.268123</td>\n",
       "      <td>-500.808305</td>\n",
       "      <td>1398.128818</td>\n",
       "      <td>-499.504543</td>\n",
       "      <td>1402.172226</td>\n",
       "      <td>...</td>\n",
       "      <td>12.025367</td>\n",
       "      <td>-500.786497</td>\n",
       "      <td>8.054678</td>\n",
       "      <td>-500.397500</td>\n",
       "      <td>8.107890</td>\n",
       "      <td>-509.526725</td>\n",
       "      <td>4.957674</td>\n",
       "      <td>-500.360026</td>\n",
       "      <td>25.003331</td>\n",
       "      <td>-500.856333</td>\n",
       "    </tr>\n",
       "  </tbody>\n",
       "</table>\n",
       "<p>5 rows × 53 columns</p>\n",
       "</div>"
      ],
      "text/plain": [
       "                  date  primary_cleaner.input.sulfate  \\\n",
       "0  2016-09-01 00:59:59                     210.800909   \n",
       "1  2016-09-01 01:59:59                     215.392455   \n",
       "2  2016-09-01 02:59:59                     215.259946   \n",
       "3  2016-09-01 03:59:59                     215.336236   \n",
       "4  2016-09-01 04:59:59                     199.099327   \n",
       "\n",
       "   primary_cleaner.input.depressant  primary_cleaner.input.feed_size  \\\n",
       "0                         14.993118                         8.080000   \n",
       "1                         14.987471                         8.080000   \n",
       "2                         12.884934                         7.786667   \n",
       "3                         12.006805                         7.640000   \n",
       "4                         10.682530                         7.530000   \n",
       "\n",
       "   primary_cleaner.input.xanthate  primary_cleaner.state.floatbank8_a_air  \\\n",
       "0                        1.005021                             1398.981301   \n",
       "1                        0.990469                             1398.777912   \n",
       "2                        0.996043                             1398.493666   \n",
       "3                        0.863514                             1399.618111   \n",
       "4                        0.805575                             1401.268123   \n",
       "\n",
       "   primary_cleaner.state.floatbank8_a_level  \\\n",
       "0                               -500.225577   \n",
       "1                               -500.057435   \n",
       "2                               -500.868360   \n",
       "3                               -498.863574   \n",
       "4                               -500.808305   \n",
       "\n",
       "   primary_cleaner.state.floatbank8_b_air  \\\n",
       "0                             1399.144926   \n",
       "1                             1398.055362   \n",
       "2                             1398.860436   \n",
       "3                             1397.440120   \n",
       "4                             1398.128818   \n",
       "\n",
       "   primary_cleaner.state.floatbank8_b_level  \\\n",
       "0                               -499.919735   \n",
       "1                               -499.778182   \n",
       "2                               -499.764529   \n",
       "3                               -499.211024   \n",
       "4                               -499.504543   \n",
       "\n",
       "   primary_cleaner.state.floatbank8_c_air  ...  \\\n",
       "0                             1400.102998  ...   \n",
       "1                             1396.151033  ...   \n",
       "2                             1398.075709  ...   \n",
       "3                             1400.129303  ...   \n",
       "4                             1402.172226  ...   \n",
       "\n",
       "   secondary_cleaner.state.floatbank4_a_air  \\\n",
       "0                                 12.023554   \n",
       "1                                 12.058140   \n",
       "2                                 11.962366   \n",
       "3                                 12.033091   \n",
       "4                                 12.025367   \n",
       "\n",
       "   secondary_cleaner.state.floatbank4_a_level  \\\n",
       "0                                 -497.795834   \n",
       "1                                 -498.695773   \n",
       "2                                 -498.767484   \n",
       "3                                 -498.350935   \n",
       "4                                 -500.786497   \n",
       "\n",
       "   secondary_cleaner.state.floatbank4_b_air  \\\n",
       "0                                  8.016656   \n",
       "1                                  8.130979   \n",
       "2                                  8.096893   \n",
       "3                                  8.074946   \n",
       "4                                  8.054678   \n",
       "\n",
       "   secondary_cleaner.state.floatbank4_b_level  \\\n",
       "0                                 -501.289139   \n",
       "1                                 -499.634209   \n",
       "2                                 -500.827423   \n",
       "3                                 -499.474407   \n",
       "4                                 -500.397500   \n",
       "\n",
       "   secondary_cleaner.state.floatbank5_a_air  \\\n",
       "0                                  7.946562   \n",
       "1                                  7.958270   \n",
       "2                                  8.071056   \n",
       "3                                  7.897085   \n",
       "4                                  8.107890   \n",
       "\n",
       "   secondary_cleaner.state.floatbank5_a_level  \\\n",
       "0                                 -432.317850   \n",
       "1                                 -525.839648   \n",
       "2                                 -500.801673   \n",
       "3                                 -500.868509   \n",
       "4                                 -509.526725   \n",
       "\n",
       "   secondary_cleaner.state.floatbank5_b_air  \\\n",
       "0                                  4.872511   \n",
       "1                                  4.878850   \n",
       "2                                  4.905125   \n",
       "3                                  4.931400   \n",
       "4                                  4.957674   \n",
       "\n",
       "   secondary_cleaner.state.floatbank5_b_level  \\\n",
       "0                                 -500.037437   \n",
       "1                                 -500.162375   \n",
       "2                                 -499.828510   \n",
       "3                                 -499.963623   \n",
       "4                                 -500.360026   \n",
       "\n",
       "   secondary_cleaner.state.floatbank6_a_air  \\\n",
       "0                                 26.705889   \n",
       "1                                 25.019940   \n",
       "2                                 24.994862   \n",
       "3                                 24.948919   \n",
       "4                                 25.003331   \n",
       "\n",
       "   secondary_cleaner.state.floatbank6_a_level  \n",
       "0                                 -499.709414  \n",
       "1                                 -499.819438  \n",
       "2                                 -500.622559  \n",
       "3                                 -498.709987  \n",
       "4                                 -500.856333  \n",
       "\n",
       "[5 rows x 53 columns]"
      ]
     },
     "execution_count": 7,
     "metadata": {},
     "output_type": "execute_result"
    }
   ],
   "source": [
    "test.head()"
   ]
  },
  {
   "cell_type": "code",
   "execution_count": 8,
   "metadata": {},
   "outputs": [
    {
     "name": "stdout",
     "output_type": "stream",
     "text": [
      "<class 'pandas.core.frame.DataFrame'>\n",
      "RangeIndex: 5856 entries, 0 to 5855\n",
      "Data columns (total 53 columns):\n",
      " #   Column                                      Non-Null Count  Dtype  \n",
      "---  ------                                      --------------  -----  \n",
      " 0   date                                        5856 non-null   object \n",
      " 1   primary_cleaner.input.sulfate               5554 non-null   float64\n",
      " 2   primary_cleaner.input.depressant            5572 non-null   float64\n",
      " 3   primary_cleaner.input.feed_size             5856 non-null   float64\n",
      " 4   primary_cleaner.input.xanthate              5690 non-null   float64\n",
      " 5   primary_cleaner.state.floatbank8_a_air      5840 non-null   float64\n",
      " 6   primary_cleaner.state.floatbank8_a_level    5840 non-null   float64\n",
      " 7   primary_cleaner.state.floatbank8_b_air      5840 non-null   float64\n",
      " 8   primary_cleaner.state.floatbank8_b_level    5840 non-null   float64\n",
      " 9   primary_cleaner.state.floatbank8_c_air      5840 non-null   float64\n",
      " 10  primary_cleaner.state.floatbank8_c_level    5840 non-null   float64\n",
      " 11  primary_cleaner.state.floatbank8_d_air      5840 non-null   float64\n",
      " 12  primary_cleaner.state.floatbank8_d_level    5840 non-null   float64\n",
      " 13  rougher.input.feed_ag                       5840 non-null   float64\n",
      " 14  rougher.input.feed_pb                       5840 non-null   float64\n",
      " 15  rougher.input.feed_rate                     5816 non-null   float64\n",
      " 16  rougher.input.feed_size                     5834 non-null   float64\n",
      " 17  rougher.input.feed_sol                      5789 non-null   float64\n",
      " 18  rougher.input.feed_au                       5840 non-null   float64\n",
      " 19  rougher.input.floatbank10_sulfate           5599 non-null   float64\n",
      " 20  rougher.input.floatbank10_xanthate          5733 non-null   float64\n",
      " 21  rougher.input.floatbank11_sulfate           5801 non-null   float64\n",
      " 22  rougher.input.floatbank11_xanthate          5503 non-null   float64\n",
      " 23  rougher.state.floatbank10_a_air             5839 non-null   float64\n",
      " 24  rougher.state.floatbank10_a_level           5840 non-null   float64\n",
      " 25  rougher.state.floatbank10_b_air             5839 non-null   float64\n",
      " 26  rougher.state.floatbank10_b_level           5840 non-null   float64\n",
      " 27  rougher.state.floatbank10_c_air             5839 non-null   float64\n",
      " 28  rougher.state.floatbank10_c_level           5840 non-null   float64\n",
      " 29  rougher.state.floatbank10_d_air             5839 non-null   float64\n",
      " 30  rougher.state.floatbank10_d_level           5840 non-null   float64\n",
      " 31  rougher.state.floatbank10_e_air             5839 non-null   float64\n",
      " 32  rougher.state.floatbank10_e_level           5840 non-null   float64\n",
      " 33  rougher.state.floatbank10_f_air             5839 non-null   float64\n",
      " 34  rougher.state.floatbank10_f_level           5840 non-null   float64\n",
      " 35  secondary_cleaner.state.floatbank2_a_air    5836 non-null   float64\n",
      " 36  secondary_cleaner.state.floatbank2_a_level  5840 non-null   float64\n",
      " 37  secondary_cleaner.state.floatbank2_b_air    5833 non-null   float64\n",
      " 38  secondary_cleaner.state.floatbank2_b_level  5840 non-null   float64\n",
      " 39  secondary_cleaner.state.floatbank3_a_air    5822 non-null   float64\n",
      " 40  secondary_cleaner.state.floatbank3_a_level  5840 non-null   float64\n",
      " 41  secondary_cleaner.state.floatbank3_b_air    5840 non-null   float64\n",
      " 42  secondary_cleaner.state.floatbank3_b_level  5840 non-null   float64\n",
      " 43  secondary_cleaner.state.floatbank4_a_air    5840 non-null   float64\n",
      " 44  secondary_cleaner.state.floatbank4_a_level  5840 non-null   float64\n",
      " 45  secondary_cleaner.state.floatbank4_b_air    5840 non-null   float64\n",
      " 46  secondary_cleaner.state.floatbank4_b_level  5840 non-null   float64\n",
      " 47  secondary_cleaner.state.floatbank5_a_air    5840 non-null   float64\n",
      " 48  secondary_cleaner.state.floatbank5_a_level  5840 non-null   float64\n",
      " 49  secondary_cleaner.state.floatbank5_b_air    5840 non-null   float64\n",
      " 50  secondary_cleaner.state.floatbank5_b_level  5840 non-null   float64\n",
      " 51  secondary_cleaner.state.floatbank6_a_air    5840 non-null   float64\n",
      " 52  secondary_cleaner.state.floatbank6_a_level  5840 non-null   float64\n",
      "dtypes: float64(52), object(1)\n",
      "memory usage: 2.4+ MB\n"
     ]
    }
   ],
   "source": [
    "test.info()"
   ]
  },
  {
   "cell_type": "code",
   "execution_count": 9,
   "metadata": {},
   "outputs": [
    {
     "data": {
      "text/plain": [
       "0"
      ]
     },
     "execution_count": 9,
     "metadata": {},
     "output_type": "execute_result"
    }
   ],
   "source": [
    "test.duplicated().sum()"
   ]
  },
  {
   "cell_type": "code",
   "execution_count": 10,
   "metadata": {
    "scrolled": true
   },
   "outputs": [
    {
     "data": {
      "text/plain": [
       "2360"
      ]
     },
     "execution_count": 10,
     "metadata": {},
     "output_type": "execute_result"
    }
   ],
   "source": [
    "test.isna().sum().sum()"
   ]
  },
  {
   "cell_type": "markdown",
   "metadata": {},
   "source": [
    "This testing dataset has 53 columns, two data types - with only one column being a object type - and close to 6k entries per column. Although have a little less than half of a column of missing observations for the entire set."
   ]
  },
  {
   "cell_type": "markdown",
   "metadata": {},
   "source": [
    "#### Full Dataset"
   ]
  },
  {
   "cell_type": "code",
   "execution_count": 11,
   "metadata": {},
   "outputs": [
    {
     "data": {
      "text/html": [
       "<div>\n",
       "<style scoped>\n",
       "    .dataframe tbody tr th:only-of-type {\n",
       "        vertical-align: middle;\n",
       "    }\n",
       "\n",
       "    .dataframe tbody tr th {\n",
       "        vertical-align: top;\n",
       "    }\n",
       "\n",
       "    .dataframe thead th {\n",
       "        text-align: right;\n",
       "    }\n",
       "</style>\n",
       "<table border=\"1\" class=\"dataframe\">\n",
       "  <thead>\n",
       "    <tr style=\"text-align: right;\">\n",
       "      <th></th>\n",
       "      <th>date</th>\n",
       "      <th>final.output.concentrate_ag</th>\n",
       "      <th>final.output.concentrate_pb</th>\n",
       "      <th>final.output.concentrate_sol</th>\n",
       "      <th>final.output.concentrate_au</th>\n",
       "      <th>final.output.recovery</th>\n",
       "      <th>final.output.tail_ag</th>\n",
       "      <th>final.output.tail_pb</th>\n",
       "      <th>final.output.tail_sol</th>\n",
       "      <th>final.output.tail_au</th>\n",
       "      <th>...</th>\n",
       "      <th>secondary_cleaner.state.floatbank4_a_air</th>\n",
       "      <th>secondary_cleaner.state.floatbank4_a_level</th>\n",
       "      <th>secondary_cleaner.state.floatbank4_b_air</th>\n",
       "      <th>secondary_cleaner.state.floatbank4_b_level</th>\n",
       "      <th>secondary_cleaner.state.floatbank5_a_air</th>\n",
       "      <th>secondary_cleaner.state.floatbank5_a_level</th>\n",
       "      <th>secondary_cleaner.state.floatbank5_b_air</th>\n",
       "      <th>secondary_cleaner.state.floatbank5_b_level</th>\n",
       "      <th>secondary_cleaner.state.floatbank6_a_air</th>\n",
       "      <th>secondary_cleaner.state.floatbank6_a_level</th>\n",
       "    </tr>\n",
       "  </thead>\n",
       "  <tbody>\n",
       "    <tr>\n",
       "      <th>0</th>\n",
       "      <td>2016-01-15 00:00:00</td>\n",
       "      <td>6.055403</td>\n",
       "      <td>9.889648</td>\n",
       "      <td>5.507324</td>\n",
       "      <td>42.192020</td>\n",
       "      <td>70.541216</td>\n",
       "      <td>10.411962</td>\n",
       "      <td>0.895447</td>\n",
       "      <td>16.904297</td>\n",
       "      <td>2.143149</td>\n",
       "      <td>...</td>\n",
       "      <td>14.016835</td>\n",
       "      <td>-502.488007</td>\n",
       "      <td>12.099931</td>\n",
       "      <td>-504.715942</td>\n",
       "      <td>9.925633</td>\n",
       "      <td>-498.310211</td>\n",
       "      <td>8.079666</td>\n",
       "      <td>-500.470978</td>\n",
       "      <td>14.151341</td>\n",
       "      <td>-605.841980</td>\n",
       "    </tr>\n",
       "    <tr>\n",
       "      <th>1</th>\n",
       "      <td>2016-01-15 01:00:00</td>\n",
       "      <td>6.029369</td>\n",
       "      <td>9.968944</td>\n",
       "      <td>5.257781</td>\n",
       "      <td>42.701629</td>\n",
       "      <td>69.266198</td>\n",
       "      <td>10.462676</td>\n",
       "      <td>0.927452</td>\n",
       "      <td>16.634514</td>\n",
       "      <td>2.224930</td>\n",
       "      <td>...</td>\n",
       "      <td>13.992281</td>\n",
       "      <td>-505.503262</td>\n",
       "      <td>11.950531</td>\n",
       "      <td>-501.331529</td>\n",
       "      <td>10.039245</td>\n",
       "      <td>-500.169983</td>\n",
       "      <td>7.984757</td>\n",
       "      <td>-500.582168</td>\n",
       "      <td>13.998353</td>\n",
       "      <td>-599.787184</td>\n",
       "    </tr>\n",
       "    <tr>\n",
       "      <th>2</th>\n",
       "      <td>2016-01-15 02:00:00</td>\n",
       "      <td>6.055926</td>\n",
       "      <td>10.213995</td>\n",
       "      <td>5.383759</td>\n",
       "      <td>42.657501</td>\n",
       "      <td>68.116445</td>\n",
       "      <td>10.507046</td>\n",
       "      <td>0.953716</td>\n",
       "      <td>16.208849</td>\n",
       "      <td>2.257889</td>\n",
       "      <td>...</td>\n",
       "      <td>14.015015</td>\n",
       "      <td>-502.520901</td>\n",
       "      <td>11.912783</td>\n",
       "      <td>-501.133383</td>\n",
       "      <td>10.070913</td>\n",
       "      <td>-500.129135</td>\n",
       "      <td>8.013877</td>\n",
       "      <td>-500.517572</td>\n",
       "      <td>14.028663</td>\n",
       "      <td>-601.427363</td>\n",
       "    </tr>\n",
       "    <tr>\n",
       "      <th>3</th>\n",
       "      <td>2016-01-15 03:00:00</td>\n",
       "      <td>6.047977</td>\n",
       "      <td>9.977019</td>\n",
       "      <td>4.858634</td>\n",
       "      <td>42.689819</td>\n",
       "      <td>68.347543</td>\n",
       "      <td>10.422762</td>\n",
       "      <td>0.883763</td>\n",
       "      <td>16.532835</td>\n",
       "      <td>2.146849</td>\n",
       "      <td>...</td>\n",
       "      <td>14.036510</td>\n",
       "      <td>-500.857308</td>\n",
       "      <td>11.999550</td>\n",
       "      <td>-501.193686</td>\n",
       "      <td>9.970366</td>\n",
       "      <td>-499.201640</td>\n",
       "      <td>7.977324</td>\n",
       "      <td>-500.255908</td>\n",
       "      <td>14.005551</td>\n",
       "      <td>-599.996129</td>\n",
       "    </tr>\n",
       "    <tr>\n",
       "      <th>4</th>\n",
       "      <td>2016-01-15 04:00:00</td>\n",
       "      <td>6.148599</td>\n",
       "      <td>10.142511</td>\n",
       "      <td>4.939416</td>\n",
       "      <td>42.774141</td>\n",
       "      <td>66.927016</td>\n",
       "      <td>10.360302</td>\n",
       "      <td>0.792826</td>\n",
       "      <td>16.525686</td>\n",
       "      <td>2.055292</td>\n",
       "      <td>...</td>\n",
       "      <td>14.027298</td>\n",
       "      <td>-499.838632</td>\n",
       "      <td>11.953070</td>\n",
       "      <td>-501.053894</td>\n",
       "      <td>9.925709</td>\n",
       "      <td>-501.686727</td>\n",
       "      <td>7.894242</td>\n",
       "      <td>-500.356035</td>\n",
       "      <td>13.996647</td>\n",
       "      <td>-601.496691</td>\n",
       "    </tr>\n",
       "  </tbody>\n",
       "</table>\n",
       "<p>5 rows × 87 columns</p>\n",
       "</div>"
      ],
      "text/plain": [
       "                  date  final.output.concentrate_ag  \\\n",
       "0  2016-01-15 00:00:00                     6.055403   \n",
       "1  2016-01-15 01:00:00                     6.029369   \n",
       "2  2016-01-15 02:00:00                     6.055926   \n",
       "3  2016-01-15 03:00:00                     6.047977   \n",
       "4  2016-01-15 04:00:00                     6.148599   \n",
       "\n",
       "   final.output.concentrate_pb  final.output.concentrate_sol  \\\n",
       "0                     9.889648                      5.507324   \n",
       "1                     9.968944                      5.257781   \n",
       "2                    10.213995                      5.383759   \n",
       "3                     9.977019                      4.858634   \n",
       "4                    10.142511                      4.939416   \n",
       "\n",
       "   final.output.concentrate_au  final.output.recovery  final.output.tail_ag  \\\n",
       "0                    42.192020              70.541216             10.411962   \n",
       "1                    42.701629              69.266198             10.462676   \n",
       "2                    42.657501              68.116445             10.507046   \n",
       "3                    42.689819              68.347543             10.422762   \n",
       "4                    42.774141              66.927016             10.360302   \n",
       "\n",
       "   final.output.tail_pb  final.output.tail_sol  final.output.tail_au  ...  \\\n",
       "0              0.895447              16.904297              2.143149  ...   \n",
       "1              0.927452              16.634514              2.224930  ...   \n",
       "2              0.953716              16.208849              2.257889  ...   \n",
       "3              0.883763              16.532835              2.146849  ...   \n",
       "4              0.792826              16.525686              2.055292  ...   \n",
       "\n",
       "   secondary_cleaner.state.floatbank4_a_air  \\\n",
       "0                                 14.016835   \n",
       "1                                 13.992281   \n",
       "2                                 14.015015   \n",
       "3                                 14.036510   \n",
       "4                                 14.027298   \n",
       "\n",
       "   secondary_cleaner.state.floatbank4_a_level  \\\n",
       "0                                 -502.488007   \n",
       "1                                 -505.503262   \n",
       "2                                 -502.520901   \n",
       "3                                 -500.857308   \n",
       "4                                 -499.838632   \n",
       "\n",
       "   secondary_cleaner.state.floatbank4_b_air  \\\n",
       "0                                 12.099931   \n",
       "1                                 11.950531   \n",
       "2                                 11.912783   \n",
       "3                                 11.999550   \n",
       "4                                 11.953070   \n",
       "\n",
       "   secondary_cleaner.state.floatbank4_b_level  \\\n",
       "0                                 -504.715942   \n",
       "1                                 -501.331529   \n",
       "2                                 -501.133383   \n",
       "3                                 -501.193686   \n",
       "4                                 -501.053894   \n",
       "\n",
       "   secondary_cleaner.state.floatbank5_a_air  \\\n",
       "0                                  9.925633   \n",
       "1                                 10.039245   \n",
       "2                                 10.070913   \n",
       "3                                  9.970366   \n",
       "4                                  9.925709   \n",
       "\n",
       "   secondary_cleaner.state.floatbank5_a_level  \\\n",
       "0                                 -498.310211   \n",
       "1                                 -500.169983   \n",
       "2                                 -500.129135   \n",
       "3                                 -499.201640   \n",
       "4                                 -501.686727   \n",
       "\n",
       "   secondary_cleaner.state.floatbank5_b_air  \\\n",
       "0                                  8.079666   \n",
       "1                                  7.984757   \n",
       "2                                  8.013877   \n",
       "3                                  7.977324   \n",
       "4                                  7.894242   \n",
       "\n",
       "   secondary_cleaner.state.floatbank5_b_level  \\\n",
       "0                                 -500.470978   \n",
       "1                                 -500.582168   \n",
       "2                                 -500.517572   \n",
       "3                                 -500.255908   \n",
       "4                                 -500.356035   \n",
       "\n",
       "   secondary_cleaner.state.floatbank6_a_air  \\\n",
       "0                                 14.151341   \n",
       "1                                 13.998353   \n",
       "2                                 14.028663   \n",
       "3                                 14.005551   \n",
       "4                                 13.996647   \n",
       "\n",
       "   secondary_cleaner.state.floatbank6_a_level  \n",
       "0                                 -605.841980  \n",
       "1                                 -599.787184  \n",
       "2                                 -601.427363  \n",
       "3                                 -599.996129  \n",
       "4                                 -601.496691  \n",
       "\n",
       "[5 rows x 87 columns]"
      ]
     },
     "execution_count": 11,
     "metadata": {},
     "output_type": "execute_result"
    }
   ],
   "source": [
    "full.head()"
   ]
  },
  {
   "cell_type": "code",
   "execution_count": 12,
   "metadata": {},
   "outputs": [
    {
     "name": "stdout",
     "output_type": "stream",
     "text": [
      "<class 'pandas.core.frame.DataFrame'>\n",
      "RangeIndex: 22716 entries, 0 to 22715\n",
      "Data columns (total 87 columns):\n",
      " #   Column                                              Non-Null Count  Dtype  \n",
      "---  ------                                              --------------  -----  \n",
      " 0   date                                                22716 non-null  object \n",
      " 1   final.output.concentrate_ag                         22627 non-null  float64\n",
      " 2   final.output.concentrate_pb                         22629 non-null  float64\n",
      " 3   final.output.concentrate_sol                        22331 non-null  float64\n",
      " 4   final.output.concentrate_au                         22630 non-null  float64\n",
      " 5   final.output.recovery                               20753 non-null  float64\n",
      " 6   final.output.tail_ag                                22633 non-null  float64\n",
      " 7   final.output.tail_pb                                22516 non-null  float64\n",
      " 8   final.output.tail_sol                               22445 non-null  float64\n",
      " 9   final.output.tail_au                                22635 non-null  float64\n",
      " 10  primary_cleaner.input.sulfate                       21107 non-null  float64\n",
      " 11  primary_cleaner.input.depressant                    21170 non-null  float64\n",
      " 12  primary_cleaner.input.feed_size                     22716 non-null  float64\n",
      " 13  primary_cleaner.input.xanthate                      21565 non-null  float64\n",
      " 14  primary_cleaner.output.concentrate_ag               22618 non-null  float64\n",
      " 15  primary_cleaner.output.concentrate_pb               22268 non-null  float64\n",
      " 16  primary_cleaner.output.concentrate_sol              21918 non-null  float64\n",
      " 17  primary_cleaner.output.concentrate_au               22618 non-null  float64\n",
      " 18  primary_cleaner.output.tail_ag                      22614 non-null  float64\n",
      " 19  primary_cleaner.output.tail_pb                      22594 non-null  float64\n",
      " 20  primary_cleaner.output.tail_sol                     22365 non-null  float64\n",
      " 21  primary_cleaner.output.tail_au                      22617 non-null  float64\n",
      " 22  primary_cleaner.state.floatbank8_a_air              22660 non-null  float64\n",
      " 23  primary_cleaner.state.floatbank8_a_level            22667 non-null  float64\n",
      " 24  primary_cleaner.state.floatbank8_b_air              22660 non-null  float64\n",
      " 25  primary_cleaner.state.floatbank8_b_level            22673 non-null  float64\n",
      " 26  primary_cleaner.state.floatbank8_c_air              22662 non-null  float64\n",
      " 27  primary_cleaner.state.floatbank8_c_level            22673 non-null  float64\n",
      " 28  primary_cleaner.state.floatbank8_d_air              22661 non-null  float64\n",
      " 29  primary_cleaner.state.floatbank8_d_level            22673 non-null  float64\n",
      " 30  rougher.calculation.sulfate_to_au_concentrate       22672 non-null  float64\n",
      " 31  rougher.calculation.floatbank10_sulfate_to_au_feed  22672 non-null  float64\n",
      " 32  rougher.calculation.floatbank11_sulfate_to_au_feed  22672 non-null  float64\n",
      " 33  rougher.calculation.au_pb_ratio                     21089 non-null  float64\n",
      " 34  rougher.input.feed_ag                               22618 non-null  float64\n",
      " 35  rougher.input.feed_pb                               22472 non-null  float64\n",
      " 36  rougher.input.feed_rate                             22163 non-null  float64\n",
      " 37  rougher.input.feed_size                             22277 non-null  float64\n",
      " 38  rougher.input.feed_sol                              22357 non-null  float64\n",
      " 39  rougher.input.feed_au                               22617 non-null  float64\n",
      " 40  rougher.input.floatbank10_sulfate                   21415 non-null  float64\n",
      " 41  rougher.input.floatbank10_xanthate                  22247 non-null  float64\n",
      " 42  rougher.input.floatbank11_sulfate                   22038 non-null  float64\n",
      " 43  rougher.input.floatbank11_xanthate                  20459 non-null  float64\n",
      " 44  rougher.output.concentrate_ag                       22618 non-null  float64\n",
      " 45  rougher.output.concentrate_pb                       22618 non-null  float64\n",
      " 46  rougher.output.concentrate_sol                      22526 non-null  float64\n",
      " 47  rougher.output.concentrate_au                       22618 non-null  float64\n",
      " 48  rougher.output.recovery                             19597 non-null  float64\n",
      " 49  rougher.output.tail_ag                              19979 non-null  float64\n",
      " 50  rougher.output.tail_pb                              22618 non-null  float64\n",
      " 51  rougher.output.tail_sol                             19980 non-null  float64\n",
      " 52  rougher.output.tail_au                              19980 non-null  float64\n",
      " 53  rougher.state.floatbank10_a_air                     22646 non-null  float64\n",
      " 54  rougher.state.floatbank10_a_level                   22647 non-null  float64\n",
      " 55  rougher.state.floatbank10_b_air                     22646 non-null  float64\n",
      " 56  rougher.state.floatbank10_b_level                   22647 non-null  float64\n",
      " 57  rougher.state.floatbank10_c_air                     22646 non-null  float64\n",
      " 58  rougher.state.floatbank10_c_level                   22654 non-null  float64\n",
      " 59  rougher.state.floatbank10_d_air                     22641 non-null  float64\n",
      " 60  rougher.state.floatbank10_d_level                   22649 non-null  float64\n",
      " 61  rougher.state.floatbank10_e_air                     22096 non-null  float64\n",
      " 62  rougher.state.floatbank10_e_level                   22649 non-null  float64\n",
      " 63  rougher.state.floatbank10_f_air                     22641 non-null  float64\n",
      " 64  rougher.state.floatbank10_f_level                   22642 non-null  float64\n",
      " 65  secondary_cleaner.output.tail_ag                    22616 non-null  float64\n",
      " 66  secondary_cleaner.output.tail_pb                    22600 non-null  float64\n",
      " 67  secondary_cleaner.output.tail_sol                   20501 non-null  float64\n",
      " 68  secondary_cleaner.output.tail_au                    22618 non-null  float64\n",
      " 69  secondary_cleaner.state.floatbank2_a_air            22333 non-null  float64\n",
      " 70  secondary_cleaner.state.floatbank2_a_level          22591 non-null  float64\n",
      " 71  secondary_cleaner.state.floatbank2_b_air            22538 non-null  float64\n",
      " 72  secondary_cleaner.state.floatbank2_b_level          22588 non-null  float64\n",
      " 73  secondary_cleaner.state.floatbank3_a_air            22585 non-null  float64\n",
      " 74  secondary_cleaner.state.floatbank3_a_level          22587 non-null  float64\n",
      " 75  secondary_cleaner.state.floatbank3_b_air            22592 non-null  float64\n",
      " 76  secondary_cleaner.state.floatbank3_b_level          22590 non-null  float64\n",
      " 77  secondary_cleaner.state.floatbank4_a_air            22571 non-null  float64\n",
      " 78  secondary_cleaner.state.floatbank4_a_level          22587 non-null  float64\n",
      " 79  secondary_cleaner.state.floatbank4_b_air            22608 non-null  float64\n",
      " 80  secondary_cleaner.state.floatbank4_b_level          22607 non-null  float64\n",
      " 81  secondary_cleaner.state.floatbank5_a_air            22615 non-null  float64\n",
      " 82  secondary_cleaner.state.floatbank5_a_level          22615 non-null  float64\n",
      " 83  secondary_cleaner.state.floatbank5_b_air            22615 non-null  float64\n",
      " 84  secondary_cleaner.state.floatbank5_b_level          22616 non-null  float64\n",
      " 85  secondary_cleaner.state.floatbank6_a_air            22597 non-null  float64\n",
      " 86  secondary_cleaner.state.floatbank6_a_level          22615 non-null  float64\n",
      "dtypes: float64(86), object(1)\n",
      "memory usage: 15.1+ MB\n"
     ]
    }
   ],
   "source": [
    "full.info()"
   ]
  },
  {
   "cell_type": "code",
   "execution_count": 13,
   "metadata": {},
   "outputs": [
    {
     "data": {
      "text/plain": [
       "0"
      ]
     },
     "execution_count": 13,
     "metadata": {},
     "output_type": "execute_result"
    }
   ],
   "source": [
    "full.duplicated().sum()"
   ]
  },
  {
   "cell_type": "code",
   "execution_count": 14,
   "metadata": {
    "scrolled": true
   },
   "outputs": [
    {
     "data": {
      "text/plain": [
       "36587"
      ]
     },
     "execution_count": 14,
     "metadata": {},
     "output_type": "execute_result"
    }
   ],
   "source": [
    "full.isna().sum().sum()"
   ]
  },
  {
   "cell_type": "markdown",
   "metadata": {},
   "source": [
    "This full dataset has a 87 columns, close to 23k entries per column, but has 36,587 missing observations in total; similiar to the training set, the amount of missing observations is less than 3-4%. "
   ]
  },
  {
   "cell_type": "markdown",
   "metadata": {},
   "source": [
    "Right off the bat, I noticed if I were to drop any missing, null or NA values from the datasets, a relative small chunk of data would be missing in ratio to the total entries per dataset. So I will keep things as they are for now and will just consider filling in any empty observations for each dataset when I have to come a later decision for the ML model prototype. This is a given since most of the data is a continious value, so putting zeros or an atribtray number I don't think it would be that simple in this case."
   ]
  },
  {
   "cell_type": "markdown",
   "metadata": {},
   "source": [
    "### Recovery Calculation with MAE | Training Set's Features | Find the MAE between your calculations and the feature values.   Provide findings."
   ]
  },
  {
   "cell_type": "markdown",
   "metadata": {},
   "source": [
    "$$ \n",
    "Recovery = \\frac{C \\times (F - T)}{F \\times (C - T)} \\times 100\\%\n",
    "$$\n",
    "\n",
    "* C = the amount of gold in the concentrate -- *post-flotation*\n",
    "* F = the amount of gold in the feed  -- *before flotation*\n",
    "* T = the amount of gold in the rougher tails -- *post flotation*\n",
    "\n",
    "* Both Final & Rougher Concentrates Matter!"
   ]
  },
  {
   "cell_type": "code",
   "execution_count": 15,
   "metadata": {},
   "outputs": [],
   "source": [
    "#the recovery function\n",
    "def recovery(df, C, F, T):\n",
    "    kickback = 100 * ((df[C] * (df[F] - df[T])) / (df[F] * (df[C] - df[T])))\n",
    "    return kickback"
   ]
  },
  {
   "cell_type": "code",
   "execution_count": 16,
   "metadata": {
    "scrolled": false
   },
   "outputs": [
    {
     "name": "stdout",
     "output_type": "stream",
     "text": [
      "Mean Absolute Error: 9.303415616264301e-15\n"
     ]
    }
   ],
   "source": [
    "calculated_values = recovery(train.dropna(subset=['rougher.output.recovery']), 'rougher.output.concentrate_au', 'rougher.input.feed_au', 'rougher.output.tail_au')\n",
    "actual_values = train['rougher.output.recovery'].dropna().to_list()\n",
    "\n",
    "print(f\"Mean Absolute Error: {mean_absolute_error(actual_values, calculated_values)}\")"
   ]
  },
  {
   "cell_type": "markdown",
   "metadata": {},
   "source": [
    "When exploring the training set's impression on the **rougher.output.recovery** feature through the recovery function and its MAE -- *9.30..1e-15* is quite a small value, yet seemingly a good thing to see. However, this can imply two things: 1st) that the result between the calculated and actual values there is hardly any difference and thus almost a perfect fit impression for our prototype or 2) we may need to test the datasets more in depth to see because on the surface level it may seem good but in reality there could be overfitting or a lack of data intergrity at play."
   ]
  },
  {
   "cell_type": "markdown",
   "metadata": {},
   "source": [
    "### Datasets' Features Analysis | Analyze the features not available in the test set. What are these parameters? What is their type?"
   ]
  },
  {
   "cell_type": "markdown",
   "metadata": {},
   "source": [
    "After analyzing each dataframe, we can conclude that there are about 34 columns missing from the test dataframe compared to other (Full & Train) datasets. There are 2 data types for all dataframes: object & float64, and there are several thousands of missing value cells across all the datasets. I believe these parameters, that aren't available in the test dataframe, are outputs of the solutions & materials that are calculated much later and would've cause data leakage in our model if we didn't take notice of them now. So it would make sense why they aren't included in the test dataset."
   ]
  },
  {
   "cell_type": "code",
   "execution_count": 17,
   "metadata": {},
   "outputs": [
    {
     "data": {
      "text/plain": [
       "34"
      ]
     },
     "execution_count": 17,
     "metadata": {},
     "output_type": "execute_result"
    }
   ],
   "source": [
    "train_col = train.columns\n",
    "test_col = test.columns\n",
    "\n",
    "differ_col = train_col.difference(test_col)\n",
    "differ_col.value_counts().sum()"
   ]
  },
  {
   "cell_type": "code",
   "execution_count": 18,
   "metadata": {},
   "outputs": [
    {
     "data": {
      "text/plain": [
       "final.output.concentrate_ag                             89\n",
       "final.output.concentrate_au                             86\n",
       "final.output.concentrate_pb                             87\n",
       "final.output.concentrate_sol                           385\n",
       "final.output.recovery                                 1963\n",
       "final.output.tail_ag                                    83\n",
       "final.output.tail_au                                    81\n",
       "final.output.tail_pb                                   200\n",
       "final.output.tail_sol                                  271\n",
       "primary_cleaner.output.concentrate_ag                   98\n",
       "primary_cleaner.output.concentrate_au                   98\n",
       "primary_cleaner.output.concentrate_pb                  448\n",
       "primary_cleaner.output.concentrate_sol                 798\n",
       "primary_cleaner.output.tail_ag                         102\n",
       "primary_cleaner.output.tail_au                          99\n",
       "primary_cleaner.output.tail_pb                         122\n",
       "primary_cleaner.output.tail_sol                        351\n",
       "rougher.calculation.au_pb_ratio                       1627\n",
       "rougher.calculation.floatbank10_sulfate_to_au_feed      44\n",
       "rougher.calculation.floatbank11_sulfate_to_au_feed      44\n",
       "rougher.calculation.sulfate_to_au_concentrate           44\n",
       "rougher.output.concentrate_ag                           98\n",
       "rougher.output.concentrate_au                           98\n",
       "rougher.output.concentrate_pb                           98\n",
       "rougher.output.concentrate_sol                         190\n",
       "rougher.output.recovery                               3119\n",
       "rougher.output.tail_ag                                2737\n",
       "rougher.output.tail_au                                2736\n",
       "rougher.output.tail_pb                                  98\n",
       "rougher.output.tail_sol                               2736\n",
       "secondary_cleaner.output.tail_ag                       100\n",
       "secondary_cleaner.output.tail_au                        98\n",
       "secondary_cleaner.output.tail_pb                       116\n",
       "secondary_cleaner.output.tail_sol                     2215\n",
       "dtype: int64"
      ]
     },
     "execution_count": 18,
     "metadata": {},
     "output_type": "execute_result"
    }
   ],
   "source": [
    "full[differ_col].isna().sum()"
   ]
  },
  {
   "cell_type": "code",
   "execution_count": 19,
   "metadata": {},
   "outputs": [
    {
     "data": {
      "text/plain": [
       "21559"
      ]
     },
     "execution_count": 19,
     "metadata": {},
     "output_type": "execute_result"
    }
   ],
   "source": [
    "full[differ_col].isna().sum().sum()"
   ]
  },
  {
   "cell_type": "markdown",
   "metadata": {},
   "source": [
    "### Data Preprocessing Performance"
   ]
  },
  {
   "cell_type": "markdown",
   "metadata": {},
   "source": [
    "I listed the test's columns and then compared the columns to the train's columns and also assess their shapes."
   ]
  },
  {
   "cell_type": "code",
   "execution_count": 20,
   "metadata": {},
   "outputs": [
    {
     "data": {
      "text/plain": [
       "['date',\n",
       " 'primary_cleaner.input.sulfate',\n",
       " 'primary_cleaner.input.depressant',\n",
       " 'primary_cleaner.input.feed_size',\n",
       " 'primary_cleaner.input.xanthate',\n",
       " 'primary_cleaner.state.floatbank8_a_air',\n",
       " 'primary_cleaner.state.floatbank8_a_level',\n",
       " 'primary_cleaner.state.floatbank8_b_air',\n",
       " 'primary_cleaner.state.floatbank8_b_level',\n",
       " 'primary_cleaner.state.floatbank8_c_air',\n",
       " 'primary_cleaner.state.floatbank8_c_level',\n",
       " 'primary_cleaner.state.floatbank8_d_air',\n",
       " 'primary_cleaner.state.floatbank8_d_level',\n",
       " 'rougher.input.feed_ag',\n",
       " 'rougher.input.feed_pb',\n",
       " 'rougher.input.feed_rate',\n",
       " 'rougher.input.feed_size',\n",
       " 'rougher.input.feed_sol',\n",
       " 'rougher.input.feed_au',\n",
       " 'rougher.input.floatbank10_sulfate',\n",
       " 'rougher.input.floatbank10_xanthate',\n",
       " 'rougher.input.floatbank11_sulfate',\n",
       " 'rougher.input.floatbank11_xanthate',\n",
       " 'rougher.state.floatbank10_a_air',\n",
       " 'rougher.state.floatbank10_a_level',\n",
       " 'rougher.state.floatbank10_b_air',\n",
       " 'rougher.state.floatbank10_b_level',\n",
       " 'rougher.state.floatbank10_c_air',\n",
       " 'rougher.state.floatbank10_c_level',\n",
       " 'rougher.state.floatbank10_d_air',\n",
       " 'rougher.state.floatbank10_d_level',\n",
       " 'rougher.state.floatbank10_e_air',\n",
       " 'rougher.state.floatbank10_e_level',\n",
       " 'rougher.state.floatbank10_f_air',\n",
       " 'rougher.state.floatbank10_f_level',\n",
       " 'secondary_cleaner.state.floatbank2_a_air',\n",
       " 'secondary_cleaner.state.floatbank2_a_level',\n",
       " 'secondary_cleaner.state.floatbank2_b_air',\n",
       " 'secondary_cleaner.state.floatbank2_b_level',\n",
       " 'secondary_cleaner.state.floatbank3_a_air',\n",
       " 'secondary_cleaner.state.floatbank3_a_level',\n",
       " 'secondary_cleaner.state.floatbank3_b_air',\n",
       " 'secondary_cleaner.state.floatbank3_b_level',\n",
       " 'secondary_cleaner.state.floatbank4_a_air',\n",
       " 'secondary_cleaner.state.floatbank4_a_level',\n",
       " 'secondary_cleaner.state.floatbank4_b_air',\n",
       " 'secondary_cleaner.state.floatbank4_b_level',\n",
       " 'secondary_cleaner.state.floatbank5_a_air',\n",
       " 'secondary_cleaner.state.floatbank5_a_level',\n",
       " 'secondary_cleaner.state.floatbank5_b_air',\n",
       " 'secondary_cleaner.state.floatbank5_b_level',\n",
       " 'secondary_cleaner.state.floatbank6_a_air',\n",
       " 'secondary_cleaner.state.floatbank6_a_level']"
      ]
     },
     "execution_count": 20,
     "metadata": {},
     "output_type": "execute_result"
    }
   ],
   "source": [
    "#I identified the test's dataset's columns\n",
    "\n",
    "test_col = test.columns.tolist()\n",
    "test_col"
   ]
  },
  {
   "cell_type": "code",
   "execution_count": 21,
   "metadata": {},
   "outputs": [
    {
     "name": "stdout",
     "output_type": "stream",
     "text": [
      "<class 'pandas.core.frame.DataFrame'>\n",
      "RangeIndex: 16860 entries, 0 to 16859\n",
      "Data columns (total 53 columns):\n",
      " #   Column                                      Non-Null Count  Dtype  \n",
      "---  ------                                      --------------  -----  \n",
      " 0   date                                        16860 non-null  object \n",
      " 1   primary_cleaner.input.sulfate               15553 non-null  float64\n",
      " 2   primary_cleaner.input.depressant            15598 non-null  float64\n",
      " 3   primary_cleaner.input.feed_size             16860 non-null  float64\n",
      " 4   primary_cleaner.input.xanthate              15875 non-null  float64\n",
      " 5   primary_cleaner.state.floatbank8_a_air      16820 non-null  float64\n",
      " 6   primary_cleaner.state.floatbank8_a_level    16827 non-null  float64\n",
      " 7   primary_cleaner.state.floatbank8_b_air      16820 non-null  float64\n",
      " 8   primary_cleaner.state.floatbank8_b_level    16833 non-null  float64\n",
      " 9   primary_cleaner.state.floatbank8_c_air      16822 non-null  float64\n",
      " 10  primary_cleaner.state.floatbank8_c_level    16833 non-null  float64\n",
      " 11  primary_cleaner.state.floatbank8_d_air      16821 non-null  float64\n",
      " 12  primary_cleaner.state.floatbank8_d_level    16833 non-null  float64\n",
      " 13  rougher.input.feed_ag                       16778 non-null  float64\n",
      " 14  rougher.input.feed_pb                       16632 non-null  float64\n",
      " 15  rougher.input.feed_rate                     16347 non-null  float64\n",
      " 16  rougher.input.feed_size                     16443 non-null  float64\n",
      " 17  rougher.input.feed_sol                      16568 non-null  float64\n",
      " 18  rougher.input.feed_au                       16777 non-null  float64\n",
      " 19  rougher.input.floatbank10_sulfate           15816 non-null  float64\n",
      " 20  rougher.input.floatbank10_xanthate          16514 non-null  float64\n",
      " 21  rougher.input.floatbank11_sulfate           16237 non-null  float64\n",
      " 22  rougher.input.floatbank11_xanthate          14956 non-null  float64\n",
      " 23  rougher.state.floatbank10_a_air             16807 non-null  float64\n",
      " 24  rougher.state.floatbank10_a_level           16807 non-null  float64\n",
      " 25  rougher.state.floatbank10_b_air             16807 non-null  float64\n",
      " 26  rougher.state.floatbank10_b_level           16807 non-null  float64\n",
      " 27  rougher.state.floatbank10_c_air             16807 non-null  float64\n",
      " 28  rougher.state.floatbank10_c_level           16814 non-null  float64\n",
      " 29  rougher.state.floatbank10_d_air             16802 non-null  float64\n",
      " 30  rougher.state.floatbank10_d_level           16809 non-null  float64\n",
      " 31  rougher.state.floatbank10_e_air             16257 non-null  float64\n",
      " 32  rougher.state.floatbank10_e_level           16809 non-null  float64\n",
      " 33  rougher.state.floatbank10_f_air             16802 non-null  float64\n",
      " 34  rougher.state.floatbank10_f_level           16802 non-null  float64\n",
      " 35  secondary_cleaner.state.floatbank2_a_air    16497 non-null  float64\n",
      " 36  secondary_cleaner.state.floatbank2_a_level  16751 non-null  float64\n",
      " 37  secondary_cleaner.state.floatbank2_b_air    16705 non-null  float64\n",
      " 38  secondary_cleaner.state.floatbank2_b_level  16748 non-null  float64\n",
      " 39  secondary_cleaner.state.floatbank3_a_air    16763 non-null  float64\n",
      " 40  secondary_cleaner.state.floatbank3_a_level  16747 non-null  float64\n",
      " 41  secondary_cleaner.state.floatbank3_b_air    16752 non-null  float64\n",
      " 42  secondary_cleaner.state.floatbank3_b_level  16750 non-null  float64\n",
      " 43  secondary_cleaner.state.floatbank4_a_air    16731 non-null  float64\n",
      " 44  secondary_cleaner.state.floatbank4_a_level  16747 non-null  float64\n",
      " 45  secondary_cleaner.state.floatbank4_b_air    16768 non-null  float64\n",
      " 46  secondary_cleaner.state.floatbank4_b_level  16767 non-null  float64\n",
      " 47  secondary_cleaner.state.floatbank5_a_air    16775 non-null  float64\n",
      " 48  secondary_cleaner.state.floatbank5_a_level  16775 non-null  float64\n",
      " 49  secondary_cleaner.state.floatbank5_b_air    16775 non-null  float64\n",
      " 50  secondary_cleaner.state.floatbank5_b_level  16776 non-null  float64\n",
      " 51  secondary_cleaner.state.floatbank6_a_air    16757 non-null  float64\n",
      " 52  secondary_cleaner.state.floatbank6_a_level  16775 non-null  float64\n",
      "dtypes: float64(52), object(1)\n",
      "memory usage: 6.8+ MB\n"
     ]
    }
   ],
   "source": [
    "#then I filtered the training data features based on the test set\n",
    "\n",
    "filtered_train = train[test_col]\n",
    "filtered_train.info()"
   ]
  },
  {
   "cell_type": "code",
   "execution_count": 22,
   "metadata": {},
   "outputs": [
    {
     "data": {
      "text/plain": [
       "(16860, 53)"
      ]
     },
     "execution_count": 22,
     "metadata": {},
     "output_type": "execute_result"
    }
   ],
   "source": [
    "filtered_train.shape"
   ]
  },
  {
   "cell_type": "code",
   "execution_count": 23,
   "metadata": {},
   "outputs": [
    {
     "data": {
      "text/plain": [
       "(5856, 53)"
      ]
     },
     "execution_count": 23,
     "metadata": {},
     "output_type": "execute_result"
    }
   ],
   "source": [
    "test.shape"
   ]
  },
  {
   "cell_type": "code",
   "execution_count": 24,
   "metadata": {},
   "outputs": [
    {
     "data": {
      "text/plain": [
       "False    20753\n",
       "True      1963\n",
       "Name: final.output.recovery, dtype: int64"
      ]
     },
     "execution_count": 24,
     "metadata": {},
     "output_type": "execute_result"
    }
   ],
   "source": [
    "full['final.output.recovery'].isna().value_counts()"
   ]
  },
  {
   "cell_type": "code",
   "execution_count": 25,
   "metadata": {},
   "outputs": [
    {
     "data": {
      "text/plain": [
       "count    20753.000000\n",
       "mean        67.447488\n",
       "std         11.616034\n",
       "min          0.000000\n",
       "25%         63.282393\n",
       "50%         68.322258\n",
       "75%         72.950836\n",
       "max        100.000000\n",
       "Name: final.output.recovery, dtype: float64"
      ]
     },
     "execution_count": 25,
     "metadata": {},
     "output_type": "execute_result"
    }
   ],
   "source": [
    "full['final.output.recovery'].describe()"
   ]
  },
  {
   "cell_type": "code",
   "execution_count": 26,
   "metadata": {},
   "outputs": [
    {
     "data": {
      "text/plain": [
       "False    19597\n",
       "True      3119\n",
       "Name: rougher.output.recovery, dtype: int64"
      ]
     },
     "execution_count": 26,
     "metadata": {},
     "output_type": "execute_result"
    }
   ],
   "source": [
    "full['rougher.output.recovery'].isna().value_counts()"
   ]
  },
  {
   "cell_type": "code",
   "execution_count": 27,
   "metadata": {},
   "outputs": [
    {
     "data": {
      "text/plain": [
       "count    19597.000000\n",
       "mean        83.078122\n",
       "std         14.661880\n",
       "min          0.000000\n",
       "25%         80.941306\n",
       "50%         86.144121\n",
       "75%         89.987561\n",
       "max        100.000000\n",
       "Name: rougher.output.recovery, dtype: float64"
      ]
     },
     "execution_count": 27,
     "metadata": {},
     "output_type": "execute_result"
    }
   ],
   "source": [
    "full['rougher.output.recovery'].describe()"
   ]
  },
  {
   "cell_type": "markdown",
   "metadata": {},
   "source": [
    "## EDA | Analyze the Data"
   ]
  },
  {
   "cell_type": "markdown",
   "metadata": {},
   "source": [
    "### Metal Concentrations during the Purification Stage"
   ]
  },
  {
   "cell_type": "code",
   "execution_count": 28,
   "metadata": {},
   "outputs": [],
   "source": [
    "stages = [\n",
    "    'rougher.input.feed_{}', #stage 1 | not needed\n",
    "    'rougher.output.concentrate_{}', #stage 2 | not needed\n",
    "    'primary_cleaner.output.concentrate_{}', #stage 3\n",
    "    'final.output.concentrate_{}' #stage 4\n",
    "]\n",
    "\n",
    "def ore_purity(metal_concentrate):\n",
    "    progression = []\n",
    "    for stage in stages:\n",
    "        progression.append(stage.format(metal_concentrate))\n",
    "\n",
    "    for i in progression:\n",
    "        full[i].hist(alpha=0.6, bins=10)\n",
    "    \n",
    "    plt.legend(progression)\n",
    "    plt.show()"
   ]
  },
  {
   "cell_type": "markdown",
   "metadata": {},
   "source": [
    "#### Gold"
   ]
  },
  {
   "cell_type": "markdown",
   "metadata": {},
   "source": [
    "Gold has a consistent, gradual and successful increase of concentration throughout the processing stages."
   ]
  },
  {
   "cell_type": "code",
   "execution_count": 29,
   "metadata": {},
   "outputs": [
    {
     "data": {
      "image/png": "[encoded data removed]",
      "text/plain": [
       "<Figure size 640x480 with 1 Axes>"
      ]
     },
     "metadata": {},
     "output_type": "display_data"
    }
   ],
   "source": [
    "ore_purity('au')"
   ]
  },
  {
   "cell_type": "markdown",
   "metadata": {},
   "source": [
    "#### Lead"
   ]
  },
  {
   "cell_type": "markdown",
   "metadata": {},
   "source": [
    "Lead also shows a gradual increase of concentration from start to finish; although the gaps (of refinement) between the stages are a bit smaller or narrower compared to Gold."
   ]
  },
  {
   "cell_type": "code",
   "execution_count": 30,
   "metadata": {},
   "outputs": [
    {
     "data": {
      "image/png": "[encoded data removed]",
      "text/plain": [
       "<Figure size 640x480 with 1 Axes>"
      ]
     },
     "metadata": {},
     "output_type": "display_data"
    }
   ],
   "source": [
    "ore_purity('pb')"
   ]
  },
  {
   "cell_type": "markdown",
   "metadata": {},
   "source": [
    "#### Silver"
   ]
  },
  {
   "cell_type": "markdown",
   "metadata": {},
   "source": [
    "As for Silver's processing stage, you can see there's an inital general increasing trend of silver concentration until the final stage -- it shows its peak where it does not excel beyond *rougher.output.concentrate* & *primary_cleaner.output.concentrate* and this could be interpreted as the final stage does more harm than good as the cleaning process may dilute or erode the mineral?"
   ]
  },
  {
   "cell_type": "code",
   "execution_count": 31,
   "metadata": {},
   "outputs": [
    {
     "data": {
      "image/png": "[encoded data removed]",
      "text/plain": [
       "<Figure size 640x480 with 1 Axes>"
      ]
     },
     "metadata": {},
     "output_type": "display_data"
    }
   ],
   "source": [
    "ore_purity('ag')"
   ]
  },
  {
   "cell_type": "markdown",
   "metadata": {},
   "source": [
    "### Feed Particle Size Comparsion Between the Training & Testing Set"
   ]
  },
  {
   "cell_type": "markdown",
   "metadata": {},
   "source": [
    "Although both sets have similiar feed size their mean size difference is 2.73 and STD difference is 1.2. Although, I believe the KDE plot shows visual wise that the testing set has a slightly wider feed particle size distribution compared to the training set. "
   ]
  },
  {
   "cell_type": "code",
   "execution_count": 32,
   "metadata": {},
   "outputs": [
    {
     "data": {
      "text/plain": [
       "count    16443.000000\n",
       "mean        58.676444\n",
       "std         23.922591\n",
       "min          9.659576\n",
       "25%         47.575879\n",
       "50%         54.104257\n",
       "75%         65.051064\n",
       "max        484.967466\n",
       "Name: rougher.input.feed_size, dtype: float64"
      ]
     },
     "execution_count": 32,
     "metadata": {},
     "output_type": "execute_result"
    }
   ],
   "source": [
    "train['rougher.input.feed_size'].describe()"
   ]
  },
  {
   "cell_type": "code",
   "execution_count": 33,
   "metadata": {},
   "outputs": [
    {
     "data": {
      "text/plain": [
       "count    5834.000000\n",
       "mean       55.937535\n",
       "std        22.724254\n",
       "min         0.046369\n",
       "25%        43.890852\n",
       "50%        50.002004\n",
       "75%        61.638434\n",
       "max       477.445473\n",
       "Name: rougher.input.feed_size, dtype: float64"
      ]
     },
     "execution_count": 33,
     "metadata": {},
     "output_type": "execute_result"
    }
   ],
   "source": [
    "test['rougher.input.feed_size'].describe()"
   ]
  },
  {
   "cell_type": "code",
   "execution_count": 34,
   "metadata": {},
   "outputs": [
    {
     "data": {
      "image/png": "[encoded data removed]",
      "text/plain": [
       "<Figure size 640x480 with 1 Axes>"
      ]
     },
     "metadata": {},
     "output_type": "display_data"
    }
   ],
   "source": [
    "train['rougher.input.feed_size'].plot(kind='kde', label='Train - Rougher Input')\n",
    "test['rougher.input.feed_size'].plot(kind='kde', label='Test - Rougher Input')\n",
    "plt.legend(loc='upper right')\n",
    "plt.show()"
   ]
  },
  {
   "cell_type": "markdown",
   "metadata": {},
   "source": [
    "### Analysis on the Stages of all substances and their concentrations"
   ]
  },
  {
   "cell_type": "markdown",
   "metadata": {},
   "source": [
    "Here are all the four substances: Ag - Silver |  Pb - Lead | Sol - Colloid | Au - Gold |\n",
    "\n",
    "In my opinion, it seems like there isn't any values, at any stage, for any concentrate that sticks out as crazy abnormal for the total distribution --- this to me is further proven visually which each stages' histograms."
   ]
  },
  {
   "cell_type": "code",
   "execution_count": 35,
   "metadata": {},
   "outputs": [
    {
     "data": {
      "text/html": [
       "<div>\n",
       "<style scoped>\n",
       "    .dataframe tbody tr th:only-of-type {\n",
       "        vertical-align: middle;\n",
       "    }\n",
       "\n",
       "    .dataframe tbody tr th {\n",
       "        vertical-align: top;\n",
       "    }\n",
       "\n",
       "    .dataframe thead th {\n",
       "        text-align: right;\n",
       "    }\n",
       "</style>\n",
       "<table border=\"1\" class=\"dataframe\">\n",
       "  <thead>\n",
       "    <tr style=\"text-align: right;\">\n",
       "      <th></th>\n",
       "      <th>rougher.input.feed_au</th>\n",
       "      <th>rougher.input.feed_ag</th>\n",
       "      <th>rougher.input.feed_pb</th>\n",
       "      <th>rougher.input.feed_sol</th>\n",
       "      <th>rougher.output.concentrate_au</th>\n",
       "      <th>rougher.output.concentrate_ag</th>\n",
       "      <th>rougher.output.concentrate_pb</th>\n",
       "      <th>rougher.output.concentrate_sol</th>\n",
       "      <th>final.output.concentrate_au</th>\n",
       "      <th>final.output.concentrate_ag</th>\n",
       "      <th>final.output.concentrate_pb</th>\n",
       "      <th>final.output.concentrate_sol</th>\n",
       "    </tr>\n",
       "  </thead>\n",
       "  <tbody>\n",
       "    <tr>\n",
       "      <th>0</th>\n",
       "      <td>6.486150</td>\n",
       "      <td>6.100378</td>\n",
       "      <td>2.284912</td>\n",
       "      <td>36.808594</td>\n",
       "      <td>19.793808</td>\n",
       "      <td>11.500771</td>\n",
       "      <td>7.101074</td>\n",
       "      <td>28.029297</td>\n",
       "      <td>42.192020</td>\n",
       "      <td>6.055403</td>\n",
       "      <td>9.889648</td>\n",
       "      <td>5.507324</td>\n",
       "    </tr>\n",
       "    <tr>\n",
       "      <th>1</th>\n",
       "      <td>6.478583</td>\n",
       "      <td>6.161113</td>\n",
       "      <td>2.266033</td>\n",
       "      <td>35.753385</td>\n",
       "      <td>20.050975</td>\n",
       "      <td>11.615865</td>\n",
       "      <td>7.278807</td>\n",
       "      <td>28.067063</td>\n",
       "      <td>42.701629</td>\n",
       "      <td>6.029369</td>\n",
       "      <td>9.968944</td>\n",
       "      <td>5.257781</td>\n",
       "    </tr>\n",
       "    <tr>\n",
       "      <th>2</th>\n",
       "      <td>6.362222</td>\n",
       "      <td>6.116455</td>\n",
       "      <td>2.159622</td>\n",
       "      <td>35.971630</td>\n",
       "      <td>19.737170</td>\n",
       "      <td>11.695753</td>\n",
       "      <td>7.216833</td>\n",
       "      <td>27.454037</td>\n",
       "      <td>42.657501</td>\n",
       "      <td>6.055926</td>\n",
       "      <td>10.213995</td>\n",
       "      <td>5.383759</td>\n",
       "    </tr>\n",
       "    <tr>\n",
       "      <th>3</th>\n",
       "      <td>6.118189</td>\n",
       "      <td>6.043309</td>\n",
       "      <td>2.037807</td>\n",
       "      <td>36.862241</td>\n",
       "      <td>19.320810</td>\n",
       "      <td>11.915047</td>\n",
       "      <td>7.175616</td>\n",
       "      <td>27.341277</td>\n",
       "      <td>42.689819</td>\n",
       "      <td>6.047977</td>\n",
       "      <td>9.977019</td>\n",
       "      <td>4.858634</td>\n",
       "    </tr>\n",
       "    <tr>\n",
       "      <th>4</th>\n",
       "      <td>5.663707</td>\n",
       "      <td>6.060915</td>\n",
       "      <td>1.786875</td>\n",
       "      <td>34.347666</td>\n",
       "      <td>19.216101</td>\n",
       "      <td>12.411054</td>\n",
       "      <td>7.240205</td>\n",
       "      <td>27.041023</td>\n",
       "      <td>42.774141</td>\n",
       "      <td>6.148599</td>\n",
       "      <td>10.142511</td>\n",
       "      <td>4.939416</td>\n",
       "    </tr>\n",
       "  </tbody>\n",
       "</table>\n",
       "</div>"
      ],
      "text/plain": [
       "   rougher.input.feed_au  rougher.input.feed_ag  rougher.input.feed_pb  \\\n",
       "0               6.486150               6.100378               2.284912   \n",
       "1               6.478583               6.161113               2.266033   \n",
       "2               6.362222               6.116455               2.159622   \n",
       "3               6.118189               6.043309               2.037807   \n",
       "4               5.663707               6.060915               1.786875   \n",
       "\n",
       "   rougher.input.feed_sol  rougher.output.concentrate_au  \\\n",
       "0               36.808594                      19.793808   \n",
       "1               35.753385                      20.050975   \n",
       "2               35.971630                      19.737170   \n",
       "3               36.862241                      19.320810   \n",
       "4               34.347666                      19.216101   \n",
       "\n",
       "   rougher.output.concentrate_ag  rougher.output.concentrate_pb  \\\n",
       "0                      11.500771                       7.101074   \n",
       "1                      11.615865                       7.278807   \n",
       "2                      11.695753                       7.216833   \n",
       "3                      11.915047                       7.175616   \n",
       "4                      12.411054                       7.240205   \n",
       "\n",
       "   rougher.output.concentrate_sol  final.output.concentrate_au  \\\n",
       "0                       28.029297                    42.192020   \n",
       "1                       28.067063                    42.701629   \n",
       "2                       27.454037                    42.657501   \n",
       "3                       27.341277                    42.689819   \n",
       "4                       27.041023                    42.774141   \n",
       "\n",
       "   final.output.concentrate_ag  final.output.concentrate_pb  \\\n",
       "0                     6.055403                     9.889648   \n",
       "1                     6.029369                     9.968944   \n",
       "2                     6.055926                    10.213995   \n",
       "3                     6.047977                     9.977019   \n",
       "4                     6.148599                    10.142511   \n",
       "\n",
       "   final.output.concentrate_sol  \n",
       "0                      5.507324  \n",
       "1                      5.257781  \n",
       "2                      5.383759  \n",
       "3                      4.858634  \n",
       "4                      4.939416  "
      ]
     },
     "execution_count": 35,
     "metadata": {},
     "output_type": "execute_result"
    }
   ],
   "source": [
    "ore_stages = full[['rougher.input.feed_au', 'rougher.input.feed_ag', 'rougher.input.feed_pb', 'rougher.input.feed_sol',\n",
    "                  'rougher.output.concentrate_au', 'rougher.output.concentrate_ag', 'rougher.output.concentrate_pb', 'rougher.output.concentrate_sol',\n",
    "                  'final.output.concentrate_au', 'final.output.concentrate_ag', 'final.output.concentrate_pb', 'final.output.concentrate_sol']]\n",
    "ore_stages.head(5)"
   ]
  },
  {
   "cell_type": "markdown",
   "metadata": {},
   "source": [
    "#### Raw Feed & Histogram"
   ]
  },
  {
   "cell_type": "code",
   "execution_count": 36,
   "metadata": {},
   "outputs": [
    {
     "data": {
      "text/html": [
       "<div>\n",
       "<style scoped>\n",
       "    .dataframe tbody tr th:only-of-type {\n",
       "        vertical-align: middle;\n",
       "    }\n",
       "\n",
       "    .dataframe tbody tr th {\n",
       "        vertical-align: top;\n",
       "    }\n",
       "\n",
       "    .dataframe thead th {\n",
       "        text-align: right;\n",
       "    }\n",
       "</style>\n",
       "<table border=\"1\" class=\"dataframe\">\n",
       "  <thead>\n",
       "    <tr style=\"text-align: right;\">\n",
       "      <th></th>\n",
       "      <th>rougher.input.feed_au</th>\n",
       "      <th>rougher.input.feed_ag</th>\n",
       "      <th>rougher.input.feed_pb</th>\n",
       "      <th>rougher.input.feed_sol</th>\n",
       "    </tr>\n",
       "  </thead>\n",
       "  <tbody>\n",
       "    <tr>\n",
       "      <th>0</th>\n",
       "      <td>6.486150</td>\n",
       "      <td>6.100378</td>\n",
       "      <td>2.284912</td>\n",
       "      <td>36.808594</td>\n",
       "    </tr>\n",
       "    <tr>\n",
       "      <th>1</th>\n",
       "      <td>6.478583</td>\n",
       "      <td>6.161113</td>\n",
       "      <td>2.266033</td>\n",
       "      <td>35.753385</td>\n",
       "    </tr>\n",
       "    <tr>\n",
       "      <th>2</th>\n",
       "      <td>6.362222</td>\n",
       "      <td>6.116455</td>\n",
       "      <td>2.159622</td>\n",
       "      <td>35.971630</td>\n",
       "    </tr>\n",
       "    <tr>\n",
       "      <th>3</th>\n",
       "      <td>6.118189</td>\n",
       "      <td>6.043309</td>\n",
       "      <td>2.037807</td>\n",
       "      <td>36.862241</td>\n",
       "    </tr>\n",
       "    <tr>\n",
       "      <th>4</th>\n",
       "      <td>5.663707</td>\n",
       "      <td>6.060915</td>\n",
       "      <td>1.786875</td>\n",
       "      <td>34.347666</td>\n",
       "    </tr>\n",
       "  </tbody>\n",
       "</table>\n",
       "</div>"
      ],
      "text/plain": [
       "   rougher.input.feed_au  rougher.input.feed_ag  rougher.input.feed_pb  \\\n",
       "0               6.486150               6.100378               2.284912   \n",
       "1               6.478583               6.161113               2.266033   \n",
       "2               6.362222               6.116455               2.159622   \n",
       "3               6.118189               6.043309               2.037807   \n",
       "4               5.663707               6.060915               1.786875   \n",
       "\n",
       "   rougher.input.feed_sol  \n",
       "0               36.808594  \n",
       "1               35.753385  \n",
       "2               35.971630  \n",
       "3               36.862241  \n",
       "4               34.347666  "
      ]
     },
     "execution_count": 36,
     "metadata": {},
     "output_type": "execute_result"
    }
   ],
   "source": [
    "feed = ore_stages[['rougher.input.feed_au', 'rougher.input.feed_ag', 'rougher.input.feed_pb', 'rougher.input.feed_sol']]\n",
    "feed.head()"
   ]
  },
  {
   "cell_type": "code",
   "execution_count": 37,
   "metadata": {},
   "outputs": [
    {
     "data": {
      "text/plain": [
       "<AxesSubplot:>"
      ]
     },
     "execution_count": 37,
     "metadata": {},
     "output_type": "execute_result"
    },
    {
     "data": {
      "image/png": "[encoded data removed]",
      "text/plain": [
       "<Figure size 640x480 with 1 Axes>"
      ]
     },
     "metadata": {},
     "output_type": "display_data"
    }
   ],
   "source": [
    "# feed.hist(alpha=0.6, bins=10)\n",
    "# plt.show()\n",
    "\n",
    "feed.sum(axis=1).hist()"
   ]
  },
  {
   "cell_type": "markdown",
   "metadata": {},
   "source": [
    "#### Rougher Concentrate & Histogram"
   ]
  },
  {
   "cell_type": "code",
   "execution_count": 38,
   "metadata": {},
   "outputs": [
    {
     "data": {
      "text/html": [
       "<div>\n",
       "<style scoped>\n",
       "    .dataframe tbody tr th:only-of-type {\n",
       "        vertical-align: middle;\n",
       "    }\n",
       "\n",
       "    .dataframe tbody tr th {\n",
       "        vertical-align: top;\n",
       "    }\n",
       "\n",
       "    .dataframe thead th {\n",
       "        text-align: right;\n",
       "    }\n",
       "</style>\n",
       "<table border=\"1\" class=\"dataframe\">\n",
       "  <thead>\n",
       "    <tr style=\"text-align: right;\">\n",
       "      <th></th>\n",
       "      <th>rougher.output.concentrate_au</th>\n",
       "      <th>rougher.output.concentrate_ag</th>\n",
       "      <th>rougher.output.concentrate_pb</th>\n",
       "      <th>rougher.output.concentrate_sol</th>\n",
       "    </tr>\n",
       "  </thead>\n",
       "  <tbody>\n",
       "    <tr>\n",
       "      <th>0</th>\n",
       "      <td>19.793808</td>\n",
       "      <td>11.500771</td>\n",
       "      <td>7.101074</td>\n",
       "      <td>28.029297</td>\n",
       "    </tr>\n",
       "    <tr>\n",
       "      <th>1</th>\n",
       "      <td>20.050975</td>\n",
       "      <td>11.615865</td>\n",
       "      <td>7.278807</td>\n",
       "      <td>28.067063</td>\n",
       "    </tr>\n",
       "    <tr>\n",
       "      <th>2</th>\n",
       "      <td>19.737170</td>\n",
       "      <td>11.695753</td>\n",
       "      <td>7.216833</td>\n",
       "      <td>27.454037</td>\n",
       "    </tr>\n",
       "    <tr>\n",
       "      <th>3</th>\n",
       "      <td>19.320810</td>\n",
       "      <td>11.915047</td>\n",
       "      <td>7.175616</td>\n",
       "      <td>27.341277</td>\n",
       "    </tr>\n",
       "    <tr>\n",
       "      <th>4</th>\n",
       "      <td>19.216101</td>\n",
       "      <td>12.411054</td>\n",
       "      <td>7.240205</td>\n",
       "      <td>27.041023</td>\n",
       "    </tr>\n",
       "  </tbody>\n",
       "</table>\n",
       "</div>"
      ],
      "text/plain": [
       "   rougher.output.concentrate_au  rougher.output.concentrate_ag  \\\n",
       "0                      19.793808                      11.500771   \n",
       "1                      20.050975                      11.615865   \n",
       "2                      19.737170                      11.695753   \n",
       "3                      19.320810                      11.915047   \n",
       "4                      19.216101                      12.411054   \n",
       "\n",
       "   rougher.output.concentrate_pb  rougher.output.concentrate_sol  \n",
       "0                       7.101074                       28.029297  \n",
       "1                       7.278807                       28.067063  \n",
       "2                       7.216833                       27.454037  \n",
       "3                       7.175616                       27.341277  \n",
       "4                       7.240205                       27.041023  "
      ]
     },
     "execution_count": 38,
     "metadata": {},
     "output_type": "execute_result"
    }
   ],
   "source": [
    "output = ore_stages[['rougher.output.concentrate_au', 'rougher.output.concentrate_ag', 'rougher.output.concentrate_pb', 'rougher.output.concentrate_sol']]\n",
    "output.head()"
   ]
  },
  {
   "cell_type": "code",
   "execution_count": 39,
   "metadata": {},
   "outputs": [
    {
     "data": {
      "text/plain": [
       "<AxesSubplot:>"
      ]
     },
     "execution_count": 39,
     "metadata": {},
     "output_type": "execute_result"
    },
    {
     "data": {
      "image/png": "[encoded data removed]",
      "text/plain": [
       "<Figure size 640x480 with 1 Axes>"
      ]
     },
     "metadata": {},
     "output_type": "display_data"
    }
   ],
   "source": [
    "output.sum(axis=1).hist()"
   ]
  },
  {
   "cell_type": "markdown",
   "metadata": {},
   "source": [
    "#### Final Concentrate & Histogram"
   ]
  },
  {
   "cell_type": "code",
   "execution_count": 40,
   "metadata": {},
   "outputs": [
    {
     "data": {
      "text/html": [
       "<div>\n",
       "<style scoped>\n",
       "    .dataframe tbody tr th:only-of-type {\n",
       "        vertical-align: middle;\n",
       "    }\n",
       "\n",
       "    .dataframe tbody tr th {\n",
       "        vertical-align: top;\n",
       "    }\n",
       "\n",
       "    .dataframe thead th {\n",
       "        text-align: right;\n",
       "    }\n",
       "</style>\n",
       "<table border=\"1\" class=\"dataframe\">\n",
       "  <thead>\n",
       "    <tr style=\"text-align: right;\">\n",
       "      <th></th>\n",
       "      <th>final.output.concentrate_au</th>\n",
       "      <th>final.output.concentrate_ag</th>\n",
       "      <th>final.output.concentrate_pb</th>\n",
       "      <th>final.output.concentrate_sol</th>\n",
       "    </tr>\n",
       "  </thead>\n",
       "  <tbody>\n",
       "    <tr>\n",
       "      <th>0</th>\n",
       "      <td>42.192020</td>\n",
       "      <td>6.055403</td>\n",
       "      <td>9.889648</td>\n",
       "      <td>5.507324</td>\n",
       "    </tr>\n",
       "    <tr>\n",
       "      <th>1</th>\n",
       "      <td>42.701629</td>\n",
       "      <td>6.029369</td>\n",
       "      <td>9.968944</td>\n",
       "      <td>5.257781</td>\n",
       "    </tr>\n",
       "    <tr>\n",
       "      <th>2</th>\n",
       "      <td>42.657501</td>\n",
       "      <td>6.055926</td>\n",
       "      <td>10.213995</td>\n",
       "      <td>5.383759</td>\n",
       "    </tr>\n",
       "    <tr>\n",
       "      <th>3</th>\n",
       "      <td>42.689819</td>\n",
       "      <td>6.047977</td>\n",
       "      <td>9.977019</td>\n",
       "      <td>4.858634</td>\n",
       "    </tr>\n",
       "    <tr>\n",
       "      <th>4</th>\n",
       "      <td>42.774141</td>\n",
       "      <td>6.148599</td>\n",
       "      <td>10.142511</td>\n",
       "      <td>4.939416</td>\n",
       "    </tr>\n",
       "  </tbody>\n",
       "</table>\n",
       "</div>"
      ],
      "text/plain": [
       "   final.output.concentrate_au  final.output.concentrate_ag  \\\n",
       "0                    42.192020                     6.055403   \n",
       "1                    42.701629                     6.029369   \n",
       "2                    42.657501                     6.055926   \n",
       "3                    42.689819                     6.047977   \n",
       "4                    42.774141                     6.148599   \n",
       "\n",
       "   final.output.concentrate_pb  final.output.concentrate_sol  \n",
       "0                     9.889648                      5.507324  \n",
       "1                     9.968944                      5.257781  \n",
       "2                    10.213995                      5.383759  \n",
       "3                     9.977019                      4.858634  \n",
       "4                    10.142511                      4.939416  "
      ]
     },
     "execution_count": 40,
     "metadata": {},
     "output_type": "execute_result"
    }
   ],
   "source": [
    "final = ore_stages[['final.output.concentrate_au', 'final.output.concentrate_ag', 'final.output.concentrate_pb', 'final.output.concentrate_sol']]\n",
    "final.head()"
   ]
  },
  {
   "cell_type": "code",
   "execution_count": 41,
   "metadata": {},
   "outputs": [
    {
     "data": {
      "text/plain": [
       "<AxesSubplot:>"
      ]
     },
     "execution_count": 41,
     "metadata": {},
     "output_type": "execute_result"
    },
    {
     "data": {
      "image/png": "[encoded data removed]",
      "text/plain": [
       "<Figure size 640x480 with 1 Axes>"
      ]
     },
     "metadata": {},
     "output_type": "display_data"
    }
   ],
   "source": [
    "final.sum(axis=1).hist()"
   ]
  },
  {
   "cell_type": "markdown",
   "metadata": {},
   "source": [
    "## Machine Learning"
   ]
  },
  {
   "cell_type": "markdown",
   "metadata": {},
   "source": [
    "### sMAPE Function & Formulas"
   ]
  },
  {
   "cell_type": "markdown",
   "metadata": {},
   "source": [
    "$$\n",
    "Final \\,\\ sMAPE = 25\\% \\,\\ x\\,\\ sMAPE(rougher) + 75\\% \\,\\ x\\,\\ sMAPE(final)\n",
    "$$\n",
    "\n",
    "This is to predict two needed values, as these are our target:\n",
    "* Rougher Concentrate Recovery (rougher.output.recovery)\n",
    "* Final Concentrate Recovery (final.output.recovery)"
   ]
  },
  {
   "cell_type": "code",
   "execution_count": 42,
   "metadata": {},
   "outputs": [],
   "source": [
    "def smape(trgt, pred, epsilon=1e-10):\n",
    "    return (1 / len(trgt)) * np.sum(np.abs(pred - trgt) / (np.abs(trgt) + np.abs(pred) + epsilon) * 100)\n",
    "\n",
    "def f_smape(y, pred):\n",
    "    final = smape(y[:, 0], pred[:, 0])\n",
    "    rougher = smape(y[:, 1], pred[:, 1])\n",
    "    return rougher * 0.25 + final * 0.75\n",
    "\n",
    "custom_scorer = make_scorer(f_smape, greater_is_better=False)"
   ]
  },
  {
   "cell_type": "code",
   "execution_count": 43,
   "metadata": {},
   "outputs": [],
   "source": [
    "test = test.merge(full[['final.output.recovery', 'rougher.output.recovery']], how='left', left_index=True, right_index=True)\n",
    "\n",
    "target_columns = ['final.output.recovery', 'rougher.output.recovery']\n",
    "train = train.dropna(subset=target_columns)\n",
    "test = test.dropna(subset=target_columns)\n",
    "\n",
    "train = train.ffill()\n",
    "test = test.ffill()\n",
    "\n",
    "train_features = train.drop(['final.output.recovery', 'rougher.output.recovery', 'date'], axis=1)\n",
    "test_features = test.drop(['final.output.recovery', 'rougher.output.recovery', 'date'], axis=1)\n",
    "mutual_col = train_features.columns.intersection(test_features.columns).tolist()\n",
    "train_features = train_features[mutual_col]\n",
    "test_features = test_features[mutual_col]\n",
    "train_target = np.array(train[['final.output.recovery', 'rougher.output.recovery']])\n",
    "test_target = np.array(test[['final.output.recovery', 'rougher.output.recovery']])"
   ]
  },
  {
   "cell_type": "code",
   "execution_count": 44,
   "metadata": {},
   "outputs": [
    {
     "name": "stdout",
     "output_type": "stream",
     "text": [
      "Train Features Shape: (14149, 52)\n",
      "Train Target Shape: (14149, 2)\n",
      "Test Features Shape: (4970, 52)\n",
      "Test Target Shape: (4970, 2)\n"
     ]
    }
   ],
   "source": [
    "print('Train Features Shape:', train_features.shape)\n",
    "print('Train Target Shape:', train_target.shape)\n",
    "print('Test Features Shape:', test_features.shape)\n",
    "print('Test Target Shape:', test_target.shape)"
   ]
  },
  {
   "cell_type": "markdown",
   "metadata": {},
   "source": [
    "### Models Training"
   ]
  },
  {
   "cell_type": "markdown",
   "metadata": {},
   "source": [
    "#### Linear Regression Model"
   ]
  },
  {
   "cell_type": "code",
   "execution_count": 45,
   "metadata": {},
   "outputs": [
    {
     "name": "stdout",
     "output_type": "stream",
     "text": [
      "Cross-Valid Score: 6.19229805241832\n"
     ]
    }
   ],
   "source": [
    "lr_model = LinearRegression()\n",
    "lr_cvs = cross_val_score(lr_model, train_features, train_target, cv=5, scoring=custom_scorer)\n",
    "lr_cvs_mean = np.mean(lr_cvs)\n",
    "print(f\"Cross-Valid Score: {-lr_cvs_mean}\")"
   ]
  },
  {
   "cell_type": "markdown",
   "metadata": {},
   "source": [
    "#### Random Forest Regressor Model"
   ]
  },
  {
   "cell_type": "code",
   "execution_count": 46,
   "metadata": {
    "scrolled": true
   },
   "outputs": [
    {
     "name": "stdout",
     "output_type": "stream",
     "text": [
      "Best Model Parameters: RandomForestRegressor(max_depth=5, max_features=10, n_estimators=15,\n",
      "                      random_state=12345)\n",
      "\n",
      "Best cross-validation score: 5.074856782132346\n"
     ]
    }
   ],
   "source": [
    "#does the \"CV\" in the randomizedsearch\n",
    "\n",
    "rfr_param = {'n_estimators': [10, 15, 25], 'max_depth': [5, 10, 15], 'max_features':[3, 5, 10]}\n",
    "\n",
    "rfr_random = RandomizedSearchCV(\n",
    "    estimator=RandomForestRegressor(random_state=12345),\n",
    "    param_distributions=rfr_param,\n",
    "    scoring=custom_scorer,\n",
    "    cv=5,\n",
    "    n_iter=10,\n",
    ")\n",
    "\n",
    "rfr_random.fit(train_features, train_target)\n",
    "\n",
    "best_rfr_model = rfr_random.best_estimator_\n",
    "best_cv_score = rfr_random.best_score_\n",
    "\n",
    "print('Best Model Parameters:', best_rfr_model)\n",
    "print()\n",
    "print(\"Best cross-validation score:\", -best_cv_score)"
   ]
  },
  {
   "cell_type": "markdown",
   "metadata": {},
   "source": [
    "#### Decision Tree Regressor Model"
   ]
  },
  {
   "cell_type": "code",
   "execution_count": 47,
   "metadata": {},
   "outputs": [
    {
     "name": "stdout",
     "output_type": "stream",
     "text": [
      "Best parameters: {'splitter': 'best', 'max_depth': 5}\n",
      "Best cross-validation score: 5.476334421334242\n"
     ]
    }
   ],
   "source": [
    "dtr_param = {'max_depth': [2, 3, 4, 5, 10, 15], 'splitter': ['best', 'random']}\n",
    "\n",
    "dtr_random = RandomizedSearchCV(\n",
    "    estimator=DecisionTreeRegressor(random_state=12345),\n",
    "    param_distributions=dtr_param,\n",
    "    scoring=custom_scorer,\n",
    "    cv=5,\n",
    "    n_iter=12,\n",
    "    n_jobs=-1\n",
    ")\n",
    "\n",
    "dtr_random.fit(train_features, train_target)\n",
    "\n",
    "print(f\"Best parameters: {dtr_random.best_params_}\")\n",
    "best_cv_score = dtr_random.best_score_\n",
    "print(f\"Best cross-validation score: {-best_cv_score}\")"
   ]
  },
  {
   "cell_type": "markdown",
   "metadata": {},
   "source": [
    "In short, the models training performance ranked up as follows:\n",
    "* The best model: **RandomForestRegressor** -- 5.07 sMAPE Score\n",
    "* Second Best: *DecisionTreeRegressor* -- 5.47 sMAPE Score\n",
    "* Third Best: *LinearRegression* -- 6.19 sMAPE Score"
   ]
  },
  {
   "cell_type": "markdown",
   "metadata": {},
   "source": [
    "#### Winner Model : Random Forest Regressor"
   ]
  },
  {
   "cell_type": "code",
   "execution_count": 48,
   "metadata": {
    "scrolled": true
   },
   "outputs": [
    {
     "name": "stdout",
     "output_type": "stream",
     "text": [
      "Final sMAPE score: 6.127941740854429\n"
     ]
    }
   ],
   "source": [
    "#this is perfect but it needs better distinctive pararameters\n",
    "\n",
    "test_ft = test.drop(['final.output.recovery', 'rougher.output.recovery', 'date'], axis=1)\n",
    "test_trgt = np.array(test[['final.output.recovery', 'rougher.output.recovery']])\n",
    "\n",
    "# Old lines of code\n",
    "# rfr_model = RandomForestRegressor(n_estimators = 25, max_depth=3, random_state=12345)\n",
    "# rfr_model.fit(train_features, train_target)\n",
    "\n",
    "#New line of code with RandomSearchCV\n",
    "# best_rfr_model.fit(test_ft, test_trgt)\n",
    "\n",
    "\n",
    "final_rfr_predict = best_rfr_model.predict(test_ft)\n",
    "final_score = f_smape(test_trgt, final_rfr_predict)\n",
    "print(f'Final sMAPE score: {final_score}')"
   ]
  },
  {
   "cell_type": "markdown",
   "metadata": {},
   "source": [
    "#### Dummy Regressor | Baseline Model"
   ]
  },
  {
   "cell_type": "code",
   "execution_count": 49,
   "metadata": {},
   "outputs": [
    {
     "name": "stdout",
     "output_type": "stream",
     "text": [
      "Dummy Regressor sMAPE: 5.613382990479946\n"
     ]
    }
   ],
   "source": [
    "#Later the testing set for the final evaul also on the DRegress\n",
    "dum_reg = DummyRegressor(strategy='mean')\n",
    "dum_reg.fit(train_features, train_target)\n",
    "dum_reg_pred = dum_reg.predict(test_ft)\n",
    "dum_smape = f_smape(test_trgt, dum_reg_pred)\n",
    "\n",
    "print(f\"Dummy Regressor sMAPE: {dum_smape}\")"
   ]
  },
  {
   "cell_type": "markdown",
   "metadata": {},
   "source": [
    "Throughout the model development from assessing the datas' missing values, feature engineering columns to matching dataframes' shapes across the board, there was a relative clear performance in how much the data can reveal about itself - and in my opinion and in this case, this taught me how irregular, incomplete data can potentially influence a model's performance. Initially when I developed the final model, I could see a clear progression in its performance: the deeper the depth of the forest, the better it was at detecting the data's patterns. However, when I was training several models during the training phase I had noticed the data was fine-tuning well and strongly favoring the **RandomForestRegressor** and to attempt avoiding overfitting and long computational times, I applied hyperparameters aimed to reduce the two elements' influence. \n",
    "\n",
    "My best-performed model at the final testing stage yield a sMAPE score at **6.12**, which is pretty decent compared to its training score of 5.07 (with a -1.05 difference) when it processed the unseen data. I initally didn't have a final Dummy Regressor to compare to but when I developed it, its results yielded a **5.61 sMAPE score**. That is a +0.51 larger error margin leaning more on my model than the comparison, it was clearly outshining my model without any hyperparameters. However, when further exploring attempts at lowering the final model's score, the more I realized looking and comparing all the scores, my final model's performance is actually quite fair given how the data was presented. But I also understand that, if there was further attempt at decreasing the final model's score definitely seeking out other better performing hyperparameters to retrieving more data from the original source will be benefit at improving the final model's results."
   ]
  },
  {
   "cell_type": "markdown",
   "metadata": {},
   "source": [
    "# Conclusion"
   ]
  },
  {
   "cell_type": "markdown",
   "metadata": {},
   "source": [
    "While on this ore-data mining journey, a sigificant level of data judgement is required when analyzing all the data at hand when optimizing the production of ore and eliminating unwanted elements or parameters while attempting at making a ML prototype. I believe the **RandomForestRegressor** Model prototype has proven its accuracy capability (through juggling complex relationships between data and attempting at reducing overfitting and) being as close to calculating the most accurate predictions within the ore-retention recovery process. Although the 2nd and 3rd runner ups' accuracy performed well it didn't do as consistently by seeking out effective patterns in the data, unlike the best-performing model."
   ]
  }
 ],
 "metadata": {
  "ExecuteTimeLog": [
   {
    "duration": 5631,
    "start_time": "2024-05-27T17:06:20.972Z"
   },
   {
    "duration": 1051,
    "start_time": "2024-05-27T17:06:26.607Z"
   },
   {
    "duration": 3,
    "start_time": "2024-05-27T17:06:27.662Z"
   },
   {
    "duration": 38,
    "start_time": "2024-05-27T17:06:27.670Z"
   },
   {
    "duration": 45,
    "start_time": "2024-05-27T17:06:27.710Z"
   },
   {
    "duration": 129,
    "start_time": "2024-05-27T17:06:27.758Z"
   },
   {
    "duration": 43,
    "start_time": "2024-05-27T17:06:27.891Z"
   },
   {
    "duration": 20,
    "start_time": "2024-05-27T17:06:27.937Z"
   },
   {
    "duration": 31,
    "start_time": "2024-05-27T17:06:27.963Z"
   },
   {
    "duration": 28,
    "start_time": "2024-05-27T17:06:28.031Z"
   },
   {
    "duration": 28,
    "start_time": "2024-05-27T17:06:28.062Z"
   },
   {
    "duration": 177,
    "start_time": "2024-05-27T17:06:28.093Z"
   },
   {
    "duration": 5,
    "start_time": "2024-05-27T17:06:28.273Z"
   },
   {
    "duration": 4,
    "start_time": "2024-05-27T17:06:28.281Z"
   },
   {
    "duration": 4,
    "start_time": "2024-05-27T17:06:28.288Z"
   },
   {
    "duration": 35,
    "start_time": "2024-05-27T17:06:28.295Z"
   },
   {
    "duration": 3,
    "start_time": "2024-05-27T17:06:28.334Z"
   },
   {
    "duration": 4,
    "start_time": "2024-05-27T17:06:28.341Z"
   },
   {
    "duration": 305,
    "start_time": "2024-05-28T15:18:49.782Z"
   },
   {
    "duration": 5137,
    "start_time": "2024-05-28T15:18:59.511Z"
   },
   {
    "duration": 987,
    "start_time": "2024-05-28T15:19:04.651Z"
   },
   {
    "duration": 4,
    "start_time": "2024-05-28T15:19:05.640Z"
   },
   {
    "duration": 31,
    "start_time": "2024-05-28T15:19:05.648Z"
   },
   {
    "duration": 44,
    "start_time": "2024-05-28T15:19:05.682Z"
   },
   {
    "duration": 121,
    "start_time": "2024-05-28T15:19:05.729Z"
   },
   {
    "duration": 27,
    "start_time": "2024-05-28T15:19:05.854Z"
   },
   {
    "duration": 43,
    "start_time": "2024-05-28T15:19:05.884Z"
   },
   {
    "duration": 34,
    "start_time": "2024-05-28T15:19:05.929Z"
   },
   {
    "duration": 56,
    "start_time": "2024-05-28T15:19:05.969Z"
   },
   {
    "duration": 25,
    "start_time": "2024-05-28T15:19:06.029Z"
   },
   {
    "duration": 173,
    "start_time": "2024-05-28T15:19:06.057Z"
   },
   {
    "duration": 1274,
    "start_time": "2024-05-28T15:19:06.233Z"
   },
   {
    "duration": 0,
    "start_time": "2024-05-28T15:19:07.510Z"
   },
   {
    "duration": 0,
    "start_time": "2024-05-28T15:19:07.512Z"
   },
   {
    "duration": 0,
    "start_time": "2024-05-28T15:19:07.514Z"
   },
   {
    "duration": 0,
    "start_time": "2024-05-28T15:19:07.516Z"
   },
   {
    "duration": 0,
    "start_time": "2024-05-28T15:19:07.518Z"
   },
   {
    "duration": 0,
    "start_time": "2024-05-28T15:19:07.520Z"
   },
   {
    "duration": 78,
    "start_time": "2024-05-28T15:20:02.775Z"
   },
   {
    "duration": 20,
    "start_time": "2024-05-28T15:22:14.388Z"
   },
   {
    "duration": 26,
    "start_time": "2024-05-28T15:46:35.258Z"
   },
   {
    "duration": 23,
    "start_time": "2024-05-28T15:46:43.847Z"
   },
   {
    "duration": 18,
    "start_time": "2024-05-28T15:46:56.295Z"
   },
   {
    "duration": 309,
    "start_time": "2024-05-28T20:08:55.441Z"
   },
   {
    "duration": 5120,
    "start_time": "2024-05-28T20:09:01.543Z"
   },
   {
    "duration": 984,
    "start_time": "2024-05-28T20:09:06.666Z"
   },
   {
    "duration": 4,
    "start_time": "2024-05-28T20:09:07.653Z"
   },
   {
    "duration": 33,
    "start_time": "2024-05-28T20:09:07.661Z"
   },
   {
    "duration": 52,
    "start_time": "2024-05-28T20:09:07.697Z"
   },
   {
    "duration": 122,
    "start_time": "2024-05-28T20:09:07.752Z"
   },
   {
    "duration": 485,
    "start_time": "2024-05-28T20:09:07.877Z"
   },
   {
    "duration": 0,
    "start_time": "2024-05-28T20:09:08.367Z"
   },
   {
    "duration": 0,
    "start_time": "2024-05-28T20:09:08.369Z"
   },
   {
    "duration": 0,
    "start_time": "2024-05-28T20:09:08.372Z"
   },
   {
    "duration": 0,
    "start_time": "2024-05-28T20:09:08.374Z"
   },
   {
    "duration": 0,
    "start_time": "2024-05-28T20:09:08.377Z"
   },
   {
    "duration": 0,
    "start_time": "2024-05-28T20:09:08.379Z"
   },
   {
    "duration": 0,
    "start_time": "2024-05-28T20:09:08.381Z"
   },
   {
    "duration": 0,
    "start_time": "2024-05-28T20:09:08.383Z"
   },
   {
    "duration": 0,
    "start_time": "2024-05-28T20:09:08.385Z"
   },
   {
    "duration": 0,
    "start_time": "2024-05-28T20:09:08.388Z"
   },
   {
    "duration": 0,
    "start_time": "2024-05-28T20:09:08.390Z"
   },
   {
    "duration": 0,
    "start_time": "2024-05-28T20:09:08.433Z"
   },
   {
    "duration": 0,
    "start_time": "2024-05-28T20:09:08.435Z"
   },
   {
    "duration": 12,
    "start_time": "2024-05-28T20:09:19.406Z"
   },
   {
    "duration": 10,
    "start_time": "2024-05-28T20:09:45.961Z"
   },
   {
    "duration": 12,
    "start_time": "2024-05-28T20:10:16.680Z"
   },
   {
    "duration": 27,
    "start_time": "2024-05-28T21:52:33.987Z"
   },
   {
    "duration": 24,
    "start_time": "2024-05-28T22:03:12.581Z"
   },
   {
    "duration": 5,
    "start_time": "2024-05-28T22:03:16.732Z"
   },
   {
    "duration": 41,
    "start_time": "2024-05-28T22:03:17.645Z"
   },
   {
    "duration": 18,
    "start_time": "2024-05-28T22:03:31.316Z"
   },
   {
    "duration": 13,
    "start_time": "2024-05-29T00:23:25.869Z"
   },
   {
    "duration": 350,
    "start_time": "2024-05-29T00:23:27.307Z"
   },
   {
    "duration": 6,
    "start_time": "2024-05-29T00:23:30.488Z"
   },
   {
    "duration": 25,
    "start_time": "2024-05-29T00:23:31.783Z"
   },
   {
    "duration": 5564,
    "start_time": "2024-05-29T00:23:39.250Z"
   },
   {
    "duration": 1074,
    "start_time": "2024-05-29T00:23:44.820Z"
   },
   {
    "duration": 3,
    "start_time": "2024-05-29T00:23:45.897Z"
   },
   {
    "duration": 44,
    "start_time": "2024-05-29T00:23:45.905Z"
   },
   {
    "duration": 23,
    "start_time": "2024-05-29T00:23:45.952Z"
   },
   {
    "duration": 125,
    "start_time": "2024-05-29T00:23:45.978Z"
   },
   {
    "duration": 28,
    "start_time": "2024-05-29T00:23:46.106Z"
   },
   {
    "duration": 27,
    "start_time": "2024-05-29T00:23:46.137Z"
   },
   {
    "duration": 20,
    "start_time": "2024-05-29T00:23:46.167Z"
   },
   {
    "duration": 64,
    "start_time": "2024-05-29T00:23:46.193Z"
   },
   {
    "duration": 10,
    "start_time": "2024-05-29T00:23:46.260Z"
   },
   {
    "duration": 27,
    "start_time": "2024-05-29T00:23:46.273Z"
   },
   {
    "duration": 23,
    "start_time": "2024-05-29T00:23:46.333Z"
   },
   {
    "duration": 166,
    "start_time": "2024-05-29T00:23:46.359Z"
   },
   {
    "duration": 13,
    "start_time": "2024-05-29T00:23:46.532Z"
   },
   {
    "duration": 18,
    "start_time": "2024-05-29T00:23:46.548Z"
   },
   {
    "duration": 6,
    "start_time": "2024-05-29T00:23:46.569Z"
   },
   {
    "duration": 58,
    "start_time": "2024-05-29T00:23:46.578Z"
   },
   {
    "duration": 7,
    "start_time": "2024-05-29T00:23:46.638Z"
   },
   {
    "duration": 0,
    "start_time": "2024-05-29T00:23:46.648Z"
   },
   {
    "duration": 0,
    "start_time": "2024-05-29T00:23:46.650Z"
   },
   {
    "duration": 0,
    "start_time": "2024-05-29T00:23:46.652Z"
   },
   {
    "duration": 0,
    "start_time": "2024-05-29T00:23:46.655Z"
   },
   {
    "duration": 0,
    "start_time": "2024-05-29T00:23:46.657Z"
   },
   {
    "duration": 224,
    "start_time": "2024-05-29T01:01:52.041Z"
   },
   {
    "duration": 1360,
    "start_time": "2024-05-29T01:02:00.004Z"
   },
   {
    "duration": 12,
    "start_time": "2024-05-29T01:02:03.704Z"
   },
   {
    "duration": 6,
    "start_time": "2024-05-29T01:02:22.661Z"
   },
   {
    "duration": 15,
    "start_time": "2024-05-29T01:02:50.539Z"
   },
   {
    "duration": 4,
    "start_time": "2024-05-29T01:12:04.954Z"
   },
   {
    "duration": 304,
    "start_time": "2024-05-29T01:12:06.995Z"
   },
   {
    "duration": 1379,
    "start_time": "2024-05-29T01:12:46.847Z"
   },
   {
    "duration": 793,
    "start_time": "2024-05-29T01:12:48.229Z"
   },
   {
    "duration": 9,
    "start_time": "2024-05-29T01:12:49.024Z"
   },
   {
    "duration": 32,
    "start_time": "2024-05-29T01:12:49.035Z"
   },
   {
    "duration": 23,
    "start_time": "2024-05-29T01:12:49.072Z"
   },
   {
    "duration": 136,
    "start_time": "2024-05-29T01:12:49.099Z"
   },
   {
    "duration": 12,
    "start_time": "2024-05-29T01:12:49.238Z"
   },
   {
    "duration": 11,
    "start_time": "2024-05-29T01:12:49.253Z"
   },
   {
    "duration": 27,
    "start_time": "2024-05-29T01:12:49.267Z"
   },
   {
    "duration": 19,
    "start_time": "2024-05-29T01:12:49.334Z"
   },
   {
    "duration": 33,
    "start_time": "2024-05-29T01:12:49.356Z"
   },
   {
    "duration": 44,
    "start_time": "2024-05-29T01:12:49.391Z"
   },
   {
    "duration": 7,
    "start_time": "2024-05-29T01:12:49.437Z"
   },
   {
    "duration": 28,
    "start_time": "2024-05-29T01:12:49.451Z"
   },
   {
    "duration": 60,
    "start_time": "2024-05-29T01:12:49.482Z"
   },
   {
    "duration": 170,
    "start_time": "2024-05-29T01:12:49.544Z"
   },
   {
    "duration": 17,
    "start_time": "2024-05-29T01:12:49.718Z"
   },
   {
    "duration": 12,
    "start_time": "2024-05-29T01:12:49.738Z"
   },
   {
    "duration": 19,
    "start_time": "2024-05-29T01:12:49.752Z"
   },
   {
    "duration": 5,
    "start_time": "2024-05-29T01:12:49.774Z"
   },
   {
    "duration": 762,
    "start_time": "2024-05-29T01:12:49.782Z"
   },
   {
    "duration": 0,
    "start_time": "2024-05-29T01:12:50.548Z"
   },
   {
    "duration": 0,
    "start_time": "2024-05-29T01:12:50.549Z"
   },
   {
    "duration": 0,
    "start_time": "2024-05-29T01:12:50.551Z"
   },
   {
    "duration": 0,
    "start_time": "2024-05-29T01:12:50.554Z"
   },
   {
    "duration": 0,
    "start_time": "2024-05-29T01:12:50.555Z"
   },
   {
    "duration": 0,
    "start_time": "2024-05-29T01:12:50.561Z"
   },
   {
    "duration": 4,
    "start_time": "2024-05-29T03:23:45.019Z"
   },
   {
    "duration": 4,
    "start_time": "2024-05-29T03:23:47.965Z"
   },
   {
    "duration": 120,
    "start_time": "2024-05-29T03:23:50.039Z"
   },
   {
    "duration": 1348,
    "start_time": "2024-05-29T03:23:58.657Z"
   },
   {
    "duration": 782,
    "start_time": "2024-05-29T03:24:00.009Z"
   },
   {
    "duration": 3,
    "start_time": "2024-05-29T03:24:00.794Z"
   },
   {
    "duration": 49,
    "start_time": "2024-05-29T03:24:00.800Z"
   },
   {
    "duration": 23,
    "start_time": "2024-05-29T03:24:00.853Z"
   },
   {
    "duration": 125,
    "start_time": "2024-05-29T03:24:00.879Z"
   },
   {
    "duration": 12,
    "start_time": "2024-05-29T03:24:01.007Z"
   },
   {
    "duration": 1512,
    "start_time": "2024-05-29T03:24:01.034Z"
   },
   {
    "duration": 0,
    "start_time": "2024-05-29T03:24:02.550Z"
   },
   {
    "duration": 0,
    "start_time": "2024-05-29T03:24:02.552Z"
   },
   {
    "duration": 0,
    "start_time": "2024-05-29T03:24:02.554Z"
   },
   {
    "duration": 0,
    "start_time": "2024-05-29T03:24:02.555Z"
   },
   {
    "duration": 0,
    "start_time": "2024-05-29T03:24:02.557Z"
   },
   {
    "duration": 0,
    "start_time": "2024-05-29T03:24:02.559Z"
   },
   {
    "duration": 0,
    "start_time": "2024-05-29T03:24:02.561Z"
   },
   {
    "duration": 1,
    "start_time": "2024-05-29T03:24:02.562Z"
   },
   {
    "duration": 0,
    "start_time": "2024-05-29T03:24:02.565Z"
   },
   {
    "duration": 0,
    "start_time": "2024-05-29T03:24:02.567Z"
   },
   {
    "duration": 0,
    "start_time": "2024-05-29T03:24:02.569Z"
   },
   {
    "duration": 0,
    "start_time": "2024-05-29T03:24:02.571Z"
   },
   {
    "duration": 0,
    "start_time": "2024-05-29T03:24:02.573Z"
   },
   {
    "duration": 0,
    "start_time": "2024-05-29T03:24:02.574Z"
   },
   {
    "duration": 0,
    "start_time": "2024-05-29T03:24:02.577Z"
   },
   {
    "duration": 0,
    "start_time": "2024-05-29T03:24:02.579Z"
   },
   {
    "duration": 0,
    "start_time": "2024-05-29T03:24:02.582Z"
   },
   {
    "duration": 0,
    "start_time": "2024-05-29T03:24:02.633Z"
   },
   {
    "duration": 0,
    "start_time": "2024-05-29T03:24:02.635Z"
   },
   {
    "duration": 1464,
    "start_time": "2024-05-29T03:25:01.245Z"
   },
   {
    "duration": 759,
    "start_time": "2024-05-29T03:25:02.712Z"
   },
   {
    "duration": 3,
    "start_time": "2024-05-29T03:25:03.474Z"
   },
   {
    "duration": 31,
    "start_time": "2024-05-29T03:25:03.482Z"
   },
   {
    "duration": 24,
    "start_time": "2024-05-29T03:25:03.534Z"
   },
   {
    "duration": 125,
    "start_time": "2024-05-29T03:25:03.560Z"
   },
   {
    "duration": 12,
    "start_time": "2024-05-29T03:25:03.689Z"
   },
   {
    "duration": 32,
    "start_time": "2024-05-29T03:25:03.705Z"
   },
   {
    "duration": 33,
    "start_time": "2024-05-29T03:25:03.740Z"
   },
   {
    "duration": 17,
    "start_time": "2024-05-29T03:25:03.780Z"
   },
   {
    "duration": 32,
    "start_time": "2024-05-29T03:25:03.834Z"
   },
   {
    "duration": 10,
    "start_time": "2024-05-29T03:25:03.869Z"
   },
   {
    "duration": 6,
    "start_time": "2024-05-29T03:25:03.881Z"
   },
   {
    "duration": 63,
    "start_time": "2024-05-29T03:25:03.891Z"
   },
   {
    "duration": 22,
    "start_time": "2024-05-29T03:25:03.957Z"
   },
   {
    "duration": 173,
    "start_time": "2024-05-29T03:25:03.983Z"
   },
   {
    "duration": 13,
    "start_time": "2024-05-29T03:25:04.158Z"
   },
   {
    "duration": 12,
    "start_time": "2024-05-29T03:25:04.174Z"
   },
   {
    "duration": 53,
    "start_time": "2024-05-29T03:25:04.189Z"
   },
   {
    "duration": 5,
    "start_time": "2024-05-29T03:25:04.248Z"
   },
   {
    "duration": 742,
    "start_time": "2024-05-29T03:25:04.257Z"
   },
   {
    "duration": 0,
    "start_time": "2024-05-29T03:25:05.002Z"
   },
   {
    "duration": 0,
    "start_time": "2024-05-29T03:25:05.005Z"
   },
   {
    "duration": 0,
    "start_time": "2024-05-29T03:25:05.007Z"
   },
   {
    "duration": 0,
    "start_time": "2024-05-29T03:25:05.009Z"
   },
   {
    "duration": 0,
    "start_time": "2024-05-29T03:25:05.012Z"
   },
   {
    "duration": 0,
    "start_time": "2024-05-29T03:25:05.014Z"
   },
   {
    "duration": 1415,
    "start_time": "2024-05-29T03:25:13.783Z"
   },
   {
    "duration": 804,
    "start_time": "2024-05-29T03:25:15.201Z"
   },
   {
    "duration": 4,
    "start_time": "2024-05-29T03:25:16.008Z"
   },
   {
    "duration": 43,
    "start_time": "2024-05-29T03:25:16.016Z"
   },
   {
    "duration": 23,
    "start_time": "2024-05-29T03:25:16.062Z"
   },
   {
    "duration": 131,
    "start_time": "2024-05-29T03:25:16.088Z"
   },
   {
    "duration": 19,
    "start_time": "2024-05-29T03:25:16.221Z"
   },
   {
    "duration": 9,
    "start_time": "2024-05-29T03:25:16.243Z"
   },
   {
    "duration": 28,
    "start_time": "2024-05-29T03:25:16.255Z"
   },
   {
    "duration": 55,
    "start_time": "2024-05-29T03:25:16.288Z"
   },
   {
    "duration": 33,
    "start_time": "2024-05-29T03:25:16.346Z"
   },
   {
    "duration": 10,
    "start_time": "2024-05-29T03:25:16.382Z"
   },
   {
    "duration": 42,
    "start_time": "2024-05-29T03:25:16.395Z"
   },
   {
    "duration": 28,
    "start_time": "2024-05-29T03:25:16.439Z"
   },
   {
    "duration": 23,
    "start_time": "2024-05-29T03:25:16.470Z"
   },
   {
    "duration": 183,
    "start_time": "2024-05-29T03:25:16.496Z"
   },
   {
    "duration": 12,
    "start_time": "2024-05-29T03:25:16.682Z"
   },
   {
    "duration": 35,
    "start_time": "2024-05-29T03:25:16.697Z"
   },
   {
    "duration": 18,
    "start_time": "2024-05-29T03:25:16.735Z"
   },
   {
    "duration": 5,
    "start_time": "2024-05-29T03:25:16.756Z"
   },
   {
    "duration": 738,
    "start_time": "2024-05-29T03:25:16.764Z"
   },
   {
    "duration": 0,
    "start_time": "2024-05-29T03:25:17.505Z"
   },
   {
    "duration": 0,
    "start_time": "2024-05-29T03:25:17.507Z"
   },
   {
    "duration": 0,
    "start_time": "2024-05-29T03:25:17.510Z"
   },
   {
    "duration": 0,
    "start_time": "2024-05-29T03:25:17.512Z"
   },
   {
    "duration": 0,
    "start_time": "2024-05-29T03:25:17.514Z"
   },
   {
    "duration": 0,
    "start_time": "2024-05-29T03:25:17.516Z"
   },
   {
    "duration": 10,
    "start_time": "2024-05-29T03:29:04.461Z"
   },
   {
    "duration": 28,
    "start_time": "2024-05-29T03:29:37.451Z"
   },
   {
    "duration": 140,
    "start_time": "2024-05-29T03:31:07.746Z"
   },
   {
    "duration": 1390,
    "start_time": "2024-05-29T03:45:38.910Z"
   },
   {
    "duration": 804,
    "start_time": "2024-05-29T03:45:40.304Z"
   },
   {
    "duration": 4,
    "start_time": "2024-05-29T03:45:41.111Z"
   },
   {
    "duration": 42,
    "start_time": "2024-05-29T03:45:41.119Z"
   },
   {
    "duration": 23,
    "start_time": "2024-05-29T03:45:41.165Z"
   },
   {
    "duration": 135,
    "start_time": "2024-05-29T03:45:41.191Z"
   },
   {
    "duration": 19,
    "start_time": "2024-05-29T03:45:41.332Z"
   },
   {
    "duration": 4,
    "start_time": "2024-05-29T03:45:41.355Z"
   },
   {
    "duration": 29,
    "start_time": "2024-05-29T03:45:41.364Z"
   },
   {
    "duration": 48,
    "start_time": "2024-05-29T03:45:41.399Z"
   },
   {
    "duration": 32,
    "start_time": "2024-05-29T03:45:41.452Z"
   },
   {
    "duration": 10,
    "start_time": "2024-05-29T03:45:41.487Z"
   },
   {
    "duration": 38,
    "start_time": "2024-05-29T03:45:41.499Z"
   },
   {
    "duration": 31,
    "start_time": "2024-05-29T03:45:41.541Z"
   },
   {
    "duration": 59,
    "start_time": "2024-05-29T03:45:41.576Z"
   },
   {
    "duration": 161,
    "start_time": "2024-05-29T03:45:41.639Z"
   },
   {
    "duration": 13,
    "start_time": "2024-05-29T03:45:41.803Z"
   },
   {
    "duration": 4,
    "start_time": "2024-05-29T03:45:41.834Z"
   },
   {
    "duration": 600,
    "start_time": "2024-05-29T03:45:41.842Z"
   },
   {
    "duration": 0,
    "start_time": "2024-05-29T03:45:42.445Z"
   },
   {
    "duration": 0,
    "start_time": "2024-05-29T03:45:42.448Z"
   },
   {
    "duration": 0,
    "start_time": "2024-05-29T03:45:42.450Z"
   },
   {
    "duration": 0,
    "start_time": "2024-05-29T03:45:42.452Z"
   },
   {
    "duration": 0,
    "start_time": "2024-05-29T03:45:42.455Z"
   },
   {
    "duration": 0,
    "start_time": "2024-05-29T03:45:42.457Z"
   },
   {
    "duration": 0,
    "start_time": "2024-05-29T03:45:42.459Z"
   },
   {
    "duration": 0,
    "start_time": "2024-05-29T03:45:42.462Z"
   },
   {
    "duration": 18,
    "start_time": "2024-05-29T03:46:04.489Z"
   },
   {
    "duration": 6,
    "start_time": "2024-05-29T03:46:17.300Z"
   },
   {
    "duration": 18,
    "start_time": "2024-05-29T03:46:20.367Z"
   },
   {
    "duration": 12,
    "start_time": "2024-05-29T03:47:46.268Z"
   },
   {
    "duration": 1455,
    "start_time": "2024-05-29T03:48:26.871Z"
   },
   {
    "duration": 835,
    "start_time": "2024-05-29T03:48:28.331Z"
   },
   {
    "duration": 3,
    "start_time": "2024-05-29T03:48:29.169Z"
   },
   {
    "duration": 30,
    "start_time": "2024-05-29T03:48:29.177Z"
   },
   {
    "duration": 42,
    "start_time": "2024-05-29T03:48:29.210Z"
   },
   {
    "duration": 124,
    "start_time": "2024-05-29T03:48:29.255Z"
   },
   {
    "duration": 12,
    "start_time": "2024-05-29T03:48:29.383Z"
   },
   {
    "duration": 7,
    "start_time": "2024-05-29T03:48:29.398Z"
   },
   {
    "duration": 53,
    "start_time": "2024-05-29T03:48:29.407Z"
   },
   {
    "duration": 22,
    "start_time": "2024-05-29T03:48:29.467Z"
   },
   {
    "duration": 66,
    "start_time": "2024-05-29T03:48:29.491Z"
   },
   {
    "duration": 8,
    "start_time": "2024-05-29T03:48:29.560Z"
   },
   {
    "duration": 4,
    "start_time": "2024-05-29T03:48:29.571Z"
   },
   {
    "duration": 61,
    "start_time": "2024-05-29T03:48:29.578Z"
   },
   {
    "duration": 22,
    "start_time": "2024-05-29T03:48:29.643Z"
   },
   {
    "duration": 177,
    "start_time": "2024-05-29T03:48:29.669Z"
   },
   {
    "duration": 12,
    "start_time": "2024-05-29T03:48:29.850Z"
   },
   {
    "duration": 4,
    "start_time": "2024-05-29T03:48:29.867Z"
   },
   {
    "duration": 19,
    "start_time": "2024-05-29T03:48:29.875Z"
   },
   {
    "duration": 38,
    "start_time": "2024-05-29T03:48:29.897Z"
   },
   {
    "duration": 21,
    "start_time": "2024-05-29T03:48:29.938Z"
   },
   {
    "duration": 6,
    "start_time": "2024-05-29T03:48:29.962Z"
   },
   {
    "duration": 0,
    "start_time": "2024-05-29T03:48:29.971Z"
   },
   {
    "duration": 0,
    "start_time": "2024-05-29T03:48:29.973Z"
   },
   {
    "duration": 0,
    "start_time": "2024-05-29T03:48:29.975Z"
   },
   {
    "duration": 0,
    "start_time": "2024-05-29T03:48:29.978Z"
   },
   {
    "duration": 0,
    "start_time": "2024-05-29T03:48:29.979Z"
   },
   {
    "duration": 5,
    "start_time": "2024-05-29T04:03:29.800Z"
   },
   {
    "duration": 8,
    "start_time": "2024-05-29T04:03:39.681Z"
   },
   {
    "duration": 12,
    "start_time": "2024-05-29T04:04:50.676Z"
   },
   {
    "duration": 11,
    "start_time": "2024-05-29T04:10:33.110Z"
   },
   {
    "duration": 108,
    "start_time": "2024-05-29T04:10:54.899Z"
   },
   {
    "duration": 9,
    "start_time": "2024-05-29T04:12:02.981Z"
   },
   {
    "duration": 12,
    "start_time": "2024-05-29T04:12:58.163Z"
   },
   {
    "duration": 11,
    "start_time": "2024-05-29T04:13:30.718Z"
   },
   {
    "duration": 9,
    "start_time": "2024-05-29T04:13:32.317Z"
   },
   {
    "duration": 339,
    "start_time": "2024-05-29T15:12:32.801Z"
   },
   {
    "duration": 5154,
    "start_time": "2024-05-29T15:12:51.201Z"
   },
   {
    "duration": 962,
    "start_time": "2024-05-29T15:12:56.360Z"
   },
   {
    "duration": 5,
    "start_time": "2024-05-29T15:12:57.325Z"
   },
   {
    "duration": 41,
    "start_time": "2024-05-29T15:12:57.334Z"
   },
   {
    "duration": 50,
    "start_time": "2024-05-29T15:12:57.381Z"
   },
   {
    "duration": 130,
    "start_time": "2024-05-29T15:12:57.434Z"
   },
   {
    "duration": 12,
    "start_time": "2024-05-29T15:12:57.567Z"
   },
   {
    "duration": 4,
    "start_time": "2024-05-29T15:12:57.581Z"
   },
   {
    "duration": 60,
    "start_time": "2024-05-29T15:12:57.588Z"
   },
   {
    "duration": 22,
    "start_time": "2024-05-29T15:12:57.651Z"
   },
   {
    "duration": 62,
    "start_time": "2024-05-29T15:12:57.677Z"
   },
   {
    "duration": 11,
    "start_time": "2024-05-29T15:12:57.742Z"
   },
   {
    "duration": 4,
    "start_time": "2024-05-29T15:12:57.756Z"
   },
   {
    "duration": 62,
    "start_time": "2024-05-29T15:12:57.767Z"
   },
   {
    "duration": 24,
    "start_time": "2024-05-29T15:12:57.832Z"
   },
   {
    "duration": 172,
    "start_time": "2024-05-29T15:12:57.859Z"
   },
   {
    "duration": 12,
    "start_time": "2024-05-29T15:12:58.034Z"
   },
   {
    "duration": 4,
    "start_time": "2024-05-29T15:12:58.049Z"
   },
   {
    "duration": 4,
    "start_time": "2024-05-29T15:12:58.056Z"
   },
   {
    "duration": 4,
    "start_time": "2024-05-29T15:12:58.064Z"
   },
   {
    "duration": 19,
    "start_time": "2024-05-29T15:12:58.111Z"
   },
   {
    "duration": 8,
    "start_time": "2024-05-29T15:12:58.133Z"
   },
   {
    "duration": 11,
    "start_time": "2024-05-29T15:12:58.144Z"
   },
   {
    "duration": 60,
    "start_time": "2024-05-29T15:12:58.158Z"
   },
   {
    "duration": 9,
    "start_time": "2024-05-29T15:12:58.221Z"
   },
   {
    "duration": 12,
    "start_time": "2024-05-29T15:12:58.233Z"
   },
   {
    "duration": 10,
    "start_time": "2024-05-29T15:12:58.248Z"
   },
   {
    "duration": 56,
    "start_time": "2024-05-29T15:12:58.261Z"
   },
   {
    "duration": 4,
    "start_time": "2024-05-29T15:12:58.320Z"
   },
   {
    "duration": 4,
    "start_time": "2024-05-29T15:12:58.326Z"
   },
   {
    "duration": 4,
    "start_time": "2024-05-29T15:12:58.333Z"
   },
   {
    "duration": 7,
    "start_time": "2024-05-29T15:19:42.198Z"
   },
   {
    "duration": 448,
    "start_time": "2024-05-29T15:22:04.975Z"
   },
   {
    "duration": 14,
    "start_time": "2024-05-29T15:22:34.146Z"
   },
   {
    "duration": 8,
    "start_time": "2024-05-29T15:46:27.840Z"
   },
   {
    "duration": 4,
    "start_time": "2024-05-29T15:46:53.697Z"
   },
   {
    "duration": 9,
    "start_time": "2024-05-29T15:47:21.822Z"
   },
   {
    "duration": 1377,
    "start_time": "2024-05-29T15:47:48.129Z"
   },
   {
    "duration": 795,
    "start_time": "2024-05-29T15:47:49.509Z"
   },
   {
    "duration": 7,
    "start_time": "2024-05-29T15:47:50.306Z"
   },
   {
    "duration": 30,
    "start_time": "2024-05-29T15:47:50.318Z"
   },
   {
    "duration": 25,
    "start_time": "2024-05-29T15:47:50.351Z"
   },
   {
    "duration": 150,
    "start_time": "2024-05-29T15:47:50.379Z"
   },
   {
    "duration": 11,
    "start_time": "2024-05-29T15:47:50.532Z"
   },
   {
    "duration": 8,
    "start_time": "2024-05-29T15:47:50.546Z"
   },
   {
    "duration": 65,
    "start_time": "2024-05-29T15:47:50.557Z"
   },
   {
    "duration": 18,
    "start_time": "2024-05-29T15:47:50.627Z"
   },
   {
    "duration": 32,
    "start_time": "2024-05-29T15:47:50.648Z"
   },
   {
    "duration": 38,
    "start_time": "2024-05-29T15:47:50.683Z"
   },
   {
    "duration": 517,
    "start_time": "2024-05-29T15:47:50.723Z"
   },
   {
    "duration": 12,
    "start_time": "2024-05-29T15:47:51.243Z"
   },
   {
    "duration": 6,
    "start_time": "2024-05-29T15:47:51.258Z"
   },
   {
    "duration": 60,
    "start_time": "2024-05-29T15:47:51.268Z"
   },
   {
    "duration": 27,
    "start_time": "2024-05-29T15:47:51.331Z"
   },
   {
    "duration": 196,
    "start_time": "2024-05-29T15:47:51.362Z"
   },
   {
    "duration": 15,
    "start_time": "2024-05-29T15:47:51.561Z"
   },
   {
    "duration": 38,
    "start_time": "2024-05-29T15:47:51.580Z"
   },
   {
    "duration": 4,
    "start_time": "2024-05-29T15:47:51.621Z"
   },
   {
    "duration": 4,
    "start_time": "2024-05-29T15:47:51.628Z"
   },
   {
    "duration": 446,
    "start_time": "2024-05-29T15:47:51.636Z"
   },
   {
    "duration": 0,
    "start_time": "2024-05-29T15:47:52.085Z"
   },
   {
    "duration": 0,
    "start_time": "2024-05-29T15:47:52.088Z"
   },
   {
    "duration": 0,
    "start_time": "2024-05-29T15:47:52.090Z"
   },
   {
    "duration": 0,
    "start_time": "2024-05-29T15:47:52.092Z"
   },
   {
    "duration": 0,
    "start_time": "2024-05-29T15:47:52.111Z"
   },
   {
    "duration": 0,
    "start_time": "2024-05-29T15:47:52.114Z"
   },
   {
    "duration": 0,
    "start_time": "2024-05-29T15:47:52.116Z"
   },
   {
    "duration": 0,
    "start_time": "2024-05-29T15:47:52.118Z"
   },
   {
    "duration": 0,
    "start_time": "2024-05-29T15:47:52.120Z"
   },
   {
    "duration": 0,
    "start_time": "2024-05-29T15:47:52.125Z"
   },
   {
    "duration": 32,
    "start_time": "2024-05-29T17:22:26.138Z"
   },
   {
    "duration": 1525,
    "start_time": "2024-05-29T17:22:32.978Z"
   },
   {
    "duration": 874,
    "start_time": "2024-05-29T17:22:34.507Z"
   },
   {
    "duration": 3,
    "start_time": "2024-05-29T17:22:35.384Z"
   },
   {
    "duration": 47,
    "start_time": "2024-05-29T17:22:35.392Z"
   },
   {
    "duration": 25,
    "start_time": "2024-05-29T17:22:35.442Z"
   },
   {
    "duration": 143,
    "start_time": "2024-05-29T17:22:35.470Z"
   },
   {
    "duration": 14,
    "start_time": "2024-05-29T17:22:35.616Z"
   },
   {
    "duration": 15,
    "start_time": "2024-05-29T17:22:35.635Z"
   },
   {
    "duration": 67,
    "start_time": "2024-05-29T17:22:35.654Z"
   },
   {
    "duration": 19,
    "start_time": "2024-05-29T17:22:35.728Z"
   },
   {
    "duration": 63,
    "start_time": "2024-05-29T17:22:35.751Z"
   },
   {
    "duration": 11,
    "start_time": "2024-05-29T17:22:35.817Z"
   },
   {
    "duration": 559,
    "start_time": "2024-05-29T17:22:35.831Z"
   },
   {
    "duration": 26,
    "start_time": "2024-05-29T17:22:36.394Z"
   },
   {
    "duration": 7,
    "start_time": "2024-05-29T17:22:36.424Z"
   },
   {
    "duration": 30,
    "start_time": "2024-05-29T17:22:36.434Z"
   },
   {
    "duration": 60,
    "start_time": "2024-05-29T17:22:36.467Z"
   },
   {
    "duration": 185,
    "start_time": "2024-05-29T17:22:36.530Z"
   },
   {
    "duration": 16,
    "start_time": "2024-05-29T17:22:36.719Z"
   },
   {
    "duration": 11,
    "start_time": "2024-05-29T17:22:36.738Z"
   },
   {
    "duration": 3,
    "start_time": "2024-05-29T17:22:36.753Z"
   },
   {
    "duration": 9,
    "start_time": "2024-05-29T17:22:36.759Z"
   },
   {
    "duration": 510,
    "start_time": "2024-05-29T17:22:36.772Z"
   },
   {
    "duration": 0,
    "start_time": "2024-05-29T17:22:37.289Z"
   },
   {
    "duration": 0,
    "start_time": "2024-05-29T17:22:37.292Z"
   },
   {
    "duration": 0,
    "start_time": "2024-05-29T17:22:37.294Z"
   },
   {
    "duration": 0,
    "start_time": "2024-05-29T17:22:37.296Z"
   },
   {
    "duration": 0,
    "start_time": "2024-05-29T17:22:37.313Z"
   },
   {
    "duration": 0,
    "start_time": "2024-05-29T17:22:37.314Z"
   },
   {
    "duration": 0,
    "start_time": "2024-05-29T17:22:37.317Z"
   },
   {
    "duration": 0,
    "start_time": "2024-05-29T17:22:37.319Z"
   },
   {
    "duration": 0,
    "start_time": "2024-05-29T17:22:37.320Z"
   },
   {
    "duration": 0,
    "start_time": "2024-05-29T17:22:37.322Z"
   },
   {
    "duration": 0,
    "start_time": "2024-05-29T17:22:37.325Z"
   },
   {
    "duration": 3,
    "start_time": "2024-05-29T18:57:35.103Z"
   },
   {
    "duration": 4,
    "start_time": "2024-05-29T18:59:06.652Z"
   },
   {
    "duration": 28,
    "start_time": "2024-05-29T18:59:07.496Z"
   },
   {
    "duration": 3,
    "start_time": "2024-05-29T19:08:53.811Z"
   },
   {
    "duration": 4,
    "start_time": "2024-05-29T19:09:53.435Z"
   },
   {
    "duration": 1388,
    "start_time": "2024-05-29T19:10:50.832Z"
   },
   {
    "duration": 793,
    "start_time": "2024-05-29T19:10:52.224Z"
   },
   {
    "duration": 46,
    "start_time": "2024-05-29T19:10:53.020Z"
   },
   {
    "duration": 46,
    "start_time": "2024-05-29T19:10:53.071Z"
   },
   {
    "duration": 126,
    "start_time": "2024-05-29T19:10:53.121Z"
   },
   {
    "duration": 13,
    "start_time": "2024-05-29T19:10:53.251Z"
   },
   {
    "duration": 9,
    "start_time": "2024-05-29T19:10:53.266Z"
   },
   {
    "duration": 63,
    "start_time": "2024-05-29T19:10:53.278Z"
   },
   {
    "duration": 24,
    "start_time": "2024-05-29T19:10:53.344Z"
   },
   {
    "duration": 57,
    "start_time": "2024-05-29T19:10:53.377Z"
   },
   {
    "duration": 10,
    "start_time": "2024-05-29T19:10:53.437Z"
   },
   {
    "duration": 511,
    "start_time": "2024-05-29T19:10:53.450Z"
   },
   {
    "duration": 11,
    "start_time": "2024-05-29T19:10:53.964Z"
   },
   {
    "duration": 6,
    "start_time": "2024-05-29T19:10:53.978Z"
   },
   {
    "duration": 30,
    "start_time": "2024-05-29T19:10:54.014Z"
   },
   {
    "duration": 27,
    "start_time": "2024-05-29T19:10:54.047Z"
   },
   {
    "duration": 184,
    "start_time": "2024-05-29T19:10:54.076Z"
   },
   {
    "duration": 13,
    "start_time": "2024-05-29T19:10:54.263Z"
   },
   {
    "duration": 36,
    "start_time": "2024-05-29T19:10:54.279Z"
   },
   {
    "duration": 4,
    "start_time": "2024-05-29T19:10:54.318Z"
   },
   {
    "duration": 6,
    "start_time": "2024-05-29T19:10:54.325Z"
   },
   {
    "duration": 3,
    "start_time": "2024-05-29T19:10:54.335Z"
   },
   {
    "duration": 448,
    "start_time": "2024-05-29T19:10:54.341Z"
   },
   {
    "duration": 0,
    "start_time": "2024-05-29T19:10:54.792Z"
   },
   {
    "duration": 0,
    "start_time": "2024-05-29T19:10:54.794Z"
   },
   {
    "duration": 0,
    "start_time": "2024-05-29T19:10:54.796Z"
   },
   {
    "duration": 0,
    "start_time": "2024-05-29T19:10:54.813Z"
   },
   {
    "duration": 1,
    "start_time": "2024-05-29T19:10:54.815Z"
   },
   {
    "duration": 0,
    "start_time": "2024-05-29T19:10:54.817Z"
   },
   {
    "duration": 0,
    "start_time": "2024-05-29T19:10:54.819Z"
   },
   {
    "duration": 0,
    "start_time": "2024-05-29T19:10:54.820Z"
   },
   {
    "duration": 0,
    "start_time": "2024-05-29T19:10:54.822Z"
   },
   {
    "duration": 0,
    "start_time": "2024-05-29T19:10:54.825Z"
   },
   {
    "duration": 0,
    "start_time": "2024-05-29T19:10:54.827Z"
   },
   {
    "duration": 29,
    "start_time": "2024-05-29T20:34:52.313Z"
   },
   {
    "duration": 1489,
    "start_time": "2024-05-29T20:37:13.146Z"
   },
   {
    "duration": 909,
    "start_time": "2024-05-29T20:37:14.638Z"
   },
   {
    "duration": 44,
    "start_time": "2024-05-29T20:37:15.550Z"
   },
   {
    "duration": 30,
    "start_time": "2024-05-29T20:37:15.612Z"
   },
   {
    "duration": 134,
    "start_time": "2024-05-29T20:37:15.646Z"
   },
   {
    "duration": 14,
    "start_time": "2024-05-29T20:37:15.783Z"
   },
   {
    "duration": 16,
    "start_time": "2024-05-29T20:37:15.799Z"
   },
   {
    "duration": 36,
    "start_time": "2024-05-29T20:37:15.819Z"
   },
   {
    "duration": 24,
    "start_time": "2024-05-29T20:37:15.858Z"
   },
   {
    "duration": 35,
    "start_time": "2024-05-29T20:37:15.916Z"
   },
   {
    "duration": 13,
    "start_time": "2024-05-29T20:37:15.957Z"
   },
   {
    "duration": 6,
    "start_time": "2024-05-29T20:37:15.974Z"
   },
   {
    "duration": 4,
    "start_time": "2024-05-29T20:37:16.015Z"
   },
   {
    "duration": 3,
    "start_time": "2024-05-29T20:37:16.024Z"
   },
   {
    "duration": 30,
    "start_time": "2024-05-29T20:37:16.031Z"
   },
   {
    "duration": 64,
    "start_time": "2024-05-29T20:37:16.065Z"
   },
   {
    "duration": 170,
    "start_time": "2024-05-29T20:37:16.133Z"
   },
   {
    "duration": 17,
    "start_time": "2024-05-29T20:37:16.314Z"
   },
   {
    "duration": 4,
    "start_time": "2024-05-29T20:37:16.337Z"
   },
   {
    "duration": 4,
    "start_time": "2024-05-29T20:37:16.345Z"
   },
   {
    "duration": 7,
    "start_time": "2024-05-29T20:37:16.351Z"
   },
   {
    "duration": 61,
    "start_time": "2024-05-29T20:37:16.363Z"
   },
   {
    "duration": 5,
    "start_time": "2024-05-29T20:37:16.428Z"
   },
   {
    "duration": 10,
    "start_time": "2024-05-29T20:37:16.435Z"
   },
   {
    "duration": 14,
    "start_time": "2024-05-29T20:37:16.448Z"
   },
   {
    "duration": 53,
    "start_time": "2024-05-29T20:37:16.465Z"
   },
   {
    "duration": 9,
    "start_time": "2024-05-29T20:37:16.524Z"
   },
   {
    "duration": 13,
    "start_time": "2024-05-29T20:37:16.542Z"
   },
   {
    "duration": 10,
    "start_time": "2024-05-29T20:37:16.561Z"
   },
   {
    "duration": 49,
    "start_time": "2024-05-29T20:37:16.574Z"
   },
   {
    "duration": 6,
    "start_time": "2024-05-29T20:37:16.626Z"
   },
   {
    "duration": 4,
    "start_time": "2024-05-29T20:37:16.635Z"
   },
   {
    "duration": 4,
    "start_time": "2024-05-29T20:37:16.643Z"
   },
   {
    "duration": 4,
    "start_time": "2024-05-29T20:37:16.651Z"
   },
   {
    "duration": 498,
    "start_time": "2024-05-29T20:39:41.033Z"
   },
   {
    "duration": 7,
    "start_time": "2024-05-29T20:39:47.833Z"
   },
   {
    "duration": 9,
    "start_time": "2024-05-29T20:39:57.865Z"
   },
   {
    "duration": 11,
    "start_time": "2024-05-29T20:40:25.391Z"
   },
   {
    "duration": 13,
    "start_time": "2024-05-29T20:40:36.412Z"
   },
   {
    "duration": 6,
    "start_time": "2024-05-29T22:06:22.381Z"
   },
   {
    "duration": 1377,
    "start_time": "2024-05-29T22:06:37.333Z"
   },
   {
    "duration": 854,
    "start_time": "2024-05-29T22:06:38.713Z"
   },
   {
    "duration": 46,
    "start_time": "2024-05-29T22:06:39.570Z"
   },
   {
    "duration": 24,
    "start_time": "2024-05-29T22:06:39.620Z"
   },
   {
    "duration": 127,
    "start_time": "2024-05-29T22:06:39.647Z"
   },
   {
    "duration": 14,
    "start_time": "2024-05-29T22:06:39.777Z"
   },
   {
    "duration": 23,
    "start_time": "2024-05-29T22:06:39.793Z"
   },
   {
    "duration": 33,
    "start_time": "2024-05-29T22:06:39.819Z"
   },
   {
    "duration": 23,
    "start_time": "2024-05-29T22:06:39.861Z"
   },
   {
    "duration": 33,
    "start_time": "2024-05-29T22:06:39.914Z"
   },
   {
    "duration": 12,
    "start_time": "2024-05-29T22:06:39.950Z"
   },
   {
    "duration": 4,
    "start_time": "2024-05-29T22:06:39.966Z"
   },
   {
    "duration": 39,
    "start_time": "2024-05-29T22:06:39.974Z"
   },
   {
    "duration": 5,
    "start_time": "2024-05-29T22:06:40.017Z"
   },
   {
    "duration": 29,
    "start_time": "2024-05-29T22:06:40.026Z"
   },
   {
    "duration": 62,
    "start_time": "2024-05-29T22:06:40.059Z"
   },
   {
    "duration": 216,
    "start_time": "2024-05-29T22:06:40.125Z"
   },
   {
    "duration": 16,
    "start_time": "2024-05-29T22:06:40.348Z"
   },
   {
    "duration": 4,
    "start_time": "2024-05-29T22:06:40.368Z"
   },
   {
    "duration": 5,
    "start_time": "2024-05-29T22:06:40.381Z"
   },
   {
    "duration": 24,
    "start_time": "2024-05-29T22:06:40.389Z"
   },
   {
    "duration": 22,
    "start_time": "2024-05-29T22:06:40.417Z"
   },
   {
    "duration": 4,
    "start_time": "2024-05-29T22:06:40.442Z"
   },
   {
    "duration": 10,
    "start_time": "2024-05-29T22:06:40.451Z"
   },
   {
    "duration": 54,
    "start_time": "2024-05-29T22:06:40.467Z"
   },
   {
    "duration": 12,
    "start_time": "2024-05-29T22:06:40.525Z"
   },
   {
    "duration": 22,
    "start_time": "2024-05-29T22:06:40.540Z"
   },
   {
    "duration": 43,
    "start_time": "2024-05-29T22:06:40.569Z"
   },
   {
    "duration": 12,
    "start_time": "2024-05-29T22:06:40.616Z"
   },
   {
    "duration": 11,
    "start_time": "2024-05-29T22:06:40.631Z"
   },
   {
    "duration": 14,
    "start_time": "2024-05-29T22:06:40.645Z"
   },
   {
    "duration": 48,
    "start_time": "2024-05-29T22:06:40.664Z"
   },
   {
    "duration": 7,
    "start_time": "2024-05-29T22:06:40.717Z"
   },
   {
    "duration": 5,
    "start_time": "2024-05-29T22:06:40.727Z"
   },
   {
    "duration": 4,
    "start_time": "2024-05-29T22:06:40.736Z"
   },
   {
    "duration": 5,
    "start_time": "2024-05-29T22:06:40.743Z"
   },
   {
    "duration": 4,
    "start_time": "2024-05-29T22:06:40.751Z"
   },
   {
    "duration": 526,
    "start_time": "2024-05-29T23:47:04.217Z"
   },
   {
    "duration": 1506,
    "start_time": "2024-05-29T23:47:10.844Z"
   },
   {
    "duration": 876,
    "start_time": "2024-05-29T23:47:12.354Z"
   },
   {
    "duration": 33,
    "start_time": "2024-05-29T23:47:13.245Z"
   },
   {
    "duration": 23,
    "start_time": "2024-05-29T23:47:13.282Z"
   },
   {
    "duration": 122,
    "start_time": "2024-05-29T23:47:13.325Z"
   },
   {
    "duration": 15,
    "start_time": "2024-05-29T23:47:13.450Z"
   },
   {
    "duration": 3,
    "start_time": "2024-05-29T23:47:13.468Z"
   },
   {
    "duration": 64,
    "start_time": "2024-05-29T23:47:13.474Z"
   },
   {
    "duration": 21,
    "start_time": "2024-05-29T23:47:13.541Z"
   },
   {
    "duration": 46,
    "start_time": "2024-05-29T23:47:13.568Z"
   },
   {
    "duration": 12,
    "start_time": "2024-05-29T23:47:13.617Z"
   },
   {
    "duration": 3,
    "start_time": "2024-05-29T23:47:13.633Z"
   },
   {
    "duration": 15,
    "start_time": "2024-05-29T23:47:13.642Z"
   },
   {
    "duration": 29,
    "start_time": "2024-05-29T23:47:13.660Z"
   },
   {
    "duration": 46,
    "start_time": "2024-05-29T23:47:13.716Z"
   },
   {
    "duration": 179,
    "start_time": "2024-05-29T23:47:13.766Z"
   },
   {
    "duration": 17,
    "start_time": "2024-05-29T23:47:13.953Z"
   },
   {
    "duration": 4,
    "start_time": "2024-05-29T23:47:13.973Z"
   },
   {
    "duration": 4,
    "start_time": "2024-05-29T23:47:13.980Z"
   },
   {
    "duration": 36,
    "start_time": "2024-05-29T23:47:13.987Z"
   },
   {
    "duration": 19,
    "start_time": "2024-05-29T23:47:14.027Z"
   },
   {
    "duration": 5,
    "start_time": "2024-05-29T23:47:14.053Z"
   },
   {
    "duration": 8,
    "start_time": "2024-05-29T23:47:14.061Z"
   },
   {
    "duration": 46,
    "start_time": "2024-05-29T23:47:14.072Z"
   },
   {
    "duration": 20,
    "start_time": "2024-05-29T23:47:14.125Z"
   },
   {
    "duration": 20,
    "start_time": "2024-05-29T23:47:14.149Z"
   },
   {
    "duration": 8,
    "start_time": "2024-05-29T23:47:14.172Z"
   },
   {
    "duration": 45,
    "start_time": "2024-05-29T23:47:14.187Z"
   },
   {
    "duration": 9,
    "start_time": "2024-05-29T23:47:14.236Z"
   },
   {
    "duration": 13,
    "start_time": "2024-05-29T23:47:14.248Z"
   },
   {
    "duration": 4,
    "start_time": "2024-05-29T23:47:14.264Z"
   },
   {
    "duration": 567,
    "start_time": "2024-05-29T23:47:14.272Z"
   },
   {
    "duration": 0,
    "start_time": "2024-05-29T23:47:14.842Z"
   },
   {
    "duration": 0,
    "start_time": "2024-05-29T23:47:14.844Z"
   },
   {
    "duration": 0,
    "start_time": "2024-05-29T23:47:14.846Z"
   },
   {
    "duration": 0,
    "start_time": "2024-05-29T23:47:14.848Z"
   },
   {
    "duration": 0,
    "start_time": "2024-05-29T23:47:14.850Z"
   },
   {
    "duration": 4,
    "start_time": "2024-05-29T23:47:30.183Z"
   },
   {
    "duration": 52,
    "start_time": "2024-05-29T23:47:31.886Z"
   },
   {
    "duration": 6,
    "start_time": "2024-05-29T23:47:46.000Z"
   },
   {
    "duration": 40,
    "start_time": "2024-05-29T23:47:48.129Z"
   },
   {
    "duration": 1352,
    "start_time": "2024-05-29T23:47:58.672Z"
   },
   {
    "duration": 827,
    "start_time": "2024-05-29T23:48:00.028Z"
   },
   {
    "duration": 32,
    "start_time": "2024-05-29T23:48:00.857Z"
   },
   {
    "duration": 37,
    "start_time": "2024-05-29T23:48:00.893Z"
   },
   {
    "duration": 128,
    "start_time": "2024-05-29T23:48:00.933Z"
   },
   {
    "duration": 11,
    "start_time": "2024-05-29T23:48:01.064Z"
   },
   {
    "duration": 3,
    "start_time": "2024-05-29T23:48:01.078Z"
   },
   {
    "duration": 53,
    "start_time": "2024-05-29T23:48:01.084Z"
   },
   {
    "duration": 18,
    "start_time": "2024-05-29T23:48:01.140Z"
   },
   {
    "duration": 65,
    "start_time": "2024-05-29T23:48:01.165Z"
   },
   {
    "duration": 10,
    "start_time": "2024-05-29T23:48:01.233Z"
   },
   {
    "duration": 6,
    "start_time": "2024-05-29T23:48:01.246Z"
   },
   {
    "duration": 5,
    "start_time": "2024-05-29T23:48:01.255Z"
   },
   {
    "duration": 61,
    "start_time": "2024-05-29T23:48:01.263Z"
   },
   {
    "duration": 24,
    "start_time": "2024-05-29T23:48:01.327Z"
   },
   {
    "duration": 177,
    "start_time": "2024-05-29T23:48:01.353Z"
   },
   {
    "duration": 14,
    "start_time": "2024-05-29T23:48:01.533Z"
   },
   {
    "duration": 3,
    "start_time": "2024-05-29T23:48:01.550Z"
   },
   {
    "duration": 3,
    "start_time": "2024-05-29T23:48:01.557Z"
   },
   {
    "duration": 5,
    "start_time": "2024-05-29T23:48:01.563Z"
   },
   {
    "duration": 55,
    "start_time": "2024-05-29T23:48:01.571Z"
   },
   {
    "duration": 4,
    "start_time": "2024-05-29T23:48:01.628Z"
   },
   {
    "duration": 8,
    "start_time": "2024-05-29T23:48:01.635Z"
   },
   {
    "duration": 11,
    "start_time": "2024-05-29T23:48:01.647Z"
   },
   {
    "duration": 56,
    "start_time": "2024-05-29T23:48:01.661Z"
   },
   {
    "duration": 21,
    "start_time": "2024-05-29T23:48:01.720Z"
   },
   {
    "duration": 10,
    "start_time": "2024-05-29T23:48:01.744Z"
   },
   {
    "duration": 11,
    "start_time": "2024-05-29T23:48:01.765Z"
   },
   {
    "duration": 8,
    "start_time": "2024-05-29T23:48:01.814Z"
   },
   {
    "duration": 12,
    "start_time": "2024-05-29T23:48:01.825Z"
   },
   {
    "duration": 5,
    "start_time": "2024-05-29T23:48:01.840Z"
   },
   {
    "duration": 532,
    "start_time": "2024-05-29T23:48:01.849Z"
   },
   {
    "duration": 0,
    "start_time": "2024-05-29T23:48:02.384Z"
   },
   {
    "duration": 0,
    "start_time": "2024-05-29T23:48:02.385Z"
   },
   {
    "duration": 0,
    "start_time": "2024-05-29T23:48:02.388Z"
   },
   {
    "duration": 0,
    "start_time": "2024-05-29T23:48:02.391Z"
   },
   {
    "duration": 0,
    "start_time": "2024-05-29T23:48:02.394Z"
   },
   {
    "duration": 6,
    "start_time": "2024-05-30T00:02:26.111Z"
   },
   {
    "duration": 876,
    "start_time": "2024-05-30T00:02:27.917Z"
   },
   {
    "duration": 6,
    "start_time": "2024-05-30T00:04:44.269Z"
   },
   {
    "duration": 362,
    "start_time": "2024-05-30T00:04:46.450Z"
   },
   {
    "duration": 7,
    "start_time": "2024-05-30T00:06:39.707Z"
   },
   {
    "duration": 331,
    "start_time": "2024-05-30T00:06:41.520Z"
   },
   {
    "duration": 335,
    "start_time": "2024-05-30T00:09:17.556Z"
   },
   {
    "duration": 337,
    "start_time": "2024-05-30T00:09:32.436Z"
   },
   {
    "duration": 330,
    "start_time": "2024-05-30T00:09:35.011Z"
   },
   {
    "duration": 17,
    "start_time": "2024-05-30T00:42:11.324Z"
   },
   {
    "duration": 15,
    "start_time": "2024-05-30T00:42:12.865Z"
   },
   {
    "duration": 3,
    "start_time": "2024-05-30T00:42:13.769Z"
   },
   {
    "duration": 16,
    "start_time": "2024-05-30T00:42:15.145Z"
   },
   {
    "duration": 1389,
    "start_time": "2024-05-30T00:42:24.209Z"
   },
   {
    "duration": 820,
    "start_time": "2024-05-30T00:42:25.602Z"
   },
   {
    "duration": 35,
    "start_time": "2024-05-30T00:42:26.425Z"
   },
   {
    "duration": 24,
    "start_time": "2024-05-30T00:42:26.463Z"
   },
   {
    "duration": 116,
    "start_time": "2024-05-30T00:42:26.512Z"
   },
   {
    "duration": 12,
    "start_time": "2024-05-30T00:42:26.631Z"
   },
   {
    "duration": 3,
    "start_time": "2024-05-30T00:42:26.646Z"
   },
   {
    "duration": 61,
    "start_time": "2024-05-30T00:42:26.652Z"
   },
   {
    "duration": 23,
    "start_time": "2024-05-30T00:42:26.716Z"
   },
   {
    "duration": 70,
    "start_time": "2024-05-30T00:42:26.742Z"
   },
   {
    "duration": 11,
    "start_time": "2024-05-30T00:42:26.815Z"
   },
   {
    "duration": 6,
    "start_time": "2024-05-30T00:42:26.829Z"
   },
   {
    "duration": 3,
    "start_time": "2024-05-30T00:42:26.838Z"
   },
   {
    "duration": 62,
    "start_time": "2024-05-30T00:42:26.850Z"
   },
   {
    "duration": 28,
    "start_time": "2024-05-30T00:42:26.916Z"
   },
   {
    "duration": 172,
    "start_time": "2024-05-30T00:42:26.946Z"
   },
   {
    "duration": 11,
    "start_time": "2024-05-30T00:42:27.121Z"
   },
   {
    "duration": 3,
    "start_time": "2024-05-30T00:42:27.136Z"
   },
   {
    "duration": 4,
    "start_time": "2024-05-30T00:42:27.142Z"
   },
   {
    "duration": 4,
    "start_time": "2024-05-30T00:42:27.149Z"
   },
   {
    "duration": 519,
    "start_time": "2024-05-30T00:42:27.156Z"
   },
   {
    "duration": 0,
    "start_time": "2024-05-30T00:42:27.678Z"
   },
   {
    "duration": 0,
    "start_time": "2024-05-30T00:42:27.680Z"
   },
   {
    "duration": 0,
    "start_time": "2024-05-30T00:42:27.682Z"
   },
   {
    "duration": 0,
    "start_time": "2024-05-30T00:42:27.684Z"
   },
   {
    "duration": 0,
    "start_time": "2024-05-30T00:42:27.686Z"
   },
   {
    "duration": 0,
    "start_time": "2024-05-30T00:42:27.688Z"
   },
   {
    "duration": 0,
    "start_time": "2024-05-30T00:42:27.689Z"
   },
   {
    "duration": 0,
    "start_time": "2024-05-30T00:42:27.691Z"
   },
   {
    "duration": 0,
    "start_time": "2024-05-30T00:42:27.714Z"
   },
   {
    "duration": 0,
    "start_time": "2024-05-30T00:42:27.716Z"
   },
   {
    "duration": 0,
    "start_time": "2024-05-30T00:42:27.719Z"
   },
   {
    "duration": 0,
    "start_time": "2024-05-30T00:42:27.722Z"
   },
   {
    "duration": 0,
    "start_time": "2024-05-30T00:42:27.724Z"
   },
   {
    "duration": 0,
    "start_time": "2024-05-30T00:42:27.726Z"
   },
   {
    "duration": 0,
    "start_time": "2024-05-30T00:42:27.729Z"
   },
   {
    "duration": 0,
    "start_time": "2024-05-30T00:42:27.733Z"
   },
   {
    "duration": 0,
    "start_time": "2024-05-30T00:42:27.735Z"
   },
   {
    "duration": 1,
    "start_time": "2024-05-30T00:42:27.736Z"
   },
   {
    "duration": 5,
    "start_time": "2024-05-30T00:42:44.633Z"
   },
   {
    "duration": 18,
    "start_time": "2024-05-30T00:42:45.761Z"
   },
   {
    "duration": 9,
    "start_time": "2024-05-30T00:42:53.936Z"
   },
   {
    "duration": 12,
    "start_time": "2024-05-30T00:42:55.855Z"
   },
   {
    "duration": 11,
    "start_time": "2024-05-30T00:42:56.412Z"
   },
   {
    "duration": 18,
    "start_time": "2024-05-30T00:42:59.700Z"
   },
   {
    "duration": 9,
    "start_time": "2024-05-30T00:43:00.160Z"
   },
   {
    "duration": 12,
    "start_time": "2024-05-30T00:43:00.609Z"
   },
   {
    "duration": 9,
    "start_time": "2024-05-30T00:43:01.096Z"
   },
   {
    "duration": 11,
    "start_time": "2024-05-30T00:43:01.567Z"
   },
   {
    "duration": 5,
    "start_time": "2024-05-30T00:43:04.057Z"
   },
   {
    "duration": 368,
    "start_time": "2024-05-30T00:43:05.079Z"
   },
   {
    "duration": 405,
    "start_time": "2024-05-30T00:43:06.784Z"
   },
   {
    "duration": 351,
    "start_time": "2024-05-30T00:43:08.472Z"
   },
   {
    "duration": 1431,
    "start_time": "2024-05-30T00:43:15.406Z"
   },
   {
    "duration": 796,
    "start_time": "2024-05-30T00:43:16.841Z"
   },
   {
    "duration": 31,
    "start_time": "2024-05-30T00:43:17.639Z"
   },
   {
    "duration": 47,
    "start_time": "2024-05-30T00:43:17.674Z"
   },
   {
    "duration": 120,
    "start_time": "2024-05-30T00:43:17.726Z"
   },
   {
    "duration": 13,
    "start_time": "2024-05-30T00:43:17.849Z"
   },
   {
    "duration": 4,
    "start_time": "2024-05-30T00:43:17.865Z"
   },
   {
    "duration": 55,
    "start_time": "2024-05-30T00:43:17.873Z"
   },
   {
    "duration": 18,
    "start_time": "2024-05-30T00:43:17.931Z"
   },
   {
    "duration": 61,
    "start_time": "2024-05-30T00:43:17.952Z"
   },
   {
    "duration": 9,
    "start_time": "2024-05-30T00:43:18.019Z"
   },
   {
    "duration": 4,
    "start_time": "2024-05-30T00:43:18.030Z"
   },
   {
    "duration": 4,
    "start_time": "2024-05-30T00:43:18.037Z"
   },
   {
    "duration": 64,
    "start_time": "2024-05-30T00:43:18.051Z"
   },
   {
    "duration": 23,
    "start_time": "2024-05-30T00:43:18.118Z"
   },
   {
    "duration": 174,
    "start_time": "2024-05-30T00:43:18.144Z"
   },
   {
    "duration": 14,
    "start_time": "2024-05-30T00:43:18.321Z"
   },
   {
    "duration": 3,
    "start_time": "2024-05-30T00:43:18.338Z"
   },
   {
    "duration": 3,
    "start_time": "2024-05-30T00:43:18.344Z"
   },
   {
    "duration": 5,
    "start_time": "2024-05-30T00:43:18.351Z"
   },
   {
    "duration": 63,
    "start_time": "2024-05-30T00:43:18.358Z"
   },
   {
    "duration": 3,
    "start_time": "2024-05-30T00:43:18.425Z"
   },
   {
    "duration": 7,
    "start_time": "2024-05-30T00:43:18.432Z"
   },
   {
    "duration": 11,
    "start_time": "2024-05-30T00:43:18.443Z"
   },
   {
    "duration": 57,
    "start_time": "2024-05-30T00:43:18.458Z"
   },
   {
    "duration": 21,
    "start_time": "2024-05-30T00:43:18.518Z"
   },
   {
    "duration": 9,
    "start_time": "2024-05-30T00:43:18.541Z"
   },
   {
    "duration": 15,
    "start_time": "2024-05-30T00:43:18.553Z"
   },
   {
    "duration": 47,
    "start_time": "2024-05-30T00:43:18.571Z"
   },
   {
    "duration": 14,
    "start_time": "2024-05-30T00:43:18.621Z"
   },
   {
    "duration": 5,
    "start_time": "2024-05-30T00:43:18.638Z"
   },
   {
    "duration": 444,
    "start_time": "2024-05-30T00:43:18.647Z"
   },
   {
    "duration": 381,
    "start_time": "2024-05-30T00:43:19.095Z"
   },
   {
    "duration": 339,
    "start_time": "2024-05-30T00:43:19.479Z"
   },
   {
    "duration": 6,
    "start_time": "2024-05-30T00:43:19.821Z"
   },
   {
    "duration": 8,
    "start_time": "2024-05-30T00:43:19.830Z"
   },
   {
    "duration": 4,
    "start_time": "2024-05-30T00:43:19.842Z"
   },
   {
    "duration": 4,
    "start_time": "2024-05-30T00:43:19.849Z"
   },
   {
    "duration": 4,
    "start_time": "2024-05-30T00:43:19.856Z"
   },
   {
    "duration": 12,
    "start_time": "2024-05-30T00:49:33.951Z"
   },
   {
    "duration": 12,
    "start_time": "2024-05-30T00:49:36.600Z"
   },
   {
    "duration": 1409,
    "start_time": "2024-05-30T00:49:44.609Z"
   },
   {
    "duration": 852,
    "start_time": "2024-05-30T00:49:46.023Z"
   },
   {
    "duration": 39,
    "start_time": "2024-05-30T00:49:46.878Z"
   },
   {
    "duration": 22,
    "start_time": "2024-05-30T00:49:46.921Z"
   },
   {
    "duration": 129,
    "start_time": "2024-05-30T00:49:46.948Z"
   },
   {
    "duration": 34,
    "start_time": "2024-05-30T00:49:47.081Z"
   },
   {
    "duration": 3,
    "start_time": "2024-05-30T00:49:47.118Z"
   },
   {
    "duration": 27,
    "start_time": "2024-05-30T00:49:47.125Z"
   },
   {
    "duration": 19,
    "start_time": "2024-05-30T00:49:47.155Z"
   },
   {
    "duration": 67,
    "start_time": "2024-05-30T00:49:47.176Z"
   },
   {
    "duration": 11,
    "start_time": "2024-05-30T00:49:47.246Z"
   },
   {
    "duration": 3,
    "start_time": "2024-05-30T00:49:47.260Z"
   },
   {
    "duration": 3,
    "start_time": "2024-05-30T00:49:47.267Z"
   },
   {
    "duration": 28,
    "start_time": "2024-05-30T00:49:47.320Z"
   },
   {
    "duration": 25,
    "start_time": "2024-05-30T00:49:47.352Z"
   },
   {
    "duration": 156,
    "start_time": "2024-05-30T00:49:47.412Z"
   },
   {
    "duration": 12,
    "start_time": "2024-05-30T00:49:47.571Z"
   },
   {
    "duration": 3,
    "start_time": "2024-05-30T00:49:47.586Z"
   },
   {
    "duration": 4,
    "start_time": "2024-05-30T00:49:47.611Z"
   },
   {
    "duration": 5,
    "start_time": "2024-05-30T00:49:47.619Z"
   },
   {
    "duration": 18,
    "start_time": "2024-05-30T00:49:47.627Z"
   },
   {
    "duration": 4,
    "start_time": "2024-05-30T00:49:47.647Z"
   },
   {
    "duration": 58,
    "start_time": "2024-05-30T00:49:47.655Z"
   },
   {
    "duration": 11,
    "start_time": "2024-05-30T00:49:47.717Z"
   },
   {
    "duration": 11,
    "start_time": "2024-05-30T00:49:47.730Z"
   },
   {
    "duration": 20,
    "start_time": "2024-05-30T00:49:47.744Z"
   },
   {
    "duration": 50,
    "start_time": "2024-05-30T00:49:47.768Z"
   },
   {
    "duration": 12,
    "start_time": "2024-05-30T00:49:47.821Z"
   },
   {
    "duration": 8,
    "start_time": "2024-05-30T00:49:47.836Z"
   },
   {
    "duration": 11,
    "start_time": "2024-05-30T00:49:47.847Z"
   },
   {
    "duration": 5,
    "start_time": "2024-05-30T00:49:47.861Z"
   },
   {
    "duration": 422,
    "start_time": "2024-05-30T00:49:47.914Z"
   },
   {
    "duration": 373,
    "start_time": "2024-05-30T00:49:48.339Z"
   },
   {
    "duration": 336,
    "start_time": "2024-05-30T00:49:48.715Z"
   },
   {
    "duration": 12,
    "start_time": "2024-05-30T00:49:49.055Z"
   },
   {
    "duration": 42,
    "start_time": "2024-05-30T00:49:49.070Z"
   },
   {
    "duration": 6,
    "start_time": "2024-05-30T00:49:49.115Z"
   },
   {
    "duration": 5,
    "start_time": "2024-05-30T00:49:49.124Z"
   },
   {
    "duration": 4,
    "start_time": "2024-05-30T00:49:49.132Z"
   },
   {
    "duration": 4,
    "start_time": "2024-05-30T00:49:49.140Z"
   },
   {
    "duration": 3,
    "start_time": "2024-05-30T00:49:49.152Z"
   },
   {
    "duration": 839,
    "start_time": "2024-05-30T00:52:18.289Z"
   },
   {
    "duration": 11,
    "start_time": "2024-05-30T00:52:19.224Z"
   },
   {
    "duration": 494,
    "start_time": "2024-05-30T00:52:21.185Z"
   },
   {
    "duration": 1150,
    "start_time": "2024-05-30T00:55:43.006Z"
   },
   {
    "duration": 1106,
    "start_time": "2024-05-30T00:56:41.672Z"
   },
   {
    "duration": 1090,
    "start_time": "2024-05-30T00:57:08.153Z"
   },
   {
    "duration": 320,
    "start_time": "2024-05-30T15:57:42.855Z"
   },
   {
    "duration": 5312,
    "start_time": "2024-05-30T15:57:52.193Z"
   },
   {
    "duration": 994,
    "start_time": "2024-05-30T15:57:57.510Z"
   },
   {
    "duration": 41,
    "start_time": "2024-05-30T15:57:58.506Z"
   },
   {
    "duration": 26,
    "start_time": "2024-05-30T15:57:58.550Z"
   },
   {
    "duration": 125,
    "start_time": "2024-05-30T15:57:58.582Z"
   },
   {
    "duration": 22,
    "start_time": "2024-05-30T15:57:58.710Z"
   },
   {
    "duration": 5,
    "start_time": "2024-05-30T15:57:58.734Z"
   },
   {
    "duration": 33,
    "start_time": "2024-05-30T15:57:58.743Z"
   },
   {
    "duration": 55,
    "start_time": "2024-05-30T15:57:58.779Z"
   },
   {
    "duration": 35,
    "start_time": "2024-05-30T15:57:58.837Z"
   },
   {
    "duration": 10,
    "start_time": "2024-05-30T15:57:58.875Z"
   },
   {
    "duration": 4,
    "start_time": "2024-05-30T15:57:58.888Z"
   },
   {
    "duration": 38,
    "start_time": "2024-05-30T15:57:58.895Z"
   },
   {
    "duration": 37,
    "start_time": "2024-05-30T15:57:58.942Z"
   },
   {
    "duration": 55,
    "start_time": "2024-05-30T15:57:58.983Z"
   },
   {
    "duration": 157,
    "start_time": "2024-05-30T15:57:59.041Z"
   },
   {
    "duration": 12,
    "start_time": "2024-05-30T15:57:59.201Z"
   },
   {
    "duration": 4,
    "start_time": "2024-05-30T15:57:59.231Z"
   },
   {
    "duration": 4,
    "start_time": "2024-05-30T15:57:59.239Z"
   },
   {
    "duration": 7,
    "start_time": "2024-05-30T15:57:59.246Z"
   },
   {
    "duration": 20,
    "start_time": "2024-05-30T15:57:59.256Z"
   },
   {
    "duration": 4,
    "start_time": "2024-05-30T15:57:59.279Z"
   },
   {
    "duration": 8,
    "start_time": "2024-05-30T15:57:59.332Z"
   },
   {
    "duration": 16,
    "start_time": "2024-05-30T15:57:59.342Z"
   },
   {
    "duration": 12,
    "start_time": "2024-05-30T15:57:59.361Z"
   },
   {
    "duration": 64,
    "start_time": "2024-05-30T15:57:59.376Z"
   },
   {
    "duration": 9,
    "start_time": "2024-05-30T15:57:59.443Z"
   },
   {
    "duration": 13,
    "start_time": "2024-05-30T15:57:59.454Z"
   },
   {
    "duration": 10,
    "start_time": "2024-05-30T15:57:59.470Z"
   },
   {
    "duration": 52,
    "start_time": "2024-05-30T15:57:59.482Z"
   },
   {
    "duration": 5,
    "start_time": "2024-05-30T15:57:59.537Z"
   },
   {
    "duration": 372,
    "start_time": "2024-05-30T15:57:59.546Z"
   },
   {
    "duration": 346,
    "start_time": "2024-05-30T15:57:59.930Z"
   },
   {
    "duration": 362,
    "start_time": "2024-05-30T15:58:00.278Z"
   },
   {
    "duration": 11,
    "start_time": "2024-05-30T15:58:00.643Z"
   },
   {
    "duration": 12,
    "start_time": "2024-05-30T15:58:00.657Z"
   },
   {
    "duration": 1182,
    "start_time": "2024-05-30T15:58:00.673Z"
   },
   {
    "duration": 26,
    "start_time": "2024-05-30T15:58:01.858Z"
   },
   {
    "duration": 6,
    "start_time": "2024-05-30T15:58:01.887Z"
   },
   {
    "duration": 4,
    "start_time": "2024-05-30T15:58:01.896Z"
   },
   {
    "duration": 3,
    "start_time": "2024-05-30T15:58:01.938Z"
   },
   {
    "duration": 4,
    "start_time": "2024-05-30T15:58:01.944Z"
   },
   {
    "duration": 3,
    "start_time": "2024-05-30T15:58:01.951Z"
   },
   {
    "duration": 16,
    "start_time": "2024-05-30T16:00:15.065Z"
   },
   {
    "duration": 14,
    "start_time": "2024-05-30T16:00:24.995Z"
   },
   {
    "duration": 21,
    "start_time": "2024-05-30T16:00:40.141Z"
   },
   {
    "duration": 11,
    "start_time": "2024-05-30T16:00:43.596Z"
   },
   {
    "duration": 13,
    "start_time": "2024-05-30T16:01:16.058Z"
   },
   {
    "duration": 12,
    "start_time": "2024-05-30T16:03:04.418Z"
   },
   {
    "duration": 15,
    "start_time": "2024-05-30T16:03:11.041Z"
   },
   {
    "duration": 9,
    "start_time": "2024-05-30T16:03:19.550Z"
   },
   {
    "duration": 16,
    "start_time": "2024-05-30T16:03:25.031Z"
   },
   {
    "duration": 13,
    "start_time": "2024-05-30T16:04:13.744Z"
   },
   {
    "duration": 13,
    "start_time": "2024-05-30T16:04:17.449Z"
   },
   {
    "duration": 10,
    "start_time": "2024-05-30T16:04:27.166Z"
   },
   {
    "duration": 35,
    "start_time": "2024-05-30T16:04:33.948Z"
   },
   {
    "duration": 12,
    "start_time": "2024-05-30T16:04:50.969Z"
   },
   {
    "duration": 25,
    "start_time": "2024-05-30T16:06:17.290Z"
   },
   {
    "duration": 12,
    "start_time": "2024-05-30T16:06:17.319Z"
   },
   {
    "duration": 14,
    "start_time": "2024-05-30T16:06:17.334Z"
   },
   {
    "duration": 13,
    "start_time": "2024-05-30T16:06:17.351Z"
   },
   {
    "duration": 6,
    "start_time": "2024-05-30T16:06:17.369Z"
   },
   {
    "duration": 4,
    "start_time": "2024-05-30T16:06:17.378Z"
   },
   {
    "duration": 4,
    "start_time": "2024-05-30T16:06:17.384Z"
   },
   {
    "duration": 4,
    "start_time": "2024-05-30T16:06:17.430Z"
   },
   {
    "duration": 3,
    "start_time": "2024-05-30T16:06:17.437Z"
   },
   {
    "duration": 21,
    "start_time": "2024-05-30T16:06:30.423Z"
   },
   {
    "duration": 521,
    "start_time": "2024-05-30T16:07:12.072Z"
   },
   {
    "duration": 199,
    "start_time": "2024-05-30T16:08:52.935Z"
   },
   {
    "duration": 248,
    "start_time": "2024-05-30T16:10:37.563Z"
   },
   {
    "duration": 214,
    "start_time": "2024-05-30T16:10:46.727Z"
   },
   {
    "duration": 21,
    "start_time": "2024-05-30T16:19:06.304Z"
   },
   {
    "duration": 14,
    "start_time": "2024-05-30T16:19:06.329Z"
   },
   {
    "duration": 223,
    "start_time": "2024-05-30T16:19:06.345Z"
   },
   {
    "duration": 13,
    "start_time": "2024-05-30T16:19:06.571Z"
   },
   {
    "duration": 202,
    "start_time": "2024-05-30T16:19:06.590Z"
   },
   {
    "duration": 13,
    "start_time": "2024-05-30T16:19:06.798Z"
   },
   {
    "duration": 246,
    "start_time": "2024-05-30T16:19:06.814Z"
   },
   {
    "duration": 7,
    "start_time": "2024-05-30T16:19:07.063Z"
   },
   {
    "duration": 4,
    "start_time": "2024-05-30T16:19:07.074Z"
   },
   {
    "duration": 5,
    "start_time": "2024-05-30T16:19:07.082Z"
   },
   {
    "duration": 42,
    "start_time": "2024-05-30T16:19:07.091Z"
   },
   {
    "duration": 4,
    "start_time": "2024-05-30T16:19:07.136Z"
   },
   {
    "duration": 11,
    "start_time": "2024-05-30T18:23:38.103Z"
   },
   {
    "duration": 414,
    "start_time": "2024-05-30T18:23:43.069Z"
   },
   {
    "duration": 24,
    "start_time": "2024-05-30T18:23:55.439Z"
   },
   {
    "duration": 24,
    "start_time": "2024-05-30T18:36:07.785Z"
   },
   {
    "duration": 4,
    "start_time": "2024-05-30T18:37:29.307Z"
   },
   {
    "duration": 23,
    "start_time": "2024-05-30T18:37:37.487Z"
   },
   {
    "duration": 27,
    "start_time": "2024-05-30T18:38:40.447Z"
   },
   {
    "duration": 26,
    "start_time": "2024-05-30T18:38:49.478Z"
   },
   {
    "duration": 5,
    "start_time": "2024-05-30T18:38:54.848Z"
   },
   {
    "duration": 5,
    "start_time": "2024-05-30T18:39:09.749Z"
   },
   {
    "duration": 6,
    "start_time": "2024-05-30T18:39:11.782Z"
   },
   {
    "duration": 5,
    "start_time": "2024-05-30T18:39:12.948Z"
   },
   {
    "duration": 25,
    "start_time": "2024-05-30T18:39:29.928Z"
   },
   {
    "duration": 0,
    "start_time": "2024-05-30T18:39:29.956Z"
   },
   {
    "duration": 0,
    "start_time": "2024-05-30T18:39:29.958Z"
   },
   {
    "duration": 0,
    "start_time": "2024-05-30T18:39:29.960Z"
   },
   {
    "duration": 0,
    "start_time": "2024-05-30T18:39:29.962Z"
   },
   {
    "duration": 0,
    "start_time": "2024-05-30T18:39:29.964Z"
   },
   {
    "duration": 0,
    "start_time": "2024-05-30T18:39:29.966Z"
   },
   {
    "duration": 6,
    "start_time": "2024-05-30T18:39:35.671Z"
   },
   {
    "duration": 863,
    "start_time": "2024-05-30T18:39:35.694Z"
   },
   {
    "duration": 33,
    "start_time": "2024-05-30T18:39:36.560Z"
   },
   {
    "duration": 39,
    "start_time": "2024-05-30T18:39:36.596Z"
   },
   {
    "duration": 111,
    "start_time": "2024-05-30T18:39:36.638Z"
   },
   {
    "duration": 11,
    "start_time": "2024-05-30T18:39:36.754Z"
   },
   {
    "duration": 3,
    "start_time": "2024-05-30T18:39:36.768Z"
   },
   {
    "duration": 58,
    "start_time": "2024-05-30T18:39:36.774Z"
   },
   {
    "duration": 23,
    "start_time": "2024-05-30T18:39:36.835Z"
   },
   {
    "duration": 35,
    "start_time": "2024-05-30T18:39:36.861Z"
   },
   {
    "duration": 38,
    "start_time": "2024-05-30T18:39:36.899Z"
   },
   {
    "duration": 4,
    "start_time": "2024-05-30T18:39:36.940Z"
   },
   {
    "duration": 4,
    "start_time": "2024-05-30T18:39:36.947Z"
   },
   {
    "duration": 27,
    "start_time": "2024-05-30T18:39:36.954Z"
   },
   {
    "duration": 62,
    "start_time": "2024-05-30T18:39:36.988Z"
   },
   {
    "duration": 155,
    "start_time": "2024-05-30T18:39:37.053Z"
   },
   {
    "duration": 24,
    "start_time": "2024-05-30T18:39:37.211Z"
   },
   {
    "duration": 4,
    "start_time": "2024-05-30T18:39:37.237Z"
   },
   {
    "duration": 4,
    "start_time": "2024-05-30T18:39:37.244Z"
   },
   {
    "duration": 6,
    "start_time": "2024-05-30T18:39:37.250Z"
   },
   {
    "duration": 17,
    "start_time": "2024-05-30T18:39:37.259Z"
   },
   {
    "duration": 4,
    "start_time": "2024-05-30T18:39:37.278Z"
   },
   {
    "duration": 10,
    "start_time": "2024-05-30T18:39:37.331Z"
   },
   {
    "duration": 12,
    "start_time": "2024-05-30T18:39:37.344Z"
   },
   {
    "duration": 10,
    "start_time": "2024-05-30T18:39:37.358Z"
   },
   {
    "duration": 58,
    "start_time": "2024-05-30T18:39:37.372Z"
   },
   {
    "duration": 9,
    "start_time": "2024-05-30T18:39:37.434Z"
   },
   {
    "duration": 12,
    "start_time": "2024-05-30T18:39:37.446Z"
   },
   {
    "duration": 9,
    "start_time": "2024-05-30T18:39:37.460Z"
   },
   {
    "duration": 12,
    "start_time": "2024-05-30T18:39:37.472Z"
   },
   {
    "duration": 6,
    "start_time": "2024-05-30T18:39:37.532Z"
   },
   {
    "duration": 349,
    "start_time": "2024-05-30T18:39:37.541Z"
   },
   {
    "duration": 449,
    "start_time": "2024-05-30T18:39:37.893Z"
   },
   {
    "duration": 342,
    "start_time": "2024-05-30T18:39:38.344Z"
   },
   {
    "duration": 11,
    "start_time": "2024-05-30T18:39:38.689Z"
   },
   {
    "duration": 32,
    "start_time": "2024-05-30T18:39:38.703Z"
   },
   {
    "duration": 1096,
    "start_time": "2024-05-30T18:39:38.738Z"
   },
   {
    "duration": 20,
    "start_time": "2024-05-30T18:39:39.837Z"
   },
   {
    "duration": 15,
    "start_time": "2024-05-30T18:39:39.860Z"
   },
   {
    "duration": 228,
    "start_time": "2024-05-30T18:39:39.878Z"
   },
   {
    "duration": 24,
    "start_time": "2024-05-30T18:39:40.110Z"
   },
   {
    "duration": 219,
    "start_time": "2024-05-30T18:39:40.144Z"
   },
   {
    "duration": 16,
    "start_time": "2024-05-30T18:39:40.366Z"
   },
   {
    "duration": 233,
    "start_time": "2024-05-30T18:39:40.385Z"
   },
   {
    "duration": 10,
    "start_time": "2024-05-30T18:39:40.621Z"
   },
   {
    "duration": 41,
    "start_time": "2024-05-30T18:39:40.634Z"
   },
   {
    "duration": 52,
    "start_time": "2024-05-30T18:39:40.678Z"
   },
   {
    "duration": 25,
    "start_time": "2024-05-30T18:39:40.733Z"
   },
   {
    "duration": 4,
    "start_time": "2024-05-30T18:39:40.760Z"
   },
   {
    "duration": 4,
    "start_time": "2024-05-30T18:39:40.767Z"
   },
   {
    "duration": 3,
    "start_time": "2024-05-30T18:39:40.774Z"
   },
   {
    "duration": 3,
    "start_time": "2024-05-30T18:39:40.781Z"
   },
   {
    "duration": 33,
    "start_time": "2024-05-30T18:40:13.845Z"
   },
   {
    "duration": 17,
    "start_time": "2024-05-30T18:40:25.886Z"
   },
   {
    "duration": 12,
    "start_time": "2024-05-30T18:40:45.537Z"
   },
   {
    "duration": 39,
    "start_time": "2024-05-30T18:47:11.254Z"
   },
   {
    "duration": 21,
    "start_time": "2024-05-30T18:50:19.034Z"
   },
   {
    "duration": 1438,
    "start_time": "2024-05-30T22:52:51.160Z"
   },
   {
    "duration": 813,
    "start_time": "2024-05-30T22:52:52.602Z"
   },
   {
    "duration": 39,
    "start_time": "2024-05-30T22:52:53.418Z"
   },
   {
    "duration": 33,
    "start_time": "2024-05-30T22:52:53.462Z"
   },
   {
    "duration": 132,
    "start_time": "2024-05-30T22:52:53.499Z"
   },
   {
    "duration": 12,
    "start_time": "2024-05-30T22:52:53.635Z"
   },
   {
    "duration": 10,
    "start_time": "2024-05-30T22:52:53.650Z"
   },
   {
    "duration": 28,
    "start_time": "2024-05-30T22:52:53.663Z"
   },
   {
    "duration": 19,
    "start_time": "2024-05-30T22:52:53.730Z"
   },
   {
    "duration": 32,
    "start_time": "2024-05-30T22:52:53.755Z"
   },
   {
    "duration": 42,
    "start_time": "2024-05-30T22:52:53.791Z"
   },
   {
    "duration": 3,
    "start_time": "2024-05-30T22:52:53.836Z"
   },
   {
    "duration": 6,
    "start_time": "2024-05-30T22:52:53.842Z"
   },
   {
    "duration": 28,
    "start_time": "2024-05-30T22:52:53.851Z"
   },
   {
    "duration": 64,
    "start_time": "2024-05-30T22:52:53.883Z"
   },
   {
    "duration": 162,
    "start_time": "2024-05-30T22:52:53.949Z"
   },
   {
    "duration": 21,
    "start_time": "2024-05-30T22:52:54.113Z"
   },
   {
    "duration": 4,
    "start_time": "2024-05-30T22:52:54.136Z"
   },
   {
    "duration": 3,
    "start_time": "2024-05-30T22:52:54.144Z"
   },
   {
    "duration": 5,
    "start_time": "2024-05-30T22:52:54.151Z"
   },
   {
    "duration": 18,
    "start_time": "2024-05-30T22:52:54.159Z"
   },
   {
    "duration": 51,
    "start_time": "2024-05-30T22:52:54.179Z"
   },
   {
    "duration": 8,
    "start_time": "2024-05-30T22:52:54.234Z"
   },
   {
    "duration": 11,
    "start_time": "2024-05-30T22:52:54.245Z"
   },
   {
    "duration": 10,
    "start_time": "2024-05-30T22:52:54.259Z"
   },
   {
    "duration": 63,
    "start_time": "2024-05-30T22:52:54.273Z"
   },
   {
    "duration": 9,
    "start_time": "2024-05-30T22:52:54.340Z"
   },
   {
    "duration": 11,
    "start_time": "2024-05-30T22:52:54.357Z"
   },
   {
    "duration": 9,
    "start_time": "2024-05-30T22:52:54.371Z"
   },
   {
    "duration": 55,
    "start_time": "2024-05-30T22:52:54.384Z"
   },
   {
    "duration": 7,
    "start_time": "2024-05-30T22:52:54.442Z"
   },
   {
    "duration": 435,
    "start_time": "2024-05-30T22:52:54.452Z"
   },
   {
    "duration": 355,
    "start_time": "2024-05-30T22:52:54.890Z"
   },
   {
    "duration": 338,
    "start_time": "2024-05-30T22:52:55.250Z"
   },
   {
    "duration": 14,
    "start_time": "2024-05-30T22:52:55.591Z"
   },
   {
    "duration": 32,
    "start_time": "2024-05-30T22:52:55.608Z"
   },
   {
    "duration": 1172,
    "start_time": "2024-05-30T22:52:55.643Z"
   },
   {
    "duration": 31,
    "start_time": "2024-05-30T22:52:56.818Z"
   },
   {
    "duration": 15,
    "start_time": "2024-05-30T22:52:56.853Z"
   },
   {
    "duration": 236,
    "start_time": "2024-05-30T22:52:56.872Z"
   },
   {
    "duration": 21,
    "start_time": "2024-05-30T22:52:57.111Z"
   },
   {
    "duration": 196,
    "start_time": "2024-05-30T22:52:57.135Z"
   },
   {
    "duration": 13,
    "start_time": "2024-05-30T22:52:57.334Z"
   },
   {
    "duration": 243,
    "start_time": "2024-05-30T22:52:57.350Z"
   },
   {
    "duration": 6,
    "start_time": "2024-05-30T22:52:57.596Z"
   },
   {
    "duration": 4,
    "start_time": "2024-05-30T22:52:57.604Z"
   },
   {
    "duration": 23,
    "start_time": "2024-05-30T22:52:57.631Z"
   },
   {
    "duration": 7,
    "start_time": "2024-05-30T22:52:57.657Z"
   },
   {
    "duration": 0,
    "start_time": "2024-05-30T22:52:57.667Z"
   },
   {
    "duration": 0,
    "start_time": "2024-05-30T22:52:57.669Z"
   },
   {
    "duration": 0,
    "start_time": "2024-05-30T22:52:57.672Z"
   },
   {
    "duration": 16,
    "start_time": "2024-05-30T22:54:24.956Z"
   },
   {
    "duration": 36,
    "start_time": "2024-05-30T22:56:15.749Z"
   },
   {
    "duration": 216,
    "start_time": "2024-05-30T22:56:37.671Z"
   },
   {
    "duration": 12,
    "start_time": "2024-05-30T22:56:45.276Z"
   },
   {
    "duration": 12,
    "start_time": "2024-05-30T22:56:51.267Z"
   },
   {
    "duration": 29,
    "start_time": "2024-05-30T22:57:03.042Z"
   },
   {
    "duration": 36,
    "start_time": "2024-05-30T22:57:18.748Z"
   },
   {
    "duration": 9,
    "start_time": "2024-05-30T22:57:32.654Z"
   },
   {
    "duration": 35,
    "start_time": "2024-05-30T22:57:41.887Z"
   },
   {
    "duration": 9,
    "start_time": "2024-05-30T23:56:36.473Z"
   },
   {
    "duration": 7,
    "start_time": "2024-05-30T23:56:39.690Z"
   },
   {
    "duration": 276,
    "start_time": "2024-05-30T23:57:05.922Z"
   },
   {
    "duration": 12,
    "start_time": "2024-05-30T23:57:27.850Z"
   },
   {
    "duration": 115,
    "start_time": "2024-05-31T00:06:57.532Z"
   },
   {
    "duration": 1400,
    "start_time": "2024-05-31T03:00:02.266Z"
   },
   {
    "duration": 779,
    "start_time": "2024-05-31T03:00:03.670Z"
   },
   {
    "duration": 32,
    "start_time": "2024-05-31T03:00:04.452Z"
   },
   {
    "duration": 42,
    "start_time": "2024-05-31T03:00:04.488Z"
   },
   {
    "duration": 114,
    "start_time": "2024-05-31T03:00:04.534Z"
   },
   {
    "duration": 11,
    "start_time": "2024-05-31T03:00:04.651Z"
   },
   {
    "duration": 28,
    "start_time": "2024-05-31T03:00:04.665Z"
   },
   {
    "duration": 50,
    "start_time": "2024-05-31T03:00:04.697Z"
   },
   {
    "duration": 33,
    "start_time": "2024-05-31T03:00:04.750Z"
   },
   {
    "duration": 9,
    "start_time": "2024-05-31T03:00:04.788Z"
   },
   {
    "duration": 56,
    "start_time": "2024-05-31T03:00:04.800Z"
   },
   {
    "duration": 25,
    "start_time": "2024-05-31T03:00:04.859Z"
   },
   {
    "duration": 175,
    "start_time": "2024-05-31T03:00:04.887Z"
   },
   {
    "duration": 12,
    "start_time": "2024-05-31T03:00:05.065Z"
   },
   {
    "duration": 5,
    "start_time": "2024-05-31T03:00:05.080Z"
   },
   {
    "duration": 50,
    "start_time": "2024-05-31T03:00:05.088Z"
   },
   {
    "duration": 8,
    "start_time": "2024-05-31T03:00:05.141Z"
   },
   {
    "duration": 12,
    "start_time": "2024-05-31T03:00:05.153Z"
   },
   {
    "duration": 10,
    "start_time": "2024-05-31T03:00:05.168Z"
   },
   {
    "duration": 75,
    "start_time": "2024-05-31T03:00:05.181Z"
   },
   {
    "duration": 30,
    "start_time": "2024-05-31T03:00:05.259Z"
   },
   {
    "duration": 49,
    "start_time": "2024-05-31T03:00:05.291Z"
   },
   {
    "duration": 8,
    "start_time": "2024-05-31T03:00:05.343Z"
   },
   {
    "duration": 13,
    "start_time": "2024-05-31T03:00:05.354Z"
   },
   {
    "duration": 12,
    "start_time": "2024-05-31T03:00:05.370Z"
   },
   {
    "duration": 54,
    "start_time": "2024-05-31T03:00:05.385Z"
   },
   {
    "duration": 6,
    "start_time": "2024-05-31T03:00:05.442Z"
   },
   {
    "duration": 446,
    "start_time": "2024-05-31T03:00:05.456Z"
   },
   {
    "duration": 375,
    "start_time": "2024-05-31T03:00:05.905Z"
   },
   {
    "duration": 338,
    "start_time": "2024-05-31T03:00:06.283Z"
   },
   {
    "duration": 11,
    "start_time": "2024-05-31T03:00:06.630Z"
   },
   {
    "duration": 10,
    "start_time": "2024-05-31T03:00:06.645Z"
   },
   {
    "duration": 1175,
    "start_time": "2024-05-31T03:00:06.658Z"
   },
   {
    "duration": 21,
    "start_time": "2024-05-31T03:00:07.836Z"
   },
   {
    "duration": 15,
    "start_time": "2024-05-31T03:00:07.860Z"
   },
   {
    "duration": 228,
    "start_time": "2024-05-31T03:00:07.878Z"
   },
   {
    "duration": 22,
    "start_time": "2024-05-31T03:00:08.109Z"
   },
   {
    "duration": 195,
    "start_time": "2024-05-31T03:00:08.134Z"
   },
   {
    "duration": 14,
    "start_time": "2024-05-31T03:00:08.331Z"
   },
   {
    "duration": 258,
    "start_time": "2024-05-31T03:00:08.348Z"
   },
   {
    "duration": 6,
    "start_time": "2024-05-31T03:00:08.609Z"
   },
   {
    "duration": 17,
    "start_time": "2024-05-31T03:00:08.618Z"
   },
   {
    "duration": 3,
    "start_time": "2024-05-31T03:00:08.638Z"
   },
   {
    "duration": 3,
    "start_time": "2024-05-31T03:00:08.645Z"
   },
   {
    "duration": 4,
    "start_time": "2024-05-31T03:00:08.651Z"
   },
   {
    "duration": 4,
    "start_time": "2024-05-31T03:00:08.658Z"
   },
   {
    "duration": 11,
    "start_time": "2024-05-31T03:04:17.547Z"
   },
   {
    "duration": 1375,
    "start_time": "2024-05-31T03:04:23.129Z"
   },
   {
    "duration": 793,
    "start_time": "2024-05-31T03:04:24.507Z"
   },
   {
    "duration": 43,
    "start_time": "2024-05-31T03:04:25.303Z"
   },
   {
    "duration": 22,
    "start_time": "2024-05-31T03:04:25.351Z"
   },
   {
    "duration": 121,
    "start_time": "2024-05-31T03:04:25.376Z"
   },
   {
    "duration": 13,
    "start_time": "2024-05-31T03:04:25.500Z"
   },
   {
    "duration": 27,
    "start_time": "2024-05-31T03:04:25.531Z"
   },
   {
    "duration": 19,
    "start_time": "2024-05-31T03:04:25.561Z"
   },
   {
    "duration": 69,
    "start_time": "2024-05-31T03:04:25.583Z"
   },
   {
    "duration": 11,
    "start_time": "2024-05-31T03:04:25.658Z"
   },
   {
    "duration": 28,
    "start_time": "2024-05-31T03:04:25.672Z"
   },
   {
    "duration": 22,
    "start_time": "2024-05-31T03:04:25.731Z"
   },
   {
    "duration": 166,
    "start_time": "2024-05-31T03:04:25.756Z"
   },
   {
    "duration": 15,
    "start_time": "2024-05-31T03:04:25.937Z"
   },
   {
    "duration": 5,
    "start_time": "2024-05-31T03:04:25.955Z"
   },
   {
    "duration": 19,
    "start_time": "2024-05-31T03:04:25.964Z"
   },
   {
    "duration": 45,
    "start_time": "2024-05-31T03:04:25.986Z"
   },
   {
    "duration": 14,
    "start_time": "2024-05-31T03:04:26.034Z"
   },
   {
    "duration": 11,
    "start_time": "2024-05-31T03:04:26.051Z"
   },
   {
    "duration": 74,
    "start_time": "2024-05-31T03:04:26.064Z"
   },
   {
    "duration": 29,
    "start_time": "2024-05-31T03:04:26.143Z"
   },
   {
    "duration": 10,
    "start_time": "2024-05-31T03:04:26.175Z"
   },
   {
    "duration": 44,
    "start_time": "2024-05-31T03:04:26.188Z"
   },
   {
    "duration": 9,
    "start_time": "2024-05-31T03:04:26.236Z"
   },
   {
    "duration": 13,
    "start_time": "2024-05-31T03:04:26.248Z"
   },
   {
    "duration": 6,
    "start_time": "2024-05-31T03:04:26.263Z"
   },
   {
    "duration": 441,
    "start_time": "2024-05-31T03:04:26.274Z"
   },
   {
    "duration": 347,
    "start_time": "2024-05-31T03:04:26.732Z"
   },
   {
    "duration": 335,
    "start_time": "2024-05-31T03:04:27.082Z"
   },
   {
    "duration": 19,
    "start_time": "2024-05-31T03:04:27.420Z"
   },
   {
    "duration": 11,
    "start_time": "2024-05-31T03:04:27.441Z"
   },
   {
    "duration": 1172,
    "start_time": "2024-05-31T03:04:27.455Z"
   },
   {
    "duration": 21,
    "start_time": "2024-05-31T03:04:28.632Z"
   },
   {
    "duration": 13,
    "start_time": "2024-05-31T03:04:28.656Z"
   },
   {
    "duration": 231,
    "start_time": "2024-05-31T03:04:28.672Z"
   },
   {
    "duration": 24,
    "start_time": "2024-05-31T03:04:28.906Z"
   },
   {
    "duration": 191,
    "start_time": "2024-05-31T03:04:28.933Z"
   },
   {
    "duration": 12,
    "start_time": "2024-05-31T03:04:29.131Z"
   },
   {
    "duration": 242,
    "start_time": "2024-05-31T03:04:29.146Z"
   },
   {
    "duration": 6,
    "start_time": "2024-05-31T03:04:29.391Z"
   },
   {
    "duration": 31,
    "start_time": "2024-05-31T03:04:29.400Z"
   },
   {
    "duration": 7,
    "start_time": "2024-05-31T03:04:29.434Z"
   },
   {
    "duration": 4,
    "start_time": "2024-05-31T03:04:29.444Z"
   },
   {
    "duration": 4,
    "start_time": "2024-05-31T03:04:29.451Z"
   },
   {
    "duration": 4,
    "start_time": "2024-05-31T03:04:29.457Z"
   },
   {
    "duration": 483,
    "start_time": "2024-05-31T03:05:06.310Z"
   },
   {
    "duration": 1330,
    "start_time": "2024-05-31T03:05:17.096Z"
   },
   {
    "duration": 786,
    "start_time": "2024-05-31T03:05:18.431Z"
   },
   {
    "duration": 40,
    "start_time": "2024-05-31T03:05:19.220Z"
   },
   {
    "duration": 24,
    "start_time": "2024-05-31T03:05:19.264Z"
   },
   {
    "duration": 132,
    "start_time": "2024-05-31T03:05:19.291Z"
   },
   {
    "duration": 13,
    "start_time": "2024-05-31T03:05:19.426Z"
   },
   {
    "duration": 28,
    "start_time": "2024-05-31T03:05:19.441Z"
   },
   {
    "duration": 19,
    "start_time": "2024-05-31T03:05:19.473Z"
   },
   {
    "duration": 63,
    "start_time": "2024-05-31T03:05:19.495Z"
   },
   {
    "duration": 9,
    "start_time": "2024-05-31T03:05:19.564Z"
   },
   {
    "duration": 56,
    "start_time": "2024-05-31T03:05:19.576Z"
   },
   {
    "duration": 23,
    "start_time": "2024-05-31T03:05:19.634Z"
   },
   {
    "duration": 171,
    "start_time": "2024-05-31T03:05:19.660Z"
   },
   {
    "duration": 12,
    "start_time": "2024-05-31T03:05:19.834Z"
   },
   {
    "duration": 5,
    "start_time": "2024-05-31T03:05:19.849Z"
   },
   {
    "duration": 18,
    "start_time": "2024-05-31T03:05:19.857Z"
   },
   {
    "duration": 52,
    "start_time": "2024-05-31T03:05:19.879Z"
   },
   {
    "duration": 14,
    "start_time": "2024-05-31T03:05:19.933Z"
   },
   {
    "duration": 10,
    "start_time": "2024-05-31T03:05:19.950Z"
   },
   {
    "duration": 67,
    "start_time": "2024-05-31T03:05:19.963Z"
   },
   {
    "duration": 29,
    "start_time": "2024-05-31T03:05:20.033Z"
   },
   {
    "duration": 13,
    "start_time": "2024-05-31T03:05:20.065Z"
   },
   {
    "duration": 14,
    "start_time": "2024-05-31T03:05:20.080Z"
   },
   {
    "duration": 11,
    "start_time": "2024-05-31T03:05:20.131Z"
   },
   {
    "duration": 13,
    "start_time": "2024-05-31T03:05:20.145Z"
   },
   {
    "duration": 6,
    "start_time": "2024-05-31T03:05:20.161Z"
   },
   {
    "duration": 443,
    "start_time": "2024-05-31T03:05:20.171Z"
   },
   {
    "duration": 356,
    "start_time": "2024-05-31T03:05:20.621Z"
   },
   {
    "duration": 335,
    "start_time": "2024-05-31T03:05:20.980Z"
   },
   {
    "duration": 20,
    "start_time": "2024-05-31T03:05:21.318Z"
   },
   {
    "duration": 12,
    "start_time": "2024-05-31T03:05:21.340Z"
   },
   {
    "duration": 1196,
    "start_time": "2024-05-31T03:05:21.354Z"
   },
   {
    "duration": 21,
    "start_time": "2024-05-31T03:05:22.553Z"
   },
   {
    "duration": 13,
    "start_time": "2024-05-31T03:05:22.577Z"
   },
   {
    "duration": 231,
    "start_time": "2024-05-31T03:05:22.593Z"
   },
   {
    "duration": 15,
    "start_time": "2024-05-31T03:05:22.831Z"
   },
   {
    "duration": 207,
    "start_time": "2024-05-31T03:05:22.849Z"
   },
   {
    "duration": 13,
    "start_time": "2024-05-31T03:05:23.059Z"
   },
   {
    "duration": 246,
    "start_time": "2024-05-31T03:05:23.075Z"
   },
   {
    "duration": 10,
    "start_time": "2024-05-31T03:05:23.324Z"
   },
   {
    "duration": 11,
    "start_time": "2024-05-31T03:05:23.336Z"
   },
   {
    "duration": 6,
    "start_time": "2024-05-31T03:05:23.351Z"
   },
   {
    "duration": 3,
    "start_time": "2024-05-31T03:05:23.361Z"
   },
   {
    "duration": 3,
    "start_time": "2024-05-31T03:05:23.368Z"
   },
   {
    "duration": 4,
    "start_time": "2024-05-31T03:05:23.374Z"
   },
   {
    "duration": 4,
    "start_time": "2024-05-31T05:12:56.520Z"
   },
   {
    "duration": 3,
    "start_time": "2024-05-31T05:13:03.376Z"
   },
   {
    "duration": 1325,
    "start_time": "2024-05-31T05:13:09.499Z"
   },
   {
    "duration": 775,
    "start_time": "2024-05-31T05:13:10.827Z"
   },
   {
    "duration": 40,
    "start_time": "2024-05-31T05:13:11.604Z"
   },
   {
    "duration": 27,
    "start_time": "2024-05-31T05:13:11.649Z"
   },
   {
    "duration": 145,
    "start_time": "2024-05-31T05:13:11.679Z"
   },
   {
    "duration": 13,
    "start_time": "2024-05-31T05:13:11.827Z"
   },
   {
    "duration": 28,
    "start_time": "2024-05-31T05:13:11.843Z"
   },
   {
    "duration": 18,
    "start_time": "2024-05-31T05:13:11.874Z"
   },
   {
    "duration": 64,
    "start_time": "2024-05-31T05:13:11.895Z"
   },
   {
    "duration": 9,
    "start_time": "2024-05-31T05:13:11.966Z"
   },
   {
    "duration": 67,
    "start_time": "2024-05-31T05:13:11.979Z"
   },
   {
    "duration": 25,
    "start_time": "2024-05-31T05:13:12.050Z"
   },
   {
    "duration": 170,
    "start_time": "2024-05-31T05:13:12.078Z"
   },
   {
    "duration": 13,
    "start_time": "2024-05-31T05:13:12.252Z"
   },
   {
    "duration": 6,
    "start_time": "2024-05-31T05:13:12.268Z"
   },
   {
    "duration": 55,
    "start_time": "2024-05-31T05:13:12.277Z"
   },
   {
    "duration": 10,
    "start_time": "2024-05-31T05:13:12.337Z"
   },
   {
    "duration": 12,
    "start_time": "2024-05-31T05:13:12.349Z"
   },
   {
    "duration": 11,
    "start_time": "2024-05-31T05:13:12.363Z"
   },
   {
    "duration": 80,
    "start_time": "2024-05-31T05:13:12.376Z"
   },
   {
    "duration": 30,
    "start_time": "2024-05-31T05:13:12.460Z"
   },
   {
    "duration": 9,
    "start_time": "2024-05-31T05:13:12.492Z"
   },
   {
    "duration": 13,
    "start_time": "2024-05-31T05:13:12.531Z"
   },
   {
    "duration": 9,
    "start_time": "2024-05-31T05:13:12.547Z"
   },
   {
    "duration": 12,
    "start_time": "2024-05-31T05:13:12.560Z"
   },
   {
    "duration": 6,
    "start_time": "2024-05-31T05:13:12.575Z"
   },
   {
    "duration": 436,
    "start_time": "2024-05-31T05:13:12.631Z"
   },
   {
    "duration": 365,
    "start_time": "2024-05-31T05:13:13.076Z"
   },
   {
    "duration": 342,
    "start_time": "2024-05-31T05:13:13.445Z"
   },
   {
    "duration": 12,
    "start_time": "2024-05-31T05:13:13.790Z"
   },
   {
    "duration": 33,
    "start_time": "2024-05-31T05:13:13.805Z"
   },
   {
    "duration": 1092,
    "start_time": "2024-05-31T05:13:13.841Z"
   },
   {
    "duration": 24,
    "start_time": "2024-05-31T05:13:14.937Z"
   },
   {
    "duration": 14,
    "start_time": "2024-05-31T05:13:14.964Z"
   },
   {
    "duration": 235,
    "start_time": "2024-05-31T05:13:14.981Z"
   },
   {
    "duration": 19,
    "start_time": "2024-05-31T05:13:15.219Z"
   },
   {
    "duration": 195,
    "start_time": "2024-05-31T05:13:15.242Z"
   },
   {
    "duration": 14,
    "start_time": "2024-05-31T05:13:15.440Z"
   },
   {
    "duration": 249,
    "start_time": "2024-05-31T05:13:15.456Z"
   },
   {
    "duration": 529,
    "start_time": "2024-05-31T05:13:15.708Z"
   },
   {
    "duration": 0,
    "start_time": "2024-05-31T05:13:16.240Z"
   },
   {
    "duration": 0,
    "start_time": "2024-05-31T05:13:16.242Z"
   },
   {
    "duration": 0,
    "start_time": "2024-05-31T05:13:16.245Z"
   },
   {
    "duration": 0,
    "start_time": "2024-05-31T05:13:16.247Z"
   },
   {
    "duration": 0,
    "start_time": "2024-05-31T05:13:16.249Z"
   },
   {
    "duration": 0,
    "start_time": "2024-05-31T05:13:16.251Z"
   },
   {
    "duration": 0,
    "start_time": "2024-05-31T05:13:16.254Z"
   },
   {
    "duration": 0,
    "start_time": "2024-05-31T05:13:16.257Z"
   },
   {
    "duration": 0,
    "start_time": "2024-05-31T05:13:16.258Z"
   },
   {
    "duration": 29,
    "start_time": "2024-05-31T05:13:26.672Z"
   },
   {
    "duration": 6,
    "start_time": "2024-05-31T05:13:39.249Z"
   },
   {
    "duration": 10,
    "start_time": "2024-05-31T05:13:40.784Z"
   },
   {
    "duration": 3,
    "start_time": "2024-05-31T05:13:42.349Z"
   },
   {
    "duration": 23,
    "start_time": "2024-05-31T05:14:00.842Z"
   },
   {
    "duration": 1426,
    "start_time": "2024-05-31T05:14:12.127Z"
   },
   {
    "duration": 795,
    "start_time": "2024-05-31T05:14:13.555Z"
   },
   {
    "duration": 32,
    "start_time": "2024-05-31T05:14:14.353Z"
   },
   {
    "duration": 48,
    "start_time": "2024-05-31T05:14:14.390Z"
   },
   {
    "duration": 113,
    "start_time": "2024-05-31T05:14:14.441Z"
   },
   {
    "duration": 11,
    "start_time": "2024-05-31T05:14:14.557Z"
   },
   {
    "duration": 27,
    "start_time": "2024-05-31T05:14:14.571Z"
   },
   {
    "duration": 27,
    "start_time": "2024-05-31T05:14:14.630Z"
   },
   {
    "duration": 32,
    "start_time": "2024-05-31T05:14:14.660Z"
   },
   {
    "duration": 37,
    "start_time": "2024-05-31T05:14:14.697Z"
   },
   {
    "duration": 29,
    "start_time": "2024-05-31T05:14:14.737Z"
   },
   {
    "duration": 24,
    "start_time": "2024-05-31T05:14:14.769Z"
   },
   {
    "duration": 180,
    "start_time": "2024-05-31T05:14:14.796Z"
   },
   {
    "duration": 13,
    "start_time": "2024-05-31T05:14:14.979Z"
   },
   {
    "duration": 5,
    "start_time": "2024-05-31T05:14:14.995Z"
   },
   {
    "duration": 47,
    "start_time": "2024-05-31T05:14:15.003Z"
   },
   {
    "duration": 10,
    "start_time": "2024-05-31T05:14:15.053Z"
   },
   {
    "duration": 13,
    "start_time": "2024-05-31T05:14:15.066Z"
   },
   {
    "duration": 49,
    "start_time": "2024-05-31T05:14:15.082Z"
   },
   {
    "duration": 34,
    "start_time": "2024-05-31T05:14:15.135Z"
   },
   {
    "duration": 57,
    "start_time": "2024-05-31T05:14:15.172Z"
   },
   {
    "duration": 9,
    "start_time": "2024-05-31T05:14:15.232Z"
   },
   {
    "duration": 11,
    "start_time": "2024-05-31T05:14:15.244Z"
   },
   {
    "duration": 9,
    "start_time": "2024-05-31T05:14:15.258Z"
   },
   {
    "duration": 13,
    "start_time": "2024-05-31T05:14:15.270Z"
   },
   {
    "duration": 5,
    "start_time": "2024-05-31T05:14:15.330Z"
   },
   {
    "duration": 427,
    "start_time": "2024-05-31T05:14:15.338Z"
   },
   {
    "duration": 383,
    "start_time": "2024-05-31T05:14:15.774Z"
   },
   {
    "duration": 336,
    "start_time": "2024-05-31T05:14:16.160Z"
   },
   {
    "duration": 14,
    "start_time": "2024-05-31T05:14:16.499Z"
   },
   {
    "duration": 10,
    "start_time": "2024-05-31T05:14:16.532Z"
   },
   {
    "duration": 1187,
    "start_time": "2024-05-31T05:14:16.544Z"
   },
   {
    "duration": 22,
    "start_time": "2024-05-31T05:14:17.734Z"
   },
   {
    "duration": 14,
    "start_time": "2024-05-31T05:14:17.758Z"
   },
   {
    "duration": 228,
    "start_time": "2024-05-31T05:14:17.775Z"
   },
   {
    "duration": 25,
    "start_time": "2024-05-31T05:14:18.006Z"
   },
   {
    "duration": 196,
    "start_time": "2024-05-31T05:14:18.034Z"
   },
   {
    "duration": 13,
    "start_time": "2024-05-31T05:14:18.233Z"
   },
   {
    "duration": 249,
    "start_time": "2024-05-31T05:14:18.249Z"
   },
   {
    "duration": 7,
    "start_time": "2024-05-31T05:14:18.501Z"
   },
   {
    "duration": 24,
    "start_time": "2024-05-31T05:14:18.511Z"
   },
   {
    "duration": 572,
    "start_time": "2024-05-31T05:14:18.538Z"
   },
   {
    "duration": 0,
    "start_time": "2024-05-31T05:14:19.113Z"
   },
   {
    "duration": 0,
    "start_time": "2024-05-31T05:14:19.115Z"
   },
   {
    "duration": 0,
    "start_time": "2024-05-31T05:14:19.131Z"
   },
   {
    "duration": 0,
    "start_time": "2024-05-31T05:14:19.133Z"
   },
   {
    "duration": 0,
    "start_time": "2024-05-31T05:14:19.135Z"
   },
   {
    "duration": 0,
    "start_time": "2024-05-31T05:14:19.138Z"
   },
   {
    "duration": 0,
    "start_time": "2024-05-31T05:14:19.141Z"
   },
   {
    "duration": 5650,
    "start_time": "2024-05-31T16:14:51.333Z"
   },
   {
    "duration": 1360,
    "start_time": "2024-05-31T16:14:56.988Z"
   },
   {
    "duration": 45,
    "start_time": "2024-05-31T16:14:58.352Z"
   },
   {
    "duration": 45,
    "start_time": "2024-05-31T16:14:58.428Z"
   },
   {
    "duration": 170,
    "start_time": "2024-05-31T16:14:58.478Z"
   },
   {
    "duration": 14,
    "start_time": "2024-05-31T16:14:58.652Z"
   },
   {
    "duration": 72,
    "start_time": "2024-05-31T16:14:58.670Z"
   },
   {
    "duration": 22,
    "start_time": "2024-05-31T16:14:58.746Z"
   },
   {
    "duration": 81,
    "start_time": "2024-05-31T16:14:58.774Z"
   },
   {
    "duration": 11,
    "start_time": "2024-05-31T16:14:58.862Z"
   },
   {
    "duration": 73,
    "start_time": "2024-05-31T16:14:58.877Z"
   },
   {
    "duration": 34,
    "start_time": "2024-05-31T16:14:58.954Z"
   },
   {
    "duration": 225,
    "start_time": "2024-05-31T16:14:58.992Z"
   },
   {
    "duration": 16,
    "start_time": "2024-05-31T16:14:59.220Z"
   },
   {
    "duration": 11,
    "start_time": "2024-05-31T16:14:59.239Z"
   },
   {
    "duration": 30,
    "start_time": "2024-05-31T16:14:59.253Z"
   },
   {
    "duration": 45,
    "start_time": "2024-05-31T16:14:59.287Z"
   },
   {
    "duration": 13,
    "start_time": "2024-05-31T16:14:59.335Z"
   },
   {
    "duration": 17,
    "start_time": "2024-05-31T16:14:59.351Z"
   },
   {
    "duration": 522,
    "start_time": "2024-05-31T16:14:59.371Z"
   },
   {
    "duration": 1,
    "start_time": "2024-05-31T16:14:59.899Z"
   },
   {
    "duration": 0,
    "start_time": "2024-05-31T16:14:59.902Z"
   },
   {
    "duration": 0,
    "start_time": "2024-05-31T16:14:59.905Z"
   },
   {
    "duration": 0,
    "start_time": "2024-05-31T16:14:59.928Z"
   },
   {
    "duration": 0,
    "start_time": "2024-05-31T16:14:59.933Z"
   },
   {
    "duration": 0,
    "start_time": "2024-05-31T16:14:59.936Z"
   },
   {
    "duration": 0,
    "start_time": "2024-05-31T16:14:59.938Z"
   },
   {
    "duration": 0,
    "start_time": "2024-05-31T16:14:59.940Z"
   },
   {
    "duration": 0,
    "start_time": "2024-05-31T16:14:59.943Z"
   },
   {
    "duration": 1,
    "start_time": "2024-05-31T16:14:59.945Z"
   },
   {
    "duration": 0,
    "start_time": "2024-05-31T16:14:59.949Z"
   },
   {
    "duration": 0,
    "start_time": "2024-05-31T16:14:59.952Z"
   },
   {
    "duration": 0,
    "start_time": "2024-05-31T16:14:59.957Z"
   },
   {
    "duration": 0,
    "start_time": "2024-05-31T16:14:59.960Z"
   },
   {
    "duration": 0,
    "start_time": "2024-05-31T16:14:59.963Z"
   },
   {
    "duration": 0,
    "start_time": "2024-05-31T16:15:00.023Z"
   },
   {
    "duration": 0,
    "start_time": "2024-05-31T16:15:00.027Z"
   },
   {
    "duration": 0,
    "start_time": "2024-05-31T16:15:00.033Z"
   },
   {
    "duration": 0,
    "start_time": "2024-05-31T16:15:00.036Z"
   },
   {
    "duration": 0,
    "start_time": "2024-05-31T16:15:00.038Z"
   },
   {
    "duration": 0,
    "start_time": "2024-05-31T16:15:00.042Z"
   },
   {
    "duration": 0,
    "start_time": "2024-05-31T16:15:00.045Z"
   },
   {
    "duration": 0,
    "start_time": "2024-05-31T16:15:00.047Z"
   },
   {
    "duration": 0,
    "start_time": "2024-05-31T16:15:00.050Z"
   },
   {
    "duration": 0,
    "start_time": "2024-05-31T16:15:00.052Z"
   },
   {
    "duration": 0,
    "start_time": "2024-05-31T16:15:00.055Z"
   },
   {
    "duration": 0,
    "start_time": "2024-05-31T16:15:00.058Z"
   },
   {
    "duration": 0,
    "start_time": "2024-05-31T16:15:00.060Z"
   },
   {
    "duration": 9,
    "start_time": "2024-05-31T16:16:22.628Z"
   },
   {
    "duration": 26,
    "start_time": "2024-05-31T16:16:35.386Z"
   },
   {
    "duration": 36,
    "start_time": "2024-05-31T16:16:43.728Z"
   },
   {
    "duration": 31,
    "start_time": "2024-05-31T16:16:50.440Z"
   },
   {
    "duration": 26,
    "start_time": "2024-05-31T16:17:06.986Z"
   },
   {
    "duration": 27,
    "start_time": "2024-05-31T16:17:12.871Z"
   },
   {
    "duration": 32,
    "start_time": "2024-05-31T16:17:25.810Z"
   },
   {
    "duration": 1558,
    "start_time": "2024-05-31T16:17:41.778Z"
   },
   {
    "duration": 1030,
    "start_time": "2024-05-31T16:17:43.340Z"
   },
   {
    "duration": 36,
    "start_time": "2024-05-31T16:17:44.372Z"
   },
   {
    "duration": 105,
    "start_time": "2024-05-31T16:17:44.425Z"
   },
   {
    "duration": 127,
    "start_time": "2024-05-31T16:17:44.533Z"
   },
   {
    "duration": 16,
    "start_time": "2024-05-31T16:17:44.663Z"
   },
   {
    "duration": 55,
    "start_time": "2024-05-31T16:17:44.683Z"
   },
   {
    "duration": 19,
    "start_time": "2024-05-31T16:17:44.741Z"
   },
   {
    "duration": 68,
    "start_time": "2024-05-31T16:17:44.765Z"
   },
   {
    "duration": 10,
    "start_time": "2024-05-31T16:17:44.842Z"
   },
   {
    "duration": 66,
    "start_time": "2024-05-31T16:17:44.856Z"
   },
   {
    "duration": 35,
    "start_time": "2024-05-31T16:17:44.927Z"
   },
   {
    "duration": 182,
    "start_time": "2024-05-31T16:17:44.966Z"
   },
   {
    "duration": 16,
    "start_time": "2024-05-31T16:17:45.151Z"
   },
   {
    "duration": 6,
    "start_time": "2024-05-31T16:17:45.170Z"
   },
   {
    "duration": 54,
    "start_time": "2024-05-31T16:17:45.181Z"
   },
   {
    "duration": 9,
    "start_time": "2024-05-31T16:17:45.239Z"
   },
   {
    "duration": 14,
    "start_time": "2024-05-31T16:17:45.252Z"
   },
   {
    "duration": 56,
    "start_time": "2024-05-31T16:17:45.270Z"
   },
   {
    "duration": 475,
    "start_time": "2024-05-31T16:17:45.330Z"
   },
   {
    "duration": 0,
    "start_time": "2024-05-31T16:17:45.811Z"
   },
   {
    "duration": 0,
    "start_time": "2024-05-31T16:17:45.813Z"
   },
   {
    "duration": 0,
    "start_time": "2024-05-31T16:17:45.825Z"
   },
   {
    "duration": 0,
    "start_time": "2024-05-31T16:17:45.828Z"
   },
   {
    "duration": 0,
    "start_time": "2024-05-31T16:17:45.831Z"
   },
   {
    "duration": 0,
    "start_time": "2024-05-31T16:17:45.834Z"
   },
   {
    "duration": 0,
    "start_time": "2024-05-31T16:17:45.839Z"
   },
   {
    "duration": 0,
    "start_time": "2024-05-31T16:17:45.842Z"
   },
   {
    "duration": 0,
    "start_time": "2024-05-31T16:17:45.845Z"
   },
   {
    "duration": 0,
    "start_time": "2024-05-31T16:17:45.848Z"
   },
   {
    "duration": 0,
    "start_time": "2024-05-31T16:17:45.852Z"
   },
   {
    "duration": 0,
    "start_time": "2024-05-31T16:17:45.854Z"
   },
   {
    "duration": 0,
    "start_time": "2024-05-31T16:17:45.858Z"
   },
   {
    "duration": 0,
    "start_time": "2024-05-31T16:17:45.860Z"
   },
   {
    "duration": 1,
    "start_time": "2024-05-31T16:17:45.863Z"
   },
   {
    "duration": 0,
    "start_time": "2024-05-31T16:17:45.867Z"
   },
   {
    "duration": 0,
    "start_time": "2024-05-31T16:17:45.923Z"
   },
   {
    "duration": 0,
    "start_time": "2024-05-31T16:17:45.926Z"
   },
   {
    "duration": 0,
    "start_time": "2024-05-31T16:17:45.928Z"
   },
   {
    "duration": 0,
    "start_time": "2024-05-31T16:17:45.930Z"
   },
   {
    "duration": 0,
    "start_time": "2024-05-31T16:17:45.933Z"
   },
   {
    "duration": 0,
    "start_time": "2024-05-31T16:17:45.936Z"
   },
   {
    "duration": 0,
    "start_time": "2024-05-31T16:17:45.938Z"
   },
   {
    "duration": 0,
    "start_time": "2024-05-31T16:17:45.941Z"
   },
   {
    "duration": 0,
    "start_time": "2024-05-31T16:17:45.944Z"
   },
   {
    "duration": 0,
    "start_time": "2024-05-31T16:17:45.947Z"
   },
   {
    "duration": 0,
    "start_time": "2024-05-31T16:17:45.950Z"
   },
   {
    "duration": 0,
    "start_time": "2024-05-31T16:17:45.952Z"
   },
   {
    "duration": 0,
    "start_time": "2024-05-31T16:17:45.955Z"
   },
   {
    "duration": 7,
    "start_time": "2024-05-31T16:18:14.074Z"
   },
   {
    "duration": 9,
    "start_time": "2024-05-31T16:18:16.785Z"
   },
   {
    "duration": 43,
    "start_time": "2024-05-31T16:25:46.002Z"
   },
   {
    "duration": 2019,
    "start_time": "2024-05-31T16:26:44.356Z"
   },
   {
    "duration": 1549,
    "start_time": "2024-05-31T16:26:46.383Z"
   },
   {
    "duration": 80,
    "start_time": "2024-05-31T16:26:47.942Z"
   },
   {
    "duration": 133,
    "start_time": "2024-05-31T16:26:48.028Z"
   },
   {
    "duration": 203,
    "start_time": "2024-05-31T16:26:48.165Z"
   },
   {
    "duration": 16,
    "start_time": "2024-05-31T16:26:48.372Z"
   },
   {
    "duration": 60,
    "start_time": "2024-05-31T16:26:48.392Z"
   },
   {
    "duration": 30,
    "start_time": "2024-05-31T16:26:48.456Z"
   },
   {
    "duration": 79,
    "start_time": "2024-05-31T16:26:48.490Z"
   },
   {
    "duration": 12,
    "start_time": "2024-05-31T16:26:48.578Z"
   },
   {
    "duration": 46,
    "start_time": "2024-05-31T16:26:48.622Z"
   },
   {
    "duration": 105,
    "start_time": "2024-05-31T16:26:48.672Z"
   },
   {
    "duration": 273,
    "start_time": "2024-05-31T16:26:48.788Z"
   },
   {
    "duration": 20,
    "start_time": "2024-05-31T16:26:49.076Z"
   },
   {
    "duration": 22,
    "start_time": "2024-05-31T16:26:49.101Z"
   },
   {
    "duration": 34,
    "start_time": "2024-05-31T16:26:49.128Z"
   },
   {
    "duration": 13,
    "start_time": "2024-05-31T16:26:49.169Z"
   },
   {
    "duration": 41,
    "start_time": "2024-05-31T16:26:49.186Z"
   },
   {
    "duration": 15,
    "start_time": "2024-05-31T16:26:49.232Z"
   },
   {
    "duration": 13,
    "start_time": "2024-05-31T16:26:49.251Z"
   },
   {
    "duration": 673,
    "start_time": "2024-05-31T16:26:49.268Z"
   },
   {
    "duration": 0,
    "start_time": "2024-05-31T16:26:49.948Z"
   },
   {
    "duration": 0,
    "start_time": "2024-05-31T16:26:49.950Z"
   },
   {
    "duration": 0,
    "start_time": "2024-05-31T16:26:49.956Z"
   },
   {
    "duration": 0,
    "start_time": "2024-05-31T16:26:49.958Z"
   },
   {
    "duration": 0,
    "start_time": "2024-05-31T16:26:49.964Z"
   },
   {
    "duration": 0,
    "start_time": "2024-05-31T16:26:49.966Z"
   },
   {
    "duration": 0,
    "start_time": "2024-05-31T16:26:49.972Z"
   },
   {
    "duration": 0,
    "start_time": "2024-05-31T16:26:49.985Z"
   },
   {
    "duration": 0,
    "start_time": "2024-05-31T16:26:49.988Z"
   },
   {
    "duration": 0,
    "start_time": "2024-05-31T16:26:49.995Z"
   },
   {
    "duration": 0,
    "start_time": "2024-05-31T16:26:49.998Z"
   },
   {
    "duration": 0,
    "start_time": "2024-05-31T16:26:50.001Z"
   },
   {
    "duration": 0,
    "start_time": "2024-05-31T16:26:50.007Z"
   },
   {
    "duration": 0,
    "start_time": "2024-05-31T16:26:50.026Z"
   },
   {
    "duration": 0,
    "start_time": "2024-05-31T16:26:50.029Z"
   },
   {
    "duration": 0,
    "start_time": "2024-05-31T16:26:50.035Z"
   },
   {
    "duration": 0,
    "start_time": "2024-05-31T16:26:50.044Z"
   },
   {
    "duration": 0,
    "start_time": "2024-05-31T16:26:50.046Z"
   },
   {
    "duration": 0,
    "start_time": "2024-05-31T16:26:50.050Z"
   },
   {
    "duration": 0,
    "start_time": "2024-05-31T16:26:50.053Z"
   },
   {
    "duration": 1,
    "start_time": "2024-05-31T16:26:50.055Z"
   },
   {
    "duration": 0,
    "start_time": "2024-05-31T16:26:50.059Z"
   },
   {
    "duration": 0,
    "start_time": "2024-05-31T16:26:50.061Z"
   },
   {
    "duration": 0,
    "start_time": "2024-05-31T16:26:50.064Z"
   },
   {
    "duration": 0,
    "start_time": "2024-05-31T16:26:50.066Z"
   },
   {
    "duration": 0,
    "start_time": "2024-05-31T16:26:50.069Z"
   },
   {
    "duration": 0,
    "start_time": "2024-05-31T16:26:50.072Z"
   },
   {
    "duration": 6,
    "start_time": "2024-05-31T16:56:08.319Z"
   },
   {
    "duration": 41,
    "start_time": "2024-05-31T17:07:58.891Z"
   },
   {
    "duration": 23,
    "start_time": "2024-05-31T17:08:07.547Z"
   },
   {
    "duration": 25,
    "start_time": "2024-05-31T17:08:14.592Z"
   },
   {
    "duration": 28,
    "start_time": "2024-05-31T17:08:21.731Z"
   },
   {
    "duration": 26,
    "start_time": "2024-05-31T17:08:26.307Z"
   },
   {
    "duration": 26,
    "start_time": "2024-05-31T17:08:39.185Z"
   },
   {
    "duration": 6,
    "start_time": "2024-05-31T17:08:45.503Z"
   },
   {
    "duration": 1701,
    "start_time": "2024-05-31T17:17:31.118Z"
   },
   {
    "duration": 1059,
    "start_time": "2024-05-31T17:17:32.830Z"
   },
   {
    "duration": 51,
    "start_time": "2024-05-31T17:17:33.893Z"
   },
   {
    "duration": 117,
    "start_time": "2024-05-31T17:17:33.948Z"
   },
   {
    "duration": 130,
    "start_time": "2024-05-31T17:17:34.069Z"
   },
   {
    "duration": 53,
    "start_time": "2024-05-31T17:17:34.201Z"
   },
   {
    "duration": 38,
    "start_time": "2024-05-31T17:17:34.262Z"
   },
   {
    "duration": 38,
    "start_time": "2024-05-31T17:17:34.304Z"
   },
   {
    "duration": 49,
    "start_time": "2024-05-31T17:17:34.345Z"
   },
   {
    "duration": 52,
    "start_time": "2024-05-31T17:17:34.397Z"
   },
   {
    "duration": 35,
    "start_time": "2024-05-31T17:17:34.461Z"
   },
   {
    "duration": 50,
    "start_time": "2024-05-31T17:17:34.500Z"
   },
   {
    "duration": 219,
    "start_time": "2024-05-31T17:17:34.560Z"
   },
   {
    "duration": 16,
    "start_time": "2024-05-31T17:17:34.787Z"
   },
   {
    "duration": 6,
    "start_time": "2024-05-31T17:17:34.806Z"
   },
   {
    "duration": 45,
    "start_time": "2024-05-31T17:17:34.815Z"
   },
   {
    "duration": 11,
    "start_time": "2024-05-31T17:17:34.865Z"
   },
   {
    "duration": 18,
    "start_time": "2024-05-31T17:17:34.880Z"
   },
   {
    "duration": 15,
    "start_time": "2024-05-31T17:17:34.925Z"
   },
   {
    "duration": 11,
    "start_time": "2024-05-31T17:17:34.945Z"
   },
   {
    "duration": 93,
    "start_time": "2024-05-31T17:17:34.963Z"
   },
   {
    "duration": 310,
    "start_time": "2024-05-31T17:17:35.072Z"
   },
   {
    "duration": 0,
    "start_time": "2024-05-31T17:17:35.387Z"
   },
   {
    "duration": 0,
    "start_time": "2024-05-31T17:17:35.389Z"
   },
   {
    "duration": 0,
    "start_time": "2024-05-31T17:17:35.392Z"
   },
   {
    "duration": 0,
    "start_time": "2024-05-31T17:17:35.395Z"
   },
   {
    "duration": 0,
    "start_time": "2024-05-31T17:17:35.398Z"
   },
   {
    "duration": 0,
    "start_time": "2024-05-31T17:17:35.402Z"
   },
   {
    "duration": 0,
    "start_time": "2024-05-31T17:17:35.430Z"
   },
   {
    "duration": 0,
    "start_time": "2024-05-31T17:17:35.431Z"
   },
   {
    "duration": 0,
    "start_time": "2024-05-31T17:17:35.433Z"
   },
   {
    "duration": 0,
    "start_time": "2024-05-31T17:17:35.434Z"
   },
   {
    "duration": 0,
    "start_time": "2024-05-31T17:17:35.436Z"
   },
   {
    "duration": 0,
    "start_time": "2024-05-31T17:17:35.437Z"
   },
   {
    "duration": 0,
    "start_time": "2024-05-31T17:17:35.441Z"
   },
   {
    "duration": 0,
    "start_time": "2024-05-31T17:17:35.443Z"
   },
   {
    "duration": 0,
    "start_time": "2024-05-31T17:17:35.445Z"
   },
   {
    "duration": 0,
    "start_time": "2024-05-31T17:17:35.457Z"
   },
   {
    "duration": 0,
    "start_time": "2024-05-31T17:17:35.459Z"
   },
   {
    "duration": 0,
    "start_time": "2024-05-31T17:17:35.462Z"
   },
   {
    "duration": 0,
    "start_time": "2024-05-31T17:17:35.466Z"
   },
   {
    "duration": 0,
    "start_time": "2024-05-31T17:17:35.468Z"
   },
   {
    "duration": 0,
    "start_time": "2024-05-31T17:17:35.471Z"
   },
   {
    "duration": 0,
    "start_time": "2024-05-31T17:17:35.474Z"
   },
   {
    "duration": 0,
    "start_time": "2024-05-31T17:17:35.478Z"
   },
   {
    "duration": 0,
    "start_time": "2024-05-31T17:17:35.481Z"
   },
   {
    "duration": 0,
    "start_time": "2024-05-31T17:17:35.484Z"
   },
   {
    "duration": 0,
    "start_time": "2024-05-31T17:17:35.488Z"
   },
   {
    "duration": 0,
    "start_time": "2024-05-31T17:17:35.523Z"
   },
   {
    "duration": 0,
    "start_time": "2024-05-31T17:17:35.525Z"
   },
   {
    "duration": 0,
    "start_time": "2024-05-31T17:17:35.527Z"
   },
   {
    "duration": 266,
    "start_time": "2024-05-31T17:18:07.065Z"
   },
   {
    "duration": 44,
    "start_time": "2024-05-31T17:18:18.467Z"
   },
   {
    "duration": 23,
    "start_time": "2024-05-31T17:18:45.865Z"
   },
   {
    "duration": 41,
    "start_time": "2024-05-31T17:18:54.293Z"
   },
   {
    "duration": 30,
    "start_time": "2024-05-31T17:20:22.139Z"
   },
   {
    "duration": 1521,
    "start_time": "2024-05-31T17:23:04.965Z"
   },
   {
    "duration": 970,
    "start_time": "2024-05-31T17:23:06.489Z"
   },
   {
    "duration": 36,
    "start_time": "2024-05-31T17:23:07.461Z"
   },
   {
    "duration": 121,
    "start_time": "2024-05-31T17:23:07.501Z"
   },
   {
    "duration": 133,
    "start_time": "2024-05-31T17:23:07.626Z"
   },
   {
    "duration": 13,
    "start_time": "2024-05-31T17:23:07.762Z"
   },
   {
    "duration": 53,
    "start_time": "2024-05-31T17:23:07.779Z"
   },
   {
    "duration": 22,
    "start_time": "2024-05-31T17:23:07.836Z"
   },
   {
    "duration": 64,
    "start_time": "2024-05-31T17:23:07.861Z"
   },
   {
    "duration": 11,
    "start_time": "2024-05-31T17:23:07.931Z"
   },
   {
    "duration": 30,
    "start_time": "2024-05-31T17:23:07.947Z"
   },
   {
    "duration": 67,
    "start_time": "2024-05-31T17:23:07.980Z"
   },
   {
    "duration": 183,
    "start_time": "2024-05-31T17:23:08.051Z"
   },
   {
    "duration": 13,
    "start_time": "2024-05-31T17:23:08.238Z"
   },
   {
    "duration": 8,
    "start_time": "2024-05-31T17:23:08.254Z"
   },
   {
    "duration": 4,
    "start_time": "2024-05-31T17:23:08.266Z"
   },
   {
    "duration": 53,
    "start_time": "2024-05-31T17:23:08.274Z"
   },
   {
    "duration": 13,
    "start_time": "2024-05-31T17:23:08.330Z"
   },
   {
    "duration": 12,
    "start_time": "2024-05-31T17:23:08.347Z"
   },
   {
    "duration": 8,
    "start_time": "2024-05-31T17:23:08.362Z"
   },
   {
    "duration": 25,
    "start_time": "2024-05-31T17:23:08.423Z"
   },
   {
    "duration": 4,
    "start_time": "2024-05-31T17:23:08.451Z"
   },
   {
    "duration": 480,
    "start_time": "2024-05-31T17:23:08.459Z"
   },
   {
    "duration": 0,
    "start_time": "2024-05-31T17:23:08.944Z"
   },
   {
    "duration": 0,
    "start_time": "2024-05-31T17:23:08.946Z"
   },
   {
    "duration": 0,
    "start_time": "2024-05-31T17:23:08.949Z"
   },
   {
    "duration": 0,
    "start_time": "2024-05-31T17:23:08.952Z"
   },
   {
    "duration": 0,
    "start_time": "2024-05-31T17:23:08.956Z"
   },
   {
    "duration": 1,
    "start_time": "2024-05-31T17:23:08.958Z"
   },
   {
    "duration": 0,
    "start_time": "2024-05-31T17:23:08.962Z"
   },
   {
    "duration": 0,
    "start_time": "2024-05-31T17:23:08.964Z"
   },
   {
    "duration": 0,
    "start_time": "2024-05-31T17:23:08.968Z"
   },
   {
    "duration": 0,
    "start_time": "2024-05-31T17:23:08.971Z"
   },
   {
    "duration": 0,
    "start_time": "2024-05-31T17:23:08.974Z"
   },
   {
    "duration": 0,
    "start_time": "2024-05-31T17:23:09.023Z"
   },
   {
    "duration": 0,
    "start_time": "2024-05-31T17:23:09.027Z"
   },
   {
    "duration": 0,
    "start_time": "2024-05-31T17:23:09.029Z"
   },
   {
    "duration": 0,
    "start_time": "2024-05-31T17:23:09.032Z"
   },
   {
    "duration": 0,
    "start_time": "2024-05-31T17:23:09.035Z"
   },
   {
    "duration": 0,
    "start_time": "2024-05-31T17:23:09.038Z"
   },
   {
    "duration": 0,
    "start_time": "2024-05-31T17:23:09.041Z"
   },
   {
    "duration": 0,
    "start_time": "2024-05-31T17:23:09.043Z"
   },
   {
    "duration": 0,
    "start_time": "2024-05-31T17:23:09.048Z"
   },
   {
    "duration": 0,
    "start_time": "2024-05-31T17:23:09.051Z"
   },
   {
    "duration": 0,
    "start_time": "2024-05-31T17:23:09.053Z"
   },
   {
    "duration": 0,
    "start_time": "2024-05-31T17:23:09.056Z"
   },
   {
    "duration": 0,
    "start_time": "2024-05-31T17:23:09.059Z"
   },
   {
    "duration": 0,
    "start_time": "2024-05-31T17:23:09.122Z"
   },
   {
    "duration": 0,
    "start_time": "2024-05-31T17:23:09.125Z"
   },
   {
    "duration": 0,
    "start_time": "2024-05-31T17:23:09.127Z"
   },
   {
    "duration": 1510,
    "start_time": "2024-05-31T18:53:18.322Z"
   },
   {
    "duration": 882,
    "start_time": "2024-05-31T18:53:19.836Z"
   },
   {
    "duration": 38,
    "start_time": "2024-05-31T18:53:20.720Z"
   },
   {
    "duration": 112,
    "start_time": "2024-05-31T18:53:20.763Z"
   },
   {
    "duration": 124,
    "start_time": "2024-05-31T18:53:20.878Z"
   },
   {
    "duration": 21,
    "start_time": "2024-05-31T18:53:21.005Z"
   },
   {
    "duration": 29,
    "start_time": "2024-05-31T18:53:21.028Z"
   },
   {
    "duration": 20,
    "start_time": "2024-05-31T18:53:21.060Z"
   },
   {
    "duration": 76,
    "start_time": "2024-05-31T18:53:21.083Z"
   },
   {
    "duration": 10,
    "start_time": "2024-05-31T18:53:21.165Z"
   },
   {
    "duration": 54,
    "start_time": "2024-05-31T18:53:21.178Z"
   },
   {
    "duration": 24,
    "start_time": "2024-05-31T18:53:21.236Z"
   },
   {
    "duration": 176,
    "start_time": "2024-05-31T18:53:21.266Z"
   },
   {
    "duration": 12,
    "start_time": "2024-05-31T18:53:21.445Z"
   },
   {
    "duration": 5,
    "start_time": "2024-05-31T18:53:21.461Z"
   },
   {
    "duration": 57,
    "start_time": "2024-05-31T18:53:21.470Z"
   },
   {
    "duration": 8,
    "start_time": "2024-05-31T18:53:21.530Z"
   },
   {
    "duration": 13,
    "start_time": "2024-05-31T18:53:21.542Z"
   },
   {
    "duration": 12,
    "start_time": "2024-05-31T18:53:21.558Z"
   },
   {
    "duration": 53,
    "start_time": "2024-05-31T18:53:21.573Z"
   },
   {
    "duration": 28,
    "start_time": "2024-05-31T18:53:21.630Z"
   },
   {
    "duration": 4,
    "start_time": "2024-05-31T18:53:21.662Z"
   },
   {
    "duration": 4,
    "start_time": "2024-05-31T18:53:21.670Z"
   },
   {
    "duration": 429,
    "start_time": "2024-05-31T18:53:21.722Z"
   },
   {
    "duration": 0,
    "start_time": "2024-05-31T18:53:22.156Z"
   },
   {
    "duration": 0,
    "start_time": "2024-05-31T18:53:22.159Z"
   },
   {
    "duration": 0,
    "start_time": "2024-05-31T18:53:22.160Z"
   },
   {
    "duration": 0,
    "start_time": "2024-05-31T18:53:22.163Z"
   },
   {
    "duration": 0,
    "start_time": "2024-05-31T18:53:22.165Z"
   },
   {
    "duration": 0,
    "start_time": "2024-05-31T18:53:22.168Z"
   },
   {
    "duration": 0,
    "start_time": "2024-05-31T18:53:22.169Z"
   },
   {
    "duration": 0,
    "start_time": "2024-05-31T18:53:22.172Z"
   },
   {
    "duration": 0,
    "start_time": "2024-05-31T18:53:22.174Z"
   },
   {
    "duration": 0,
    "start_time": "2024-05-31T18:53:22.176Z"
   },
   {
    "duration": 0,
    "start_time": "2024-05-31T18:53:22.179Z"
   },
   {
    "duration": 0,
    "start_time": "2024-05-31T18:53:22.181Z"
   },
   {
    "duration": 0,
    "start_time": "2024-05-31T18:53:22.223Z"
   },
   {
    "duration": 0,
    "start_time": "2024-05-31T18:53:22.225Z"
   },
   {
    "duration": 0,
    "start_time": "2024-05-31T18:53:22.228Z"
   },
   {
    "duration": 0,
    "start_time": "2024-05-31T18:53:22.231Z"
   },
   {
    "duration": 0,
    "start_time": "2024-05-31T18:53:22.234Z"
   },
   {
    "duration": 0,
    "start_time": "2024-05-31T18:53:22.235Z"
   },
   {
    "duration": 0,
    "start_time": "2024-05-31T18:53:22.238Z"
   },
   {
    "duration": 0,
    "start_time": "2024-05-31T18:53:22.241Z"
   },
   {
    "duration": 1,
    "start_time": "2024-05-31T18:53:22.242Z"
   },
   {
    "duration": 0,
    "start_time": "2024-05-31T18:53:22.246Z"
   },
   {
    "duration": 0,
    "start_time": "2024-05-31T18:53:22.253Z"
   },
   {
    "duration": 0,
    "start_time": "2024-05-31T18:53:22.255Z"
   },
   {
    "duration": 0,
    "start_time": "2024-05-31T18:53:22.258Z"
   },
   {
    "duration": 0,
    "start_time": "2024-05-31T18:53:22.261Z"
   },
   {
    "duration": 0,
    "start_time": "2024-05-31T18:53:22.322Z"
   },
   {
    "duration": 76,
    "start_time": "2024-05-31T18:56:28.017Z"
   },
   {
    "duration": 27,
    "start_time": "2024-05-31T18:56:36.065Z"
   },
   {
    "duration": 1611,
    "start_time": "2024-05-31T18:56:49.551Z"
   },
   {
    "duration": 1098,
    "start_time": "2024-05-31T18:56:51.166Z"
   },
   {
    "duration": 38,
    "start_time": "2024-05-31T18:56:52.267Z"
   },
   {
    "duration": 104,
    "start_time": "2024-05-31T18:56:52.322Z"
   },
   {
    "duration": 150,
    "start_time": "2024-05-31T18:56:52.430Z"
   },
   {
    "duration": 15,
    "start_time": "2024-05-31T18:56:52.584Z"
   },
   {
    "duration": 49,
    "start_time": "2024-05-31T18:56:52.602Z"
   },
   {
    "duration": 30,
    "start_time": "2024-05-31T18:56:52.658Z"
   },
   {
    "duration": 64,
    "start_time": "2024-05-31T18:56:52.692Z"
   },
   {
    "duration": 12,
    "start_time": "2024-05-31T18:56:52.763Z"
   },
   {
    "duration": 68,
    "start_time": "2024-05-31T18:56:52.779Z"
   },
   {
    "duration": 28,
    "start_time": "2024-05-31T18:56:52.850Z"
   },
   {
    "duration": 249,
    "start_time": "2024-05-31T18:56:52.885Z"
   },
   {
    "duration": 26,
    "start_time": "2024-05-31T18:56:53.139Z"
   },
   {
    "duration": 6,
    "start_time": "2024-05-31T18:56:53.168Z"
   },
   {
    "duration": 51,
    "start_time": "2024-05-31T18:56:53.178Z"
   },
   {
    "duration": 9,
    "start_time": "2024-05-31T18:56:53.233Z"
   },
   {
    "duration": 16,
    "start_time": "2024-05-31T18:56:53.246Z"
   },
   {
    "duration": 59,
    "start_time": "2024-05-31T18:56:53.265Z"
   },
   {
    "duration": 8,
    "start_time": "2024-05-31T18:56:53.328Z"
   },
   {
    "duration": 22,
    "start_time": "2024-05-31T18:56:53.340Z"
   },
   {
    "duration": 70,
    "start_time": "2024-05-31T18:56:53.366Z"
   },
   {
    "duration": 5,
    "start_time": "2024-05-31T18:56:53.440Z"
   },
   {
    "duration": 4,
    "start_time": "2024-05-31T18:56:53.451Z"
   },
   {
    "duration": 524,
    "start_time": "2024-05-31T18:56:53.458Z"
   },
   {
    "duration": 0,
    "start_time": "2024-05-31T18:56:53.989Z"
   },
   {
    "duration": 0,
    "start_time": "2024-05-31T18:56:53.992Z"
   },
   {
    "duration": 0,
    "start_time": "2024-05-31T18:56:53.996Z"
   },
   {
    "duration": 0,
    "start_time": "2024-05-31T18:56:54.000Z"
   },
   {
    "duration": 0,
    "start_time": "2024-05-31T18:56:54.025Z"
   },
   {
    "duration": 0,
    "start_time": "2024-05-31T18:56:54.028Z"
   },
   {
    "duration": 0,
    "start_time": "2024-05-31T18:56:54.031Z"
   },
   {
    "duration": 0,
    "start_time": "2024-05-31T18:56:54.034Z"
   },
   {
    "duration": 0,
    "start_time": "2024-05-31T18:56:54.037Z"
   },
   {
    "duration": 0,
    "start_time": "2024-05-31T18:56:54.039Z"
   },
   {
    "duration": 0,
    "start_time": "2024-05-31T18:56:54.041Z"
   },
   {
    "duration": 0,
    "start_time": "2024-05-31T18:56:54.043Z"
   },
   {
    "duration": 0,
    "start_time": "2024-05-31T18:56:54.047Z"
   },
   {
    "duration": 0,
    "start_time": "2024-05-31T18:56:54.050Z"
   },
   {
    "duration": 0,
    "start_time": "2024-05-31T18:56:54.052Z"
   },
   {
    "duration": 0,
    "start_time": "2024-05-31T18:56:54.054Z"
   },
   {
    "duration": 0,
    "start_time": "2024-05-31T18:56:54.059Z"
   },
   {
    "duration": 0,
    "start_time": "2024-05-31T18:56:54.062Z"
   },
   {
    "duration": 0,
    "start_time": "2024-05-31T18:56:54.065Z"
   },
   {
    "duration": 0,
    "start_time": "2024-05-31T18:56:54.125Z"
   },
   {
    "duration": 0,
    "start_time": "2024-05-31T18:56:54.128Z"
   },
   {
    "duration": 0,
    "start_time": "2024-05-31T18:56:54.130Z"
   },
   {
    "duration": 0,
    "start_time": "2024-05-31T18:56:54.132Z"
   },
   {
    "duration": 0,
    "start_time": "2024-05-31T18:56:54.135Z"
   },
   {
    "duration": 0,
    "start_time": "2024-05-31T18:56:54.140Z"
   },
   {
    "duration": 0,
    "start_time": "2024-05-31T18:56:54.142Z"
   },
   {
    "duration": 0,
    "start_time": "2024-05-31T18:56:54.145Z"
   },
   {
    "duration": 25,
    "start_time": "2024-05-31T19:01:21.283Z"
   },
   {
    "duration": 6,
    "start_time": "2024-05-31T19:02:53.839Z"
   },
   {
    "duration": 7,
    "start_time": "2024-05-31T19:03:00.568Z"
   },
   {
    "duration": 1752,
    "start_time": "2024-05-31T19:09:19.465Z"
   },
   {
    "duration": 1021,
    "start_time": "2024-05-31T19:09:21.222Z"
   },
   {
    "duration": 37,
    "start_time": "2024-05-31T19:09:22.246Z"
   },
   {
    "duration": 126,
    "start_time": "2024-05-31T19:09:22.288Z"
   },
   {
    "duration": 124,
    "start_time": "2024-05-31T19:09:22.427Z"
   },
   {
    "duration": 15,
    "start_time": "2024-05-31T19:09:22.555Z"
   },
   {
    "duration": 73,
    "start_time": "2024-05-31T19:09:22.573Z"
   },
   {
    "duration": 35,
    "start_time": "2024-05-31T19:09:22.649Z"
   },
   {
    "duration": 55,
    "start_time": "2024-05-31T19:09:22.687Z"
   },
   {
    "duration": 35,
    "start_time": "2024-05-31T19:09:22.748Z"
   },
   {
    "duration": 37,
    "start_time": "2024-05-31T19:09:22.786Z"
   },
   {
    "duration": 31,
    "start_time": "2024-05-31T19:09:22.827Z"
   },
   {
    "duration": 61,
    "start_time": "2024-05-31T19:09:22.862Z"
   },
   {
    "duration": 26,
    "start_time": "2024-05-31T19:09:22.927Z"
   },
   {
    "duration": 190,
    "start_time": "2024-05-31T19:09:22.956Z"
   },
   {
    "duration": 13,
    "start_time": "2024-05-31T19:09:23.150Z"
   },
   {
    "duration": 5,
    "start_time": "2024-05-31T19:09:23.168Z"
   },
   {
    "duration": 61,
    "start_time": "2024-05-31T19:09:23.177Z"
   },
   {
    "duration": 9,
    "start_time": "2024-05-31T19:09:23.241Z"
   },
   {
    "duration": 12,
    "start_time": "2024-05-31T19:09:23.254Z"
   },
   {
    "duration": 56,
    "start_time": "2024-05-31T19:09:23.269Z"
   },
   {
    "duration": 7,
    "start_time": "2024-05-31T19:09:23.328Z"
   },
   {
    "duration": 36,
    "start_time": "2024-05-31T19:09:23.338Z"
   },
   {
    "duration": 7,
    "start_time": "2024-05-31T19:09:23.377Z"
   },
   {
    "duration": 40,
    "start_time": "2024-05-31T19:09:23.388Z"
   },
   {
    "duration": 1168,
    "start_time": "2024-05-31T19:09:23.432Z"
   },
   {
    "duration": 0,
    "start_time": "2024-05-31T19:09:24.606Z"
   },
   {
    "duration": 0,
    "start_time": "2024-05-31T19:09:24.609Z"
   },
   {
    "duration": 0,
    "start_time": "2024-05-31T19:09:24.623Z"
   },
   {
    "duration": 0,
    "start_time": "2024-05-31T19:09:24.631Z"
   },
   {
    "duration": 0,
    "start_time": "2024-05-31T19:09:24.634Z"
   },
   {
    "duration": 0,
    "start_time": "2024-05-31T19:09:24.636Z"
   },
   {
    "duration": 0,
    "start_time": "2024-05-31T19:09:24.639Z"
   },
   {
    "duration": 1,
    "start_time": "2024-05-31T19:09:24.642Z"
   },
   {
    "duration": 0,
    "start_time": "2024-05-31T19:09:24.645Z"
   },
   {
    "duration": 0,
    "start_time": "2024-05-31T19:09:24.647Z"
   },
   {
    "duration": 0,
    "start_time": "2024-05-31T19:09:24.649Z"
   },
   {
    "duration": 0,
    "start_time": "2024-05-31T19:09:24.651Z"
   },
   {
    "duration": 0,
    "start_time": "2024-05-31T19:09:24.653Z"
   },
   {
    "duration": 0,
    "start_time": "2024-05-31T19:09:24.655Z"
   },
   {
    "duration": 0,
    "start_time": "2024-05-31T19:09:24.657Z"
   },
   {
    "duration": 0,
    "start_time": "2024-05-31T19:09:24.659Z"
   },
   {
    "duration": 0,
    "start_time": "2024-05-31T19:09:24.662Z"
   },
   {
    "duration": 0,
    "start_time": "2024-05-31T19:09:24.663Z"
   },
   {
    "duration": 0,
    "start_time": "2024-05-31T19:09:24.665Z"
   },
   {
    "duration": 0,
    "start_time": "2024-05-31T19:09:24.667Z"
   },
   {
    "duration": 0,
    "start_time": "2024-05-31T19:09:24.668Z"
   },
   {
    "duration": 0,
    "start_time": "2024-05-31T19:09:24.670Z"
   },
   {
    "duration": 0,
    "start_time": "2024-05-31T19:09:24.725Z"
   },
   {
    "duration": 0,
    "start_time": "2024-05-31T19:09:24.727Z"
   },
   {
    "duration": 0,
    "start_time": "2024-05-31T19:09:24.730Z"
   },
   {
    "duration": 0,
    "start_time": "2024-05-31T19:09:24.734Z"
   },
   {
    "duration": 0,
    "start_time": "2024-05-31T19:09:24.737Z"
   },
   {
    "duration": 0,
    "start_time": "2024-05-31T19:09:24.740Z"
   },
   {
    "duration": 33,
    "start_time": "2024-05-31T19:11:58.682Z"
   },
   {
    "duration": 60,
    "start_time": "2024-05-31T19:13:19.521Z"
   },
   {
    "duration": 22,
    "start_time": "2024-05-31T19:13:24.481Z"
   },
   {
    "duration": 68,
    "start_time": "2024-05-31T19:13:56.885Z"
   },
   {
    "duration": 47,
    "start_time": "2024-05-31T19:14:02.505Z"
   },
   {
    "duration": 23,
    "start_time": "2024-05-31T19:14:06.696Z"
   },
   {
    "duration": 1539,
    "start_time": "2024-05-31T19:14:21.470Z"
   },
   {
    "duration": 1069,
    "start_time": "2024-05-31T19:14:23.014Z"
   },
   {
    "duration": 33,
    "start_time": "2024-05-31T19:14:24.087Z"
   },
   {
    "duration": 104,
    "start_time": "2024-05-31T19:14:24.127Z"
   },
   {
    "duration": 138,
    "start_time": "2024-05-31T19:14:24.236Z"
   },
   {
    "duration": 15,
    "start_time": "2024-05-31T19:14:24.378Z"
   },
   {
    "duration": 77,
    "start_time": "2024-05-31T19:14:24.396Z"
   },
   {
    "duration": 33,
    "start_time": "2024-05-31T19:14:24.477Z"
   },
   {
    "duration": 27,
    "start_time": "2024-05-31T19:14:24.528Z"
   },
   {
    "duration": 33,
    "start_time": "2024-05-31T19:14:24.559Z"
   },
   {
    "duration": 58,
    "start_time": "2024-05-31T19:14:24.596Z"
   },
   {
    "duration": 32,
    "start_time": "2024-05-31T19:14:24.657Z"
   },
   {
    "duration": 53,
    "start_time": "2024-05-31T19:14:24.693Z"
   },
   {
    "duration": 25,
    "start_time": "2024-05-31T19:14:24.753Z"
   },
   {
    "duration": 191,
    "start_time": "2024-05-31T19:14:24.781Z"
   },
   {
    "duration": 15,
    "start_time": "2024-05-31T19:14:24.975Z"
   },
   {
    "duration": 32,
    "start_time": "2024-05-31T19:14:24.993Z"
   },
   {
    "duration": 26,
    "start_time": "2024-05-31T19:14:25.030Z"
   },
   {
    "duration": 9,
    "start_time": "2024-05-31T19:14:25.059Z"
   },
   {
    "duration": 13,
    "start_time": "2024-05-31T19:14:25.071Z"
   },
   {
    "duration": 20,
    "start_time": "2024-05-31T19:14:25.130Z"
   },
   {
    "duration": 11,
    "start_time": "2024-05-31T19:14:25.154Z"
   },
   {
    "duration": 25,
    "start_time": "2024-05-31T19:14:25.168Z"
   },
   {
    "duration": 56,
    "start_time": "2024-05-31T19:14:25.196Z"
   },
   {
    "duration": 6,
    "start_time": "2024-05-31T19:14:25.255Z"
   },
   {
    "duration": 3,
    "start_time": "2024-05-31T19:14:25.270Z"
   },
   {
    "duration": 5,
    "start_time": "2024-05-31T19:14:25.277Z"
   },
   {
    "duration": 5,
    "start_time": "2024-05-31T19:14:25.285Z"
   },
   {
    "duration": 52,
    "start_time": "2024-05-31T19:14:25.293Z"
   },
   {
    "duration": 8,
    "start_time": "2024-05-31T19:14:25.350Z"
   },
   {
    "duration": 13,
    "start_time": "2024-05-31T19:14:25.361Z"
   },
   {
    "duration": 10,
    "start_time": "2024-05-31T19:14:25.376Z"
   },
   {
    "duration": 73,
    "start_time": "2024-05-31T19:14:25.389Z"
   },
   {
    "duration": 7,
    "start_time": "2024-05-31T19:14:25.466Z"
   },
   {
    "duration": 414,
    "start_time": "2024-05-31T19:14:25.477Z"
   },
   {
    "duration": 410,
    "start_time": "2024-05-31T19:14:25.894Z"
   },
   {
    "duration": 431,
    "start_time": "2024-05-31T19:14:26.307Z"
   },
   {
    "duration": 13,
    "start_time": "2024-05-31T19:14:26.752Z"
   },
   {
    "duration": 14,
    "start_time": "2024-05-31T19:14:26.768Z"
   },
   {
    "duration": 1177,
    "start_time": "2024-05-31T19:14:26.784Z"
   },
   {
    "duration": 21,
    "start_time": "2024-05-31T19:14:27.970Z"
   },
   {
    "duration": 55,
    "start_time": "2024-05-31T19:14:27.996Z"
   },
   {
    "duration": 220,
    "start_time": "2024-05-31T19:14:28.055Z"
   },
   {
    "duration": 19,
    "start_time": "2024-05-31T19:14:28.285Z"
   },
   {
    "duration": 246,
    "start_time": "2024-05-31T19:14:28.307Z"
   },
   {
    "duration": 14,
    "start_time": "2024-05-31T19:14:28.557Z"
   },
   {
    "duration": 242,
    "start_time": "2024-05-31T19:14:28.575Z"
   },
   {
    "duration": 23,
    "start_time": "2024-05-31T19:14:28.831Z"
   },
   {
    "duration": 8,
    "start_time": "2024-05-31T19:14:28.857Z"
   },
   {
    "duration": 3,
    "start_time": "2024-05-31T19:14:28.869Z"
   },
   {
    "duration": 606,
    "start_time": "2024-05-31T19:14:28.877Z"
   },
   {
    "duration": 0,
    "start_time": "2024-05-31T19:14:29.487Z"
   },
   {
    "duration": 0,
    "start_time": "2024-05-31T19:14:29.489Z"
   },
   {
    "duration": 0,
    "start_time": "2024-05-31T19:14:29.492Z"
   },
   {
    "duration": 5,
    "start_time": "2024-05-31T19:15:29.336Z"
   },
   {
    "duration": 5,
    "start_time": "2024-05-31T19:18:37.340Z"
   },
   {
    "duration": 4,
    "start_time": "2024-05-31T20:08:27.237Z"
   },
   {
    "duration": 1475,
    "start_time": "2024-05-31T20:09:47.379Z"
   },
   {
    "duration": 914,
    "start_time": "2024-05-31T20:09:48.859Z"
   },
   {
    "duration": 49,
    "start_time": "2024-05-31T20:09:49.776Z"
   },
   {
    "duration": 116,
    "start_time": "2024-05-31T20:09:49.832Z"
   },
   {
    "duration": 122,
    "start_time": "2024-05-31T20:09:49.951Z"
   },
   {
    "duration": 16,
    "start_time": "2024-05-31T20:09:50.076Z"
   },
   {
    "duration": 62,
    "start_time": "2024-05-31T20:09:50.094Z"
   },
   {
    "duration": 29,
    "start_time": "2024-05-31T20:09:50.162Z"
   },
   {
    "duration": 20,
    "start_time": "2024-05-31T20:09:50.223Z"
   },
   {
    "duration": 35,
    "start_time": "2024-05-31T20:09:50.249Z"
   },
   {
    "duration": 39,
    "start_time": "2024-05-31T20:09:50.289Z"
   },
   {
    "duration": 32,
    "start_time": "2024-05-31T20:09:50.332Z"
   },
   {
    "duration": 37,
    "start_time": "2024-05-31T20:09:50.367Z"
   },
   {
    "duration": 27,
    "start_time": "2024-05-31T20:09:50.424Z"
   },
   {
    "duration": 187,
    "start_time": "2024-05-31T20:09:50.455Z"
   },
   {
    "duration": 14,
    "start_time": "2024-05-31T20:09:50.647Z"
   },
   {
    "duration": 5,
    "start_time": "2024-05-31T20:09:50.665Z"
   },
   {
    "duration": 53,
    "start_time": "2024-05-31T20:09:50.673Z"
   },
   {
    "duration": 9,
    "start_time": "2024-05-31T20:09:50.732Z"
   },
   {
    "duration": 12,
    "start_time": "2024-05-31T20:09:50.744Z"
   },
   {
    "duration": 10,
    "start_time": "2024-05-31T20:09:50.759Z"
   },
   {
    "duration": 8,
    "start_time": "2024-05-31T20:09:50.771Z"
   },
   {
    "duration": 25,
    "start_time": "2024-05-31T20:09:50.825Z"
   },
   {
    "duration": 6,
    "start_time": "2024-05-31T20:09:50.854Z"
   },
   {
    "duration": 6,
    "start_time": "2024-05-31T20:09:50.864Z"
   },
   {
    "duration": 55,
    "start_time": "2024-05-31T20:09:50.873Z"
   },
   {
    "duration": 13,
    "start_time": "2024-05-31T20:09:50.933Z"
   },
   {
    "duration": 9,
    "start_time": "2024-05-31T20:09:50.954Z"
   },
   {
    "duration": 57,
    "start_time": "2024-05-31T20:09:50.966Z"
   },
   {
    "duration": 6,
    "start_time": "2024-05-31T20:09:51.026Z"
   },
   {
    "duration": 403,
    "start_time": "2024-05-31T20:09:51.036Z"
   },
   {
    "duration": 385,
    "start_time": "2024-05-31T20:09:51.442Z"
   },
   {
    "duration": 341,
    "start_time": "2024-05-31T20:09:51.829Z"
   },
   {
    "duration": 12,
    "start_time": "2024-05-31T20:09:52.172Z"
   },
   {
    "duration": 40,
    "start_time": "2024-05-31T20:09:52.187Z"
   },
   {
    "duration": 1095,
    "start_time": "2024-05-31T20:09:52.230Z"
   },
   {
    "duration": 21,
    "start_time": "2024-05-31T20:09:53.329Z"
   },
   {
    "duration": 13,
    "start_time": "2024-05-31T20:09:53.353Z"
   },
   {
    "duration": 242,
    "start_time": "2024-05-31T20:09:53.370Z"
   },
   {
    "duration": 18,
    "start_time": "2024-05-31T20:09:53.615Z"
   },
   {
    "duration": 208,
    "start_time": "2024-05-31T20:09:53.636Z"
   },
   {
    "duration": 13,
    "start_time": "2024-05-31T20:09:53.847Z"
   },
   {
    "duration": 260,
    "start_time": "2024-05-31T20:09:53.863Z"
   },
   {
    "duration": 6,
    "start_time": "2024-05-31T20:09:54.125Z"
   },
   {
    "duration": 1888,
    "start_time": "2024-05-31T20:09:54.135Z"
   },
   {
    "duration": 0,
    "start_time": "2024-05-31T20:09:56.026Z"
   },
   {
    "duration": 0,
    "start_time": "2024-05-31T20:09:56.029Z"
   },
   {
    "duration": 0,
    "start_time": "2024-05-31T20:09:56.032Z"
   },
   {
    "duration": 0,
    "start_time": "2024-05-31T20:09:56.034Z"
   },
   {
    "duration": 0,
    "start_time": "2024-05-31T20:09:56.036Z"
   },
   {
    "duration": 0,
    "start_time": "2024-05-31T20:09:56.038Z"
   },
   {
    "duration": 0,
    "start_time": "2024-05-31T20:09:56.040Z"
   },
   {
    "duration": 11,
    "start_time": "2024-05-31T20:10:11.292Z"
   },
   {
    "duration": 105,
    "start_time": "2024-05-31T20:10:13.697Z"
   },
   {
    "duration": 29,
    "start_time": "2024-05-31T20:10:22.025Z"
   },
   {
    "duration": 4,
    "start_time": "2024-05-31T20:10:24.425Z"
   },
   {
    "duration": 24,
    "start_time": "2024-05-31T20:10:24.964Z"
   },
   {
    "duration": 1467,
    "start_time": "2024-05-31T20:10:31.877Z"
   },
   {
    "duration": 892,
    "start_time": "2024-05-31T20:10:33.348Z"
   },
   {
    "duration": 36,
    "start_time": "2024-05-31T20:10:34.242Z"
   },
   {
    "duration": 112,
    "start_time": "2024-05-31T20:10:34.281Z"
   },
   {
    "duration": 126,
    "start_time": "2024-05-31T20:10:34.398Z"
   },
   {
    "duration": 13,
    "start_time": "2024-05-31T20:10:34.527Z"
   },
   {
    "duration": 35,
    "start_time": "2024-05-31T20:10:34.544Z"
   },
   {
    "duration": 60,
    "start_time": "2024-05-31T20:10:34.582Z"
   },
   {
    "duration": 20,
    "start_time": "2024-05-31T20:10:34.646Z"
   },
   {
    "duration": 66,
    "start_time": "2024-05-31T20:10:34.669Z"
   },
   {
    "duration": 11,
    "start_time": "2024-05-31T20:10:34.737Z"
   },
   {
    "duration": 31,
    "start_time": "2024-05-31T20:10:34.751Z"
   },
   {
    "duration": 63,
    "start_time": "2024-05-31T20:10:34.786Z"
   },
   {
    "duration": 31,
    "start_time": "2024-05-31T20:10:34.857Z"
   },
   {
    "duration": 194,
    "start_time": "2024-05-31T20:10:34.891Z"
   },
   {
    "duration": 13,
    "start_time": "2024-05-31T20:10:35.089Z"
   },
   {
    "duration": 22,
    "start_time": "2024-05-31T20:10:35.105Z"
   },
   {
    "duration": 19,
    "start_time": "2024-05-31T20:10:35.131Z"
   },
   {
    "duration": 9,
    "start_time": "2024-05-31T20:10:35.152Z"
   },
   {
    "duration": 60,
    "start_time": "2024-05-31T20:10:35.165Z"
   },
   {
    "duration": 11,
    "start_time": "2024-05-31T20:10:35.228Z"
   },
   {
    "duration": 7,
    "start_time": "2024-05-31T20:10:35.243Z"
   },
   {
    "duration": 25,
    "start_time": "2024-05-31T20:10:35.254Z"
   },
   {
    "duration": 7,
    "start_time": "2024-05-31T20:10:35.324Z"
   },
   {
    "duration": 6,
    "start_time": "2024-05-31T20:10:35.334Z"
   },
   {
    "duration": 9,
    "start_time": "2024-05-31T20:10:35.343Z"
   },
   {
    "duration": 13,
    "start_time": "2024-05-31T20:10:35.355Z"
   },
   {
    "duration": 9,
    "start_time": "2024-05-31T20:10:35.422Z"
   },
   {
    "duration": 13,
    "start_time": "2024-05-31T20:10:35.434Z"
   },
   {
    "duration": 6,
    "start_time": "2024-05-31T20:10:35.450Z"
   },
   {
    "duration": 414,
    "start_time": "2024-05-31T20:10:35.459Z"
   },
   {
    "duration": 382,
    "start_time": "2024-05-31T20:10:35.877Z"
   },
   {
    "duration": 348,
    "start_time": "2024-05-31T20:10:36.262Z"
   },
   {
    "duration": 19,
    "start_time": "2024-05-31T20:10:36.613Z"
   },
   {
    "duration": 13,
    "start_time": "2024-05-31T20:10:36.635Z"
   },
   {
    "duration": 1271,
    "start_time": "2024-05-31T20:10:36.651Z"
   },
   {
    "duration": 21,
    "start_time": "2024-05-31T20:10:37.926Z"
   },
   {
    "duration": 13,
    "start_time": "2024-05-31T20:10:37.951Z"
   },
   {
    "duration": 236,
    "start_time": "2024-05-31T20:10:37.968Z"
   },
   {
    "duration": 21,
    "start_time": "2024-05-31T20:10:38.210Z"
   },
   {
    "duration": 207,
    "start_time": "2024-05-31T20:10:38.241Z"
   },
   {
    "duration": 14,
    "start_time": "2024-05-31T20:10:38.451Z"
   },
   {
    "duration": 256,
    "start_time": "2024-05-31T20:10:38.469Z"
   },
   {
    "duration": 6,
    "start_time": "2024-05-31T20:10:38.728Z"
   },
   {
    "duration": 10,
    "start_time": "2024-05-31T20:10:38.737Z"
   },
   {
    "duration": 38,
    "start_time": "2024-05-31T20:10:38.751Z"
   },
   {
    "duration": 34,
    "start_time": "2024-05-31T20:10:38.791Z"
   },
   {
    "duration": 518,
    "start_time": "2024-05-31T20:10:38.829Z"
   },
   {
    "duration": 0,
    "start_time": "2024-05-31T20:10:39.351Z"
   },
   {
    "duration": 0,
    "start_time": "2024-05-31T20:10:39.354Z"
   },
   {
    "duration": 0,
    "start_time": "2024-05-31T20:10:39.356Z"
   },
   {
    "duration": 0,
    "start_time": "2024-05-31T20:10:39.358Z"
   },
   {
    "duration": 43,
    "start_time": "2024-05-31T20:25:03.446Z"
   },
   {
    "duration": 41,
    "start_time": "2024-05-31T20:26:12.203Z"
   },
   {
    "duration": 44,
    "start_time": "2024-05-31T20:26:22.684Z"
   },
   {
    "duration": 20,
    "start_time": "2024-05-31T20:27:00.653Z"
   },
   {
    "duration": 20,
    "start_time": "2024-05-31T20:27:11.629Z"
   },
   {
    "duration": 17,
    "start_time": "2024-05-31T20:28:33.355Z"
   },
   {
    "duration": 1531,
    "start_time": "2024-05-31T20:34:25.539Z"
   },
   {
    "duration": 1074,
    "start_time": "2024-05-31T20:34:27.074Z"
   },
   {
    "duration": 37,
    "start_time": "2024-05-31T20:34:28.151Z"
   },
   {
    "duration": 117,
    "start_time": "2024-05-31T20:34:28.194Z"
   },
   {
    "duration": 135,
    "start_time": "2024-05-31T20:34:28.323Z"
   },
   {
    "duration": 15,
    "start_time": "2024-05-31T20:34:28.462Z"
   },
   {
    "duration": 64,
    "start_time": "2024-05-31T20:34:28.481Z"
   },
   {
    "duration": 32,
    "start_time": "2024-05-31T20:34:28.549Z"
   },
   {
    "duration": 58,
    "start_time": "2024-05-31T20:34:28.585Z"
   },
   {
    "duration": 34,
    "start_time": "2024-05-31T20:34:28.649Z"
   },
   {
    "duration": 10,
    "start_time": "2024-05-31T20:34:28.686Z"
   },
   {
    "duration": 32,
    "start_time": "2024-05-31T20:34:28.722Z"
   },
   {
    "duration": 38,
    "start_time": "2024-05-31T20:34:28.761Z"
   },
   {
    "duration": 37,
    "start_time": "2024-05-31T20:34:28.823Z"
   },
   {
    "duration": 205,
    "start_time": "2024-05-31T20:34:28.863Z"
   },
   {
    "duration": 15,
    "start_time": "2024-05-31T20:34:29.071Z"
   },
   {
    "duration": 33,
    "start_time": "2024-05-31T20:34:29.090Z"
   },
   {
    "duration": 36,
    "start_time": "2024-05-31T20:34:29.128Z"
   },
   {
    "duration": 15,
    "start_time": "2024-05-31T20:34:29.172Z"
   },
   {
    "duration": 40,
    "start_time": "2024-05-31T20:34:29.191Z"
   },
   {
    "duration": 11,
    "start_time": "2024-05-31T20:34:29.236Z"
   },
   {
    "duration": 9,
    "start_time": "2024-05-31T20:34:29.251Z"
   },
   {
    "duration": 74,
    "start_time": "2024-05-31T20:34:29.264Z"
   },
   {
    "duration": 7,
    "start_time": "2024-05-31T20:34:29.343Z"
   },
   {
    "duration": 7,
    "start_time": "2024-05-31T20:34:29.354Z"
   },
   {
    "duration": 9,
    "start_time": "2024-05-31T20:34:29.365Z"
   },
   {
    "duration": 54,
    "start_time": "2024-05-31T20:34:29.378Z"
   },
   {
    "duration": 9,
    "start_time": "2024-05-31T20:34:29.441Z"
   },
   {
    "duration": 14,
    "start_time": "2024-05-31T20:34:29.453Z"
   },
   {
    "duration": 52,
    "start_time": "2024-05-31T20:34:29.471Z"
   },
   {
    "duration": 489,
    "start_time": "2024-05-31T20:34:29.527Z"
   },
   {
    "duration": 436,
    "start_time": "2024-05-31T20:34:30.028Z"
   },
   {
    "duration": 385,
    "start_time": "2024-05-31T20:34:30.468Z"
   },
   {
    "duration": 12,
    "start_time": "2024-05-31T20:34:30.857Z"
   },
   {
    "duration": 14,
    "start_time": "2024-05-31T20:34:30.871Z"
   },
   {
    "duration": 1233,
    "start_time": "2024-05-31T20:34:30.891Z"
   },
   {
    "duration": 24,
    "start_time": "2024-05-31T20:34:32.128Z"
   },
   {
    "duration": 16,
    "start_time": "2024-05-31T20:34:32.156Z"
   },
   {
    "duration": 248,
    "start_time": "2024-05-31T20:34:32.176Z"
   },
   {
    "duration": 14,
    "start_time": "2024-05-31T20:34:32.431Z"
   },
   {
    "duration": 257,
    "start_time": "2024-05-31T20:34:32.451Z"
   },
   {
    "duration": 26,
    "start_time": "2024-05-31T20:34:32.711Z"
   },
   {
    "duration": 269,
    "start_time": "2024-05-31T20:34:32.740Z"
   },
   {
    "duration": 11,
    "start_time": "2024-05-31T20:34:33.013Z"
   },
   {
    "duration": 12,
    "start_time": "2024-05-31T20:34:33.029Z"
   },
   {
    "duration": 41,
    "start_time": "2024-05-31T20:34:33.045Z"
   },
   {
    "duration": 23,
    "start_time": "2024-05-31T20:34:33.124Z"
   },
   {
    "duration": 573,
    "start_time": "2024-05-31T20:34:33.151Z"
   },
   {
    "duration": 1,
    "start_time": "2024-05-31T20:34:33.727Z"
   },
   {
    "duration": 0,
    "start_time": "2024-05-31T20:34:33.735Z"
   },
   {
    "duration": 0,
    "start_time": "2024-05-31T20:34:33.750Z"
   },
   {
    "duration": 45,
    "start_time": "2024-05-31T20:36:23.465Z"
   },
   {
    "duration": 17,
    "start_time": "2024-05-31T20:36:34.883Z"
   },
   {
    "duration": 17,
    "start_time": "2024-05-31T20:37:22.492Z"
   },
   {
    "duration": 26,
    "start_time": "2024-05-31T20:38:11.235Z"
   },
   {
    "duration": 338,
    "start_time": "2024-05-31T20:54:19.948Z"
   },
   {
    "duration": 170,
    "start_time": "2024-05-31T21:25:02.668Z"
   },
   {
    "duration": 27,
    "start_time": "2024-05-31T21:31:30.472Z"
   },
   {
    "duration": 14,
    "start_time": "2024-05-31T21:31:45.112Z"
   },
   {
    "duration": 33,
    "start_time": "2024-05-31T21:34:43.173Z"
   },
   {
    "duration": 12,
    "start_time": "2024-05-31T21:34:58.119Z"
   },
   {
    "duration": 32,
    "start_time": "2024-05-31T21:35:12.339Z"
   },
   {
    "duration": 29,
    "start_time": "2024-05-31T21:35:17.007Z"
   },
   {
    "duration": 16,
    "start_time": "2024-05-31T21:35:49.404Z"
   },
   {
    "duration": 14,
    "start_time": "2024-05-31T21:35:53.697Z"
   },
   {
    "duration": 9,
    "start_time": "2024-05-31T21:36:12.393Z"
   },
   {
    "duration": 15,
    "start_time": "2024-05-31T21:36:22.514Z"
   },
   {
    "duration": 10,
    "start_time": "2024-05-31T21:36:29.986Z"
   },
   {
    "duration": 1597,
    "start_time": "2024-05-31T21:36:39.021Z"
   },
   {
    "duration": 841,
    "start_time": "2024-05-31T21:36:40.623Z"
   },
   {
    "duration": 35,
    "start_time": "2024-05-31T21:36:41.467Z"
   },
   {
    "duration": 85,
    "start_time": "2024-05-31T21:36:41.522Z"
   },
   {
    "duration": 117,
    "start_time": "2024-05-31T21:36:41.622Z"
   },
   {
    "duration": 16,
    "start_time": "2024-05-31T21:36:41.742Z"
   },
   {
    "duration": 31,
    "start_time": "2024-05-31T21:36:41.762Z"
   },
   {
    "duration": 19,
    "start_time": "2024-05-31T21:36:41.823Z"
   },
   {
    "duration": 33,
    "start_time": "2024-05-31T21:36:41.845Z"
   },
   {
    "duration": 44,
    "start_time": "2024-05-31T21:36:41.881Z"
   },
   {
    "duration": 29,
    "start_time": "2024-05-31T21:36:41.931Z"
   },
   {
    "duration": 24,
    "start_time": "2024-05-31T21:36:41.963Z"
   },
   {
    "duration": 193,
    "start_time": "2024-05-31T21:36:41.990Z"
   },
   {
    "duration": 13,
    "start_time": "2024-05-31T21:36:42.191Z"
   },
   {
    "duration": 5,
    "start_time": "2024-05-31T21:36:42.224Z"
   },
   {
    "duration": 18,
    "start_time": "2024-05-31T21:36:42.233Z"
   },
   {
    "duration": 10,
    "start_time": "2024-05-31T21:36:42.254Z"
   },
   {
    "duration": 55,
    "start_time": "2024-05-31T21:36:42.267Z"
   },
   {
    "duration": 11,
    "start_time": "2024-05-31T21:36:42.325Z"
   },
   {
    "duration": 6,
    "start_time": "2024-05-31T21:36:42.339Z"
   },
   {
    "duration": 24,
    "start_time": "2024-05-31T21:36:42.348Z"
   },
   {
    "duration": 48,
    "start_time": "2024-05-31T21:36:42.375Z"
   },
   {
    "duration": 6,
    "start_time": "2024-05-31T21:36:42.427Z"
   },
   {
    "duration": 9,
    "start_time": "2024-05-31T21:36:42.436Z"
   },
   {
    "duration": 13,
    "start_time": "2024-05-31T21:36:42.449Z"
   },
   {
    "duration": 58,
    "start_time": "2024-05-31T21:36:42.465Z"
   },
   {
    "duration": 12,
    "start_time": "2024-05-31T21:36:42.526Z"
   },
   {
    "duration": 5,
    "start_time": "2024-05-31T21:36:42.542Z"
   },
   {
    "duration": 393,
    "start_time": "2024-05-31T21:36:42.551Z"
   },
   {
    "duration": 384,
    "start_time": "2024-05-31T21:36:42.948Z"
   },
   {
    "duration": 357,
    "start_time": "2024-05-31T21:36:43.335Z"
   },
   {
    "duration": 29,
    "start_time": "2024-05-31T21:36:43.695Z"
   },
   {
    "duration": 11,
    "start_time": "2024-05-31T21:36:43.728Z"
   },
   {
    "duration": 1154,
    "start_time": "2024-05-31T21:36:43.743Z"
   },
   {
    "duration": 43,
    "start_time": "2024-05-31T21:36:44.903Z"
   },
   {
    "duration": 15,
    "start_time": "2024-05-31T21:36:44.949Z"
   },
   {
    "duration": 243,
    "start_time": "2024-05-31T21:36:44.968Z"
   },
   {
    "duration": 16,
    "start_time": "2024-05-31T21:36:45.226Z"
   },
   {
    "duration": 235,
    "start_time": "2024-05-31T21:36:45.245Z"
   },
   {
    "duration": 17,
    "start_time": "2024-05-31T21:36:45.484Z"
   },
   {
    "duration": 250,
    "start_time": "2024-05-31T21:36:45.529Z"
   },
   {
    "duration": 7,
    "start_time": "2024-05-31T21:36:45.783Z"
   },
   {
    "duration": 29,
    "start_time": "2024-05-31T21:36:45.794Z"
   },
   {
    "duration": 17,
    "start_time": "2024-05-31T21:36:45.826Z"
   },
   {
    "duration": 9,
    "start_time": "2024-05-31T21:36:45.847Z"
   },
   {
    "duration": 79,
    "start_time": "2024-05-31T21:36:45.860Z"
   },
   {
    "duration": 20,
    "start_time": "2024-05-31T21:36:45.942Z"
   },
   {
    "duration": 906,
    "start_time": "2024-05-31T21:36:45.966Z"
   },
   {
    "duration": 0,
    "start_time": "2024-05-31T21:36:46.875Z"
   },
   {
    "duration": 0,
    "start_time": "2024-05-31T21:36:46.878Z"
   },
   {
    "duration": 0,
    "start_time": "2024-05-31T21:36:46.881Z"
   },
   {
    "duration": 20,
    "start_time": "2024-05-31T21:37:42.848Z"
   },
   {
    "duration": 37,
    "start_time": "2024-05-31T21:38:11.224Z"
   },
   {
    "duration": 23,
    "start_time": "2024-05-31T21:38:18.121Z"
   },
   {
    "duration": 1557,
    "start_time": "2024-05-31T21:39:18.963Z"
   },
   {
    "duration": 855,
    "start_time": "2024-05-31T21:39:20.524Z"
   },
   {
    "duration": 46,
    "start_time": "2024-05-31T21:39:21.382Z"
   },
   {
    "duration": 100,
    "start_time": "2024-05-31T21:39:21.432Z"
   },
   {
    "duration": 119,
    "start_time": "2024-05-31T21:39:21.535Z"
   },
   {
    "duration": 13,
    "start_time": "2024-05-31T21:39:21.657Z"
   },
   {
    "duration": 56,
    "start_time": "2024-05-31T21:39:21.673Z"
   },
   {
    "duration": 21,
    "start_time": "2024-05-31T21:39:21.732Z"
   },
   {
    "duration": 35,
    "start_time": "2024-05-31T21:39:21.756Z"
   },
   {
    "duration": 10,
    "start_time": "2024-05-31T21:39:21.826Z"
   },
   {
    "duration": 29,
    "start_time": "2024-05-31T21:39:21.839Z"
   },
   {
    "duration": 64,
    "start_time": "2024-05-31T21:39:21.872Z"
   },
   {
    "duration": 178,
    "start_time": "2024-05-31T21:39:21.939Z"
   },
   {
    "duration": 16,
    "start_time": "2024-05-31T21:39:22.124Z"
   },
   {
    "duration": 4,
    "start_time": "2024-05-31T21:39:22.144Z"
   },
   {
    "duration": 19,
    "start_time": "2024-05-31T21:39:22.152Z"
   },
   {
    "duration": 49,
    "start_time": "2024-05-31T21:39:22.175Z"
   },
   {
    "duration": 12,
    "start_time": "2024-05-31T21:39:22.228Z"
   },
   {
    "duration": 10,
    "start_time": "2024-05-31T21:39:22.242Z"
   },
   {
    "duration": 8,
    "start_time": "2024-05-31T21:39:22.255Z"
   },
   {
    "duration": 68,
    "start_time": "2024-05-31T21:39:22.266Z"
   },
   {
    "duration": 6,
    "start_time": "2024-05-31T21:39:22.336Z"
   },
   {
    "duration": 6,
    "start_time": "2024-05-31T21:39:22.345Z"
   },
   {
    "duration": 9,
    "start_time": "2024-05-31T21:39:22.354Z"
   },
   {
    "duration": 56,
    "start_time": "2024-05-31T21:39:22.366Z"
   },
   {
    "duration": 9,
    "start_time": "2024-05-31T21:39:22.426Z"
   },
   {
    "duration": 12,
    "start_time": "2024-05-31T21:39:22.438Z"
   },
   {
    "duration": 5,
    "start_time": "2024-05-31T21:39:22.457Z"
   },
   {
    "duration": 398,
    "start_time": "2024-05-31T21:39:22.465Z"
   },
   {
    "duration": 389,
    "start_time": "2024-05-31T21:39:22.866Z"
   },
   {
    "duration": 350,
    "start_time": "2024-05-31T21:39:23.258Z"
   },
   {
    "duration": 20,
    "start_time": "2024-05-31T21:39:23.611Z"
   },
   {
    "duration": 11,
    "start_time": "2024-05-31T21:39:23.634Z"
   },
   {
    "duration": 1196,
    "start_time": "2024-05-31T21:39:23.648Z"
   },
   {
    "duration": 23,
    "start_time": "2024-05-31T21:39:24.848Z"
   },
   {
    "duration": 16,
    "start_time": "2024-05-31T21:39:24.875Z"
   },
   {
    "duration": 258,
    "start_time": "2024-05-31T21:39:24.893Z"
   },
   {
    "duration": 16,
    "start_time": "2024-05-31T21:39:25.154Z"
   },
   {
    "duration": 226,
    "start_time": "2024-05-31T21:39:25.174Z"
   },
   {
    "duration": 23,
    "start_time": "2024-05-31T21:39:25.404Z"
   },
   {
    "duration": 263,
    "start_time": "2024-05-31T21:39:25.431Z"
   },
   {
    "duration": 10,
    "start_time": "2024-05-31T21:39:25.697Z"
   },
   {
    "duration": 10,
    "start_time": "2024-05-31T21:39:25.722Z"
   },
   {
    "duration": 18,
    "start_time": "2024-05-31T21:39:25.735Z"
   },
   {
    "duration": 10,
    "start_time": "2024-05-31T21:39:25.756Z"
   },
   {
    "duration": 81,
    "start_time": "2024-05-31T21:39:25.769Z"
   },
   {
    "duration": 21,
    "start_time": "2024-05-31T21:39:25.853Z"
   },
   {
    "duration": 870,
    "start_time": "2024-05-31T21:39:25.879Z"
   },
   {
    "duration": 0,
    "start_time": "2024-05-31T21:39:26.753Z"
   },
   {
    "duration": 0,
    "start_time": "2024-05-31T21:39:26.756Z"
   },
   {
    "duration": 0,
    "start_time": "2024-05-31T21:39:26.759Z"
   },
   {
    "duration": 11,
    "start_time": "2024-05-31T21:41:34.425Z"
   },
   {
    "duration": 11,
    "start_time": "2024-05-31T21:44:59.223Z"
   },
   {
    "duration": 40,
    "start_time": "2024-05-31T21:45:13.166Z"
   },
   {
    "duration": 24,
    "start_time": "2024-05-31T21:45:28.502Z"
   },
   {
    "duration": 30,
    "start_time": "2024-05-31T21:45:58.268Z"
   },
   {
    "duration": 39,
    "start_time": "2024-05-31T21:46:10.718Z"
   },
   {
    "duration": 13,
    "start_time": "2024-06-01T01:33:51.115Z"
   },
   {
    "duration": 10,
    "start_time": "2024-06-01T01:33:56.577Z"
   },
   {
    "duration": 15,
    "start_time": "2024-06-01T01:34:00.518Z"
   },
   {
    "duration": 1492,
    "start_time": "2024-06-01T02:01:55.200Z"
   },
   {
    "duration": 869,
    "start_time": "2024-06-01T02:01:56.696Z"
   },
   {
    "duration": 33,
    "start_time": "2024-06-01T02:01:57.568Z"
   },
   {
    "duration": 88,
    "start_time": "2024-06-01T02:01:57.622Z"
   },
   {
    "duration": 116,
    "start_time": "2024-06-01T02:01:57.724Z"
   },
   {
    "duration": 12,
    "start_time": "2024-06-01T02:01:57.843Z"
   },
   {
    "duration": 28,
    "start_time": "2024-06-01T02:01:57.858Z"
   },
   {
    "duration": 51,
    "start_time": "2024-06-01T02:01:57.889Z"
   },
   {
    "duration": 33,
    "start_time": "2024-06-01T02:01:57.943Z"
   },
   {
    "duration": 41,
    "start_time": "2024-06-01T02:01:57.983Z"
   },
   {
    "duration": 30,
    "start_time": "2024-06-01T02:01:58.027Z"
   },
   {
    "duration": 29,
    "start_time": "2024-06-01T02:01:58.060Z"
   },
   {
    "duration": 186,
    "start_time": "2024-06-01T02:01:58.095Z"
   },
   {
    "duration": 11,
    "start_time": "2024-06-01T02:01:58.286Z"
   },
   {
    "duration": 23,
    "start_time": "2024-06-01T02:01:58.300Z"
   },
   {
    "duration": 22,
    "start_time": "2024-06-01T02:01:58.326Z"
   },
   {
    "duration": 11,
    "start_time": "2024-06-01T02:01:58.352Z"
   },
   {
    "duration": 18,
    "start_time": "2024-06-01T02:01:58.366Z"
   },
   {
    "duration": 11,
    "start_time": "2024-06-01T02:01:58.424Z"
   },
   {
    "duration": 6,
    "start_time": "2024-06-01T02:01:58.438Z"
   },
   {
    "duration": 23,
    "start_time": "2024-06-01T02:01:58.448Z"
   },
   {
    "duration": 49,
    "start_time": "2024-06-01T02:01:58.474Z"
   },
   {
    "duration": 16,
    "start_time": "2024-06-01T02:01:58.525Z"
   },
   {
    "duration": 8,
    "start_time": "2024-06-01T02:01:58.544Z"
   },
   {
    "duration": 13,
    "start_time": "2024-06-01T02:01:58.555Z"
   },
   {
    "duration": 54,
    "start_time": "2024-06-01T02:01:58.571Z"
   },
   {
    "duration": 15,
    "start_time": "2024-06-01T02:01:58.628Z"
   },
   {
    "duration": 6,
    "start_time": "2024-06-01T02:01:58.651Z"
   },
   {
    "duration": 398,
    "start_time": "2024-06-01T02:01:58.660Z"
   },
   {
    "duration": 366,
    "start_time": "2024-06-01T02:01:59.062Z"
   },
   {
    "duration": 375,
    "start_time": "2024-06-01T02:01:59.432Z"
   },
   {
    "duration": 21,
    "start_time": "2024-06-01T02:01:59.813Z"
   },
   {
    "duration": 13,
    "start_time": "2024-06-01T02:01:59.838Z"
   },
   {
    "duration": 1174,
    "start_time": "2024-06-01T02:01:59.855Z"
   },
   {
    "duration": 23,
    "start_time": "2024-06-01T02:02:01.033Z"
   },
   {
    "duration": 15,
    "start_time": "2024-06-01T02:02:01.059Z"
   },
   {
    "duration": 245,
    "start_time": "2024-06-01T02:02:01.077Z"
   },
   {
    "duration": 14,
    "start_time": "2024-06-01T02:02:01.326Z"
   },
   {
    "duration": 220,
    "start_time": "2024-06-01T02:02:01.344Z"
   },
   {
    "duration": 14,
    "start_time": "2024-06-01T02:02:01.567Z"
   },
   {
    "duration": 254,
    "start_time": "2024-06-01T02:02:01.584Z"
   },
   {
    "duration": 9,
    "start_time": "2024-06-01T02:02:01.841Z"
   },
   {
    "duration": 10,
    "start_time": "2024-06-01T02:02:01.853Z"
   },
   {
    "duration": 17,
    "start_time": "2024-06-01T02:02:01.866Z"
   },
   {
    "duration": 41,
    "start_time": "2024-06-01T02:02:01.886Z"
   },
   {
    "duration": 36,
    "start_time": "2024-06-01T02:02:01.931Z"
   },
   {
    "duration": 19,
    "start_time": "2024-06-01T02:02:01.969Z"
   },
   {
    "duration": 12,
    "start_time": "2024-06-01T02:02:02.024Z"
   },
   {
    "duration": 38,
    "start_time": "2024-06-01T02:02:02.039Z"
   },
   {
    "duration": 578,
    "start_time": "2024-06-01T02:02:02.080Z"
   },
   {
    "duration": 0,
    "start_time": "2024-06-01T02:02:02.661Z"
   },
   {
    "duration": 0,
    "start_time": "2024-06-01T02:02:02.665Z"
   },
   {
    "duration": 1,
    "start_time": "2024-06-01T02:02:02.668Z"
   },
   {
    "duration": 68,
    "start_time": "2024-06-01T02:03:42.231Z"
   },
   {
    "duration": 48,
    "start_time": "2024-06-01T02:04:02.885Z"
   },
   {
    "duration": 45,
    "start_time": "2024-06-01T02:04:10.468Z"
   },
   {
    "duration": 17,
    "start_time": "2024-06-01T02:09:23.244Z"
   },
   {
    "duration": 17,
    "start_time": "2024-06-01T02:09:29.779Z"
   },
   {
    "duration": 29,
    "start_time": "2024-06-01T02:28:13.684Z"
   },
   {
    "duration": 28,
    "start_time": "2024-06-01T02:28:16.016Z"
   },
   {
    "duration": 41,
    "start_time": "2024-06-01T02:34:06.503Z"
   },
   {
    "duration": 20,
    "start_time": "2024-06-01T02:34:14.417Z"
   },
   {
    "duration": 25,
    "start_time": "2024-06-01T02:56:39.619Z"
   },
   {
    "duration": 1487,
    "start_time": "2024-06-01T02:56:51.026Z"
   },
   {
    "duration": 884,
    "start_time": "2024-06-01T02:56:52.517Z"
   },
   {
    "duration": 65,
    "start_time": "2024-06-01T02:56:53.404Z"
   },
   {
    "duration": 112,
    "start_time": "2024-06-01T02:56:53.474Z"
   },
   {
    "duration": 170,
    "start_time": "2024-06-01T02:56:53.589Z"
   },
   {
    "duration": 13,
    "start_time": "2024-06-01T02:56:53.762Z"
   },
   {
    "duration": 72,
    "start_time": "2024-06-01T02:56:53.779Z"
   },
   {
    "duration": 19,
    "start_time": "2024-06-01T02:56:53.854Z"
   },
   {
    "duration": 34,
    "start_time": "2024-06-01T02:56:53.875Z"
   },
   {
    "duration": 37,
    "start_time": "2024-06-01T02:56:53.924Z"
   },
   {
    "duration": 28,
    "start_time": "2024-06-01T02:56:53.965Z"
   },
   {
    "duration": 61,
    "start_time": "2024-06-01T02:56:53.996Z"
   },
   {
    "duration": 187,
    "start_time": "2024-06-01T02:56:54.060Z"
   },
   {
    "duration": 23,
    "start_time": "2024-06-01T02:56:54.250Z"
   },
   {
    "duration": 9,
    "start_time": "2024-06-01T02:56:54.280Z"
   },
   {
    "duration": 41,
    "start_time": "2024-06-01T02:56:54.292Z"
   },
   {
    "duration": 9,
    "start_time": "2024-06-01T02:56:54.337Z"
   },
   {
    "duration": 14,
    "start_time": "2024-06-01T02:56:54.349Z"
   },
   {
    "duration": 11,
    "start_time": "2024-06-01T02:56:54.366Z"
   },
   {
    "duration": 44,
    "start_time": "2024-06-01T02:56:54.380Z"
   },
   {
    "duration": 29,
    "start_time": "2024-06-01T02:56:54.428Z"
   },
   {
    "duration": 8,
    "start_time": "2024-06-01T02:56:54.460Z"
   },
   {
    "duration": 53,
    "start_time": "2024-06-01T02:56:54.473Z"
   },
   {
    "duration": 10,
    "start_time": "2024-06-01T02:56:54.530Z"
   },
   {
    "duration": 13,
    "start_time": "2024-06-01T02:56:54.542Z"
   },
   {
    "duration": 9,
    "start_time": "2024-06-01T02:56:54.559Z"
   },
   {
    "duration": 60,
    "start_time": "2024-06-01T02:56:54.571Z"
   },
   {
    "duration": 11,
    "start_time": "2024-06-01T02:56:54.642Z"
   },
   {
    "duration": 414,
    "start_time": "2024-06-01T02:56:54.657Z"
   },
   {
    "duration": 384,
    "start_time": "2024-06-01T02:56:55.075Z"
   },
   {
    "duration": 370,
    "start_time": "2024-06-01T02:56:55.466Z"
   },
   {
    "duration": 12,
    "start_time": "2024-06-01T02:56:55.840Z"
   },
   {
    "duration": 15,
    "start_time": "2024-06-01T02:56:55.856Z"
   },
   {
    "duration": 1197,
    "start_time": "2024-06-01T02:56:55.875Z"
   },
   {
    "duration": 22,
    "start_time": "2024-06-01T02:56:57.076Z"
   },
   {
    "duration": 30,
    "start_time": "2024-06-01T02:56:57.102Z"
   },
   {
    "duration": 235,
    "start_time": "2024-06-01T02:56:57.136Z"
   },
   {
    "duration": 15,
    "start_time": "2024-06-01T02:56:57.375Z"
   },
   {
    "duration": 229,
    "start_time": "2024-06-01T02:56:57.394Z"
   },
   {
    "duration": 14,
    "start_time": "2024-06-01T02:56:57.626Z"
   },
   {
    "duration": 249,
    "start_time": "2024-06-01T02:56:57.643Z"
   },
   {
    "duration": 7,
    "start_time": "2024-06-01T02:56:57.895Z"
   },
   {
    "duration": 19,
    "start_time": "2024-06-01T02:56:57.922Z"
   },
   {
    "duration": 11,
    "start_time": "2024-06-01T02:56:57.945Z"
   },
   {
    "duration": 74,
    "start_time": "2024-06-01T02:56:57.960Z"
   },
   {
    "duration": 10,
    "start_time": "2024-06-01T02:56:58.037Z"
   },
   {
    "duration": 16,
    "start_time": "2024-06-01T02:56:58.051Z"
   },
   {
    "duration": 7,
    "start_time": "2024-06-01T02:56:58.070Z"
   },
   {
    "duration": 0,
    "start_time": "2024-06-01T02:56:58.081Z"
   },
   {
    "duration": 0,
    "start_time": "2024-06-01T02:56:58.083Z"
   },
   {
    "duration": 0,
    "start_time": "2024-06-01T02:56:58.123Z"
   },
   {
    "duration": 0,
    "start_time": "2024-06-01T02:56:58.125Z"
   },
   {
    "duration": 0,
    "start_time": "2024-06-01T02:56:58.128Z"
   },
   {
    "duration": 0,
    "start_time": "2024-06-01T02:56:58.130Z"
   },
   {
    "duration": 0,
    "start_time": "2024-06-01T02:56:58.133Z"
   },
   {
    "duration": 0,
    "start_time": "2024-06-01T02:56:58.136Z"
   },
   {
    "duration": 216,
    "start_time": "2024-06-01T02:57:20.189Z"
   },
   {
    "duration": 9,
    "start_time": "2024-06-01T02:57:27.731Z"
   },
   {
    "duration": 232,
    "start_time": "2024-06-01T03:10:44.357Z"
   },
   {
    "duration": 1531,
    "start_time": "2024-06-01T03:10:54.440Z"
   },
   {
    "duration": 787,
    "start_time": "2024-06-01T03:10:55.975Z"
   },
   {
    "duration": 33,
    "start_time": "2024-06-01T03:10:56.765Z"
   },
   {
    "duration": 107,
    "start_time": "2024-06-01T03:10:56.802Z"
   },
   {
    "duration": 111,
    "start_time": "2024-06-01T03:10:56.924Z"
   },
   {
    "duration": 11,
    "start_time": "2024-06-01T03:10:57.038Z"
   },
   {
    "duration": 29,
    "start_time": "2024-06-01T03:10:57.051Z"
   },
   {
    "duration": 50,
    "start_time": "2024-06-01T03:10:57.083Z"
   },
   {
    "duration": 33,
    "start_time": "2024-06-01T03:10:57.136Z"
   },
   {
    "duration": 10,
    "start_time": "2024-06-01T03:10:57.172Z"
   },
   {
    "duration": 67,
    "start_time": "2024-06-01T03:10:57.185Z"
   },
   {
    "duration": 29,
    "start_time": "2024-06-01T03:10:57.255Z"
   },
   {
    "duration": 194,
    "start_time": "2024-06-01T03:10:57.288Z"
   },
   {
    "duration": 12,
    "start_time": "2024-06-01T03:10:57.489Z"
   },
   {
    "duration": 21,
    "start_time": "2024-06-01T03:10:57.504Z"
   },
   {
    "duration": 24,
    "start_time": "2024-06-01T03:10:57.529Z"
   },
   {
    "duration": 9,
    "start_time": "2024-06-01T03:10:57.556Z"
   },
   {
    "duration": 56,
    "start_time": "2024-06-01T03:10:57.568Z"
   },
   {
    "duration": 10,
    "start_time": "2024-06-01T03:10:57.631Z"
   },
   {
    "duration": 8,
    "start_time": "2024-06-01T03:10:57.644Z"
   },
   {
    "duration": 25,
    "start_time": "2024-06-01T03:10:57.655Z"
   },
   {
    "duration": 42,
    "start_time": "2024-06-01T03:10:57.683Z"
   },
   {
    "duration": 6,
    "start_time": "2024-06-01T03:10:57.728Z"
   },
   {
    "duration": 10,
    "start_time": "2024-06-01T03:10:57.738Z"
   },
   {
    "duration": 12,
    "start_time": "2024-06-01T03:10:57.753Z"
   },
   {
    "duration": 58,
    "start_time": "2024-06-01T03:10:57.768Z"
   },
   {
    "duration": 16,
    "start_time": "2024-06-01T03:10:57.830Z"
   },
   {
    "duration": 5,
    "start_time": "2024-06-01T03:10:57.849Z"
   },
   {
    "duration": 409,
    "start_time": "2024-06-01T03:10:57.857Z"
   },
   {
    "duration": 388,
    "start_time": "2024-06-01T03:10:58.269Z"
   },
   {
    "duration": 355,
    "start_time": "2024-06-01T03:10:58.661Z"
   },
   {
    "duration": 13,
    "start_time": "2024-06-01T03:10:59.022Z"
   },
   {
    "duration": 11,
    "start_time": "2024-06-01T03:10:59.039Z"
   },
   {
    "duration": 1246,
    "start_time": "2024-06-01T03:10:59.053Z"
   },
   {
    "duration": 31,
    "start_time": "2024-06-01T03:11:00.302Z"
   },
   {
    "duration": 14,
    "start_time": "2024-06-01T03:11:00.337Z"
   },
   {
    "duration": 237,
    "start_time": "2024-06-01T03:11:00.355Z"
   },
   {
    "duration": 28,
    "start_time": "2024-06-01T03:11:00.595Z"
   },
   {
    "duration": 209,
    "start_time": "2024-06-01T03:11:00.626Z"
   },
   {
    "duration": 14,
    "start_time": "2024-06-01T03:11:00.838Z"
   },
   {
    "duration": 278,
    "start_time": "2024-06-01T03:11:00.862Z"
   },
   {
    "duration": 12,
    "start_time": "2024-06-01T03:11:01.144Z"
   },
   {
    "duration": 21,
    "start_time": "2024-06-01T03:11:01.160Z"
   },
   {
    "duration": 46,
    "start_time": "2024-06-01T03:11:01.185Z"
   },
   {
    "duration": 7,
    "start_time": "2024-06-01T03:11:01.234Z"
   },
   {
    "duration": 9,
    "start_time": "2024-06-01T03:11:01.245Z"
   },
   {
    "duration": 18,
    "start_time": "2024-06-01T03:11:01.257Z"
   },
   {
    "duration": 6,
    "start_time": "2024-06-01T03:11:01.323Z"
   },
   {
    "duration": 0,
    "start_time": "2024-06-01T03:11:01.332Z"
   },
   {
    "duration": 0,
    "start_time": "2024-06-01T03:11:01.334Z"
   },
   {
    "duration": 0,
    "start_time": "2024-06-01T03:11:01.336Z"
   },
   {
    "duration": 0,
    "start_time": "2024-06-01T03:11:01.338Z"
   },
   {
    "duration": 1,
    "start_time": "2024-06-01T03:11:01.339Z"
   },
   {
    "duration": 0,
    "start_time": "2024-06-01T03:11:01.341Z"
   },
   {
    "duration": 0,
    "start_time": "2024-06-01T03:11:01.344Z"
   },
   {
    "duration": 0,
    "start_time": "2024-06-01T03:11:01.346Z"
   },
   {
    "duration": 518,
    "start_time": "2024-06-01T03:11:16.473Z"
   },
   {
    "duration": 6,
    "start_time": "2024-06-01T03:11:32.463Z"
   },
   {
    "duration": 14,
    "start_time": "2024-06-01T03:11:38.750Z"
   },
   {
    "duration": 35,
    "start_time": "2024-06-01T03:11:39.513Z"
   },
   {
    "duration": 16,
    "start_time": "2024-06-01T03:11:52.362Z"
   },
   {
    "duration": 7835,
    "start_time": "2024-06-01T03:15:03.170Z"
   },
   {
    "duration": 12,
    "start_time": "2024-06-01T05:16:44.037Z"
   },
   {
    "duration": 321,
    "start_time": "2024-06-02T01:49:11.620Z"
   },
   {
    "duration": 5115,
    "start_time": "2024-06-02T01:49:23.199Z"
   },
   {
    "duration": 933,
    "start_time": "2024-06-02T01:49:28.318Z"
   },
   {
    "duration": 33,
    "start_time": "2024-06-02T01:49:29.254Z"
   },
   {
    "duration": 24,
    "start_time": "2024-06-02T01:49:29.311Z"
   },
   {
    "duration": 120,
    "start_time": "2024-06-02T01:49:29.338Z"
   },
   {
    "duration": 10,
    "start_time": "2024-06-02T01:49:29.461Z"
   },
   {
    "duration": 48,
    "start_time": "2024-06-02T01:49:29.474Z"
   },
   {
    "duration": 18,
    "start_time": "2024-06-02T01:49:29.525Z"
   },
   {
    "duration": 32,
    "start_time": "2024-06-02T01:49:29.546Z"
   },
   {
    "duration": 8,
    "start_time": "2024-06-02T01:49:29.618Z"
   },
   {
    "duration": 27,
    "start_time": "2024-06-02T01:49:29.629Z"
   },
   {
    "duration": 62,
    "start_time": "2024-06-02T01:49:29.659Z"
   },
   {
    "duration": 167,
    "start_time": "2024-06-02T01:49:29.725Z"
   },
   {
    "duration": 24,
    "start_time": "2024-06-02T01:49:29.895Z"
   },
   {
    "duration": 5,
    "start_time": "2024-06-02T01:49:29.922Z"
   },
   {
    "duration": 20,
    "start_time": "2024-06-02T01:49:29.930Z"
   },
   {
    "duration": 12,
    "start_time": "2024-06-02T01:49:29.953Z"
   },
   {
    "duration": 53,
    "start_time": "2024-06-02T01:49:29.968Z"
   },
   {
    "duration": 37,
    "start_time": "2024-06-02T01:49:30.025Z"
   },
   {
    "duration": 6,
    "start_time": "2024-06-02T01:49:30.066Z"
   },
   {
    "duration": 56,
    "start_time": "2024-06-02T01:49:30.076Z"
   },
   {
    "duration": 9,
    "start_time": "2024-06-02T01:49:30.136Z"
   },
   {
    "duration": 6,
    "start_time": "2024-06-02T01:49:30.148Z"
   },
   {
    "duration": 55,
    "start_time": "2024-06-02T01:49:30.157Z"
   },
   {
    "duration": 12,
    "start_time": "2024-06-02T01:49:30.215Z"
   },
   {
    "duration": 8,
    "start_time": "2024-06-02T01:49:30.230Z"
   },
   {
    "duration": 11,
    "start_time": "2024-06-02T01:49:30.242Z"
   },
   {
    "duration": 6,
    "start_time": "2024-06-02T01:49:30.261Z"
   },
   {
    "duration": 499,
    "start_time": "2024-06-02T01:49:30.269Z"
   },
   {
    "duration": 377,
    "start_time": "2024-06-02T01:49:30.771Z"
   },
   {
    "duration": 338,
    "start_time": "2024-06-02T01:49:31.151Z"
   },
   {
    "duration": 28,
    "start_time": "2024-06-02T01:49:31.492Z"
   },
   {
    "duration": 12,
    "start_time": "2024-06-02T01:49:31.527Z"
   },
   {
    "duration": 1175,
    "start_time": "2024-06-02T01:49:31.543Z"
   },
   {
    "duration": 20,
    "start_time": "2024-06-02T01:49:32.721Z"
   },
   {
    "duration": 14,
    "start_time": "2024-06-02T01:49:32.745Z"
   },
   {
    "duration": 236,
    "start_time": "2024-06-02T01:49:32.763Z"
   },
   {
    "duration": 19,
    "start_time": "2024-06-02T01:49:33.002Z"
   },
   {
    "duration": 234,
    "start_time": "2024-06-02T01:49:33.025Z"
   },
   {
    "duration": 13,
    "start_time": "2024-06-02T01:49:33.262Z"
   },
   {
    "duration": 253,
    "start_time": "2024-06-02T01:49:33.278Z"
   },
   {
    "duration": 6,
    "start_time": "2024-06-02T01:49:33.534Z"
   },
   {
    "duration": 16,
    "start_time": "2024-06-02T01:49:33.544Z"
   },
   {
    "duration": 457,
    "start_time": "2024-06-02T01:49:33.563Z"
   },
   {
    "duration": 0,
    "start_time": "2024-06-02T01:49:34.023Z"
   },
   {
    "duration": 0,
    "start_time": "2024-06-02T01:49:34.026Z"
   },
   {
    "duration": 0,
    "start_time": "2024-06-02T01:49:34.028Z"
   },
   {
    "duration": 0,
    "start_time": "2024-06-02T01:49:34.030Z"
   },
   {
    "duration": 18,
    "start_time": "2024-06-02T01:49:57.987Z"
   },
   {
    "duration": 12,
    "start_time": "2024-06-02T01:50:10.596Z"
   },
   {
    "duration": 442,
    "start_time": "2024-06-02T02:20:16.052Z"
   },
   {
    "duration": 355,
    "start_time": "2024-06-02T02:20:35.765Z"
   },
   {
    "duration": 1464,
    "start_time": "2024-06-02T02:20:42.963Z"
   },
   {
    "duration": 836,
    "start_time": "2024-06-02T02:20:44.432Z"
   },
   {
    "duration": 42,
    "start_time": "2024-06-02T02:20:45.271Z"
   },
   {
    "duration": 96,
    "start_time": "2024-06-02T02:20:45.316Z"
   },
   {
    "duration": 113,
    "start_time": "2024-06-02T02:20:45.417Z"
   },
   {
    "duration": 12,
    "start_time": "2024-06-02T02:20:45.534Z"
   },
   {
    "duration": 29,
    "start_time": "2024-06-02T02:20:45.548Z"
   },
   {
    "duration": 45,
    "start_time": "2024-06-02T02:20:45.580Z"
   },
   {
    "duration": 32,
    "start_time": "2024-06-02T02:20:45.629Z"
   },
   {
    "duration": 9,
    "start_time": "2024-06-02T02:20:45.663Z"
   },
   {
    "duration": 62,
    "start_time": "2024-06-02T02:20:45.675Z"
   },
   {
    "duration": 24,
    "start_time": "2024-06-02T02:20:45.740Z"
   },
   {
    "duration": 177,
    "start_time": "2024-06-02T02:20:45.768Z"
   },
   {
    "duration": 13,
    "start_time": "2024-06-02T02:20:45.952Z"
   },
   {
    "duration": 5,
    "start_time": "2024-06-02T02:20:45.968Z"
   },
   {
    "duration": 50,
    "start_time": "2024-06-02T02:20:45.976Z"
   },
   {
    "duration": 11,
    "start_time": "2024-06-02T02:20:46.029Z"
   },
   {
    "duration": 12,
    "start_time": "2024-06-02T02:20:46.043Z"
   },
   {
    "duration": 54,
    "start_time": "2024-06-02T02:20:46.058Z"
   },
   {
    "duration": 15,
    "start_time": "2024-06-02T02:20:46.116Z"
   },
   {
    "duration": 27,
    "start_time": "2024-06-02T02:20:46.135Z"
   },
   {
    "duration": 6,
    "start_time": "2024-06-02T02:20:46.165Z"
   },
   {
    "duration": 5,
    "start_time": "2024-06-02T02:20:46.174Z"
   },
   {
    "duration": 8,
    "start_time": "2024-06-02T02:20:46.214Z"
   },
   {
    "duration": 12,
    "start_time": "2024-06-02T02:20:46.226Z"
   },
   {
    "duration": 9,
    "start_time": "2024-06-02T02:20:46.241Z"
   },
   {
    "duration": 64,
    "start_time": "2024-06-02T02:20:46.253Z"
   },
   {
    "duration": 6,
    "start_time": "2024-06-02T02:20:46.319Z"
   },
   {
    "duration": 795,
    "start_time": "2024-06-02T02:20:46.328Z"
   },
   {
    "duration": 0,
    "start_time": "2024-06-02T02:20:47.126Z"
   },
   {
    "duration": 0,
    "start_time": "2024-06-02T02:20:47.128Z"
   },
   {
    "duration": 0,
    "start_time": "2024-06-02T02:20:47.130Z"
   },
   {
    "duration": 0,
    "start_time": "2024-06-02T02:20:47.132Z"
   },
   {
    "duration": 0,
    "start_time": "2024-06-02T02:20:47.134Z"
   },
   {
    "duration": 0,
    "start_time": "2024-06-02T02:20:47.136Z"
   },
   {
    "duration": 0,
    "start_time": "2024-06-02T02:20:47.137Z"
   },
   {
    "duration": 0,
    "start_time": "2024-06-02T02:20:47.140Z"
   },
   {
    "duration": 0,
    "start_time": "2024-06-02T02:20:47.143Z"
   },
   {
    "duration": 0,
    "start_time": "2024-06-02T02:20:47.145Z"
   },
   {
    "duration": 0,
    "start_time": "2024-06-02T02:20:47.148Z"
   },
   {
    "duration": 0,
    "start_time": "2024-06-02T02:20:47.150Z"
   },
   {
    "duration": 0,
    "start_time": "2024-06-02T02:20:47.153Z"
   },
   {
    "duration": 0,
    "start_time": "2024-06-02T02:20:47.156Z"
   },
   {
    "duration": 0,
    "start_time": "2024-06-02T02:20:47.159Z"
   },
   {
    "duration": 0,
    "start_time": "2024-06-02T02:20:47.162Z"
   },
   {
    "duration": 0,
    "start_time": "2024-06-02T02:20:47.214Z"
   },
   {
    "duration": 0,
    "start_time": "2024-06-02T02:20:47.216Z"
   },
   {
    "duration": 0,
    "start_time": "2024-06-02T02:20:47.219Z"
   },
   {
    "duration": 337,
    "start_time": "2024-06-02T02:21:08.098Z"
   },
   {
    "duration": 347,
    "start_time": "2024-06-02T02:25:59.954Z"
   },
   {
    "duration": 350,
    "start_time": "2024-06-02T02:26:03.725Z"
   },
   {
    "duration": 1367,
    "start_time": "2024-06-02T02:47:58.452Z"
   },
   {
    "duration": 822,
    "start_time": "2024-06-02T02:47:59.823Z"
   },
   {
    "duration": 32,
    "start_time": "2024-06-02T02:48:00.648Z"
   },
   {
    "duration": 98,
    "start_time": "2024-06-02T02:48:00.685Z"
   },
   {
    "duration": 125,
    "start_time": "2024-06-02T02:48:00.788Z"
   },
   {
    "duration": 11,
    "start_time": "2024-06-02T02:48:00.916Z"
   },
   {
    "duration": 30,
    "start_time": "2024-06-02T02:48:00.930Z"
   },
   {
    "duration": 52,
    "start_time": "2024-06-02T02:48:00.964Z"
   },
   {
    "duration": 34,
    "start_time": "2024-06-02T02:48:01.019Z"
   },
   {
    "duration": 10,
    "start_time": "2024-06-02T02:48:01.059Z"
   },
   {
    "duration": 62,
    "start_time": "2024-06-02T02:48:01.072Z"
   },
   {
    "duration": 24,
    "start_time": "2024-06-02T02:48:01.137Z"
   },
   {
    "duration": 174,
    "start_time": "2024-06-02T02:48:01.164Z"
   },
   {
    "duration": 14,
    "start_time": "2024-06-02T02:48:01.345Z"
   },
   {
    "duration": 7,
    "start_time": "2024-06-02T02:48:01.364Z"
   },
   {
    "duration": 42,
    "start_time": "2024-06-02T02:48:01.376Z"
   },
   {
    "duration": 10,
    "start_time": "2024-06-02T02:48:01.421Z"
   },
   {
    "duration": 12,
    "start_time": "2024-06-02T02:48:01.434Z"
   },
   {
    "duration": 10,
    "start_time": "2024-06-02T02:48:01.449Z"
   },
   {
    "duration": 54,
    "start_time": "2024-06-02T02:48:01.462Z"
   },
   {
    "duration": 25,
    "start_time": "2024-06-02T02:48:01.519Z"
   },
   {
    "duration": 6,
    "start_time": "2024-06-02T02:48:01.548Z"
   },
   {
    "duration": 6,
    "start_time": "2024-06-02T02:48:01.559Z"
   },
   {
    "duration": 46,
    "start_time": "2024-06-02T02:48:01.568Z"
   },
   {
    "duration": 12,
    "start_time": "2024-06-02T02:48:01.617Z"
   },
   {
    "duration": 8,
    "start_time": "2024-06-02T02:48:01.633Z"
   },
   {
    "duration": 13,
    "start_time": "2024-06-02T02:48:01.643Z"
   },
   {
    "duration": 50,
    "start_time": "2024-06-02T02:48:01.663Z"
   },
   {
    "duration": 366,
    "start_time": "2024-06-02T02:48:01.717Z"
   },
   {
    "duration": 364,
    "start_time": "2024-06-02T02:48:02.086Z"
   },
   {
    "duration": 337,
    "start_time": "2024-06-02T02:48:02.454Z"
   },
   {
    "duration": 20,
    "start_time": "2024-06-02T02:48:02.794Z"
   },
   {
    "duration": 10,
    "start_time": "2024-06-02T02:48:02.817Z"
   },
   {
    "duration": 1186,
    "start_time": "2024-06-02T02:48:02.830Z"
   },
   {
    "duration": 23,
    "start_time": "2024-06-02T02:48:04.019Z"
   },
   {
    "duration": 14,
    "start_time": "2024-06-02T02:48:04.045Z"
   },
   {
    "duration": 250,
    "start_time": "2024-06-02T02:48:04.062Z"
   },
   {
    "duration": 13,
    "start_time": "2024-06-02T02:48:04.316Z"
   },
   {
    "duration": 205,
    "start_time": "2024-06-02T02:48:04.333Z"
   },
   {
    "duration": 14,
    "start_time": "2024-06-02T02:48:04.544Z"
   },
   {
    "duration": 247,
    "start_time": "2024-06-02T02:48:04.560Z"
   },
   {
    "duration": 7,
    "start_time": "2024-06-02T02:48:04.813Z"
   },
   {
    "duration": 15,
    "start_time": "2024-06-02T02:48:04.823Z"
   },
   {
    "duration": 524,
    "start_time": "2024-06-02T02:48:04.843Z"
   },
   {
    "duration": 0,
    "start_time": "2024-06-02T02:48:05.370Z"
   },
   {
    "duration": 0,
    "start_time": "2024-06-02T02:48:05.372Z"
   },
   {
    "duration": 0,
    "start_time": "2024-06-02T02:48:05.375Z"
   },
   {
    "duration": 0,
    "start_time": "2024-06-02T02:48:05.376Z"
   },
   {
    "duration": 20,
    "start_time": "2024-06-02T04:24:50.394Z"
   },
   {
    "duration": 22,
    "start_time": "2024-06-02T04:24:53.369Z"
   },
   {
    "duration": 40,
    "start_time": "2024-06-02T05:16:43.756Z"
   },
   {
    "duration": 19,
    "start_time": "2024-06-02T05:16:49.223Z"
   },
   {
    "duration": 15,
    "start_time": "2024-06-02T05:17:09.958Z"
   },
   {
    "duration": 317,
    "start_time": "2024-06-02T13:01:30.085Z"
   },
   {
    "duration": 22,
    "start_time": "2024-06-02T13:02:06.108Z"
   },
   {
    "duration": 5098,
    "start_time": "2024-06-02T13:02:18.631Z"
   },
   {
    "duration": 933,
    "start_time": "2024-06-02T13:02:23.732Z"
   },
   {
    "duration": 32,
    "start_time": "2024-06-02T13:02:24.668Z"
   },
   {
    "duration": 44,
    "start_time": "2024-06-02T13:02:24.705Z"
   },
   {
    "duration": 115,
    "start_time": "2024-06-02T13:02:24.752Z"
   },
   {
    "duration": 10,
    "start_time": "2024-06-02T13:02:24.872Z"
   },
   {
    "duration": 53,
    "start_time": "2024-06-02T13:02:24.886Z"
   },
   {
    "duration": 19,
    "start_time": "2024-06-02T13:02:24.942Z"
   },
   {
    "duration": 32,
    "start_time": "2024-06-02T13:02:24.964Z"
   },
   {
    "duration": 33,
    "start_time": "2024-06-02T13:02:25.002Z"
   },
   {
    "duration": 29,
    "start_time": "2024-06-02T13:02:25.038Z"
   },
   {
    "duration": 22,
    "start_time": "2024-06-02T13:02:25.071Z"
   },
   {
    "duration": 151,
    "start_time": "2024-06-02T13:02:25.133Z"
   },
   {
    "duration": 10,
    "start_time": "2024-06-02T13:02:25.287Z"
   },
   {
    "duration": 5,
    "start_time": "2024-06-02T13:02:25.300Z"
   },
   {
    "duration": 17,
    "start_time": "2024-06-02T13:02:25.333Z"
   },
   {
    "duration": 10,
    "start_time": "2024-06-02T13:02:25.353Z"
   },
   {
    "duration": 11,
    "start_time": "2024-06-02T13:02:25.366Z"
   },
   {
    "duration": 53,
    "start_time": "2024-06-02T13:02:25.380Z"
   },
   {
    "duration": 6,
    "start_time": "2024-06-02T13:02:25.436Z"
   },
   {
    "duration": 23,
    "start_time": "2024-06-02T13:02:25.446Z"
   },
   {
    "duration": 5,
    "start_time": "2024-06-02T13:02:25.472Z"
   },
   {
    "duration": 5,
    "start_time": "2024-06-02T13:02:25.481Z"
   },
   {
    "duration": 8,
    "start_time": "2024-06-02T13:02:25.532Z"
   },
   {
    "duration": 11,
    "start_time": "2024-06-02T13:02:25.543Z"
   },
   {
    "duration": 9,
    "start_time": "2024-06-02T13:02:25.557Z"
   },
   {
    "duration": 11,
    "start_time": "2024-06-02T13:02:25.568Z"
   },
   {
    "duration": 46,
    "start_time": "2024-06-02T13:02:25.588Z"
   },
   {
    "duration": 365,
    "start_time": "2024-06-02T13:02:25.638Z"
   },
   {
    "duration": 372,
    "start_time": "2024-06-02T13:02:26.006Z"
   },
   {
    "duration": 430,
    "start_time": "2024-06-02T13:02:26.381Z"
   },
   {
    "duration": 20,
    "start_time": "2024-06-02T13:02:26.816Z"
   },
   {
    "duration": 14,
    "start_time": "2024-06-02T13:02:26.839Z"
   },
   {
    "duration": 1187,
    "start_time": "2024-06-02T13:02:26.856Z"
   },
   {
    "duration": 24,
    "start_time": "2024-06-02T13:02:28.046Z"
   },
   {
    "duration": 13,
    "start_time": "2024-06-02T13:02:28.073Z"
   },
   {
    "duration": 237,
    "start_time": "2024-06-02T13:02:28.089Z"
   },
   {
    "duration": 14,
    "start_time": "2024-06-02T13:02:28.333Z"
   },
   {
    "duration": 201,
    "start_time": "2024-06-02T13:02:28.350Z"
   },
   {
    "duration": 14,
    "start_time": "2024-06-02T13:02:28.554Z"
   },
   {
    "duration": 239,
    "start_time": "2024-06-02T13:02:28.572Z"
   },
   {
    "duration": 6,
    "start_time": "2024-06-02T13:02:28.815Z"
   },
   {
    "duration": 20,
    "start_time": "2024-06-02T13:02:28.835Z"
   },
   {
    "duration": 16,
    "start_time": "2024-06-02T13:02:28.858Z"
   },
   {
    "duration": 94,
    "start_time": "2024-06-02T13:02:28.877Z"
   },
   {
    "duration": 26,
    "start_time": "2024-06-02T13:02:28.974Z"
   },
   {
    "duration": 506,
    "start_time": "2024-06-02T13:02:29.004Z"
   },
   {
    "duration": 0,
    "start_time": "2024-06-02T13:02:29.513Z"
   },
   {
    "duration": 0,
    "start_time": "2024-06-02T13:02:29.515Z"
   },
   {
    "duration": 0,
    "start_time": "2024-06-02T13:02:29.517Z"
   },
   {
    "duration": 0,
    "start_time": "2024-06-02T13:02:29.520Z"
   },
   {
    "duration": 0,
    "start_time": "2024-06-02T13:02:29.521Z"
   },
   {
    "duration": 31,
    "start_time": "2024-06-02T13:02:46.227Z"
   },
   {
    "duration": 37,
    "start_time": "2024-06-02T13:03:28.647Z"
   },
   {
    "duration": 22,
    "start_time": "2024-06-02T13:03:35.030Z"
   },
   {
    "duration": 37,
    "start_time": "2024-06-02T13:04:16.294Z"
   },
   {
    "duration": 45,
    "start_time": "2024-06-02T13:04:30.992Z"
   },
   {
    "duration": 34,
    "start_time": "2024-06-02T13:05:22.044Z"
   },
   {
    "duration": 1411,
    "start_time": "2024-06-02T13:05:34.130Z"
   },
   {
    "duration": 775,
    "start_time": "2024-06-02T13:05:35.545Z"
   },
   {
    "duration": 37,
    "start_time": "2024-06-02T13:05:36.322Z"
   },
   {
    "duration": 100,
    "start_time": "2024-06-02T13:05:36.362Z"
   },
   {
    "duration": 113,
    "start_time": "2024-06-02T13:05:36.467Z"
   },
   {
    "duration": 9,
    "start_time": "2024-06-02T13:05:36.584Z"
   },
   {
    "duration": 53,
    "start_time": "2024-06-02T13:05:36.596Z"
   },
   {
    "duration": 18,
    "start_time": "2024-06-02T13:05:36.652Z"
   },
   {
    "duration": 61,
    "start_time": "2024-06-02T13:05:36.673Z"
   },
   {
    "duration": 9,
    "start_time": "2024-06-02T13:05:36.736Z"
   },
   {
    "duration": 26,
    "start_time": "2024-06-02T13:05:36.749Z"
   },
   {
    "duration": 55,
    "start_time": "2024-06-02T13:05:36.778Z"
   },
   {
    "duration": 155,
    "start_time": "2024-06-02T13:05:36.835Z"
   },
   {
    "duration": 13,
    "start_time": "2024-06-02T13:05:36.998Z"
   },
   {
    "duration": 22,
    "start_time": "2024-06-02T13:05:37.013Z"
   },
   {
    "duration": 18,
    "start_time": "2024-06-02T13:05:37.040Z"
   },
   {
    "duration": 8,
    "start_time": "2024-06-02T13:05:37.061Z"
   },
   {
    "duration": 12,
    "start_time": "2024-06-02T13:05:37.072Z"
   },
   {
    "duration": 55,
    "start_time": "2024-06-02T13:05:37.086Z"
   },
   {
    "duration": 10,
    "start_time": "2024-06-02T13:05:37.154Z"
   },
   {
    "duration": 28,
    "start_time": "2024-06-02T13:05:37.167Z"
   },
   {
    "duration": 34,
    "start_time": "2024-06-02T13:05:37.199Z"
   },
   {
    "duration": 10,
    "start_time": "2024-06-02T13:05:37.237Z"
   },
   {
    "duration": 16,
    "start_time": "2024-06-02T13:05:37.250Z"
   },
   {
    "duration": 14,
    "start_time": "2024-06-02T13:05:37.270Z"
   },
   {
    "duration": 44,
    "start_time": "2024-06-02T13:05:37.289Z"
   },
   {
    "duration": 11,
    "start_time": "2024-06-02T13:05:37.336Z"
   },
   {
    "duration": 6,
    "start_time": "2024-06-02T13:05:37.350Z"
   },
   {
    "duration": 378,
    "start_time": "2024-06-02T13:05:37.358Z"
   },
   {
    "duration": 355,
    "start_time": "2024-06-02T13:05:37.738Z"
   },
   {
    "duration": 339,
    "start_time": "2024-06-02T13:05:38.096Z"
   },
   {
    "duration": 14,
    "start_time": "2024-06-02T13:05:38.438Z"
   },
   {
    "duration": 12,
    "start_time": "2024-06-02T13:05:38.456Z"
   },
   {
    "duration": 1216,
    "start_time": "2024-06-02T13:05:38.472Z"
   },
   {
    "duration": 20,
    "start_time": "2024-06-02T13:05:39.691Z"
   },
   {
    "duration": 27,
    "start_time": "2024-06-02T13:05:39.715Z"
   },
   {
    "duration": 221,
    "start_time": "2024-06-02T13:05:39.745Z"
   },
   {
    "duration": 13,
    "start_time": "2024-06-02T13:05:39.969Z"
   },
   {
    "duration": 201,
    "start_time": "2024-06-02T13:05:39.985Z"
   },
   {
    "duration": 13,
    "start_time": "2024-06-02T13:05:40.189Z"
   },
   {
    "duration": 242,
    "start_time": "2024-06-02T13:05:40.212Z"
   },
   {
    "duration": 5,
    "start_time": "2024-06-02T13:05:40.457Z"
   },
   {
    "duration": 20,
    "start_time": "2024-06-02T13:05:40.466Z"
   },
   {
    "duration": 48,
    "start_time": "2024-06-02T13:05:40.489Z"
   },
   {
    "duration": 41,
    "start_time": "2024-06-02T13:05:40.540Z"
   },
   {
    "duration": 49,
    "start_time": "2024-06-02T13:05:40.585Z"
   },
   {
    "duration": 24,
    "start_time": "2024-06-02T13:05:40.637Z"
   },
   {
    "duration": 533,
    "start_time": "2024-06-02T13:05:40.664Z"
   },
   {
    "duration": 0,
    "start_time": "2024-06-02T13:05:41.200Z"
   },
   {
    "duration": 0,
    "start_time": "2024-06-02T13:05:41.202Z"
   },
   {
    "duration": 0,
    "start_time": "2024-06-02T13:05:41.204Z"
   },
   {
    "duration": 0,
    "start_time": "2024-06-02T13:05:41.207Z"
   },
   {
    "duration": 0,
    "start_time": "2024-06-02T13:05:41.208Z"
   },
   {
    "duration": 35,
    "start_time": "2024-06-02T13:05:55.635Z"
   },
   {
    "duration": 36,
    "start_time": "2024-06-02T13:06:17.853Z"
   },
   {
    "duration": 34,
    "start_time": "2024-06-02T13:16:09.085Z"
   },
   {
    "duration": 21,
    "start_time": "2024-06-02T13:16:12.413Z"
   },
   {
    "duration": 33,
    "start_time": "2024-06-02T13:16:13.534Z"
   },
   {
    "duration": 1390,
    "start_time": "2024-06-02T13:16:27.756Z"
   },
   {
    "duration": 784,
    "start_time": "2024-06-02T13:16:29.149Z"
   },
   {
    "duration": 32,
    "start_time": "2024-06-02T13:16:29.936Z"
   },
   {
    "duration": 111,
    "start_time": "2024-06-02T13:16:29.972Z"
   },
   {
    "duration": 114,
    "start_time": "2024-06-02T13:16:30.086Z"
   },
   {
    "duration": 11,
    "start_time": "2024-06-02T13:16:30.203Z"
   },
   {
    "duration": 27,
    "start_time": "2024-06-02T13:16:30.233Z"
   },
   {
    "duration": 18,
    "start_time": "2024-06-02T13:16:30.262Z"
   },
   {
    "duration": 61,
    "start_time": "2024-06-02T13:16:30.283Z"
   },
   {
    "duration": 10,
    "start_time": "2024-06-02T13:16:30.351Z"
   },
   {
    "duration": 28,
    "start_time": "2024-06-02T13:16:30.364Z"
   },
   {
    "duration": 60,
    "start_time": "2024-06-02T13:16:30.395Z"
   },
   {
    "duration": 163,
    "start_time": "2024-06-02T13:16:30.457Z"
   },
   {
    "duration": 20,
    "start_time": "2024-06-02T13:16:30.622Z"
   },
   {
    "duration": 5,
    "start_time": "2024-06-02T13:16:30.644Z"
   },
   {
    "duration": 18,
    "start_time": "2024-06-02T13:16:30.653Z"
   },
   {
    "duration": 8,
    "start_time": "2024-06-02T13:16:30.674Z"
   },
   {
    "duration": 53,
    "start_time": "2024-06-02T13:16:30.686Z"
   },
   {
    "duration": 11,
    "start_time": "2024-06-02T13:16:30.741Z"
   },
   {
    "duration": 7,
    "start_time": "2024-06-02T13:16:30.754Z"
   },
   {
    "duration": 23,
    "start_time": "2024-06-02T13:16:30.764Z"
   },
   {
    "duration": 6,
    "start_time": "2024-06-02T13:16:30.832Z"
   },
   {
    "duration": 6,
    "start_time": "2024-06-02T13:16:30.841Z"
   },
   {
    "duration": 9,
    "start_time": "2024-06-02T13:16:30.850Z"
   },
   {
    "duration": 11,
    "start_time": "2024-06-02T13:16:30.862Z"
   },
   {
    "duration": 61,
    "start_time": "2024-06-02T13:16:30.876Z"
   },
   {
    "duration": 12,
    "start_time": "2024-06-02T13:16:30.940Z"
   },
   {
    "duration": 5,
    "start_time": "2024-06-02T13:16:30.960Z"
   },
   {
    "duration": 391,
    "start_time": "2024-06-02T13:16:30.969Z"
   },
   {
    "duration": 370,
    "start_time": "2024-06-02T13:16:31.365Z"
   },
   {
    "duration": 350,
    "start_time": "2024-06-02T13:16:31.738Z"
   },
   {
    "duration": 11,
    "start_time": "2024-06-02T13:16:32.091Z"
   },
   {
    "duration": 32,
    "start_time": "2024-06-02T13:16:32.106Z"
   },
   {
    "duration": 1142,
    "start_time": "2024-06-02T13:16:32.141Z"
   },
   {
    "duration": 21,
    "start_time": "2024-06-02T13:16:33.287Z"
   },
   {
    "duration": 14,
    "start_time": "2024-06-02T13:16:33.332Z"
   },
   {
    "duration": 231,
    "start_time": "2024-06-02T13:16:33.349Z"
   },
   {
    "duration": 14,
    "start_time": "2024-06-02T13:16:33.583Z"
   },
   {
    "duration": 204,
    "start_time": "2024-06-02T13:16:33.599Z"
   },
   {
    "duration": 27,
    "start_time": "2024-06-02T13:16:33.806Z"
   },
   {
    "duration": 235,
    "start_time": "2024-06-02T13:16:33.835Z"
   },
   {
    "duration": 6,
    "start_time": "2024-06-02T13:16:34.073Z"
   },
   {
    "duration": 20,
    "start_time": "2024-06-02T13:16:34.082Z"
   },
   {
    "duration": 42,
    "start_time": "2024-06-02T13:16:34.105Z"
   },
   {
    "duration": 22,
    "start_time": "2024-06-02T13:16:34.151Z"
   },
   {
    "duration": 58,
    "start_time": "2024-06-02T13:16:34.176Z"
   },
   {
    "duration": 37,
    "start_time": "2024-06-02T13:16:34.237Z"
   },
   {
    "duration": 21,
    "start_time": "2024-06-02T13:16:34.277Z"
   },
   {
    "duration": 50,
    "start_time": "2024-06-02T13:16:34.301Z"
   },
   {
    "duration": 519,
    "start_time": "2024-06-02T13:16:34.354Z"
   },
   {
    "duration": 0,
    "start_time": "2024-06-02T13:16:34.876Z"
   },
   {
    "duration": 0,
    "start_time": "2024-06-02T13:16:34.877Z"
   },
   {
    "duration": 0,
    "start_time": "2024-06-02T13:16:34.879Z"
   },
   {
    "duration": 0,
    "start_time": "2024-06-02T13:16:34.882Z"
   },
   {
    "duration": 0,
    "start_time": "2024-06-02T13:16:34.883Z"
   },
   {
    "duration": 43,
    "start_time": "2024-06-02T13:17:36.781Z"
   },
   {
    "duration": 35,
    "start_time": "2024-06-02T13:17:40.030Z"
   },
   {
    "duration": 34,
    "start_time": "2024-06-02T13:17:43.556Z"
   },
   {
    "duration": 28,
    "start_time": "2024-06-02T13:18:09.224Z"
   },
   {
    "duration": 55,
    "start_time": "2024-06-02T13:18:27.400Z"
   },
   {
    "duration": 47,
    "start_time": "2024-06-02T13:18:37.677Z"
   },
   {
    "duration": 48,
    "start_time": "2024-06-02T13:18:56.556Z"
   },
   {
    "duration": 23,
    "start_time": "2024-06-02T13:21:49.257Z"
   },
   {
    "duration": 68,
    "start_time": "2024-06-02T13:21:58.060Z"
   },
   {
    "duration": 37,
    "start_time": "2024-06-02T13:22:09.503Z"
   },
   {
    "duration": 27,
    "start_time": "2024-06-02T13:22:18.184Z"
   },
   {
    "duration": 27,
    "start_time": "2024-06-02T13:22:25.843Z"
   },
   {
    "duration": 58,
    "start_time": "2024-06-02T13:22:37.148Z"
   },
   {
    "duration": 33,
    "start_time": "2024-06-02T13:22:43.355Z"
   },
   {
    "duration": 368,
    "start_time": "2024-06-02T13:22:51.521Z"
   },
   {
    "duration": 50,
    "start_time": "2024-06-02T13:23:00.665Z"
   },
   {
    "duration": 33,
    "start_time": "2024-06-02T13:23:04.915Z"
   },
   {
    "duration": 47,
    "start_time": "2024-06-02T13:29:15.769Z"
   },
   {
    "duration": 39,
    "start_time": "2024-06-02T13:34:07.447Z"
   },
   {
    "duration": 22,
    "start_time": "2024-06-02T13:34:27.938Z"
   },
   {
    "duration": 23,
    "start_time": "2024-06-02T13:35:00.619Z"
   },
   {
    "duration": 50,
    "start_time": "2024-06-02T13:38:06.153Z"
   },
   {
    "duration": 37,
    "start_time": "2024-06-02T13:38:10.978Z"
   },
   {
    "duration": 21,
    "start_time": "2024-06-02T13:38:31.533Z"
   },
   {
    "duration": 42,
    "start_time": "2024-06-02T13:39:40.386Z"
   },
   {
    "duration": 26,
    "start_time": "2024-06-02T13:42:40.394Z"
   },
   {
    "duration": 28,
    "start_time": "2024-06-02T13:42:44.172Z"
   },
   {
    "duration": 25,
    "start_time": "2024-06-02T13:42:49.744Z"
   },
   {
    "duration": 34,
    "start_time": "2024-06-02T13:43:07.425Z"
   },
   {
    "duration": 30,
    "start_time": "2024-06-02T13:43:10.329Z"
   },
   {
    "duration": 1358,
    "start_time": "2024-06-02T13:43:28.181Z"
   },
   {
    "duration": 777,
    "start_time": "2024-06-02T13:43:29.542Z"
   },
   {
    "duration": 38,
    "start_time": "2024-06-02T13:43:30.322Z"
   },
   {
    "duration": 100,
    "start_time": "2024-06-02T13:43:30.363Z"
   },
   {
    "duration": 115,
    "start_time": "2024-06-02T13:43:30.466Z"
   },
   {
    "duration": 10,
    "start_time": "2024-06-02T13:43:30.585Z"
   },
   {
    "duration": 51,
    "start_time": "2024-06-02T13:43:30.598Z"
   },
   {
    "duration": 19,
    "start_time": "2024-06-02T13:43:30.656Z"
   },
   {
    "duration": 60,
    "start_time": "2024-06-02T13:43:30.678Z"
   },
   {
    "duration": 9,
    "start_time": "2024-06-02T13:43:30.741Z"
   },
   {
    "duration": 31,
    "start_time": "2024-06-02T13:43:30.753Z"
   },
   {
    "duration": 59,
    "start_time": "2024-06-02T13:43:30.789Z"
   },
   {
    "duration": 159,
    "start_time": "2024-06-02T13:43:30.851Z"
   },
   {
    "duration": 24,
    "start_time": "2024-06-02T13:43:31.013Z"
   },
   {
    "duration": 5,
    "start_time": "2024-06-02T13:43:31.039Z"
   },
   {
    "duration": 18,
    "start_time": "2024-06-02T13:43:31.047Z"
   },
   {
    "duration": 10,
    "start_time": "2024-06-02T13:43:31.068Z"
   },
   {
    "duration": 57,
    "start_time": "2024-06-02T13:43:31.081Z"
   },
   {
    "duration": 11,
    "start_time": "2024-06-02T13:43:31.145Z"
   },
   {
    "duration": 8,
    "start_time": "2024-06-02T13:43:31.161Z"
   },
   {
    "duration": 23,
    "start_time": "2024-06-02T13:43:31.174Z"
   },
   {
    "duration": 5,
    "start_time": "2024-06-02T13:43:31.233Z"
   },
   {
    "duration": 5,
    "start_time": "2024-06-02T13:43:31.247Z"
   },
   {
    "duration": 9,
    "start_time": "2024-06-02T13:43:31.255Z"
   },
   {
    "duration": 12,
    "start_time": "2024-06-02T13:43:31.267Z"
   },
   {
    "duration": 54,
    "start_time": "2024-06-02T13:43:31.281Z"
   },
   {
    "duration": 15,
    "start_time": "2024-06-02T13:43:31.338Z"
   },
   {
    "duration": 7,
    "start_time": "2024-06-02T13:43:31.356Z"
   },
   {
    "duration": 404,
    "start_time": "2024-06-02T13:43:31.367Z"
   },
   {
    "duration": 377,
    "start_time": "2024-06-02T13:43:31.774Z"
   },
   {
    "duration": 354,
    "start_time": "2024-06-02T13:43:32.154Z"
   },
   {
    "duration": 24,
    "start_time": "2024-06-02T13:43:32.511Z"
   },
   {
    "duration": 11,
    "start_time": "2024-06-02T13:43:32.538Z"
   },
   {
    "duration": 1087,
    "start_time": "2024-06-02T13:43:32.552Z"
   },
   {
    "duration": 21,
    "start_time": "2024-06-02T13:43:33.642Z"
   },
   {
    "duration": 12,
    "start_time": "2024-06-02T13:43:33.666Z"
   },
   {
    "duration": 227,
    "start_time": "2024-06-02T13:43:33.682Z"
   },
   {
    "duration": 21,
    "start_time": "2024-06-02T13:43:33.912Z"
   },
   {
    "duration": 216,
    "start_time": "2024-06-02T13:43:33.936Z"
   },
   {
    "duration": 13,
    "start_time": "2024-06-02T13:43:34.155Z"
   },
   {
    "duration": 247,
    "start_time": "2024-06-02T13:43:34.171Z"
   },
   {
    "duration": 11,
    "start_time": "2024-06-02T13:43:34.424Z"
   },
   {
    "duration": 26,
    "start_time": "2024-06-02T13:43:34.439Z"
   },
   {
    "duration": 5,
    "start_time": "2024-06-02T13:43:34.468Z"
   },
   {
    "duration": 61,
    "start_time": "2024-06-02T13:43:34.477Z"
   },
   {
    "duration": 7,
    "start_time": "2024-06-02T13:43:34.540Z"
   },
   {
    "duration": 0,
    "start_time": "2024-06-02T13:43:34.550Z"
   },
   {
    "duration": 0,
    "start_time": "2024-06-02T13:43:34.551Z"
   },
   {
    "duration": 0,
    "start_time": "2024-06-02T13:43:34.554Z"
   },
   {
    "duration": 0,
    "start_time": "2024-06-02T13:43:34.556Z"
   },
   {
    "duration": 0,
    "start_time": "2024-06-02T13:43:34.559Z"
   },
   {
    "duration": 0,
    "start_time": "2024-06-02T13:43:34.561Z"
   },
   {
    "duration": 0,
    "start_time": "2024-06-02T13:43:34.563Z"
   },
   {
    "duration": 505,
    "start_time": "2024-06-02T13:44:30.580Z"
   },
   {
    "duration": 1405,
    "start_time": "2024-06-02T13:46:31.357Z"
   },
   {
    "duration": 795,
    "start_time": "2024-06-02T13:46:32.765Z"
   },
   {
    "duration": 34,
    "start_time": "2024-06-02T13:46:33.565Z"
   },
   {
    "duration": 105,
    "start_time": "2024-06-02T13:46:33.601Z"
   },
   {
    "duration": 111,
    "start_time": "2024-06-02T13:46:33.711Z"
   },
   {
    "duration": 10,
    "start_time": "2024-06-02T13:46:33.832Z"
   },
   {
    "duration": 28,
    "start_time": "2024-06-02T13:46:33.845Z"
   },
   {
    "duration": 18,
    "start_time": "2024-06-02T13:46:33.876Z"
   },
   {
    "duration": 34,
    "start_time": "2024-06-02T13:46:33.932Z"
   },
   {
    "duration": 12,
    "start_time": "2024-06-02T13:46:33.968Z"
   },
   {
    "duration": 52,
    "start_time": "2024-06-02T13:46:33.983Z"
   },
   {
    "duration": 23,
    "start_time": "2024-06-02T13:46:34.037Z"
   },
   {
    "duration": 171,
    "start_time": "2024-06-02T13:46:34.063Z"
   },
   {
    "duration": 12,
    "start_time": "2024-06-02T13:46:34.241Z"
   },
   {
    "duration": 5,
    "start_time": "2024-06-02T13:46:34.256Z"
   },
   {
    "duration": 20,
    "start_time": "2024-06-02T13:46:34.264Z"
   },
   {
    "duration": 49,
    "start_time": "2024-06-02T13:46:34.286Z"
   },
   {
    "duration": 11,
    "start_time": "2024-06-02T13:46:34.338Z"
   },
   {
    "duration": 9,
    "start_time": "2024-06-02T13:46:34.353Z"
   },
   {
    "duration": 6,
    "start_time": "2024-06-02T13:46:34.365Z"
   },
   {
    "duration": 68,
    "start_time": "2024-06-02T13:46:34.375Z"
   },
   {
    "duration": 6,
    "start_time": "2024-06-02T13:46:34.446Z"
   },
   {
    "duration": 7,
    "start_time": "2024-06-02T13:46:34.456Z"
   },
   {
    "duration": 11,
    "start_time": "2024-06-02T13:46:34.465Z"
   },
   {
    "duration": 59,
    "start_time": "2024-06-02T13:46:34.480Z"
   },
   {
    "duration": 10,
    "start_time": "2024-06-02T13:46:34.543Z"
   },
   {
    "duration": 11,
    "start_time": "2024-06-02T13:46:34.556Z"
   },
   {
    "duration": 5,
    "start_time": "2024-06-02T13:46:34.570Z"
   },
   {
    "duration": 411,
    "start_time": "2024-06-02T13:46:34.579Z"
   },
   {
    "duration": 378,
    "start_time": "2024-06-02T13:46:34.995Z"
   },
   {
    "duration": 347,
    "start_time": "2024-06-02T13:46:35.376Z"
   },
   {
    "duration": 15,
    "start_time": "2024-06-02T13:46:35.726Z"
   },
   {
    "duration": 10,
    "start_time": "2024-06-02T13:46:35.744Z"
   },
   {
    "duration": 1176,
    "start_time": "2024-06-02T13:46:35.759Z"
   },
   {
    "duration": 21,
    "start_time": "2024-06-02T13:46:36.937Z"
   },
   {
    "duration": 16,
    "start_time": "2024-06-02T13:46:36.961Z"
   },
   {
    "duration": 238,
    "start_time": "2024-06-02T13:46:36.980Z"
   },
   {
    "duration": 22,
    "start_time": "2024-06-02T13:46:37.221Z"
   },
   {
    "duration": 200,
    "start_time": "2024-06-02T13:46:37.245Z"
   },
   {
    "duration": 13,
    "start_time": "2024-06-02T13:46:37.448Z"
   },
   {
    "duration": 248,
    "start_time": "2024-06-02T13:46:37.471Z"
   },
   {
    "duration": 14,
    "start_time": "2024-06-02T13:46:37.723Z"
   },
   {
    "duration": 4,
    "start_time": "2024-06-02T13:46:37.739Z"
   },
   {
    "duration": 3,
    "start_time": "2024-06-02T13:46:37.747Z"
   },
   {
    "duration": 30,
    "start_time": "2024-06-02T13:46:37.754Z"
   },
   {
    "duration": 534,
    "start_time": "2024-06-02T13:46:37.788Z"
   },
   {
    "duration": 0,
    "start_time": "2024-06-02T13:46:38.324Z"
   },
   {
    "duration": 0,
    "start_time": "2024-06-02T13:46:38.326Z"
   },
   {
    "duration": 0,
    "start_time": "2024-06-02T13:46:38.333Z"
   },
   {
    "duration": 0,
    "start_time": "2024-06-02T13:46:38.336Z"
   },
   {
    "duration": 0,
    "start_time": "2024-06-02T13:46:38.338Z"
   },
   {
    "duration": 0,
    "start_time": "2024-06-02T13:46:38.340Z"
   },
   {
    "duration": 0,
    "start_time": "2024-06-02T13:46:38.343Z"
   },
   {
    "duration": 25,
    "start_time": "2024-06-02T13:47:11.969Z"
   },
   {
    "duration": 26,
    "start_time": "2024-06-02T13:50:19.607Z"
   },
   {
    "duration": 41,
    "start_time": "2024-06-02T13:51:55.058Z"
   },
   {
    "duration": 27,
    "start_time": "2024-06-02T13:52:18.405Z"
   },
   {
    "duration": 32,
    "start_time": "2024-06-02T13:52:33.293Z"
   },
   {
    "duration": 1441,
    "start_time": "2024-06-02T13:52:39.608Z"
   },
   {
    "duration": 819,
    "start_time": "2024-06-02T13:52:41.053Z"
   },
   {
    "duration": 37,
    "start_time": "2024-06-02T13:52:41.875Z"
   },
   {
    "duration": 97,
    "start_time": "2024-06-02T13:52:41.915Z"
   },
   {
    "duration": 125,
    "start_time": "2024-06-02T13:52:42.017Z"
   },
   {
    "duration": 11,
    "start_time": "2024-06-02T13:52:42.146Z"
   },
   {
    "duration": 29,
    "start_time": "2024-06-02T13:52:42.160Z"
   },
   {
    "duration": 50,
    "start_time": "2024-06-02T13:52:42.192Z"
   },
   {
    "duration": 32,
    "start_time": "2024-06-02T13:52:42.245Z"
   },
   {
    "duration": 8,
    "start_time": "2024-06-02T13:52:42.280Z"
   },
   {
    "duration": 61,
    "start_time": "2024-06-02T13:52:42.291Z"
   },
   {
    "duration": 23,
    "start_time": "2024-06-02T13:52:42.355Z"
   },
   {
    "duration": 178,
    "start_time": "2024-06-02T13:52:42.381Z"
   },
   {
    "duration": 11,
    "start_time": "2024-06-02T13:52:42.566Z"
   },
   {
    "duration": 4,
    "start_time": "2024-06-02T13:52:42.580Z"
   },
   {
    "duration": 46,
    "start_time": "2024-06-02T13:52:42.587Z"
   },
   {
    "duration": 8,
    "start_time": "2024-06-02T13:52:42.636Z"
   },
   {
    "duration": 11,
    "start_time": "2024-06-02T13:52:42.646Z"
   },
   {
    "duration": 11,
    "start_time": "2024-06-02T13:52:42.660Z"
   },
   {
    "duration": 8,
    "start_time": "2024-06-02T13:52:42.673Z"
   },
   {
    "duration": 24,
    "start_time": "2024-06-02T13:52:42.732Z"
   },
   {
    "duration": 6,
    "start_time": "2024-06-02T13:52:42.758Z"
   },
   {
    "duration": 6,
    "start_time": "2024-06-02T13:52:42.767Z"
   },
   {
    "duration": 10,
    "start_time": "2024-06-02T13:52:42.776Z"
   },
   {
    "duration": 11,
    "start_time": "2024-06-02T13:52:42.833Z"
   },
   {
    "duration": 10,
    "start_time": "2024-06-02T13:52:42.847Z"
   },
   {
    "duration": 12,
    "start_time": "2024-06-02T13:52:42.860Z"
   },
   {
    "duration": 5,
    "start_time": "2024-06-02T13:52:42.875Z"
   },
   {
    "duration": 398,
    "start_time": "2024-06-02T13:52:42.883Z"
   },
   {
    "duration": 364,
    "start_time": "2024-06-02T13:52:43.284Z"
   },
   {
    "duration": 334,
    "start_time": "2024-06-02T13:52:43.651Z"
   },
   {
    "duration": 12,
    "start_time": "2024-06-02T13:52:43.988Z"
   },
   {
    "duration": 36,
    "start_time": "2024-06-02T13:52:44.003Z"
   },
   {
    "duration": 1211,
    "start_time": "2024-06-02T13:52:44.043Z"
   },
   {
    "duration": 21,
    "start_time": "2024-06-02T13:52:45.257Z"
   },
   {
    "duration": 15,
    "start_time": "2024-06-02T13:52:45.280Z"
   },
   {
    "duration": 226,
    "start_time": "2024-06-02T13:52:45.297Z"
   },
   {
    "duration": 17,
    "start_time": "2024-06-02T13:52:45.527Z"
   },
   {
    "duration": 202,
    "start_time": "2024-06-02T13:52:45.547Z"
   },
   {
    "duration": 13,
    "start_time": "2024-06-02T13:52:45.752Z"
   },
   {
    "duration": 244,
    "start_time": "2024-06-02T13:52:45.774Z"
   },
   {
    "duration": 12,
    "start_time": "2024-06-02T13:52:46.020Z"
   },
   {
    "duration": 4,
    "start_time": "2024-06-02T13:52:46.035Z"
   },
   {
    "duration": 4,
    "start_time": "2024-06-02T13:52:46.042Z"
   },
   {
    "duration": 25,
    "start_time": "2024-06-02T13:52:46.049Z"
   },
   {
    "duration": 529,
    "start_time": "2024-06-02T13:52:46.077Z"
   },
   {
    "duration": 0,
    "start_time": "2024-06-02T13:52:46.609Z"
   },
   {
    "duration": 0,
    "start_time": "2024-06-02T13:52:46.612Z"
   },
   {
    "duration": 0,
    "start_time": "2024-06-02T13:52:46.614Z"
   },
   {
    "duration": 0,
    "start_time": "2024-06-02T13:52:46.616Z"
   },
   {
    "duration": 0,
    "start_time": "2024-06-02T13:52:46.634Z"
   },
   {
    "duration": 0,
    "start_time": "2024-06-02T13:52:46.636Z"
   },
   {
    "duration": 0,
    "start_time": "2024-06-02T13:52:46.638Z"
   },
   {
    "duration": 31,
    "start_time": "2024-06-02T15:37:58.360Z"
   },
   {
    "duration": 1534,
    "start_time": "2024-06-02T15:38:22.642Z"
   },
   {
    "duration": 891,
    "start_time": "2024-06-02T15:38:24.179Z"
   },
   {
    "duration": 47,
    "start_time": "2024-06-02T15:38:25.073Z"
   },
   {
    "duration": 98,
    "start_time": "2024-06-02T15:38:25.124Z"
   },
   {
    "duration": 139,
    "start_time": "2024-06-02T15:38:25.236Z"
   },
   {
    "duration": 14,
    "start_time": "2024-06-02T15:38:25.378Z"
   },
   {
    "duration": 53,
    "start_time": "2024-06-02T15:38:25.395Z"
   },
   {
    "duration": 18,
    "start_time": "2024-06-02T15:38:25.451Z"
   },
   {
    "duration": 33,
    "start_time": "2024-06-02T15:38:25.472Z"
   },
   {
    "duration": 8,
    "start_time": "2024-06-02T15:38:25.532Z"
   },
   {
    "duration": 27,
    "start_time": "2024-06-02T15:38:25.544Z"
   },
   {
    "duration": 22,
    "start_time": "2024-06-02T15:38:25.574Z"
   },
   {
    "duration": 155,
    "start_time": "2024-06-02T15:38:25.633Z"
   },
   {
    "duration": 11,
    "start_time": "2024-06-02T15:38:25.795Z"
   },
   {
    "duration": 4,
    "start_time": "2024-06-02T15:38:25.810Z"
   },
   {
    "duration": 27,
    "start_time": "2024-06-02T15:38:25.834Z"
   },
   {
    "duration": 10,
    "start_time": "2024-06-02T15:38:25.865Z"
   },
   {
    "duration": 12,
    "start_time": "2024-06-02T15:38:25.879Z"
   },
   {
    "duration": 49,
    "start_time": "2024-06-02T15:38:25.894Z"
   },
   {
    "duration": 8,
    "start_time": "2024-06-02T15:38:25.946Z"
   },
   {
    "duration": 29,
    "start_time": "2024-06-02T15:38:25.957Z"
   },
   {
    "duration": 44,
    "start_time": "2024-06-02T15:38:25.990Z"
   },
   {
    "duration": 11,
    "start_time": "2024-06-02T15:38:26.040Z"
   },
   {
    "duration": 11,
    "start_time": "2024-06-02T15:38:26.054Z"
   },
   {
    "duration": 14,
    "start_time": "2024-06-02T15:38:26.070Z"
   },
   {
    "duration": 45,
    "start_time": "2024-06-02T15:38:26.088Z"
   },
   {
    "duration": 14,
    "start_time": "2024-06-02T15:38:26.137Z"
   },
   {
    "duration": 7,
    "start_time": "2024-06-02T15:38:26.154Z"
   },
   {
    "duration": 450,
    "start_time": "2024-06-02T15:38:26.165Z"
   },
   {
    "duration": 388,
    "start_time": "2024-06-02T15:38:26.618Z"
   },
   {
    "duration": 445,
    "start_time": "2024-06-02T15:38:27.009Z"
   },
   {
    "duration": 13,
    "start_time": "2024-06-02T15:38:27.457Z"
   },
   {
    "duration": 13,
    "start_time": "2024-06-02T15:38:27.474Z"
   },
   {
    "duration": 1208,
    "start_time": "2024-06-02T15:38:27.490Z"
   },
   {
    "duration": 34,
    "start_time": "2024-06-02T15:38:28.702Z"
   },
   {
    "duration": 15,
    "start_time": "2024-06-02T15:38:28.741Z"
   },
   {
    "duration": 221,
    "start_time": "2024-06-02T15:38:28.759Z"
   },
   {
    "duration": 13,
    "start_time": "2024-06-02T15:38:28.983Z"
   },
   {
    "duration": 200,
    "start_time": "2024-06-02T15:38:28.999Z"
   },
   {
    "duration": 13,
    "start_time": "2024-06-02T15:38:29.203Z"
   },
   {
    "duration": 241,
    "start_time": "2024-06-02T15:38:29.239Z"
   },
   {
    "duration": 9,
    "start_time": "2024-06-02T15:38:29.484Z"
   },
   {
    "duration": 8,
    "start_time": "2024-06-02T15:38:29.496Z"
   },
   {
    "duration": 23,
    "start_time": "2024-06-02T15:38:29.509Z"
   },
   {
    "duration": 541,
    "start_time": "2024-06-02T15:38:29.537Z"
   },
   {
    "duration": 0,
    "start_time": "2024-06-02T15:38:30.081Z"
   },
   {
    "duration": 0,
    "start_time": "2024-06-02T15:38:30.083Z"
   },
   {
    "duration": 0,
    "start_time": "2024-06-02T15:38:30.085Z"
   },
   {
    "duration": 0,
    "start_time": "2024-06-02T15:38:30.086Z"
   },
   {
    "duration": 0,
    "start_time": "2024-06-02T15:38:30.089Z"
   },
   {
    "duration": 0,
    "start_time": "2024-06-02T15:38:30.091Z"
   },
   {
    "duration": 0,
    "start_time": "2024-06-02T15:38:30.092Z"
   },
   {
    "duration": 4,
    "start_time": "2024-06-02T15:39:45.860Z"
   },
   {
    "duration": 30,
    "start_time": "2024-06-02T15:40:07.996Z"
   },
   {
    "duration": 4,
    "start_time": "2024-06-02T15:40:29.326Z"
   },
   {
    "duration": 25,
    "start_time": "2024-06-02T15:46:15.860Z"
   },
   {
    "duration": 26,
    "start_time": "2024-06-02T15:46:51.480Z"
   },
   {
    "duration": 1407,
    "start_time": "2024-06-02T15:47:13.086Z"
   },
   {
    "duration": 791,
    "start_time": "2024-06-02T15:47:14.496Z"
   },
   {
    "duration": 44,
    "start_time": "2024-06-02T15:47:15.290Z"
   },
   {
    "duration": 95,
    "start_time": "2024-06-02T15:47:15.338Z"
   },
   {
    "duration": 123,
    "start_time": "2024-06-02T15:47:15.436Z"
   },
   {
    "duration": 12,
    "start_time": "2024-06-02T15:47:15.562Z"
   },
   {
    "duration": 27,
    "start_time": "2024-06-02T15:47:15.578Z"
   },
   {
    "duration": 18,
    "start_time": "2024-06-02T15:47:15.634Z"
   },
   {
    "duration": 36,
    "start_time": "2024-06-02T15:47:15.655Z"
   },
   {
    "duration": 40,
    "start_time": "2024-06-02T15:47:15.697Z"
   },
   {
    "duration": 26,
    "start_time": "2024-06-02T15:47:15.740Z"
   },
   {
    "duration": 23,
    "start_time": "2024-06-02T15:47:15.769Z"
   },
   {
    "duration": 195,
    "start_time": "2024-06-02T15:47:15.796Z"
   },
   {
    "duration": 12,
    "start_time": "2024-06-02T15:47:15.994Z"
   },
   {
    "duration": 24,
    "start_time": "2024-06-02T15:47:16.009Z"
   },
   {
    "duration": 18,
    "start_time": "2024-06-02T15:47:16.037Z"
   },
   {
    "duration": 10,
    "start_time": "2024-06-02T15:47:16.058Z"
   },
   {
    "duration": 11,
    "start_time": "2024-06-02T15:47:16.070Z"
   },
   {
    "duration": 53,
    "start_time": "2024-06-02T15:47:16.084Z"
   },
   {
    "duration": 7,
    "start_time": "2024-06-02T15:47:16.140Z"
   },
   {
    "duration": 24,
    "start_time": "2024-06-02T15:47:16.150Z"
   },
   {
    "duration": 7,
    "start_time": "2024-06-02T15:47:16.178Z"
   },
   {
    "duration": 48,
    "start_time": "2024-06-02T15:47:16.188Z"
   },
   {
    "duration": 8,
    "start_time": "2024-06-02T15:47:16.239Z"
   },
   {
    "duration": 12,
    "start_time": "2024-06-02T15:47:16.250Z"
   },
   {
    "duration": 9,
    "start_time": "2024-06-02T15:47:16.265Z"
   },
   {
    "duration": 63,
    "start_time": "2024-06-02T15:47:16.277Z"
   },
   {
    "duration": 6,
    "start_time": "2024-06-02T15:47:16.350Z"
   },
   {
    "duration": 369,
    "start_time": "2024-06-02T15:47:16.359Z"
   },
   {
    "duration": 354,
    "start_time": "2024-06-02T15:47:16.734Z"
   },
   {
    "duration": 384,
    "start_time": "2024-06-02T15:47:17.091Z"
   },
   {
    "duration": 14,
    "start_time": "2024-06-02T15:47:17.478Z"
   },
   {
    "duration": 39,
    "start_time": "2024-06-02T15:47:17.495Z"
   },
   {
    "duration": 1106,
    "start_time": "2024-06-02T15:47:17.537Z"
   },
   {
    "duration": 21,
    "start_time": "2024-06-02T15:47:18.646Z"
   },
   {
    "duration": 14,
    "start_time": "2024-06-02T15:47:18.670Z"
   },
   {
    "duration": 234,
    "start_time": "2024-06-02T15:47:18.687Z"
   },
   {
    "duration": 13,
    "start_time": "2024-06-02T15:47:18.932Z"
   },
   {
    "duration": 191,
    "start_time": "2024-06-02T15:47:18.948Z"
   },
   {
    "duration": 12,
    "start_time": "2024-06-02T15:47:19.142Z"
   },
   {
    "duration": 245,
    "start_time": "2024-06-02T15:47:19.158Z"
   },
   {
    "duration": 7,
    "start_time": "2024-06-02T15:47:19.406Z"
   },
   {
    "duration": 17,
    "start_time": "2024-06-02T15:47:19.416Z"
   },
   {
    "duration": 4,
    "start_time": "2024-06-02T15:47:19.435Z"
   },
   {
    "duration": 28,
    "start_time": "2024-06-02T15:47:19.442Z"
   },
   {
    "duration": 1382,
    "start_time": "2024-06-02T15:47:19.473Z"
   },
   {
    "duration": 0,
    "start_time": "2024-06-02T15:47:20.858Z"
   },
   {
    "duration": 0,
    "start_time": "2024-06-02T15:47:20.860Z"
   },
   {
    "duration": 0,
    "start_time": "2024-06-02T15:47:20.862Z"
   },
   {
    "duration": 0,
    "start_time": "2024-06-02T15:47:20.864Z"
   },
   {
    "duration": 0,
    "start_time": "2024-06-02T15:47:20.866Z"
   },
   {
    "duration": 0,
    "start_time": "2024-06-02T15:47:20.868Z"
   },
   {
    "duration": 0,
    "start_time": "2024-06-02T15:47:20.870Z"
   },
   {
    "duration": 0,
    "start_time": "2024-06-02T15:47:20.872Z"
   },
   {
    "duration": 34,
    "start_time": "2024-06-02T15:47:27.286Z"
   },
   {
    "duration": 1485,
    "start_time": "2024-06-02T15:49:38.431Z"
   },
   {
    "duration": 811,
    "start_time": "2024-06-02T15:49:39.920Z"
   },
   {
    "duration": 32,
    "start_time": "2024-06-02T15:49:40.734Z"
   },
   {
    "duration": 104,
    "start_time": "2024-06-02T15:49:40.770Z"
   },
   {
    "duration": 115,
    "start_time": "2024-06-02T15:49:40.877Z"
   },
   {
    "duration": 10,
    "start_time": "2024-06-02T15:49:40.995Z"
   },
   {
    "duration": 49,
    "start_time": "2024-06-02T15:49:41.008Z"
   },
   {
    "duration": 23,
    "start_time": "2024-06-02T15:49:41.060Z"
   },
   {
    "duration": 58,
    "start_time": "2024-06-02T15:49:41.087Z"
   },
   {
    "duration": 10,
    "start_time": "2024-06-02T15:49:41.153Z"
   },
   {
    "duration": 28,
    "start_time": "2024-06-02T15:49:41.165Z"
   },
   {
    "duration": 62,
    "start_time": "2024-06-02T15:49:41.196Z"
   },
   {
    "duration": 177,
    "start_time": "2024-06-02T15:49:41.261Z"
   },
   {
    "duration": 11,
    "start_time": "2024-06-02T15:49:41.441Z"
   },
   {
    "duration": 5,
    "start_time": "2024-06-02T15:49:41.455Z"
   },
   {
    "duration": 18,
    "start_time": "2024-06-02T15:49:41.462Z"
   },
   {
    "duration": 9,
    "start_time": "2024-06-02T15:49:41.483Z"
   },
   {
    "duration": 14,
    "start_time": "2024-06-02T15:49:41.534Z"
   },
   {
    "duration": 10,
    "start_time": "2024-06-02T15:49:41.551Z"
   },
   {
    "duration": 8,
    "start_time": "2024-06-02T15:49:41.563Z"
   },
   {
    "duration": 71,
    "start_time": "2024-06-02T15:49:41.574Z"
   },
   {
    "duration": 8,
    "start_time": "2024-06-02T15:49:41.648Z"
   },
   {
    "duration": 6,
    "start_time": "2024-06-02T15:49:41.660Z"
   },
   {
    "duration": 8,
    "start_time": "2024-06-02T15:49:41.669Z"
   },
   {
    "duration": 54,
    "start_time": "2024-06-02T15:49:41.680Z"
   },
   {
    "duration": 9,
    "start_time": "2024-06-02T15:49:41.738Z"
   },
   {
    "duration": 12,
    "start_time": "2024-06-02T15:49:41.751Z"
   },
   {
    "duration": 5,
    "start_time": "2024-06-02T15:49:41.771Z"
   },
   {
    "duration": 397,
    "start_time": "2024-06-02T15:49:41.779Z"
   },
   {
    "duration": 370,
    "start_time": "2024-06-02T15:49:42.181Z"
   },
   {
    "duration": 353,
    "start_time": "2024-06-02T15:49:42.555Z"
   },
   {
    "duration": 22,
    "start_time": "2024-06-02T15:49:42.910Z"
   },
   {
    "duration": 12,
    "start_time": "2024-06-02T15:49:42.935Z"
   },
   {
    "duration": 1294,
    "start_time": "2024-06-02T15:49:42.949Z"
   },
   {
    "duration": 21,
    "start_time": "2024-06-02T15:49:44.246Z"
   },
   {
    "duration": 13,
    "start_time": "2024-06-02T15:49:44.271Z"
   },
   {
    "duration": 236,
    "start_time": "2024-06-02T15:49:44.286Z"
   },
   {
    "duration": 18,
    "start_time": "2024-06-02T15:49:44.525Z"
   },
   {
    "duration": 208,
    "start_time": "2024-06-02T15:49:44.546Z"
   },
   {
    "duration": 13,
    "start_time": "2024-06-02T15:49:44.757Z"
   },
   {
    "duration": 246,
    "start_time": "2024-06-02T15:49:44.773Z"
   },
   {
    "duration": 14,
    "start_time": "2024-06-02T15:49:45.022Z"
   },
   {
    "duration": 4,
    "start_time": "2024-06-02T15:49:45.039Z"
   },
   {
    "duration": 3,
    "start_time": "2024-06-02T15:49:45.046Z"
   },
   {
    "duration": 25,
    "start_time": "2024-06-02T15:49:45.052Z"
   },
   {
    "duration": 1396,
    "start_time": "2024-06-02T15:49:45.081Z"
   },
   {
    "duration": 0,
    "start_time": "2024-06-02T15:49:46.480Z"
   },
   {
    "duration": 0,
    "start_time": "2024-06-02T15:49:46.483Z"
   },
   {
    "duration": 0,
    "start_time": "2024-06-02T15:49:46.485Z"
   },
   {
    "duration": 0,
    "start_time": "2024-06-02T15:49:46.487Z"
   },
   {
    "duration": 0,
    "start_time": "2024-06-02T15:49:46.489Z"
   },
   {
    "duration": 0,
    "start_time": "2024-06-02T15:49:46.490Z"
   },
   {
    "duration": 0,
    "start_time": "2024-06-02T15:49:46.492Z"
   },
   {
    "duration": 0,
    "start_time": "2024-06-02T15:49:46.494Z"
   },
   {
    "duration": 30,
    "start_time": "2024-06-02T15:50:28.025Z"
   },
   {
    "duration": 32,
    "start_time": "2024-06-02T15:50:41.634Z"
   },
   {
    "duration": 29,
    "start_time": "2024-06-02T15:51:51.036Z"
   },
   {
    "duration": 2623,
    "start_time": "2024-06-02T15:52:34.059Z"
   },
   {
    "duration": 5,
    "start_time": "2024-06-02T16:29:08.322Z"
   },
   {
    "duration": 25,
    "start_time": "2024-06-02T16:39:35.162Z"
   },
   {
    "duration": 1428,
    "start_time": "2024-06-02T16:39:47.325Z"
   },
   {
    "duration": 804,
    "start_time": "2024-06-02T16:39:48.757Z"
   },
   {
    "duration": 32,
    "start_time": "2024-06-02T16:39:49.564Z"
   },
   {
    "duration": 104,
    "start_time": "2024-06-02T16:39:49.600Z"
   },
   {
    "duration": 115,
    "start_time": "2024-06-02T16:39:49.707Z"
   },
   {
    "duration": 15,
    "start_time": "2024-06-02T16:39:49.825Z"
   },
   {
    "duration": 29,
    "start_time": "2024-06-02T16:39:49.843Z"
   },
   {
    "duration": 17,
    "start_time": "2024-06-02T16:39:49.874Z"
   },
   {
    "duration": 33,
    "start_time": "2024-06-02T16:39:49.934Z"
   },
   {
    "duration": 9,
    "start_time": "2024-06-02T16:39:49.972Z"
   },
   {
    "duration": 57,
    "start_time": "2024-06-02T16:39:49.984Z"
   },
   {
    "duration": 22,
    "start_time": "2024-06-02T16:39:50.044Z"
   },
   {
    "duration": 171,
    "start_time": "2024-06-02T16:39:50.069Z"
   },
   {
    "duration": 11,
    "start_time": "2024-06-02T16:39:50.244Z"
   },
   {
    "duration": 5,
    "start_time": "2024-06-02T16:39:50.258Z"
   },
   {
    "duration": 19,
    "start_time": "2024-06-02T16:39:50.266Z"
   },
   {
    "duration": 47,
    "start_time": "2024-06-02T16:39:50.288Z"
   },
   {
    "duration": 11,
    "start_time": "2024-06-02T16:39:50.338Z"
   },
   {
    "duration": 10,
    "start_time": "2024-06-02T16:39:50.351Z"
   },
   {
    "duration": 7,
    "start_time": "2024-06-02T16:39:50.364Z"
   },
   {
    "duration": 63,
    "start_time": "2024-06-02T16:39:50.374Z"
   },
   {
    "duration": 5,
    "start_time": "2024-06-02T16:39:50.440Z"
   },
   {
    "duration": 6,
    "start_time": "2024-06-02T16:39:50.448Z"
   },
   {
    "duration": 8,
    "start_time": "2024-06-02T16:39:50.457Z"
   },
   {
    "duration": 65,
    "start_time": "2024-06-02T16:39:50.468Z"
   },
   {
    "duration": 12,
    "start_time": "2024-06-02T16:39:50.535Z"
   },
   {
    "duration": 15,
    "start_time": "2024-06-02T16:39:50.550Z"
   },
   {
    "duration": 6,
    "start_time": "2024-06-02T16:39:50.573Z"
   },
   {
    "duration": 381,
    "start_time": "2024-06-02T16:39:50.581Z"
   },
   {
    "duration": 357,
    "start_time": "2024-06-02T16:39:50.968Z"
   },
   {
    "duration": 368,
    "start_time": "2024-06-02T16:39:51.332Z"
   },
   {
    "duration": 12,
    "start_time": "2024-06-02T16:39:51.703Z"
   },
   {
    "duration": 12,
    "start_time": "2024-06-02T16:39:51.738Z"
   },
   {
    "duration": 1195,
    "start_time": "2024-06-02T16:39:51.753Z"
   },
   {
    "duration": 20,
    "start_time": "2024-06-02T16:39:52.950Z"
   },
   {
    "duration": 12,
    "start_time": "2024-06-02T16:39:52.974Z"
   },
   {
    "duration": 222,
    "start_time": "2024-06-02T16:39:52.989Z"
   },
   {
    "duration": 19,
    "start_time": "2024-06-02T16:39:53.216Z"
   },
   {
    "duration": 229,
    "start_time": "2024-06-02T16:39:53.238Z"
   },
   {
    "duration": 14,
    "start_time": "2024-06-02T16:39:53.470Z"
   },
   {
    "duration": 248,
    "start_time": "2024-06-02T16:39:53.487Z"
   },
   {
    "duration": 6,
    "start_time": "2024-06-02T16:39:53.738Z"
   },
   {
    "duration": 4,
    "start_time": "2024-06-02T16:39:53.748Z"
   },
   {
    "duration": 3,
    "start_time": "2024-06-02T16:39:53.756Z"
   },
   {
    "duration": 69,
    "start_time": "2024-06-02T16:39:53.763Z"
   },
   {
    "duration": 2841,
    "start_time": "2024-06-02T16:39:53.835Z"
   },
   {
    "duration": 354,
    "start_time": "2024-06-02T16:39:56.679Z"
   },
   {
    "duration": 4,
    "start_time": "2024-06-02T16:39:57.036Z"
   },
   {
    "duration": 107,
    "start_time": "2024-06-02T16:39:57.042Z"
   },
   {
    "duration": 8,
    "start_time": "2024-06-02T16:39:57.153Z"
   },
   {
    "duration": 4,
    "start_time": "2024-06-02T16:39:57.166Z"
   },
   {
    "duration": 528,
    "start_time": "2024-06-02T16:39:57.174Z"
   },
   {
    "duration": 0,
    "start_time": "2024-06-02T16:39:57.705Z"
   },
   {
    "duration": 0,
    "start_time": "2024-06-02T16:39:57.707Z"
   },
   {
    "duration": 0,
    "start_time": "2024-06-02T16:39:57.710Z"
   },
   {
    "duration": 318,
    "start_time": "2024-06-02T16:42:37.330Z"
   },
   {
    "duration": 1435,
    "start_time": "2024-06-02T16:46:06.876Z"
   },
   {
    "duration": 770,
    "start_time": "2024-06-02T16:46:08.315Z"
   },
   {
    "duration": 32,
    "start_time": "2024-06-02T16:46:09.087Z"
   },
   {
    "duration": 83,
    "start_time": "2024-06-02T16:46:09.133Z"
   },
   {
    "duration": 132,
    "start_time": "2024-06-02T16:46:09.219Z"
   },
   {
    "duration": 11,
    "start_time": "2024-06-02T16:46:09.355Z"
   },
   {
    "duration": 29,
    "start_time": "2024-06-02T16:46:09.370Z"
   },
   {
    "duration": 48,
    "start_time": "2024-06-02T16:46:09.401Z"
   },
   {
    "duration": 32,
    "start_time": "2024-06-02T16:46:09.452Z"
   },
   {
    "duration": 9,
    "start_time": "2024-06-02T16:46:09.489Z"
   },
   {
    "duration": 27,
    "start_time": "2024-06-02T16:46:09.533Z"
   },
   {
    "duration": 23,
    "start_time": "2024-06-02T16:46:09.565Z"
   },
   {
    "duration": 174,
    "start_time": "2024-06-02T16:46:09.591Z"
   },
   {
    "duration": 12,
    "start_time": "2024-06-02T16:46:09.767Z"
   },
   {
    "duration": 5,
    "start_time": "2024-06-02T16:46:09.781Z"
   },
   {
    "duration": 54,
    "start_time": "2024-06-02T16:46:09.789Z"
   },
   {
    "duration": 9,
    "start_time": "2024-06-02T16:46:09.846Z"
   },
   {
    "duration": 11,
    "start_time": "2024-06-02T16:46:09.859Z"
   },
   {
    "duration": 10,
    "start_time": "2024-06-02T16:46:09.873Z"
   },
   {
    "duration": 47,
    "start_time": "2024-06-02T16:46:09.886Z"
   },
   {
    "duration": 23,
    "start_time": "2024-06-02T16:46:09.936Z"
   },
   {
    "duration": 7,
    "start_time": "2024-06-02T16:46:09.962Z"
   },
   {
    "duration": 5,
    "start_time": "2024-06-02T16:46:09.972Z"
   },
   {
    "duration": 9,
    "start_time": "2024-06-02T16:46:09.980Z"
   },
   {
    "duration": 13,
    "start_time": "2024-06-02T16:46:10.033Z"
   },
   {
    "duration": 10,
    "start_time": "2024-06-02T16:46:10.048Z"
   },
   {
    "duration": 11,
    "start_time": "2024-06-02T16:46:10.061Z"
   },
   {
    "duration": 5,
    "start_time": "2024-06-02T16:46:10.081Z"
   },
   {
    "duration": 352,
    "start_time": "2024-06-02T16:46:10.133Z"
   },
   {
    "duration": 356,
    "start_time": "2024-06-02T16:46:10.489Z"
   },
   {
    "duration": 343,
    "start_time": "2024-06-02T16:46:10.848Z"
   },
   {
    "duration": 14,
    "start_time": "2024-06-02T16:46:11.194Z"
   },
   {
    "duration": 11,
    "start_time": "2024-06-02T16:46:11.232Z"
   },
   {
    "duration": 1190,
    "start_time": "2024-06-02T16:46:11.246Z"
   },
   {
    "duration": 22,
    "start_time": "2024-06-02T16:46:12.440Z"
   },
   {
    "duration": 14,
    "start_time": "2024-06-02T16:46:12.464Z"
   },
   {
    "duration": 269,
    "start_time": "2024-06-02T16:46:12.481Z"
   },
   {
    "duration": 13,
    "start_time": "2024-06-02T16:46:12.753Z"
   },
   {
    "duration": 199,
    "start_time": "2024-06-02T16:46:12.770Z"
   },
   {
    "duration": 13,
    "start_time": "2024-06-02T16:46:12.972Z"
   },
   {
    "duration": 242,
    "start_time": "2024-06-02T16:46:12.988Z"
   },
   {
    "duration": 6,
    "start_time": "2024-06-02T16:46:13.234Z"
   },
   {
    "duration": 3,
    "start_time": "2024-06-02T16:46:13.245Z"
   },
   {
    "duration": 4,
    "start_time": "2024-06-02T16:46:13.251Z"
   },
   {
    "duration": 25,
    "start_time": "2024-06-02T16:46:13.258Z"
   },
   {
    "duration": 2691,
    "start_time": "2024-06-02T16:46:13.286Z"
   },
   {
    "duration": 362,
    "start_time": "2024-06-02T16:46:15.981Z"
   },
   {
    "duration": 5,
    "start_time": "2024-06-02T16:46:16.346Z"
   },
   {
    "duration": 179,
    "start_time": "2024-06-02T16:46:16.353Z"
   },
   {
    "duration": 6,
    "start_time": "2024-06-02T16:46:16.535Z"
   },
   {
    "duration": 4,
    "start_time": "2024-06-02T16:46:16.544Z"
   },
   {
    "duration": 525,
    "start_time": "2024-06-02T16:46:16.552Z"
   },
   {
    "duration": 0,
    "start_time": "2024-06-02T16:46:17.080Z"
   },
   {
    "duration": 0,
    "start_time": "2024-06-02T16:46:17.083Z"
   },
   {
    "duration": 0,
    "start_time": "2024-06-02T16:46:17.086Z"
   },
   {
    "duration": 2660,
    "start_time": "2024-06-02T16:47:52.622Z"
   },
   {
    "duration": 328,
    "start_time": "2024-06-02T16:48:09.225Z"
   },
   {
    "duration": 296,
    "start_time": "2024-06-02T16:49:05.749Z"
   },
   {
    "duration": 23,
    "start_time": "2024-06-02T16:52:44.523Z"
   },
   {
    "duration": 7,
    "start_time": "2024-06-02T16:58:49.681Z"
   },
   {
    "duration": 1376,
    "start_time": "2024-06-02T17:00:25.265Z"
   },
   {
    "duration": 828,
    "start_time": "2024-06-02T17:00:26.644Z"
   },
   {
    "duration": 32,
    "start_time": "2024-06-02T17:00:27.475Z"
   },
   {
    "duration": 105,
    "start_time": "2024-06-02T17:00:27.511Z"
   },
   {
    "duration": 120,
    "start_time": "2024-06-02T17:00:27.619Z"
   },
   {
    "duration": 12,
    "start_time": "2024-06-02T17:00:27.742Z"
   },
   {
    "duration": 29,
    "start_time": "2024-06-02T17:00:27.757Z"
   },
   {
    "duration": 55,
    "start_time": "2024-06-02T17:00:27.790Z"
   },
   {
    "duration": 32,
    "start_time": "2024-06-02T17:00:27.848Z"
   },
   {
    "duration": 8,
    "start_time": "2024-06-02T17:00:27.886Z"
   },
   {
    "duration": 57,
    "start_time": "2024-06-02T17:00:27.897Z"
   },
   {
    "duration": 23,
    "start_time": "2024-06-02T17:00:27.958Z"
   },
   {
    "duration": 183,
    "start_time": "2024-06-02T17:00:27.984Z"
   },
   {
    "duration": 11,
    "start_time": "2024-06-02T17:00:28.170Z"
   },
   {
    "duration": 4,
    "start_time": "2024-06-02T17:00:28.184Z"
   },
   {
    "duration": 51,
    "start_time": "2024-06-02T17:00:28.191Z"
   },
   {
    "duration": 10,
    "start_time": "2024-06-02T17:00:28.245Z"
   },
   {
    "duration": 11,
    "start_time": "2024-06-02T17:00:28.258Z"
   },
   {
    "duration": 11,
    "start_time": "2024-06-02T17:00:28.272Z"
   },
   {
    "duration": 49,
    "start_time": "2024-06-02T17:00:28.285Z"
   },
   {
    "duration": 26,
    "start_time": "2024-06-02T17:00:28.337Z"
   },
   {
    "duration": 5,
    "start_time": "2024-06-02T17:00:28.366Z"
   },
   {
    "duration": 5,
    "start_time": "2024-06-02T17:00:28.374Z"
   },
   {
    "duration": 8,
    "start_time": "2024-06-02T17:00:28.383Z"
   },
   {
    "duration": 13,
    "start_time": "2024-06-02T17:00:28.434Z"
   },
   {
    "duration": 10,
    "start_time": "2024-06-02T17:00:28.450Z"
   },
   {
    "duration": 12,
    "start_time": "2024-06-02T17:00:28.463Z"
   },
   {
    "duration": 5,
    "start_time": "2024-06-02T17:00:28.532Z"
   },
   {
    "duration": 369,
    "start_time": "2024-06-02T17:00:28.541Z"
   },
   {
    "duration": 363,
    "start_time": "2024-06-02T17:00:28.913Z"
   },
   {
    "duration": 368,
    "start_time": "2024-06-02T17:00:29.279Z"
   },
   {
    "duration": 11,
    "start_time": "2024-06-02T17:00:29.650Z"
   },
   {
    "duration": 11,
    "start_time": "2024-06-02T17:00:29.664Z"
   },
   {
    "duration": 1196,
    "start_time": "2024-06-02T17:00:29.678Z"
   },
   {
    "duration": 21,
    "start_time": "2024-06-02T17:00:30.877Z"
   },
   {
    "duration": 34,
    "start_time": "2024-06-02T17:00:30.901Z"
   },
   {
    "duration": 212,
    "start_time": "2024-06-02T17:00:30.938Z"
   },
   {
    "duration": 15,
    "start_time": "2024-06-02T17:00:31.153Z"
   },
   {
    "duration": 205,
    "start_time": "2024-06-02T17:00:31.171Z"
   },
   {
    "duration": 15,
    "start_time": "2024-06-02T17:00:31.379Z"
   },
   {
    "duration": 254,
    "start_time": "2024-06-02T17:00:31.397Z"
   },
   {
    "duration": 7,
    "start_time": "2024-06-02T17:00:31.654Z"
   },
   {
    "duration": 3,
    "start_time": "2024-06-02T17:00:31.664Z"
   },
   {
    "duration": 3,
    "start_time": "2024-06-02T17:00:31.671Z"
   },
   {
    "duration": 70,
    "start_time": "2024-06-02T17:00:31.678Z"
   },
   {
    "duration": 518,
    "start_time": "2024-06-02T17:00:31.751Z"
   },
   {
    "duration": 0,
    "start_time": "2024-06-02T17:00:32.272Z"
   },
   {
    "duration": 0,
    "start_time": "2024-06-02T17:00:32.273Z"
   },
   {
    "duration": 0,
    "start_time": "2024-06-02T17:00:32.275Z"
   },
   {
    "duration": 0,
    "start_time": "2024-06-02T17:00:32.278Z"
   },
   {
    "duration": 0,
    "start_time": "2024-06-02T17:00:32.279Z"
   },
   {
    "duration": 0,
    "start_time": "2024-06-02T17:00:32.281Z"
   },
   {
    "duration": 0,
    "start_time": "2024-06-02T17:00:32.283Z"
   },
   {
    "duration": 1,
    "start_time": "2024-06-02T17:00:32.285Z"
   },
   {
    "duration": 0,
    "start_time": "2024-06-02T17:00:32.287Z"
   },
   {
    "duration": 33,
    "start_time": "2024-06-02T17:09:32.490Z"
   },
   {
    "duration": 28,
    "start_time": "2024-06-02T17:10:06.657Z"
   },
   {
    "duration": 25,
    "start_time": "2024-06-02T17:10:13.755Z"
   },
   {
    "duration": 1499,
    "start_time": "2024-06-02T17:10:25.370Z"
   },
   {
    "duration": 839,
    "start_time": "2024-06-02T17:10:26.873Z"
   },
   {
    "duration": 45,
    "start_time": "2024-06-02T17:10:27.715Z"
   },
   {
    "duration": 107,
    "start_time": "2024-06-02T17:10:27.765Z"
   },
   {
    "duration": 115,
    "start_time": "2024-06-02T17:10:27.875Z"
   },
   {
    "duration": 11,
    "start_time": "2024-06-02T17:10:27.993Z"
   },
   {
    "duration": 49,
    "start_time": "2024-06-02T17:10:28.007Z"
   },
   {
    "duration": 18,
    "start_time": "2024-06-02T17:10:28.059Z"
   },
   {
    "duration": 60,
    "start_time": "2024-06-02T17:10:28.080Z"
   },
   {
    "duration": 11,
    "start_time": "2024-06-02T17:10:28.146Z"
   },
   {
    "duration": 28,
    "start_time": "2024-06-02T17:10:28.159Z"
   },
   {
    "duration": 60,
    "start_time": "2024-06-02T17:10:28.191Z"
   },
   {
    "duration": 163,
    "start_time": "2024-06-02T17:10:28.255Z"
   },
   {
    "duration": 21,
    "start_time": "2024-06-02T17:10:28.421Z"
   },
   {
    "duration": 5,
    "start_time": "2024-06-02T17:10:28.446Z"
   },
   {
    "duration": 21,
    "start_time": "2024-06-02T17:10:28.457Z"
   },
   {
    "duration": 8,
    "start_time": "2024-06-02T17:10:28.481Z"
   },
   {
    "duration": 49,
    "start_time": "2024-06-02T17:10:28.492Z"
   },
   {
    "duration": 12,
    "start_time": "2024-06-02T17:10:28.545Z"
   },
   {
    "duration": 7,
    "start_time": "2024-06-02T17:10:28.560Z"
   },
   {
    "duration": 68,
    "start_time": "2024-06-02T17:10:28.570Z"
   },
   {
    "duration": 6,
    "start_time": "2024-06-02T17:10:28.641Z"
   },
   {
    "duration": 5,
    "start_time": "2024-06-02T17:10:28.650Z"
   },
   {
    "duration": 9,
    "start_time": "2024-06-02T17:10:28.658Z"
   },
   {
    "duration": 12,
    "start_time": "2024-06-02T17:10:28.672Z"
   },
   {
    "duration": 53,
    "start_time": "2024-06-02T17:10:28.686Z"
   },
   {
    "duration": 12,
    "start_time": "2024-06-02T17:10:28.742Z"
   },
   {
    "duration": 5,
    "start_time": "2024-06-02T17:10:28.762Z"
   },
   {
    "duration": 399,
    "start_time": "2024-06-02T17:10:28.771Z"
   },
   {
    "duration": 367,
    "start_time": "2024-06-02T17:10:29.173Z"
   },
   {
    "duration": 352,
    "start_time": "2024-06-02T17:10:29.543Z"
   },
   {
    "duration": 12,
    "start_time": "2024-06-02T17:10:29.898Z"
   },
   {
    "duration": 15,
    "start_time": "2024-06-02T17:10:29.932Z"
   },
   {
    "duration": 1168,
    "start_time": "2024-06-02T17:10:29.950Z"
   },
   {
    "duration": 29,
    "start_time": "2024-06-02T17:10:31.122Z"
   },
   {
    "duration": 14,
    "start_time": "2024-06-02T17:10:31.154Z"
   },
   {
    "duration": 252,
    "start_time": "2024-06-02T17:10:31.172Z"
   },
   {
    "duration": 16,
    "start_time": "2024-06-02T17:10:31.434Z"
   },
   {
    "duration": 211,
    "start_time": "2024-06-02T17:10:31.453Z"
   },
   {
    "duration": 14,
    "start_time": "2024-06-02T17:10:31.667Z"
   },
   {
    "duration": 266,
    "start_time": "2024-06-02T17:10:31.684Z"
   },
   {
    "duration": 7,
    "start_time": "2024-06-02T17:10:31.953Z"
   },
   {
    "duration": 3,
    "start_time": "2024-06-02T17:10:31.964Z"
   },
   {
    "duration": 3,
    "start_time": "2024-06-02T17:10:31.971Z"
   },
   {
    "duration": 57,
    "start_time": "2024-06-02T17:10:31.978Z"
   },
   {
    "duration": 2665,
    "start_time": "2024-06-02T17:10:32.038Z"
   },
   {
    "duration": 337,
    "start_time": "2024-06-02T17:10:34.706Z"
   },
   {
    "duration": 4,
    "start_time": "2024-06-02T17:10:35.046Z"
   },
   {
    "duration": 180,
    "start_time": "2024-06-02T17:10:35.052Z"
   },
   {
    "duration": 5,
    "start_time": "2024-06-02T17:10:35.235Z"
   },
   {
    "duration": 4,
    "start_time": "2024-06-02T17:10:35.244Z"
   },
   {
    "duration": 540,
    "start_time": "2024-06-02T17:10:35.251Z"
   },
   {
    "duration": 0,
    "start_time": "2024-06-02T17:10:35.794Z"
   },
   {
    "duration": 0,
    "start_time": "2024-06-02T17:10:35.796Z"
   },
   {
    "duration": 0,
    "start_time": "2024-06-02T17:10:35.799Z"
   },
   {
    "duration": 1418,
    "start_time": "2024-06-02T17:15:04.951Z"
   },
   {
    "duration": 810,
    "start_time": "2024-06-02T17:15:06.373Z"
   },
   {
    "duration": 32,
    "start_time": "2024-06-02T17:15:07.187Z"
   },
   {
    "duration": 116,
    "start_time": "2024-06-02T17:15:07.223Z"
   },
   {
    "duration": 116,
    "start_time": "2024-06-02T17:15:07.342Z"
   },
   {
    "duration": 10,
    "start_time": "2024-06-02T17:15:07.461Z"
   },
   {
    "duration": 28,
    "start_time": "2024-06-02T17:15:07.474Z"
   },
   {
    "duration": 18,
    "start_time": "2024-06-02T17:15:07.532Z"
   },
   {
    "duration": 33,
    "start_time": "2024-06-02T17:15:07.553Z"
   },
   {
    "duration": 42,
    "start_time": "2024-06-02T17:15:07.592Z"
   },
   {
    "duration": 31,
    "start_time": "2024-06-02T17:15:07.637Z"
   },
   {
    "duration": 23,
    "start_time": "2024-06-02T17:15:07.670Z"
   },
   {
    "duration": 170,
    "start_time": "2024-06-02T17:15:07.696Z"
   },
   {
    "duration": 12,
    "start_time": "2024-06-02T17:15:07.869Z"
   },
   {
    "duration": 5,
    "start_time": "2024-06-02T17:15:07.884Z"
   },
   {
    "duration": 50,
    "start_time": "2024-06-02T17:15:07.892Z"
   },
   {
    "duration": 8,
    "start_time": "2024-06-02T17:15:07.945Z"
   },
   {
    "duration": 11,
    "start_time": "2024-06-02T17:15:07.956Z"
   },
   {
    "duration": 10,
    "start_time": "2024-06-02T17:15:07.969Z"
   },
   {
    "duration": 6,
    "start_time": "2024-06-02T17:15:07.982Z"
   },
   {
    "duration": 23,
    "start_time": "2024-06-02T17:15:08.035Z"
   },
   {
    "duration": 6,
    "start_time": "2024-06-02T17:15:08.061Z"
   },
   {
    "duration": 5,
    "start_time": "2024-06-02T17:15:08.070Z"
   },
   {
    "duration": 56,
    "start_time": "2024-06-02T17:15:08.078Z"
   },
   {
    "duration": 12,
    "start_time": "2024-06-02T17:15:08.137Z"
   },
   {
    "duration": 9,
    "start_time": "2024-06-02T17:15:08.152Z"
   },
   {
    "duration": 15,
    "start_time": "2024-06-02T17:15:08.163Z"
   },
   {
    "duration": 6,
    "start_time": "2024-06-02T17:15:08.186Z"
   },
   {
    "duration": 355,
    "start_time": "2024-06-02T17:15:08.234Z"
   },
   {
    "duration": 356,
    "start_time": "2024-06-02T17:15:08.592Z"
   },
   {
    "duration": 338,
    "start_time": "2024-06-02T17:15:08.951Z"
   },
   {
    "duration": 12,
    "start_time": "2024-06-02T17:15:09.292Z"
   },
   {
    "duration": 31,
    "start_time": "2024-06-02T17:15:09.307Z"
   },
   {
    "duration": 1149,
    "start_time": "2024-06-02T17:15:09.340Z"
   },
   {
    "duration": 22,
    "start_time": "2024-06-02T17:15:10.492Z"
   },
   {
    "duration": 27,
    "start_time": "2024-06-02T17:15:10.518Z"
   },
   {
    "duration": 225,
    "start_time": "2024-06-02T17:15:10.548Z"
   },
   {
    "duration": 14,
    "start_time": "2024-06-02T17:15:10.776Z"
   },
   {
    "duration": 209,
    "start_time": "2024-06-02T17:15:10.793Z"
   },
   {
    "duration": 27,
    "start_time": "2024-06-02T17:15:11.006Z"
   },
   {
    "duration": 232,
    "start_time": "2024-06-02T17:15:11.036Z"
   },
   {
    "duration": 6,
    "start_time": "2024-06-02T17:15:11.271Z"
   },
   {
    "duration": 4,
    "start_time": "2024-06-02T17:15:11.280Z"
   },
   {
    "duration": 3,
    "start_time": "2024-06-02T17:15:11.287Z"
   },
   {
    "duration": 60,
    "start_time": "2024-06-02T17:15:11.294Z"
   },
   {
    "duration": 2662,
    "start_time": "2024-06-02T17:15:11.358Z"
   },
   {
    "duration": 321,
    "start_time": "2024-06-02T17:15:14.024Z"
   },
   {
    "duration": 4,
    "start_time": "2024-06-02T17:15:14.348Z"
   },
   {
    "duration": 179,
    "start_time": "2024-06-02T17:15:14.355Z"
   },
   {
    "duration": 5,
    "start_time": "2024-06-02T17:15:14.537Z"
   },
   {
    "duration": 4,
    "start_time": "2024-06-02T17:15:14.545Z"
   },
   {
    "duration": 555,
    "start_time": "2024-06-02T17:15:14.552Z"
   },
   {
    "duration": 0,
    "start_time": "2024-06-02T17:15:15.110Z"
   },
   {
    "duration": 0,
    "start_time": "2024-06-02T17:15:15.113Z"
   },
   {
    "duration": 0,
    "start_time": "2024-06-02T17:15:15.114Z"
   },
   {
    "duration": 268,
    "start_time": "2024-06-02T17:18:40.275Z"
   },
   {
    "duration": 413,
    "start_time": "2024-06-02T17:26:36.043Z"
   },
   {
    "duration": 382,
    "start_time": "2024-06-02T17:28:47.761Z"
   },
   {
    "duration": 283,
    "start_time": "2024-06-02T17:29:15.261Z"
   },
   {
    "duration": 247,
    "start_time": "2024-06-02T17:30:55.105Z"
   },
   {
    "duration": 411,
    "start_time": "2024-06-02T17:31:23.223Z"
   },
   {
    "duration": 315,
    "start_time": "2024-06-02T17:31:31.435Z"
   },
   {
    "duration": 328,
    "start_time": "2024-06-02T17:34:00.714Z"
   },
   {
    "duration": 1437,
    "start_time": "2024-06-02T17:34:21.627Z"
   },
   {
    "duration": 816,
    "start_time": "2024-06-02T17:34:23.067Z"
   },
   {
    "duration": 32,
    "start_time": "2024-06-02T17:34:23.885Z"
   },
   {
    "duration": 83,
    "start_time": "2024-06-02T17:34:23.932Z"
   },
   {
    "duration": 111,
    "start_time": "2024-06-02T17:34:24.036Z"
   },
   {
    "duration": 11,
    "start_time": "2024-06-02T17:34:24.151Z"
   },
   {
    "duration": 27,
    "start_time": "2024-06-02T17:34:24.165Z"
   },
   {
    "duration": 46,
    "start_time": "2024-06-02T17:34:24.195Z"
   },
   {
    "duration": 33,
    "start_time": "2024-06-02T17:34:24.244Z"
   },
   {
    "duration": 10,
    "start_time": "2024-06-02T17:34:24.279Z"
   },
   {
    "duration": 60,
    "start_time": "2024-06-02T17:34:24.291Z"
   },
   {
    "duration": 23,
    "start_time": "2024-06-02T17:34:24.354Z"
   },
   {
    "duration": 174,
    "start_time": "2024-06-02T17:34:24.380Z"
   },
   {
    "duration": 10,
    "start_time": "2024-06-02T17:34:24.561Z"
   },
   {
    "duration": 5,
    "start_time": "2024-06-02T17:34:24.574Z"
   },
   {
    "duration": 50,
    "start_time": "2024-06-02T17:34:24.583Z"
   },
   {
    "duration": 9,
    "start_time": "2024-06-02T17:34:24.635Z"
   },
   {
    "duration": 11,
    "start_time": "2024-06-02T17:34:24.647Z"
   },
   {
    "duration": 10,
    "start_time": "2024-06-02T17:34:24.661Z"
   },
   {
    "duration": 7,
    "start_time": "2024-06-02T17:34:24.674Z"
   },
   {
    "duration": 70,
    "start_time": "2024-06-02T17:34:24.684Z"
   },
   {
    "duration": 7,
    "start_time": "2024-06-02T17:34:24.757Z"
   },
   {
    "duration": 6,
    "start_time": "2024-06-02T17:34:24.768Z"
   },
   {
    "duration": 57,
    "start_time": "2024-06-02T17:34:24.777Z"
   },
   {
    "duration": 11,
    "start_time": "2024-06-02T17:34:24.837Z"
   },
   {
    "duration": 9,
    "start_time": "2024-06-02T17:34:24.851Z"
   },
   {
    "duration": 12,
    "start_time": "2024-06-02T17:34:24.863Z"
   },
   {
    "duration": 5,
    "start_time": "2024-06-02T17:34:24.878Z"
   },
   {
    "duration": 397,
    "start_time": "2024-06-02T17:34:24.886Z"
   },
   {
    "duration": 369,
    "start_time": "2024-06-02T17:34:25.285Z"
   },
   {
    "duration": 368,
    "start_time": "2024-06-02T17:34:25.656Z"
   },
   {
    "duration": 11,
    "start_time": "2024-06-02T17:34:26.034Z"
   },
   {
    "duration": 12,
    "start_time": "2024-06-02T17:34:26.053Z"
   },
   {
    "duration": 1190,
    "start_time": "2024-06-02T17:34:26.068Z"
   },
   {
    "duration": 21,
    "start_time": "2024-06-02T17:34:27.263Z"
   },
   {
    "duration": 14,
    "start_time": "2024-06-02T17:34:27.287Z"
   },
   {
    "duration": 203,
    "start_time": "2024-06-02T17:34:27.332Z"
   },
   {
    "duration": 13,
    "start_time": "2024-06-02T17:34:27.538Z"
   },
   {
    "duration": 204,
    "start_time": "2024-06-02T17:34:27.554Z"
   },
   {
    "duration": 13,
    "start_time": "2024-06-02T17:34:27.761Z"
   },
   {
    "duration": 244,
    "start_time": "2024-06-02T17:34:27.783Z"
   },
   {
    "duration": 1807,
    "start_time": "2024-06-02T17:34:28.034Z"
   },
   {
    "duration": 0,
    "start_time": "2024-06-02T17:34:29.844Z"
   },
   {
    "duration": 0,
    "start_time": "2024-06-02T17:34:29.847Z"
   },
   {
    "duration": 0,
    "start_time": "2024-06-02T17:34:29.849Z"
   },
   {
    "duration": 0,
    "start_time": "2024-06-02T17:34:29.852Z"
   },
   {
    "duration": 0,
    "start_time": "2024-06-02T17:34:29.853Z"
   },
   {
    "duration": 0,
    "start_time": "2024-06-02T17:34:29.857Z"
   },
   {
    "duration": 0,
    "start_time": "2024-06-02T17:34:29.859Z"
   },
   {
    "duration": 0,
    "start_time": "2024-06-02T17:34:29.861Z"
   },
   {
    "duration": 0,
    "start_time": "2024-06-02T17:34:29.864Z"
   },
   {
    "duration": 0,
    "start_time": "2024-06-02T17:34:29.865Z"
   },
   {
    "duration": 0,
    "start_time": "2024-06-02T17:34:29.867Z"
   },
   {
    "duration": 1,
    "start_time": "2024-06-02T17:34:29.869Z"
   },
   {
    "duration": 0,
    "start_time": "2024-06-02T17:34:29.872Z"
   },
   {
    "duration": 0,
    "start_time": "2024-06-02T17:34:29.875Z"
   },
   {
    "duration": 1463,
    "start_time": "2024-06-02T17:36:01.584Z"
   },
   {
    "duration": 782,
    "start_time": "2024-06-02T17:36:03.051Z"
   },
   {
    "duration": 32,
    "start_time": "2024-06-02T17:36:03.836Z"
   },
   {
    "duration": 108,
    "start_time": "2024-06-02T17:36:03.873Z"
   },
   {
    "duration": 114,
    "start_time": "2024-06-02T17:36:03.984Z"
   },
   {
    "duration": 10,
    "start_time": "2024-06-02T17:36:04.101Z"
   },
   {
    "duration": 46,
    "start_time": "2024-06-02T17:36:04.115Z"
   },
   {
    "duration": 22,
    "start_time": "2024-06-02T17:36:04.165Z"
   },
   {
    "duration": 67,
    "start_time": "2024-06-02T17:36:04.190Z"
   },
   {
    "duration": 9,
    "start_time": "2024-06-02T17:36:04.263Z"
   },
   {
    "duration": 28,
    "start_time": "2024-06-02T17:36:04.275Z"
   },
   {
    "duration": 50,
    "start_time": "2024-06-02T17:36:04.305Z"
   },
   {
    "duration": 169,
    "start_time": "2024-06-02T17:36:04.358Z"
   },
   {
    "duration": 12,
    "start_time": "2024-06-02T17:36:04.534Z"
   },
   {
    "duration": 4,
    "start_time": "2024-06-02T17:36:04.549Z"
   },
   {
    "duration": 17,
    "start_time": "2024-06-02T17:36:04.557Z"
   },
   {
    "duration": 9,
    "start_time": "2024-06-02T17:36:04.577Z"
   },
   {
    "duration": 53,
    "start_time": "2024-06-02T17:36:04.589Z"
   },
   {
    "duration": 10,
    "start_time": "2024-06-02T17:36:04.645Z"
   },
   {
    "duration": 7,
    "start_time": "2024-06-02T17:36:04.658Z"
   },
   {
    "duration": 66,
    "start_time": "2024-06-02T17:36:04.668Z"
   },
   {
    "duration": 6,
    "start_time": "2024-06-02T17:36:04.737Z"
   },
   {
    "duration": 6,
    "start_time": "2024-06-02T17:36:04.746Z"
   },
   {
    "duration": 9,
    "start_time": "2024-06-02T17:36:04.755Z"
   },
   {
    "duration": 11,
    "start_time": "2024-06-02T17:36:04.767Z"
   },
   {
    "duration": 56,
    "start_time": "2024-06-02T17:36:04.782Z"
   },
   {
    "duration": 12,
    "start_time": "2024-06-02T17:36:04.841Z"
   },
   {
    "duration": 5,
    "start_time": "2024-06-02T17:36:04.861Z"
   },
   {
    "duration": 388,
    "start_time": "2024-06-02T17:36:04.869Z"
   },
   {
    "duration": 377,
    "start_time": "2024-06-02T17:36:05.260Z"
   },
   {
    "duration": 328,
    "start_time": "2024-06-02T17:36:05.640Z"
   },
   {
    "duration": 11,
    "start_time": "2024-06-02T17:36:05.971Z"
   },
   {
    "duration": 12,
    "start_time": "2024-06-02T17:36:05.984Z"
   },
   {
    "duration": 1176,
    "start_time": "2024-06-02T17:36:05.999Z"
   },
   {
    "duration": 21,
    "start_time": "2024-06-02T17:36:07.178Z"
   },
   {
    "duration": 33,
    "start_time": "2024-06-02T17:36:07.202Z"
   },
   {
    "duration": 215,
    "start_time": "2024-06-02T17:36:07.238Z"
   },
   {
    "duration": 15,
    "start_time": "2024-06-02T17:36:07.456Z"
   },
   {
    "duration": 216,
    "start_time": "2024-06-02T17:36:07.474Z"
   },
   {
    "duration": 13,
    "start_time": "2024-06-02T17:36:07.693Z"
   },
   {
    "duration": 238,
    "start_time": "2024-06-02T17:36:07.709Z"
   },
   {
    "duration": 1801,
    "start_time": "2024-06-02T17:36:07.951Z"
   },
   {
    "duration": 0,
    "start_time": "2024-06-02T17:36:09.755Z"
   },
   {
    "duration": 0,
    "start_time": "2024-06-02T17:36:09.757Z"
   },
   {
    "duration": 0,
    "start_time": "2024-06-02T17:36:09.759Z"
   },
   {
    "duration": 0,
    "start_time": "2024-06-02T17:36:09.761Z"
   },
   {
    "duration": 0,
    "start_time": "2024-06-02T17:36:09.763Z"
   },
   {
    "duration": 0,
    "start_time": "2024-06-02T17:36:09.765Z"
   },
   {
    "duration": 0,
    "start_time": "2024-06-02T17:36:09.767Z"
   },
   {
    "duration": 0,
    "start_time": "2024-06-02T17:36:09.770Z"
   },
   {
    "duration": 0,
    "start_time": "2024-06-02T17:36:09.772Z"
   },
   {
    "duration": 0,
    "start_time": "2024-06-02T17:36:09.774Z"
   },
   {
    "duration": 0,
    "start_time": "2024-06-02T17:36:09.777Z"
   },
   {
    "duration": 0,
    "start_time": "2024-06-02T17:36:09.779Z"
   },
   {
    "duration": 0,
    "start_time": "2024-06-02T17:36:09.781Z"
   },
   {
    "duration": 0,
    "start_time": "2024-06-02T17:36:09.783Z"
   },
   {
    "duration": 1427,
    "start_time": "2024-06-02T17:39:08.806Z"
   },
   {
    "duration": 777,
    "start_time": "2024-06-02T17:39:10.236Z"
   },
   {
    "duration": 40,
    "start_time": "2024-06-02T17:39:11.016Z"
   },
   {
    "duration": 98,
    "start_time": "2024-06-02T17:39:11.060Z"
   },
   {
    "duration": 114,
    "start_time": "2024-06-02T17:39:11.161Z"
   },
   {
    "duration": 10,
    "start_time": "2024-06-02T17:39:11.278Z"
   },
   {
    "duration": 64,
    "start_time": "2024-06-02T17:39:11.290Z"
   },
   {
    "duration": 20,
    "start_time": "2024-06-02T17:39:11.357Z"
   },
   {
    "duration": 52,
    "start_time": "2024-06-02T17:39:11.380Z"
   },
   {
    "duration": 10,
    "start_time": "2024-06-02T17:39:11.440Z"
   },
   {
    "duration": 27,
    "start_time": "2024-06-02T17:39:11.453Z"
   },
   {
    "duration": 59,
    "start_time": "2024-06-02T17:39:11.483Z"
   },
   {
    "duration": 165,
    "start_time": "2024-06-02T17:39:11.545Z"
   },
   {
    "duration": 21,
    "start_time": "2024-06-02T17:39:11.713Z"
   },
   {
    "duration": 7,
    "start_time": "2024-06-02T17:39:11.737Z"
   },
   {
    "duration": 18,
    "start_time": "2024-06-02T17:39:11.747Z"
   },
   {
    "duration": 8,
    "start_time": "2024-06-02T17:39:11.768Z"
   },
   {
    "duration": 55,
    "start_time": "2024-06-02T17:39:11.779Z"
   },
   {
    "duration": 11,
    "start_time": "2024-06-02T17:39:11.839Z"
   },
   {
    "duration": 6,
    "start_time": "2024-06-02T17:39:11.853Z"
   },
   {
    "duration": 23,
    "start_time": "2024-06-02T17:39:11.862Z"
   },
   {
    "duration": 44,
    "start_time": "2024-06-02T17:39:11.888Z"
   },
   {
    "duration": 5,
    "start_time": "2024-06-02T17:39:11.935Z"
   },
   {
    "duration": 10,
    "start_time": "2024-06-02T17:39:11.944Z"
   },
   {
    "duration": 12,
    "start_time": "2024-06-02T17:39:11.958Z"
   },
   {
    "duration": 9,
    "start_time": "2024-06-02T17:39:11.973Z"
   },
   {
    "duration": 16,
    "start_time": "2024-06-02T17:39:12.034Z"
   },
   {
    "duration": 5,
    "start_time": "2024-06-02T17:39:12.058Z"
   },
   {
    "duration": 371,
    "start_time": "2024-06-02T17:39:12.067Z"
   },
   {
    "duration": 360,
    "start_time": "2024-06-02T17:39:12.441Z"
   },
   {
    "duration": 338,
    "start_time": "2024-06-02T17:39:12.804Z"
   },
   {
    "duration": 11,
    "start_time": "2024-06-02T17:39:13.144Z"
   },
   {
    "duration": 12,
    "start_time": "2024-06-02T17:39:13.158Z"
   },
   {
    "duration": 1172,
    "start_time": "2024-06-02T17:39:13.173Z"
   },
   {
    "duration": 21,
    "start_time": "2024-06-02T17:39:14.348Z"
   },
   {
    "duration": 13,
    "start_time": "2024-06-02T17:39:14.372Z"
   },
   {
    "duration": 234,
    "start_time": "2024-06-02T17:39:14.389Z"
   },
   {
    "duration": 13,
    "start_time": "2024-06-02T17:39:14.633Z"
   },
   {
    "duration": 201,
    "start_time": "2024-06-02T17:39:14.649Z"
   },
   {
    "duration": 13,
    "start_time": "2024-06-02T17:39:14.853Z"
   },
   {
    "duration": 245,
    "start_time": "2024-06-02T17:39:14.869Z"
   },
   {
    "duration": 33,
    "start_time": "2024-06-02T17:39:15.118Z"
   },
   {
    "duration": 378,
    "start_time": "2024-06-02T17:39:15.155Z"
   },
   {
    "duration": 4,
    "start_time": "2024-06-02T17:39:15.536Z"
   },
   {
    "duration": 3,
    "start_time": "2024-06-02T17:39:15.544Z"
   },
   {
    "duration": 4,
    "start_time": "2024-06-02T17:39:15.551Z"
   },
   {
    "duration": 25,
    "start_time": "2024-06-02T17:39:15.634Z"
   },
   {
    "duration": 1827,
    "start_time": "2024-06-02T17:39:15.662Z"
   },
   {
    "duration": 0,
    "start_time": "2024-06-02T17:39:17.492Z"
   },
   {
    "duration": 0,
    "start_time": "2024-06-02T17:39:17.495Z"
   },
   {
    "duration": 0,
    "start_time": "2024-06-02T17:39:17.496Z"
   },
   {
    "duration": 0,
    "start_time": "2024-06-02T17:39:17.499Z"
   },
   {
    "duration": 0,
    "start_time": "2024-06-02T17:39:17.501Z"
   },
   {
    "duration": 0,
    "start_time": "2024-06-02T17:39:17.504Z"
   },
   {
    "duration": 0,
    "start_time": "2024-06-02T17:39:17.505Z"
   },
   {
    "duration": 97,
    "start_time": "2024-06-02T17:43:21.725Z"
   },
   {
    "duration": 1430,
    "start_time": "2024-06-02T17:43:33.899Z"
   },
   {
    "duration": 814,
    "start_time": "2024-06-02T17:43:35.333Z"
   },
   {
    "duration": 32,
    "start_time": "2024-06-02T17:43:36.150Z"
   },
   {
    "duration": 107,
    "start_time": "2024-06-02T17:43:36.186Z"
   },
   {
    "duration": 118,
    "start_time": "2024-06-02T17:43:36.296Z"
   },
   {
    "duration": 17,
    "start_time": "2024-06-02T17:43:36.417Z"
   },
   {
    "duration": 29,
    "start_time": "2024-06-02T17:43:36.437Z"
   },
   {
    "duration": 18,
    "start_time": "2024-06-02T17:43:36.469Z"
   },
   {
    "duration": 69,
    "start_time": "2024-06-02T17:43:36.490Z"
   },
   {
    "duration": 10,
    "start_time": "2024-06-02T17:43:36.565Z"
   },
   {
    "duration": 59,
    "start_time": "2024-06-02T17:43:36.577Z"
   },
   {
    "duration": 28,
    "start_time": "2024-06-02T17:43:36.641Z"
   },
   {
    "duration": 164,
    "start_time": "2024-06-02T17:43:36.671Z"
   },
   {
    "duration": 14,
    "start_time": "2024-06-02T17:43:36.839Z"
   },
   {
    "duration": 9,
    "start_time": "2024-06-02T17:43:36.857Z"
   },
   {
    "duration": 27,
    "start_time": "2024-06-02T17:43:36.872Z"
   },
   {
    "duration": 36,
    "start_time": "2024-06-02T17:43:36.903Z"
   },
   {
    "duration": 11,
    "start_time": "2024-06-02T17:43:36.942Z"
   },
   {
    "duration": 11,
    "start_time": "2024-06-02T17:43:36.956Z"
   },
   {
    "duration": 6,
    "start_time": "2024-06-02T17:43:36.970Z"
   },
   {
    "duration": 67,
    "start_time": "2024-06-02T17:43:36.979Z"
   },
   {
    "duration": 5,
    "start_time": "2024-06-02T17:43:37.049Z"
   },
   {
    "duration": 5,
    "start_time": "2024-06-02T17:43:37.058Z"
   },
   {
    "duration": 8,
    "start_time": "2024-06-02T17:43:37.067Z"
   },
   {
    "duration": 57,
    "start_time": "2024-06-02T17:43:37.080Z"
   },
   {
    "duration": 14,
    "start_time": "2024-06-02T17:43:37.139Z"
   },
   {
    "duration": 21,
    "start_time": "2024-06-02T17:43:37.157Z"
   },
   {
    "duration": 6,
    "start_time": "2024-06-02T17:43:37.187Z"
   },
   {
    "duration": 378,
    "start_time": "2024-06-02T17:43:37.196Z"
   },
   {
    "duration": 381,
    "start_time": "2024-06-02T17:43:37.577Z"
   },
   {
    "duration": 334,
    "start_time": "2024-06-02T17:43:37.962Z"
   },
   {
    "duration": 14,
    "start_time": "2024-06-02T17:43:38.298Z"
   },
   {
    "duration": 28,
    "start_time": "2024-06-02T17:43:38.314Z"
   },
   {
    "duration": 1092,
    "start_time": "2024-06-02T17:43:38.345Z"
   },
   {
    "duration": 20,
    "start_time": "2024-06-02T17:43:39.440Z"
   },
   {
    "duration": 13,
    "start_time": "2024-06-02T17:43:39.463Z"
   },
   {
    "duration": 234,
    "start_time": "2024-06-02T17:43:39.479Z"
   },
   {
    "duration": 18,
    "start_time": "2024-06-02T17:43:39.716Z"
   },
   {
    "duration": 213,
    "start_time": "2024-06-02T17:43:39.737Z"
   },
   {
    "duration": 13,
    "start_time": "2024-06-02T17:43:39.954Z"
   },
   {
    "duration": 247,
    "start_time": "2024-06-02T17:43:39.973Z"
   },
   {
    "duration": 32,
    "start_time": "2024-06-02T17:43:40.223Z"
   },
   {
    "duration": 1443,
    "start_time": "2024-06-02T17:45:51.096Z"
   },
   {
    "duration": 820,
    "start_time": "2024-06-02T17:45:52.544Z"
   },
   {
    "duration": 39,
    "start_time": "2024-06-02T17:45:53.367Z"
   },
   {
    "duration": 103,
    "start_time": "2024-06-02T17:45:53.411Z"
   },
   {
    "duration": 116,
    "start_time": "2024-06-02T17:45:53.516Z"
   },
   {
    "duration": 10,
    "start_time": "2024-06-02T17:45:53.635Z"
   },
   {
    "duration": 28,
    "start_time": "2024-06-02T17:45:53.648Z"
   },
   {
    "duration": 55,
    "start_time": "2024-06-02T17:45:53.678Z"
   },
   {
    "duration": 33,
    "start_time": "2024-06-02T17:45:53.736Z"
   },
   {
    "duration": 9,
    "start_time": "2024-06-02T17:45:53.776Z"
   },
   {
    "duration": 57,
    "start_time": "2024-06-02T17:45:53.787Z"
   },
   {
    "duration": 24,
    "start_time": "2024-06-02T17:45:53.847Z"
   },
   {
    "duration": 182,
    "start_time": "2024-06-02T17:45:53.874Z"
   },
   {
    "duration": 12,
    "start_time": "2024-06-02T17:45:54.059Z"
   },
   {
    "duration": 5,
    "start_time": "2024-06-02T17:45:54.074Z"
   },
   {
    "duration": 51,
    "start_time": "2024-06-02T17:45:54.082Z"
   },
   {
    "duration": 8,
    "start_time": "2024-06-02T17:45:54.136Z"
   },
   {
    "duration": 10,
    "start_time": "2024-06-02T17:45:54.147Z"
   },
   {
    "duration": 10,
    "start_time": "2024-06-02T17:45:54.160Z"
   },
   {
    "duration": 7,
    "start_time": "2024-06-02T17:45:54.173Z"
   },
   {
    "duration": 68,
    "start_time": "2024-06-02T17:45:54.184Z"
   },
   {
    "duration": 6,
    "start_time": "2024-06-02T17:45:54.255Z"
   },
   {
    "duration": 6,
    "start_time": "2024-06-02T17:45:54.264Z"
   },
   {
    "duration": 9,
    "start_time": "2024-06-02T17:45:54.272Z"
   },
   {
    "duration": 58,
    "start_time": "2024-06-02T17:45:54.284Z"
   },
   {
    "duration": 9,
    "start_time": "2024-06-02T17:45:54.345Z"
   },
   {
    "duration": 12,
    "start_time": "2024-06-02T17:45:54.356Z"
   },
   {
    "duration": 6,
    "start_time": "2024-06-02T17:45:54.375Z"
   },
   {
    "duration": 390,
    "start_time": "2024-06-02T17:45:54.383Z"
   },
   {
    "duration": 373,
    "start_time": "2024-06-02T17:45:54.776Z"
   },
   {
    "duration": 338,
    "start_time": "2024-06-02T17:45:55.152Z"
   },
   {
    "duration": 12,
    "start_time": "2024-06-02T17:45:55.493Z"
   },
   {
    "duration": 33,
    "start_time": "2024-06-02T17:45:55.507Z"
   },
   {
    "duration": 1290,
    "start_time": "2024-06-02T17:45:55.543Z"
   },
   {
    "duration": 21,
    "start_time": "2024-06-02T17:45:56.836Z"
   },
   {
    "duration": 13,
    "start_time": "2024-06-02T17:45:56.859Z"
   },
   {
    "duration": 228,
    "start_time": "2024-06-02T17:45:56.875Z"
   },
   {
    "duration": 17,
    "start_time": "2024-06-02T17:45:57.107Z"
   },
   {
    "duration": 207,
    "start_time": "2024-06-02T17:45:57.134Z"
   },
   {
    "duration": 12,
    "start_time": "2024-06-02T17:45:57.344Z"
   },
   {
    "duration": 251,
    "start_time": "2024-06-02T17:45:57.359Z"
   },
   {
    "duration": 34,
    "start_time": "2024-06-02T17:45:57.613Z"
   },
   {
    "duration": 295,
    "start_time": "2024-06-02T17:45:57.650Z"
   },
   {
    "duration": 83,
    "start_time": "2024-06-02T17:45:57.954Z"
   },
   {
    "duration": 4,
    "start_time": "2024-06-02T17:45:58.040Z"
   },
   {
    "duration": 3,
    "start_time": "2024-06-02T17:45:58.047Z"
   },
   {
    "duration": 100,
    "start_time": "2024-06-02T17:45:58.053Z"
   },
   {
    "duration": 1817,
    "start_time": "2024-06-02T17:45:58.156Z"
   },
   {
    "duration": 0,
    "start_time": "2024-06-02T17:45:59.976Z"
   },
   {
    "duration": 0,
    "start_time": "2024-06-02T17:45:59.980Z"
   },
   {
    "duration": 0,
    "start_time": "2024-06-02T17:45:59.982Z"
   },
   {
    "duration": 0,
    "start_time": "2024-06-02T17:45:59.984Z"
   },
   {
    "duration": 0,
    "start_time": "2024-06-02T17:45:59.985Z"
   },
   {
    "duration": 0,
    "start_time": "2024-06-02T17:45:59.986Z"
   },
   {
    "duration": 0,
    "start_time": "2024-06-02T17:45:59.989Z"
   },
   {
    "duration": 1566,
    "start_time": "2024-06-02T17:48:54.054Z"
   },
   {
    "duration": 918,
    "start_time": "2024-06-02T17:48:55.624Z"
   },
   {
    "duration": 42,
    "start_time": "2024-06-02T17:48:56.545Z"
   },
   {
    "duration": 103,
    "start_time": "2024-06-02T17:48:56.594Z"
   },
   {
    "duration": 120,
    "start_time": "2024-06-02T17:48:56.701Z"
   },
   {
    "duration": 18,
    "start_time": "2024-06-02T17:48:56.825Z"
   },
   {
    "duration": 32,
    "start_time": "2024-06-02T17:48:56.846Z"
   },
   {
    "duration": 57,
    "start_time": "2024-06-02T17:48:56.881Z"
   },
   {
    "duration": 37,
    "start_time": "2024-06-02T17:48:56.946Z"
   },
   {
    "duration": 10,
    "start_time": "2024-06-02T17:48:56.990Z"
   },
   {
    "duration": 62,
    "start_time": "2024-06-02T17:48:57.003Z"
   },
   {
    "duration": 24,
    "start_time": "2024-06-02T17:48:57.069Z"
   },
   {
    "duration": 191,
    "start_time": "2024-06-02T17:48:57.096Z"
   },
   {
    "duration": 14,
    "start_time": "2024-06-02T17:48:57.290Z"
   },
   {
    "duration": 26,
    "start_time": "2024-06-02T17:48:57.307Z"
   },
   {
    "duration": 19,
    "start_time": "2024-06-02T17:48:57.336Z"
   },
   {
    "duration": 9,
    "start_time": "2024-06-02T17:48:57.358Z"
   },
   {
    "duration": 14,
    "start_time": "2024-06-02T17:48:57.370Z"
   },
   {
    "duration": 51,
    "start_time": "2024-06-02T17:48:57.389Z"
   },
   {
    "duration": 7,
    "start_time": "2024-06-02T17:48:57.443Z"
   },
   {
    "duration": 22,
    "start_time": "2024-06-02T17:48:57.453Z"
   },
   {
    "duration": 8,
    "start_time": "2024-06-02T17:48:57.479Z"
   },
   {
    "duration": 9,
    "start_time": "2024-06-02T17:48:57.534Z"
   },
   {
    "duration": 12,
    "start_time": "2024-06-02T17:48:57.547Z"
   },
   {
    "duration": 16,
    "start_time": "2024-06-02T17:48:57.562Z"
   },
   {
    "duration": 13,
    "start_time": "2024-06-02T17:48:57.582Z"
   },
   {
    "duration": 13,
    "start_time": "2024-06-02T17:48:57.636Z"
   },
   {
    "duration": 6,
    "start_time": "2024-06-02T17:48:57.659Z"
   },
   {
    "duration": 430,
    "start_time": "2024-06-02T17:48:57.669Z"
   },
   {
    "duration": 369,
    "start_time": "2024-06-02T17:48:58.103Z"
   },
   {
    "duration": 344,
    "start_time": "2024-06-02T17:48:58.477Z"
   },
   {
    "duration": 16,
    "start_time": "2024-06-02T17:48:58.824Z"
   },
   {
    "duration": 10,
    "start_time": "2024-06-02T17:48:58.844Z"
   },
   {
    "duration": 1170,
    "start_time": "2024-06-02T17:48:58.857Z"
   },
   {
    "duration": 21,
    "start_time": "2024-06-02T17:49:00.030Z"
   },
   {
    "duration": 13,
    "start_time": "2024-06-02T17:49:00.054Z"
   },
   {
    "duration": 244,
    "start_time": "2024-06-02T17:49:00.070Z"
   },
   {
    "duration": 25,
    "start_time": "2024-06-02T17:49:00.318Z"
   },
   {
    "duration": 200,
    "start_time": "2024-06-02T17:49:00.349Z"
   },
   {
    "duration": 12,
    "start_time": "2024-06-02T17:49:00.552Z"
   },
   {
    "duration": 251,
    "start_time": "2024-06-02T17:49:00.567Z"
   },
   {
    "duration": 30,
    "start_time": "2024-06-02T17:49:00.821Z"
   },
   {
    "duration": 156424,
    "start_time": "2024-06-02T17:49:00.854Z"
   },
   {
    "duration": 4,
    "start_time": "2024-06-02T17:51:37.281Z"
   },
   {
    "duration": 6,
    "start_time": "2024-06-02T17:51:37.289Z"
   },
   {
    "duration": 4,
    "start_time": "2024-06-02T17:51:37.298Z"
   },
   {
    "duration": 24,
    "start_time": "2024-06-02T17:51:37.334Z"
   },
   {
    "duration": 1817,
    "start_time": "2024-06-02T17:51:37.360Z"
   },
   {
    "duration": 0,
    "start_time": "2024-06-02T17:51:39.180Z"
   },
   {
    "duration": 0,
    "start_time": "2024-06-02T17:51:39.182Z"
   },
   {
    "duration": 0,
    "start_time": "2024-06-02T17:51:39.183Z"
   },
   {
    "duration": 0,
    "start_time": "2024-06-02T17:51:39.185Z"
   },
   {
    "duration": 0,
    "start_time": "2024-06-02T17:51:39.187Z"
   },
   {
    "duration": 0,
    "start_time": "2024-06-02T17:51:39.188Z"
   },
   {
    "duration": 0,
    "start_time": "2024-06-02T17:51:39.190Z"
   },
   {
    "duration": 334,
    "start_time": "2024-06-03T00:35:14.009Z"
   },
   {
    "duration": 33,
    "start_time": "2024-06-03T00:36:11.087Z"
   },
   {
    "duration": 28,
    "start_time": "2024-06-03T00:36:14.957Z"
   },
   {
    "duration": 5303,
    "start_time": "2024-06-03T00:45:51.850Z"
   },
   {
    "duration": 884,
    "start_time": "2024-06-03T00:45:57.157Z"
   },
   {
    "duration": 32,
    "start_time": "2024-06-03T00:45:58.044Z"
   },
   {
    "duration": 48,
    "start_time": "2024-06-03T00:45:58.080Z"
   },
   {
    "duration": 111,
    "start_time": "2024-06-03T00:45:58.131Z"
   },
   {
    "duration": 11,
    "start_time": "2024-06-03T00:45:58.244Z"
   },
   {
    "duration": 33,
    "start_time": "2024-06-03T00:45:58.258Z"
   },
   {
    "duration": 18,
    "start_time": "2024-06-03T00:45:58.324Z"
   },
   {
    "duration": 32,
    "start_time": "2024-06-03T00:45:58.346Z"
   },
   {
    "duration": 40,
    "start_time": "2024-06-03T00:45:58.385Z"
   },
   {
    "duration": 28,
    "start_time": "2024-06-03T00:45:58.428Z"
   },
   {
    "duration": 24,
    "start_time": "2024-06-03T00:45:58.459Z"
   },
   {
    "duration": 185,
    "start_time": "2024-06-03T00:45:58.486Z"
   },
   {
    "duration": 13,
    "start_time": "2024-06-03T00:45:58.674Z"
   },
   {
    "duration": 6,
    "start_time": "2024-06-03T00:45:58.692Z"
   },
   {
    "duration": 21,
    "start_time": "2024-06-03T00:45:58.724Z"
   },
   {
    "duration": 9,
    "start_time": "2024-06-03T00:45:58.748Z"
   },
   {
    "duration": 11,
    "start_time": "2024-06-03T00:45:58.760Z"
   },
   {
    "duration": 49,
    "start_time": "2024-06-03T00:45:58.774Z"
   },
   {
    "duration": 7,
    "start_time": "2024-06-03T00:45:58.826Z"
   },
   {
    "duration": 30,
    "start_time": "2024-06-03T00:45:58.837Z"
   },
   {
    "duration": 7,
    "start_time": "2024-06-03T00:45:58.870Z"
   },
   {
    "duration": 47,
    "start_time": "2024-06-03T00:45:58.881Z"
   },
   {
    "duration": 10,
    "start_time": "2024-06-03T00:45:58.932Z"
   },
   {
    "duration": 16,
    "start_time": "2024-06-03T00:45:58.946Z"
   },
   {
    "duration": 9,
    "start_time": "2024-06-03T00:45:58.968Z"
   },
   {
    "duration": 53,
    "start_time": "2024-06-03T00:45:58.981Z"
   },
   {
    "duration": 5,
    "start_time": "2024-06-03T00:45:59.043Z"
   },
   {
    "duration": 377,
    "start_time": "2024-06-03T00:45:59.052Z"
   },
   {
    "duration": 385,
    "start_time": "2024-06-03T00:45:59.432Z"
   },
   {
    "duration": 450,
    "start_time": "2024-06-03T00:45:59.824Z"
   },
   {
    "duration": 13,
    "start_time": "2024-06-03T00:46:00.278Z"
   },
   {
    "duration": 42,
    "start_time": "2024-06-03T00:46:00.295Z"
   },
   {
    "duration": 1193,
    "start_time": "2024-06-03T00:46:00.340Z"
   },
   {
    "duration": 22,
    "start_time": "2024-06-03T00:46:01.536Z"
   },
   {
    "duration": 13,
    "start_time": "2024-06-03T00:46:01.562Z"
   },
   {
    "duration": 244,
    "start_time": "2024-06-03T00:46:01.579Z"
   },
   {
    "duration": 16,
    "start_time": "2024-06-03T00:46:01.826Z"
   },
   {
    "duration": 218,
    "start_time": "2024-06-03T00:46:01.845Z"
   },
   {
    "duration": 15,
    "start_time": "2024-06-03T00:46:02.066Z"
   },
   {
    "duration": 275,
    "start_time": "2024-06-03T00:46:02.084Z"
   },
   {
    "duration": 23,
    "start_time": "2024-06-03T00:46:02.363Z"
   },
   {
    "duration": 33,
    "start_time": "2024-06-03T00:46:02.390Z"
   },
   {
    "duration": 301,
    "start_time": "2024-06-03T00:46:02.427Z"
   },
   {
    "duration": 28090,
    "start_time": "2024-06-03T00:46:02.733Z"
   },
   {
    "duration": 2678,
    "start_time": "2024-06-03T00:46:30.826Z"
   },
   {
    "duration": 14,
    "start_time": "2024-06-03T00:46:33.509Z"
   },
   {
    "duration": 12,
    "start_time": "2024-06-03T00:52:50.342Z"
   },
   {
    "duration": 1201,
    "start_time": "2024-06-03T00:54:16.943Z"
   },
   {
    "duration": 137054,
    "start_time": "2024-06-03T00:54:18.224Z"
   },
   {
    "duration": 12482,
    "start_time": "2024-06-03T00:56:35.282Z"
   },
   {
    "duration": 10,
    "start_time": "2024-06-03T00:56:47.767Z"
   },
   {
    "duration": 4,
    "start_time": "2024-06-03T00:56:47.781Z"
   },
   {
    "duration": 1631,
    "start_time": "2024-06-03T00:57:50.131Z"
   },
   {
    "duration": 1138,
    "start_time": "2024-06-03T00:57:51.767Z"
   },
   {
    "duration": 45,
    "start_time": "2024-06-03T00:57:52.908Z"
   },
   {
    "duration": 125,
    "start_time": "2024-06-03T00:57:52.959Z"
   },
   {
    "duration": 135,
    "start_time": "2024-06-03T00:57:53.088Z"
   },
   {
    "duration": 12,
    "start_time": "2024-06-03T00:57:53.226Z"
   },
   {
    "duration": 32,
    "start_time": "2024-06-03T00:57:53.242Z"
   },
   {
    "duration": 60,
    "start_time": "2024-06-03T00:57:53.279Z"
   },
   {
    "duration": 36,
    "start_time": "2024-06-03T00:57:53.343Z"
   },
   {
    "duration": 11,
    "start_time": "2024-06-03T00:57:53.422Z"
   },
   {
    "duration": 31,
    "start_time": "2024-06-03T00:57:53.436Z"
   },
   {
    "duration": 68,
    "start_time": "2024-06-03T00:57:53.471Z"
   },
   {
    "duration": 184,
    "start_time": "2024-06-03T00:57:53.542Z"
   },
   {
    "duration": 15,
    "start_time": "2024-06-03T00:57:53.730Z"
   },
   {
    "duration": 9,
    "start_time": "2024-06-03T00:57:53.754Z"
   },
   {
    "duration": 55,
    "start_time": "2024-06-03T00:57:53.768Z"
   },
   {
    "duration": 10,
    "start_time": "2024-06-03T00:57:53.826Z"
   },
   {
    "duration": 16,
    "start_time": "2024-06-03T00:57:53.839Z"
   },
   {
    "duration": 12,
    "start_time": "2024-06-03T00:57:53.858Z"
   },
   {
    "duration": 54,
    "start_time": "2024-06-03T00:57:53.873Z"
   },
   {
    "duration": 27,
    "start_time": "2024-06-03T00:57:53.931Z"
   },
   {
    "duration": 7,
    "start_time": "2024-06-03T00:57:53.963Z"
   },
   {
    "duration": 50,
    "start_time": "2024-06-03T00:57:53.974Z"
   },
   {
    "duration": 10,
    "start_time": "2024-06-03T00:57:54.027Z"
   },
   {
    "duration": 15,
    "start_time": "2024-06-03T00:57:54.041Z"
   },
   {
    "duration": 9,
    "start_time": "2024-06-03T00:57:54.059Z"
   },
   {
    "duration": 60,
    "start_time": "2024-06-03T00:57:54.074Z"
   },
   {
    "duration": 6,
    "start_time": "2024-06-03T00:57:54.142Z"
   },
   {
    "duration": 424,
    "start_time": "2024-06-03T00:57:54.151Z"
   },
   {
    "duration": 429,
    "start_time": "2024-06-03T00:57:54.578Z"
   },
   {
    "duration": 376,
    "start_time": "2024-06-03T00:57:55.012Z"
   },
   {
    "duration": 31,
    "start_time": "2024-06-03T00:57:55.392Z"
   },
   {
    "duration": 13,
    "start_time": "2024-06-03T00:57:55.426Z"
   },
   {
    "duration": 1195,
    "start_time": "2024-06-03T00:57:55.443Z"
   },
   {
    "duration": 23,
    "start_time": "2024-06-03T00:57:56.642Z"
   },
   {
    "duration": 15,
    "start_time": "2024-06-03T00:57:56.668Z"
   },
   {
    "duration": 254,
    "start_time": "2024-06-03T00:57:56.687Z"
   },
   {
    "duration": 15,
    "start_time": "2024-06-03T00:57:56.944Z"
   },
   {
    "duration": 261,
    "start_time": "2024-06-03T00:57:56.962Z"
   },
   {
    "duration": 16,
    "start_time": "2024-06-03T00:57:57.226Z"
   },
   {
    "duration": 299,
    "start_time": "2024-06-03T00:57:57.246Z"
   },
   {
    "duration": 22,
    "start_time": "2024-06-03T00:57:57.549Z"
   },
   {
    "duration": 15,
    "start_time": "2024-06-03T00:57:57.574Z"
   },
   {
    "duration": 1416,
    "start_time": "2024-06-03T00:57:57.623Z"
   },
   {
    "duration": 12,
    "start_time": "2024-06-03T01:00:30.622Z"
   },
   {
    "duration": 7,
    "start_time": "2024-06-03T01:00:30.638Z"
   },
   {
    "duration": 2750,
    "start_time": "2024-06-03T01:00:30.653Z"
   },
   {
    "duration": 27668,
    "start_time": "2024-06-03T01:00:33.406Z"
   },
   {
    "duration": 8663,
    "start_time": "2024-06-03T01:01:08.826Z"
   },
   {
    "duration": 5443,
    "start_time": "2024-06-03T01:04:35.823Z"
   },
   {
    "duration": 615,
    "start_time": "2024-06-03T01:05:24.381Z"
   },
   {
    "duration": 17021,
    "start_time": "2024-06-03T01:05:57.057Z"
   },
   {
    "duration": 1193,
    "start_time": "2024-06-03T01:06:14.082Z"
   },
   {
    "duration": 1565,
    "start_time": "2024-06-03T01:08:35.507Z"
   },
   {
    "duration": 920,
    "start_time": "2024-06-03T01:08:37.076Z"
   },
   {
    "duration": 46,
    "start_time": "2024-06-03T01:08:37.999Z"
   },
   {
    "duration": 101,
    "start_time": "2024-06-03T01:08:38.049Z"
   },
   {
    "duration": 119,
    "start_time": "2024-06-03T01:08:38.155Z"
   },
   {
    "duration": 11,
    "start_time": "2024-06-03T01:08:38.277Z"
   },
   {
    "duration": 47,
    "start_time": "2024-06-03T01:08:38.291Z"
   },
   {
    "duration": 18,
    "start_time": "2024-06-03T01:08:38.342Z"
   },
   {
    "duration": 60,
    "start_time": "2024-06-03T01:08:38.364Z"
   },
   {
    "duration": 8,
    "start_time": "2024-06-03T01:08:38.430Z"
   },
   {
    "duration": 34,
    "start_time": "2024-06-03T01:08:38.442Z"
   },
   {
    "duration": 59,
    "start_time": "2024-06-03T01:08:38.479Z"
   },
   {
    "duration": 173,
    "start_time": "2024-06-03T01:08:38.544Z"
   },
   {
    "duration": 11,
    "start_time": "2024-06-03T01:08:38.723Z"
   },
   {
    "duration": 6,
    "start_time": "2024-06-03T01:08:38.737Z"
   },
   {
    "duration": 19,
    "start_time": "2024-06-03T01:08:38.746Z"
   },
   {
    "duration": 55,
    "start_time": "2024-06-03T01:08:38.768Z"
   },
   {
    "duration": 12,
    "start_time": "2024-06-03T01:08:38.826Z"
   },
   {
    "duration": 10,
    "start_time": "2024-06-03T01:08:38.840Z"
   },
   {
    "duration": 8,
    "start_time": "2024-06-03T01:08:38.853Z"
   },
   {
    "duration": 68,
    "start_time": "2024-06-03T01:08:38.864Z"
   },
   {
    "duration": 6,
    "start_time": "2024-06-03T01:08:38.935Z"
   },
   {
    "duration": 7,
    "start_time": "2024-06-03T01:08:38.946Z"
   },
   {
    "duration": 10,
    "start_time": "2024-06-03T01:08:38.956Z"
   },
   {
    "duration": 56,
    "start_time": "2024-06-03T01:08:38.969Z"
   },
   {
    "duration": 9,
    "start_time": "2024-06-03T01:08:39.028Z"
   },
   {
    "duration": 11,
    "start_time": "2024-06-03T01:08:39.041Z"
   },
   {
    "duration": 5,
    "start_time": "2024-06-03T01:08:39.061Z"
   },
   {
    "duration": 400,
    "start_time": "2024-06-03T01:08:39.070Z"
   },
   {
    "duration": 425,
    "start_time": "2024-06-03T01:08:39.474Z"
   },
   {
    "duration": 370,
    "start_time": "2024-06-03T01:08:39.903Z"
   },
   {
    "duration": 12,
    "start_time": "2024-06-03T01:08:40.276Z"
   },
   {
    "duration": 36,
    "start_time": "2024-06-03T01:08:40.291Z"
   },
   {
    "duration": 1183,
    "start_time": "2024-06-03T01:08:40.331Z"
   },
   {
    "duration": 23,
    "start_time": "2024-06-03T01:08:41.522Z"
   },
   {
    "duration": 14,
    "start_time": "2024-06-03T01:08:41.548Z"
   },
   {
    "duration": 237,
    "start_time": "2024-06-03T01:08:41.566Z"
   },
   {
    "duration": 23,
    "start_time": "2024-06-03T01:08:41.806Z"
   },
   {
    "duration": 213,
    "start_time": "2024-06-03T01:08:41.832Z"
   },
   {
    "duration": 15,
    "start_time": "2024-06-03T01:08:42.049Z"
   },
   {
    "duration": 268,
    "start_time": "2024-06-03T01:08:42.068Z"
   },
   {
    "duration": 22,
    "start_time": "2024-06-03T01:08:42.340Z"
   },
   {
    "duration": 15,
    "start_time": "2024-06-03T01:08:42.365Z"
   },
   {
    "duration": 1358,
    "start_time": "2024-06-03T01:08:42.383Z"
   },
   {
    "duration": 84161,
    "start_time": "2024-06-03T01:08:43.748Z"
   },
   {
    "duration": 5546,
    "start_time": "2024-06-03T01:10:07.912Z"
   },
   {
    "duration": 12,
    "start_time": "2024-06-03T01:10:13.461Z"
   },
   {
    "duration": 17127,
    "start_time": "2024-06-03T01:10:13.476Z"
   },
   {
    "duration": 1594,
    "start_time": "2024-06-03T01:12:11.394Z"
   },
   {
    "duration": 1084,
    "start_time": "2024-06-03T01:12:12.992Z"
   },
   {
    "duration": 51,
    "start_time": "2024-06-03T01:12:14.080Z"
   },
   {
    "duration": 105,
    "start_time": "2024-06-03T01:12:14.136Z"
   },
   {
    "duration": 123,
    "start_time": "2024-06-03T01:12:14.245Z"
   },
   {
    "duration": 12,
    "start_time": "2024-06-03T01:12:14.372Z"
   },
   {
    "duration": 52,
    "start_time": "2024-06-03T01:12:14.388Z"
   },
   {
    "duration": 22,
    "start_time": "2024-06-03T01:12:14.444Z"
   },
   {
    "duration": 75,
    "start_time": "2024-06-03T01:12:14.470Z"
   },
   {
    "duration": 13,
    "start_time": "2024-06-03T01:12:14.552Z"
   },
   {
    "duration": 63,
    "start_time": "2024-06-03T01:12:14.568Z"
   },
   {
    "duration": 36,
    "start_time": "2024-06-03T01:12:14.636Z"
   },
   {
    "duration": 207,
    "start_time": "2024-06-03T01:12:14.679Z"
   },
   {
    "duration": 14,
    "start_time": "2024-06-03T01:12:14.892Z"
   },
   {
    "duration": 6,
    "start_time": "2024-06-03T01:12:14.925Z"
   },
   {
    "duration": 25,
    "start_time": "2024-06-03T01:12:14.936Z"
   },
   {
    "duration": 12,
    "start_time": "2024-06-03T01:12:14.965Z"
   },
   {
    "duration": 50,
    "start_time": "2024-06-03T01:12:14.980Z"
   },
   {
    "duration": 12,
    "start_time": "2024-06-03T01:12:15.034Z"
   },
   {
    "duration": 8,
    "start_time": "2024-06-03T01:12:15.049Z"
   },
   {
    "duration": 77,
    "start_time": "2024-06-03T01:12:15.061Z"
   },
   {
    "duration": 7,
    "start_time": "2024-06-03T01:12:15.141Z"
   },
   {
    "duration": 6,
    "start_time": "2024-06-03T01:12:15.151Z"
   },
   {
    "duration": 11,
    "start_time": "2024-06-03T01:12:15.161Z"
   },
   {
    "duration": 13,
    "start_time": "2024-06-03T01:12:15.224Z"
   },
   {
    "duration": 9,
    "start_time": "2024-06-03T01:12:15.241Z"
   },
   {
    "duration": 15,
    "start_time": "2024-06-03T01:12:15.254Z"
   },
   {
    "duration": 6,
    "start_time": "2024-06-03T01:12:15.322Z"
   },
   {
    "duration": 382,
    "start_time": "2024-06-03T01:12:15.332Z"
   },
   {
    "duration": 444,
    "start_time": "2024-06-03T01:12:15.724Z"
   },
   {
    "duration": 392,
    "start_time": "2024-06-03T01:12:16.172Z"
   },
   {
    "duration": 15,
    "start_time": "2024-06-03T01:12:16.568Z"
   },
   {
    "duration": 46,
    "start_time": "2024-06-03T01:12:16.586Z"
   },
   {
    "duration": 1502,
    "start_time": "2024-06-03T01:12:16.635Z"
   },
   {
    "duration": 22,
    "start_time": "2024-06-03T01:12:18.141Z"
   },
   {
    "duration": 17,
    "start_time": "2024-06-03T01:12:18.166Z"
   },
   {
    "duration": 251,
    "start_time": "2024-06-03T01:12:18.187Z"
   },
   {
    "duration": 17,
    "start_time": "2024-06-03T01:12:18.443Z"
   },
   {
    "duration": 246,
    "start_time": "2024-06-03T01:12:18.463Z"
   },
   {
    "duration": 22,
    "start_time": "2024-06-03T01:12:18.713Z"
   },
   {
    "duration": 258,
    "start_time": "2024-06-03T01:12:18.738Z"
   },
   {
    "duration": 33,
    "start_time": "2024-06-03T01:12:18.999Z"
   },
   {
    "duration": 17,
    "start_time": "2024-06-03T01:12:19.035Z"
   },
   {
    "duration": 1371,
    "start_time": "2024-06-03T01:12:19.056Z"
   },
   {
    "duration": 85902,
    "start_time": "2024-06-03T01:12:20.430Z"
   },
   {
    "duration": 5697,
    "start_time": "2024-06-03T01:13:46.336Z"
   },
   {
    "duration": 11,
    "start_time": "2024-06-03T01:13:52.037Z"
   },
   {
    "duration": 17195,
    "start_time": "2024-06-03T01:13:52.051Z"
   },
   {
    "duration": 1486,
    "start_time": "2024-06-03T02:29:54.400Z"
   },
   {
    "duration": 891,
    "start_time": "2024-06-03T02:29:55.892Z"
   },
   {
    "duration": 53,
    "start_time": "2024-06-03T02:29:56.787Z"
   },
   {
    "duration": 108,
    "start_time": "2024-06-03T02:29:56.844Z"
   },
   {
    "duration": 126,
    "start_time": "2024-06-03T02:29:56.958Z"
   },
   {
    "duration": 13,
    "start_time": "2024-06-03T02:29:57.087Z"
   },
   {
    "duration": 29,
    "start_time": "2024-06-03T02:29:57.122Z"
   },
   {
    "duration": 20,
    "start_time": "2024-06-03T02:29:57.154Z"
   },
   {
    "duration": 70,
    "start_time": "2024-06-03T02:29:57.177Z"
   },
   {
    "duration": 9,
    "start_time": "2024-06-03T02:29:57.250Z"
   },
   {
    "duration": 31,
    "start_time": "2024-06-03T02:29:57.262Z"
   },
   {
    "duration": 27,
    "start_time": "2024-06-03T02:29:57.324Z"
   },
   {
    "duration": 182,
    "start_time": "2024-06-03T02:29:57.355Z"
   },
   {
    "duration": 11,
    "start_time": "2024-06-03T02:29:57.544Z"
   },
   {
    "duration": 5,
    "start_time": "2024-06-03T02:29:57.559Z"
   },
   {
    "duration": 57,
    "start_time": "2024-06-03T02:29:57.568Z"
   },
   {
    "duration": 9,
    "start_time": "2024-06-03T02:29:57.628Z"
   },
   {
    "duration": 12,
    "start_time": "2024-06-03T02:29:57.641Z"
   },
   {
    "duration": 11,
    "start_time": "2024-06-03T02:29:57.657Z"
   },
   {
    "duration": 56,
    "start_time": "2024-06-03T02:29:57.671Z"
   },
   {
    "duration": 29,
    "start_time": "2024-06-03T02:29:57.731Z"
   },
   {
    "duration": 11,
    "start_time": "2024-06-03T02:29:57.763Z"
   },
   {
    "duration": 7,
    "start_time": "2024-06-03T02:29:57.777Z"
   },
   {
    "duration": 9,
    "start_time": "2024-06-03T02:29:57.824Z"
   },
   {
    "duration": 19,
    "start_time": "2024-06-03T02:29:57.836Z"
   },
   {
    "duration": 10,
    "start_time": "2024-06-03T02:29:57.860Z"
   },
   {
    "duration": 58,
    "start_time": "2024-06-03T02:29:57.873Z"
   },
   {
    "duration": 6,
    "start_time": "2024-06-03T02:29:57.935Z"
   },
   {
    "duration": 395,
    "start_time": "2024-06-03T02:29:57.944Z"
   },
   {
    "duration": 381,
    "start_time": "2024-06-03T02:29:58.342Z"
   },
   {
    "duration": 376,
    "start_time": "2024-06-03T02:29:58.726Z"
   },
   {
    "duration": 24,
    "start_time": "2024-06-03T02:29:59.105Z"
   },
   {
    "duration": 11,
    "start_time": "2024-06-03T02:29:59.132Z"
   },
   {
    "duration": 1198,
    "start_time": "2024-06-03T02:29:59.147Z"
   },
   {
    "duration": 22,
    "start_time": "2024-06-03T02:30:00.348Z"
   },
   {
    "duration": 13,
    "start_time": "2024-06-03T02:30:00.374Z"
   },
   {
    "duration": 249,
    "start_time": "2024-06-03T02:30:00.391Z"
   },
   {
    "duration": 14,
    "start_time": "2024-06-03T02:30:00.643Z"
   },
   {
    "duration": 221,
    "start_time": "2024-06-03T02:30:00.661Z"
   },
   {
    "duration": 14,
    "start_time": "2024-06-03T02:30:00.885Z"
   },
   {
    "duration": 252,
    "start_time": "2024-06-03T02:30:00.927Z"
   },
   {
    "duration": 44,
    "start_time": "2024-06-03T02:30:01.183Z"
   },
   {
    "duration": 15,
    "start_time": "2024-06-03T02:30:01.230Z"
   },
   {
    "duration": 1284,
    "start_time": "2024-06-03T02:30:01.249Z"
   },
   {
    "duration": 83253,
    "start_time": "2024-06-03T02:30:02.537Z"
   },
   {
    "duration": 5532,
    "start_time": "2024-06-03T02:31:25.793Z"
   },
   {
    "duration": 16845,
    "start_time": "2024-06-03T02:31:31.329Z"
   },
   {
    "duration": 1486,
    "start_time": "2024-06-04T06:23:51.717Z"
   },
   {
    "duration": 777,
    "start_time": "2024-06-04T06:23:53.208Z"
   },
   {
    "duration": 38,
    "start_time": "2024-06-04T06:23:53.988Z"
   },
   {
    "duration": 100,
    "start_time": "2024-06-04T06:23:54.030Z"
   },
   {
    "duration": 113,
    "start_time": "2024-06-04T06:23:54.133Z"
   },
   {
    "duration": 11,
    "start_time": "2024-06-04T06:23:54.250Z"
   },
   {
    "duration": 52,
    "start_time": "2024-06-04T06:23:54.263Z"
   },
   {
    "duration": 19,
    "start_time": "2024-06-04T06:23:54.319Z"
   },
   {
    "duration": 66,
    "start_time": "2024-06-04T06:23:54.341Z"
   },
   {
    "duration": 8,
    "start_time": "2024-06-04T06:23:54.413Z"
   },
   {
    "duration": 28,
    "start_time": "2024-06-04T06:23:54.424Z"
   },
   {
    "duration": 57,
    "start_time": "2024-06-04T06:23:54.456Z"
   },
   {
    "duration": 159,
    "start_time": "2024-06-04T06:23:54.515Z"
   },
   {
    "duration": 24,
    "start_time": "2024-06-04T06:23:54.677Z"
   },
   {
    "duration": 5,
    "start_time": "2024-06-04T06:23:54.704Z"
   },
   {
    "duration": 22,
    "start_time": "2024-06-04T06:23:54.713Z"
   },
   {
    "duration": 12,
    "start_time": "2024-06-04T06:23:54.738Z"
   },
   {
    "duration": 11,
    "start_time": "2024-06-04T06:23:54.753Z"
   },
   {
    "duration": 10,
    "start_time": "2024-06-04T06:23:54.803Z"
   },
   {
    "duration": 7,
    "start_time": "2024-06-04T06:23:54.815Z"
   },
   {
    "duration": 22,
    "start_time": "2024-06-04T06:23:54.825Z"
   },
   {
    "duration": 51,
    "start_time": "2024-06-04T06:23:54.850Z"
   },
   {
    "duration": 6,
    "start_time": "2024-06-04T06:23:54.904Z"
   },
   {
    "duration": 9,
    "start_time": "2024-06-04T06:23:54.913Z"
   },
   {
    "duration": 12,
    "start_time": "2024-06-04T06:23:54.925Z"
   },
   {
    "duration": 9,
    "start_time": "2024-06-04T06:23:54.940Z"
   },
   {
    "duration": 58,
    "start_time": "2024-06-04T06:23:54.952Z"
   },
   {
    "duration": 5,
    "start_time": "2024-06-04T06:23:55.018Z"
   },
   {
    "duration": 371,
    "start_time": "2024-06-04T06:23:55.026Z"
   },
   {
    "duration": 374,
    "start_time": "2024-06-04T06:23:55.399Z"
   },
   {
    "duration": 351,
    "start_time": "2024-06-04T06:23:55.776Z"
   },
   {
    "duration": 12,
    "start_time": "2024-06-04T06:23:56.130Z"
   },
   {
    "duration": 13,
    "start_time": "2024-06-04T06:23:56.145Z"
   },
   {
    "duration": 1204,
    "start_time": "2024-06-04T06:23:56.161Z"
   },
   {
    "duration": 35,
    "start_time": "2024-06-04T06:23:57.368Z"
   },
   {
    "duration": 13,
    "start_time": "2024-06-04T06:23:57.406Z"
   },
   {
    "duration": 239,
    "start_time": "2024-06-04T06:23:57.422Z"
   },
   {
    "duration": 13,
    "start_time": "2024-06-04T06:23:57.666Z"
   },
   {
    "duration": 209,
    "start_time": "2024-06-04T06:23:57.682Z"
   },
   {
    "duration": 18,
    "start_time": "2024-06-04T06:23:57.894Z"
   },
   {
    "duration": 241,
    "start_time": "2024-06-04T06:23:57.914Z"
   },
   {
    "duration": 24,
    "start_time": "2024-06-04T06:23:58.158Z"
   },
   {
    "duration": 15,
    "start_time": "2024-06-04T06:23:58.203Z"
   },
   {
    "duration": 1178,
    "start_time": "2024-06-04T06:23:58.227Z"
   },
   {
    "duration": 82874,
    "start_time": "2024-06-04T06:23:59.409Z"
   },
   {
    "duration": 5789,
    "start_time": "2024-06-04T06:25:22.285Z"
   },
   {
    "duration": 16940,
    "start_time": "2024-06-04T06:25:28.078Z"
   },
   {
    "duration": 3,
    "start_time": "2024-06-04T06:59:18.725Z"
   },
   {
    "duration": 513,
    "start_time": "2024-06-04T06:59:39.659Z"
   },
   {
    "duration": 34,
    "start_time": "2024-06-04T07:01:17.269Z"
   },
   {
    "duration": 34,
    "start_time": "2024-06-04T07:01:29.170Z"
   },
   {
    "duration": 1435,
    "start_time": "2024-06-04T07:04:52.635Z"
   },
   {
    "duration": 789,
    "start_time": "2024-06-04T07:04:54.073Z"
   },
   {
    "duration": 38,
    "start_time": "2024-06-04T07:04:54.865Z"
   },
   {
    "duration": 101,
    "start_time": "2024-06-04T07:04:54.909Z"
   },
   {
    "duration": 114,
    "start_time": "2024-06-04T07:04:55.012Z"
   },
   {
    "duration": 12,
    "start_time": "2024-06-04T07:04:55.129Z"
   },
   {
    "duration": 28,
    "start_time": "2024-06-04T07:04:55.144Z"
   },
   {
    "duration": 19,
    "start_time": "2024-06-04T07:04:55.202Z"
   },
   {
    "duration": 32,
    "start_time": "2024-06-04T07:04:55.224Z"
   },
   {
    "duration": 41,
    "start_time": "2024-06-04T07:04:55.262Z"
   },
   {
    "duration": 28,
    "start_time": "2024-06-04T07:04:55.305Z"
   },
   {
    "duration": 25,
    "start_time": "2024-06-04T07:04:55.336Z"
   },
   {
    "duration": 178,
    "start_time": "2024-06-04T07:04:55.364Z"
   },
   {
    "duration": 12,
    "start_time": "2024-06-04T07:04:55.545Z"
   },
   {
    "duration": 6,
    "start_time": "2024-06-04T07:04:55.560Z"
   },
   {
    "duration": 21,
    "start_time": "2024-06-04T07:04:55.601Z"
   },
   {
    "duration": 9,
    "start_time": "2024-06-04T07:04:55.625Z"
   },
   {
    "duration": 11,
    "start_time": "2024-06-04T07:04:55.637Z"
   },
   {
    "duration": 11,
    "start_time": "2024-06-04T07:04:55.651Z"
   },
   {
    "duration": 7,
    "start_time": "2024-06-04T07:04:55.703Z"
   },
   {
    "duration": 29,
    "start_time": "2024-06-04T07:04:55.713Z"
   },
   {
    "duration": 6,
    "start_time": "2024-06-04T07:04:55.746Z"
   },
   {
    "duration": 47,
    "start_time": "2024-06-04T07:04:55.756Z"
   },
   {
    "duration": 10,
    "start_time": "2024-06-04T07:04:55.807Z"
   },
   {
    "duration": 11,
    "start_time": "2024-06-04T07:04:55.821Z"
   },
   {
    "duration": 10,
    "start_time": "2024-06-04T07:04:55.835Z"
   },
   {
    "duration": 55,
    "start_time": "2024-06-04T07:04:55.849Z"
   },
   {
    "duration": 5,
    "start_time": "2024-06-04T07:04:55.915Z"
   },
   {
    "duration": 422,
    "start_time": "2024-06-04T07:04:55.922Z"
   },
   {
    "duration": 366,
    "start_time": "2024-06-04T07:04:56.348Z"
   },
   {
    "duration": 344,
    "start_time": "2024-06-04T07:04:56.718Z"
   },
   {
    "duration": 11,
    "start_time": "2024-06-04T07:04:57.065Z"
   },
   {
    "duration": 33,
    "start_time": "2024-06-04T07:04:57.079Z"
   },
   {
    "duration": 1130,
    "start_time": "2024-06-04T07:04:57.116Z"
   },
   {
    "duration": 24,
    "start_time": "2024-06-04T07:04:58.250Z"
   },
   {
    "duration": 35,
    "start_time": "2024-06-04T07:04:58.278Z"
   },
   {
    "duration": 212,
    "start_time": "2024-06-04T07:04:58.316Z"
   },
   {
    "duration": 13,
    "start_time": "2024-06-04T07:04:58.531Z"
   },
   {
    "duration": 215,
    "start_time": "2024-06-04T07:04:58.547Z"
   },
   {
    "duration": 14,
    "start_time": "2024-06-04T07:04:58.765Z"
   },
   {
    "duration": 250,
    "start_time": "2024-06-04T07:04:58.783Z"
   },
   {
    "duration": 9,
    "start_time": "2024-06-04T07:04:59.036Z"
   },
   {
    "duration": 63,
    "start_time": "2024-06-04T07:04:59.048Z"
   },
   {
    "duration": 6,
    "start_time": "2024-06-04T07:04:59.113Z"
   },
   {
    "duration": 8,
    "start_time": "2024-06-04T07:04:59.123Z"
   },
   {
    "duration": 537,
    "start_time": "2024-06-04T07:04:59.134Z"
   },
   {
    "duration": 0,
    "start_time": "2024-06-04T07:04:59.674Z"
   },
   {
    "duration": 0,
    "start_time": "2024-06-04T07:04:59.676Z"
   },
   {
    "duration": 0,
    "start_time": "2024-06-04T07:04:59.679Z"
   },
   {
    "duration": 542,
    "start_time": "2024-06-04T07:05:24.283Z"
   },
   {
    "duration": 492,
    "start_time": "2024-06-04T07:05:31.631Z"
   },
   {
    "duration": 484,
    "start_time": "2024-06-04T07:05:37.826Z"
   },
   {
    "duration": 41887,
    "start_time": "2024-06-04T07:05:41.036Z"
   },
   {
    "duration": 2870,
    "start_time": "2024-06-04T07:08:09.303Z"
   },
   {
    "duration": 13477,
    "start_time": "2024-06-04T07:08:15.618Z"
   },
   {
    "duration": 318,
    "start_time": "2024-06-04T15:30:51.148Z"
   },
   {
    "duration": 5278,
    "start_time": "2024-06-04T15:30:58.327Z"
   },
   {
    "duration": 943,
    "start_time": "2024-06-04T15:31:03.609Z"
   },
   {
    "duration": 33,
    "start_time": "2024-06-04T15:31:04.559Z"
   },
   {
    "duration": 44,
    "start_time": "2024-06-04T15:31:04.597Z"
   },
   {
    "duration": 123,
    "start_time": "2024-06-04T15:31:04.644Z"
   },
   {
    "duration": 10,
    "start_time": "2024-06-04T15:31:04.771Z"
   },
   {
    "duration": 48,
    "start_time": "2024-06-04T15:31:04.784Z"
   },
   {
    "duration": 18,
    "start_time": "2024-06-04T15:31:04.835Z"
   },
   {
    "duration": 32,
    "start_time": "2024-06-04T15:31:04.860Z"
   },
   {
    "duration": 40,
    "start_time": "2024-06-04T15:31:04.895Z"
   },
   {
    "duration": 28,
    "start_time": "2024-06-04T15:31:04.938Z"
   },
   {
    "duration": 24,
    "start_time": "2024-06-04T15:31:04.969Z"
   },
   {
    "duration": 187,
    "start_time": "2024-06-04T15:31:04.996Z"
   },
   {
    "duration": 13,
    "start_time": "2024-06-04T15:31:05.187Z"
   },
   {
    "duration": 27,
    "start_time": "2024-06-04T15:31:05.204Z"
   },
   {
    "duration": 22,
    "start_time": "2024-06-04T15:31:05.234Z"
   },
   {
    "duration": 10,
    "start_time": "2024-06-04T15:31:05.259Z"
   },
   {
    "duration": 13,
    "start_time": "2024-06-04T15:31:05.272Z"
   },
   {
    "duration": 48,
    "start_time": "2024-06-04T15:31:05.288Z"
   },
   {
    "duration": 7,
    "start_time": "2024-06-04T15:31:05.338Z"
   },
   {
    "duration": 23,
    "start_time": "2024-06-04T15:31:05.348Z"
   },
   {
    "duration": 5,
    "start_time": "2024-06-04T15:31:05.374Z"
   },
   {
    "duration": 51,
    "start_time": "2024-06-04T15:31:05.382Z"
   },
   {
    "duration": 9,
    "start_time": "2024-06-04T15:31:05.439Z"
   },
   {
    "duration": 13,
    "start_time": "2024-06-04T15:31:05.451Z"
   },
   {
    "duration": 10,
    "start_time": "2024-06-04T15:31:05.468Z"
   },
   {
    "duration": 51,
    "start_time": "2024-06-04T15:31:05.489Z"
   },
   {
    "duration": 6,
    "start_time": "2024-06-04T15:31:05.542Z"
   },
   {
    "duration": 467,
    "start_time": "2024-06-04T15:31:05.551Z"
   },
   {
    "duration": 385,
    "start_time": "2024-06-04T15:31:06.022Z"
   },
   {
    "duration": 343,
    "start_time": "2024-06-04T15:31:06.410Z"
   },
   {
    "duration": 13,
    "start_time": "2024-06-04T15:31:06.756Z"
   },
   {
    "duration": 11,
    "start_time": "2024-06-04T15:31:06.771Z"
   },
   {
    "duration": 1148,
    "start_time": "2024-06-04T15:31:06.786Z"
   },
   {
    "duration": 21,
    "start_time": "2024-06-04T15:31:07.938Z"
   },
   {
    "duration": 13,
    "start_time": "2024-06-04T15:31:07.962Z"
   },
   {
    "duration": 229,
    "start_time": "2024-06-04T15:31:07.979Z"
   },
   {
    "duration": 22,
    "start_time": "2024-06-04T15:31:08.212Z"
   },
   {
    "duration": 199,
    "start_time": "2024-06-04T15:31:08.237Z"
   },
   {
    "duration": 15,
    "start_time": "2024-06-04T15:31:08.441Z"
   },
   {
    "duration": 257,
    "start_time": "2024-06-04T15:31:08.459Z"
   },
   {
    "duration": 15,
    "start_time": "2024-06-04T15:31:08.719Z"
   },
   {
    "duration": 44,
    "start_time": "2024-06-04T15:31:08.737Z"
   },
   {
    "duration": 6,
    "start_time": "2024-06-04T15:31:08.784Z"
   },
   {
    "duration": 40,
    "start_time": "2024-06-04T15:31:08.793Z"
   },
   {
    "duration": 593,
    "start_time": "2024-06-04T15:31:08.836Z"
   },
   {
    "duration": 41801,
    "start_time": "2024-06-04T15:31:09.432Z"
   },
   {
    "duration": 2858,
    "start_time": "2024-06-04T15:31:51.236Z"
   },
   {
    "duration": 13033,
    "start_time": "2024-06-04T15:31:54.099Z"
   },
   {
    "duration": 557,
    "start_time": "2024-06-04T15:35:18.684Z"
   },
   {
    "duration": 717,
    "start_time": "2024-06-04T15:35:32.852Z"
   },
   {
    "duration": 645,
    "start_time": "2024-06-04T15:36:10.030Z"
   },
   {
    "duration": 6,
    "start_time": "2024-06-04T16:03:30.692Z"
   },
   {
    "duration": 5086,
    "start_time": "2024-06-05T12:37:30.848Z"
   },
   {
    "duration": 924,
    "start_time": "2024-06-05T12:37:35.937Z"
   },
   {
    "duration": 31,
    "start_time": "2024-06-05T12:37:36.864Z"
   },
   {
    "duration": 44,
    "start_time": "2024-06-05T12:37:36.899Z"
   },
   {
    "duration": 117,
    "start_time": "2024-06-05T12:37:36.946Z"
   },
   {
    "duration": 10,
    "start_time": "2024-06-05T12:37:37.066Z"
   },
   {
    "duration": 54,
    "start_time": "2024-06-05T12:37:37.080Z"
   },
   {
    "duration": 24,
    "start_time": "2024-06-05T12:37:37.137Z"
   },
   {
    "duration": 40,
    "start_time": "2024-06-05T12:37:37.164Z"
   },
   {
    "duration": 29,
    "start_time": "2024-06-05T12:37:37.209Z"
   },
   {
    "duration": 27,
    "start_time": "2024-06-05T12:37:37.242Z"
   },
   {
    "duration": 24,
    "start_time": "2024-06-05T12:37:37.272Z"
   },
   {
    "duration": 188,
    "start_time": "2024-06-05T12:37:37.299Z"
   },
   {
    "duration": 11,
    "start_time": "2024-06-05T12:37:37.490Z"
   },
   {
    "duration": 6,
    "start_time": "2024-06-05T12:37:37.504Z"
   },
   {
    "duration": 22,
    "start_time": "2024-06-05T12:37:37.534Z"
   },
   {
    "duration": 9,
    "start_time": "2024-06-05T12:37:37.559Z"
   },
   {
    "duration": 13,
    "start_time": "2024-06-05T12:37:37.571Z"
   },
   {
    "duration": 11,
    "start_time": "2024-06-05T12:37:37.632Z"
   },
   {
    "duration": 6,
    "start_time": "2024-06-05T12:37:37.649Z"
   },
   {
    "duration": 23,
    "start_time": "2024-06-05T12:37:37.658Z"
   },
   {
    "duration": 6,
    "start_time": "2024-06-05T12:37:37.684Z"
   },
   {
    "duration": 42,
    "start_time": "2024-06-05T12:37:37.692Z"
   },
   {
    "duration": 9,
    "start_time": "2024-06-05T12:37:37.737Z"
   },
   {
    "duration": 12,
    "start_time": "2024-06-05T12:37:37.748Z"
   },
   {
    "duration": 9,
    "start_time": "2024-06-05T12:37:37.763Z"
   },
   {
    "duration": 59,
    "start_time": "2024-06-05T12:37:37.775Z"
   },
   {
    "duration": 5,
    "start_time": "2024-06-05T12:37:37.841Z"
   },
   {
    "duration": 371,
    "start_time": "2024-06-05T12:37:37.850Z"
   },
   {
    "duration": 352,
    "start_time": "2024-06-05T12:37:38.224Z"
   },
   {
    "duration": 423,
    "start_time": "2024-06-05T12:37:38.579Z"
   },
   {
    "duration": 12,
    "start_time": "2024-06-05T12:37:39.005Z"
   },
   {
    "duration": 27,
    "start_time": "2024-06-05T12:37:39.019Z"
   },
   {
    "duration": 1183,
    "start_time": "2024-06-05T12:37:39.049Z"
   },
   {
    "duration": 20,
    "start_time": "2024-06-05T12:37:40.235Z"
   },
   {
    "duration": 13,
    "start_time": "2024-06-05T12:37:40.258Z"
   },
   {
    "duration": 226,
    "start_time": "2024-06-05T12:37:40.274Z"
   },
   {
    "duration": 13,
    "start_time": "2024-06-05T12:37:40.503Z"
   },
   {
    "duration": 186,
    "start_time": "2024-06-05T12:37:40.535Z"
   },
   {
    "duration": 18,
    "start_time": "2024-06-05T12:37:40.724Z"
   },
   {
    "duration": 242,
    "start_time": "2024-06-05T12:37:40.745Z"
   },
   {
    "duration": 8,
    "start_time": "2024-06-05T12:37:40.990Z"
   },
   {
    "duration": 64,
    "start_time": "2024-06-05T12:37:41.002Z"
   },
   {
    "duration": 5,
    "start_time": "2024-06-05T12:37:41.069Z"
   },
   {
    "duration": 8,
    "start_time": "2024-06-05T12:37:41.078Z"
   },
   {
    "duration": 1145,
    "start_time": "2024-06-05T12:37:41.089Z"
   },
   {
    "duration": 0,
    "start_time": "2024-06-05T12:37:42.238Z"
   },
   {
    "duration": 0,
    "start_time": "2024-06-05T12:37:42.241Z"
   },
   {
    "duration": 0,
    "start_time": "2024-06-05T12:37:42.243Z"
   },
   {
    "duration": 0,
    "start_time": "2024-06-05T12:37:42.246Z"
   },
   {
    "duration": 642,
    "start_time": "2024-06-05T12:40:26.092Z"
   },
   {
    "duration": 590,
    "start_time": "2024-06-05T12:40:47.944Z"
   },
   {
    "duration": 778,
    "start_time": "2024-06-05T12:55:31.819Z"
   },
   {
    "duration": 710,
    "start_time": "2024-06-05T12:55:57.650Z"
   },
   {
    "duration": 536,
    "start_time": "2024-06-05T13:03:52.417Z"
   },
   {
    "duration": 537,
    "start_time": "2024-06-05T13:05:51.412Z"
   },
   {
    "duration": 340,
    "start_time": "2024-06-05T13:40:01.436Z"
   },
   {
    "duration": 5096,
    "start_time": "2024-06-05T13:40:14.000Z"
   },
   {
    "duration": 1014,
    "start_time": "2024-06-05T13:40:19.099Z"
   },
   {
    "duration": 34,
    "start_time": "2024-06-05T13:40:20.116Z"
   },
   {
    "duration": 24,
    "start_time": "2024-06-05T13:40:20.155Z"
   },
   {
    "duration": 130,
    "start_time": "2024-06-05T13:40:20.183Z"
   },
   {
    "duration": 13,
    "start_time": "2024-06-05T13:40:20.316Z"
   },
   {
    "duration": 30,
    "start_time": "2024-06-05T13:40:20.332Z"
   },
   {
    "duration": 52,
    "start_time": "2024-06-05T13:40:20.365Z"
   },
   {
    "duration": 34,
    "start_time": "2024-06-05T13:40:20.420Z"
   },
   {
    "duration": 9,
    "start_time": "2024-06-05T13:40:20.457Z"
   },
   {
    "duration": 64,
    "start_time": "2024-06-05T13:40:20.470Z"
   },
   {
    "duration": 24,
    "start_time": "2024-06-05T13:40:20.538Z"
   },
   {
    "duration": 175,
    "start_time": "2024-06-05T13:40:20.564Z"
   },
   {
    "duration": 13,
    "start_time": "2024-06-05T13:40:20.747Z"
   },
   {
    "duration": 5,
    "start_time": "2024-06-05T13:40:20.763Z"
   },
   {
    "duration": 47,
    "start_time": "2024-06-05T13:40:20.771Z"
   },
   {
    "duration": 8,
    "start_time": "2024-06-05T13:40:20.821Z"
   },
   {
    "duration": 11,
    "start_time": "2024-06-05T13:40:20.832Z"
   },
   {
    "duration": 10,
    "start_time": "2024-06-05T13:40:20.846Z"
   },
   {
    "duration": 7,
    "start_time": "2024-06-05T13:40:20.859Z"
   },
   {
    "duration": 24,
    "start_time": "2024-06-05T13:40:20.914Z"
   },
   {
    "duration": 7,
    "start_time": "2024-06-05T13:40:20.942Z"
   },
   {
    "duration": 7,
    "start_time": "2024-06-05T13:40:20.953Z"
   },
   {
    "duration": 54,
    "start_time": "2024-06-05T13:40:20.963Z"
   },
   {
    "duration": 13,
    "start_time": "2024-06-05T13:40:21.021Z"
   },
   {
    "duration": 9,
    "start_time": "2024-06-05T13:40:21.037Z"
   },
   {
    "duration": 15,
    "start_time": "2024-06-05T13:40:21.049Z"
   },
   {
    "duration": 6,
    "start_time": "2024-06-05T13:40:21.114Z"
   },
   {
    "duration": 365,
    "start_time": "2024-06-05T13:40:21.123Z"
   },
   {
    "duration": 436,
    "start_time": "2024-06-05T13:40:21.491Z"
   },
   {
    "duration": 352,
    "start_time": "2024-06-05T13:40:21.930Z"
   },
   {
    "duration": 27,
    "start_time": "2024-06-05T13:40:22.285Z"
   },
   {
    "duration": 13,
    "start_time": "2024-06-05T13:40:22.316Z"
   },
   {
    "duration": 1209,
    "start_time": "2024-06-05T13:40:22.332Z"
   },
   {
    "duration": 23,
    "start_time": "2024-06-05T13:40:23.545Z"
   },
   {
    "duration": 44,
    "start_time": "2024-06-05T13:40:23.571Z"
   },
   {
    "duration": 413,
    "start_time": "2024-06-05T13:40:23.618Z"
   },
   {
    "duration": 13,
    "start_time": "2024-06-05T13:40:24.033Z"
   },
   {
    "duration": 244,
    "start_time": "2024-06-05T13:40:24.049Z"
   },
   {
    "duration": 29,
    "start_time": "2024-06-05T13:40:24.297Z"
   },
   {
    "duration": 262,
    "start_time": "2024-06-05T13:40:24.335Z"
   },
   {
    "duration": 15,
    "start_time": "2024-06-05T13:40:24.599Z"
   },
   {
    "duration": 44,
    "start_time": "2024-06-05T13:40:24.617Z"
   },
   {
    "duration": 5,
    "start_time": "2024-06-05T13:40:24.664Z"
   },
   {
    "duration": 42,
    "start_time": "2024-06-05T13:40:24.672Z"
   },
   {
    "duration": 599,
    "start_time": "2024-06-05T13:40:24.716Z"
   },
   {
    "duration": 6,
    "start_time": "2024-06-05T13:40:25.323Z"
   },
   {
    "duration": 42327,
    "start_time": "2024-06-05T13:40:25.411Z"
   },
   {
    "duration": 2835,
    "start_time": "2024-06-05T13:41:07.741Z"
   },
   {
    "duration": 13076,
    "start_time": "2024-06-05T13:41:10.580Z"
   },
   {
    "duration": 2364,
    "start_time": "2024-06-05T14:14:52.630Z"
   },
   {
    "duration": 7,
    "start_time": "2024-06-05T14:14:54.997Z"
   },
   {
    "duration": 4,
    "start_time": "2024-06-05T14:14:55.016Z"
   },
   {
    "duration": 42,
    "start_time": "2024-06-05T14:14:55.025Z"
   },
   {
    "duration": 518,
    "start_time": "2024-06-05T14:14:55.070Z"
   },
   {
    "duration": 0,
    "start_time": "2024-06-05T14:14:55.592Z"
   },
   {
    "duration": 0,
    "start_time": "2024-06-05T14:14:55.595Z"
   },
   {
    "duration": 0,
    "start_time": "2024-06-05T14:14:55.598Z"
   },
   {
    "duration": 0,
    "start_time": "2024-06-05T14:14:55.613Z"
   },
   {
    "duration": 0,
    "start_time": "2024-06-05T14:14:55.615Z"
   },
   {
    "duration": 0,
    "start_time": "2024-06-05T14:14:55.617Z"
   },
   {
    "duration": 0,
    "start_time": "2024-06-05T14:14:55.619Z"
   },
   {
    "duration": 794,
    "start_time": "2024-06-05T14:59:34.526Z"
   },
   {
    "duration": 6,
    "start_time": "2024-06-05T14:59:35.325Z"
   },
   {
    "duration": 39,
    "start_time": "2024-06-05T14:59:35.334Z"
   },
   {
    "duration": 5,
    "start_time": "2024-06-05T14:59:35.376Z"
   },
   {
    "duration": 24,
    "start_time": "2024-06-05T14:59:35.412Z"
   },
   {
    "duration": 0,
    "start_time": "2024-06-05T14:59:35.439Z"
   },
   {
    "duration": 0,
    "start_time": "2024-06-05T14:59:35.441Z"
   },
   {
    "duration": 0,
    "start_time": "2024-06-05T14:59:35.444Z"
   },
   {
    "duration": 0,
    "start_time": "2024-06-05T14:59:35.447Z"
   },
   {
    "duration": 0,
    "start_time": "2024-06-05T14:59:35.449Z"
   },
   {
    "duration": 0,
    "start_time": "2024-06-05T14:59:35.451Z"
   },
   {
    "duration": 6,
    "start_time": "2024-06-05T14:59:54.865Z"
   },
   {
    "duration": 1329,
    "start_time": "2024-06-05T14:59:54.876Z"
   },
   {
    "duration": 0,
    "start_time": "2024-06-05T14:59:56.213Z"
   },
   {
    "duration": 0,
    "start_time": "2024-06-05T14:59:56.215Z"
   },
   {
    "duration": 0,
    "start_time": "2024-06-05T14:59:56.226Z"
   },
   {
    "duration": 0,
    "start_time": "2024-06-05T14:59:56.227Z"
   },
   {
    "duration": 0,
    "start_time": "2024-06-05T14:59:56.229Z"
   },
   {
    "duration": 0,
    "start_time": "2024-06-05T14:59:56.231Z"
   },
   {
    "duration": 0,
    "start_time": "2024-06-05T14:59:56.233Z"
   },
   {
    "duration": 775,
    "start_time": "2024-06-05T15:01:18.897Z"
   },
   {
    "duration": 6,
    "start_time": "2024-06-05T15:01:19.676Z"
   },
   {
    "duration": 59,
    "start_time": "2024-06-05T15:01:19.686Z"
   },
   {
    "duration": 6,
    "start_time": "2024-06-05T15:01:19.748Z"
   },
   {
    "duration": 9,
    "start_time": "2024-06-05T15:01:19.760Z"
   },
   {
    "duration": 441,
    "start_time": "2024-06-05T15:01:19.772Z"
   },
   {
    "duration": 99,
    "start_time": "2024-06-05T15:01:20.217Z"
   },
   {
    "duration": 0,
    "start_time": "2024-06-05T15:01:20.319Z"
   },
   {
    "duration": 0,
    "start_time": "2024-06-05T15:01:20.321Z"
   },
   {
    "duration": 0,
    "start_time": "2024-06-05T15:01:20.324Z"
   },
   {
    "duration": 337,
    "start_time": "2024-06-05T15:01:42.835Z"
   },
   {
    "duration": 0,
    "start_time": "2024-06-05T15:01:43.175Z"
   },
   {
    "duration": 0,
    "start_time": "2024-06-05T15:01:43.177Z"
   },
   {
    "duration": 0,
    "start_time": "2024-06-05T15:01:43.178Z"
   },
   {
    "duration": 0,
    "start_time": "2024-06-05T15:01:43.180Z"
   },
   {
    "duration": 0,
    "start_time": "2024-06-05T15:01:43.182Z"
   },
   {
    "duration": 0,
    "start_time": "2024-06-05T15:01:43.184Z"
   },
   {
    "duration": 0,
    "start_time": "2024-06-05T15:01:43.187Z"
   },
   {
    "duration": 0,
    "start_time": "2024-06-05T15:01:43.189Z"
   },
   {
    "duration": 2266,
    "start_time": "2024-06-05T15:02:22.046Z"
   },
   {
    "duration": 8,
    "start_time": "2024-06-05T15:02:24.317Z"
   },
   {
    "duration": 48,
    "start_time": "2024-06-05T15:02:24.329Z"
   },
   {
    "duration": 5,
    "start_time": "2024-06-05T15:02:24.381Z"
   },
   {
    "duration": 9,
    "start_time": "2024-06-05T15:02:24.413Z"
   },
   {
    "duration": 403,
    "start_time": "2024-06-05T15:02:24.425Z"
   },
   {
    "duration": 619,
    "start_time": "2024-06-05T15:02:24.831Z"
   },
   {
    "duration": 0,
    "start_time": "2024-06-05T15:02:25.454Z"
   },
   {
    "duration": 0,
    "start_time": "2024-06-05T15:02:25.456Z"
   },
   {
    "duration": 0,
    "start_time": "2024-06-05T15:02:25.459Z"
   },
   {
    "duration": 2244,
    "start_time": "2024-06-05T15:10:36.673Z"
   },
   {
    "duration": 7,
    "start_time": "2024-06-05T15:10:38.921Z"
   },
   {
    "duration": 47,
    "start_time": "2024-06-05T15:10:38.931Z"
   },
   {
    "duration": 29,
    "start_time": "2024-06-05T15:10:38.983Z"
   },
   {
    "duration": 7,
    "start_time": "2024-06-05T15:10:39.017Z"
   },
   {
    "duration": 486,
    "start_time": "2024-06-05T15:10:39.027Z"
   },
   {
    "duration": 33753,
    "start_time": "2024-06-05T15:10:39.515Z"
   },
   {
    "duration": 4,
    "start_time": "2024-06-05T15:11:13.271Z"
   },
   {
    "duration": 2291,
    "start_time": "2024-06-05T15:11:13.281Z"
   },
   {
    "duration": 4,
    "start_time": "2024-06-05T15:11:15.576Z"
   },
   {
    "duration": 13304,
    "start_time": "2024-06-05T15:11:15.584Z"
   },
   {
    "duration": 2170,
    "start_time": "2024-06-05T15:33:11.662Z"
   },
   {
    "duration": 6,
    "start_time": "2024-06-05T15:33:13.835Z"
   },
   {
    "duration": 43,
    "start_time": "2024-06-05T15:33:13.845Z"
   },
   {
    "duration": 7,
    "start_time": "2024-06-05T15:33:13.912Z"
   },
   {
    "duration": 9,
    "start_time": "2024-06-05T15:33:13.924Z"
   },
   {
    "duration": 389,
    "start_time": "2024-06-05T15:33:13.938Z"
   },
   {
    "duration": 1442,
    "start_time": "2024-06-05T15:36:01.830Z"
   },
   {
    "duration": 822,
    "start_time": "2024-06-05T15:36:03.275Z"
   },
   {
    "duration": 40,
    "start_time": "2024-06-05T15:36:04.100Z"
   },
   {
    "duration": 102,
    "start_time": "2024-06-05T15:36:04.144Z"
   },
   {
    "duration": 117,
    "start_time": "2024-06-05T15:36:04.249Z"
   },
   {
    "duration": 10,
    "start_time": "2024-06-05T15:36:04.369Z"
   },
   {
    "duration": 47,
    "start_time": "2024-06-05T15:36:04.382Z"
   },
   {
    "duration": 18,
    "start_time": "2024-06-05T15:36:04.431Z"
   },
   {
    "duration": 59,
    "start_time": "2024-06-05T15:36:04.453Z"
   },
   {
    "duration": 9,
    "start_time": "2024-06-05T15:36:04.518Z"
   },
   {
    "duration": 30,
    "start_time": "2024-06-05T15:36:04.529Z"
   },
   {
    "duration": 59,
    "start_time": "2024-06-05T15:36:04.562Z"
   },
   {
    "duration": 164,
    "start_time": "2024-06-05T15:36:04.624Z"
   },
   {
    "duration": 24,
    "start_time": "2024-06-05T15:36:04.791Z"
   },
   {
    "duration": 5,
    "start_time": "2024-06-05T15:36:04.818Z"
   },
   {
    "duration": 18,
    "start_time": "2024-06-05T15:36:04.827Z"
   },
   {
    "duration": 10,
    "start_time": "2024-06-05T15:36:04.847Z"
   },
   {
    "duration": 56,
    "start_time": "2024-06-05T15:36:04.860Z"
   },
   {
    "duration": 12,
    "start_time": "2024-06-05T15:36:04.918Z"
   },
   {
    "duration": 7,
    "start_time": "2024-06-05T15:36:04.933Z"
   },
   {
    "duration": 25,
    "start_time": "2024-06-05T15:36:04.943Z"
   },
   {
    "duration": 45,
    "start_time": "2024-06-05T15:36:04.970Z"
   },
   {
    "duration": 6,
    "start_time": "2024-06-05T15:36:05.018Z"
   },
   {
    "duration": 9,
    "start_time": "2024-06-05T15:36:05.028Z"
   },
   {
    "duration": 13,
    "start_time": "2024-06-05T15:36:05.040Z"
   },
   {
    "duration": 57,
    "start_time": "2024-06-05T15:36:05.057Z"
   },
   {
    "duration": 13,
    "start_time": "2024-06-05T15:36:05.117Z"
   },
   {
    "duration": 5,
    "start_time": "2024-06-05T15:36:05.139Z"
   },
   {
    "duration": 380,
    "start_time": "2024-06-05T15:36:05.148Z"
   },
   {
    "duration": 369,
    "start_time": "2024-06-05T15:36:05.532Z"
   },
   {
    "duration": 348,
    "start_time": "2024-06-05T15:36:05.904Z"
   },
   {
    "duration": 13,
    "start_time": "2024-06-05T15:36:06.255Z"
   },
   {
    "duration": 41,
    "start_time": "2024-06-05T15:36:06.271Z"
   },
   {
    "duration": 1193,
    "start_time": "2024-06-05T15:36:06.315Z"
   },
   {
    "duration": 21,
    "start_time": "2024-06-05T15:36:07.512Z"
   },
   {
    "duration": 13,
    "start_time": "2024-06-05T15:36:07.536Z"
   },
   {
    "duration": 231,
    "start_time": "2024-06-05T15:36:07.551Z"
   },
   {
    "duration": 13,
    "start_time": "2024-06-05T15:36:07.785Z"
   },
   {
    "duration": 209,
    "start_time": "2024-06-05T15:36:07.813Z"
   },
   {
    "duration": 19,
    "start_time": "2024-06-05T15:36:08.028Z"
   },
   {
    "duration": 242,
    "start_time": "2024-06-05T15:36:08.050Z"
   },
   {
    "duration": 801,
    "start_time": "2024-06-05T15:36:08.296Z"
   },
   {
    "duration": 14,
    "start_time": "2024-06-05T15:36:09.099Z"
   },
   {
    "duration": 43,
    "start_time": "2024-06-05T15:36:09.120Z"
   },
   {
    "duration": 5,
    "start_time": "2024-06-05T15:36:09.166Z"
   },
   {
    "duration": 7,
    "start_time": "2024-06-05T15:36:09.174Z"
   },
   {
    "duration": 435,
    "start_time": "2024-06-05T15:36:09.184Z"
   },
   {
    "duration": 1445,
    "start_time": "2024-06-05T15:36:24.173Z"
   },
   {
    "duration": 808,
    "start_time": "2024-06-05T15:36:25.622Z"
   },
   {
    "duration": 40,
    "start_time": "2024-06-05T15:36:26.433Z"
   },
   {
    "duration": 109,
    "start_time": "2024-06-05T15:36:26.477Z"
   },
   {
    "duration": 115,
    "start_time": "2024-06-05T15:36:26.591Z"
   },
   {
    "duration": 12,
    "start_time": "2024-06-05T15:36:26.713Z"
   },
   {
    "duration": 27,
    "start_time": "2024-06-05T15:36:26.728Z"
   },
   {
    "duration": 54,
    "start_time": "2024-06-05T15:36:26.758Z"
   },
   {
    "duration": 32,
    "start_time": "2024-06-05T15:36:26.816Z"
   },
   {
    "duration": 9,
    "start_time": "2024-06-05T15:36:26.851Z"
   },
   {
    "duration": 61,
    "start_time": "2024-06-05T15:36:26.863Z"
   },
   {
    "duration": 24,
    "start_time": "2024-06-05T15:36:26.927Z"
   },
   {
    "duration": 168,
    "start_time": "2024-06-05T15:36:26.954Z"
   },
   {
    "duration": 11,
    "start_time": "2024-06-05T15:36:27.128Z"
   },
   {
    "duration": 5,
    "start_time": "2024-06-05T15:36:27.142Z"
   },
   {
    "duration": 19,
    "start_time": "2024-06-05T15:36:27.150Z"
   },
   {
    "duration": 46,
    "start_time": "2024-06-05T15:36:27.172Z"
   },
   {
    "duration": 13,
    "start_time": "2024-06-05T15:36:27.220Z"
   },
   {
    "duration": 11,
    "start_time": "2024-06-05T15:36:27.236Z"
   },
   {
    "duration": 9,
    "start_time": "2024-06-05T15:36:27.250Z"
   },
   {
    "duration": 67,
    "start_time": "2024-06-05T15:36:27.262Z"
   },
   {
    "duration": 6,
    "start_time": "2024-06-05T15:36:27.332Z"
   },
   {
    "duration": 8,
    "start_time": "2024-06-05T15:36:27.341Z"
   },
   {
    "duration": 11,
    "start_time": "2024-06-05T15:36:27.353Z"
   },
   {
    "duration": 54,
    "start_time": "2024-06-05T15:36:27.367Z"
   },
   {
    "duration": 10,
    "start_time": "2024-06-05T15:36:27.424Z"
   },
   {
    "duration": 12,
    "start_time": "2024-06-05T15:36:27.437Z"
   },
   {
    "duration": 6,
    "start_time": "2024-06-05T15:36:27.452Z"
   },
   {
    "duration": 411,
    "start_time": "2024-06-05T15:36:27.461Z"
   },
   {
    "duration": 364,
    "start_time": "2024-06-05T15:36:27.876Z"
   },
   {
    "duration": 353,
    "start_time": "2024-06-05T15:36:28.243Z"
   },
   {
    "duration": 23,
    "start_time": "2024-06-05T15:36:28.599Z"
   },
   {
    "duration": 15,
    "start_time": "2024-06-05T15:36:28.625Z"
   },
   {
    "duration": 1204,
    "start_time": "2024-06-05T15:36:28.644Z"
   },
   {
    "duration": 22,
    "start_time": "2024-06-05T15:36:29.852Z"
   },
   {
    "duration": 37,
    "start_time": "2024-06-05T15:36:29.877Z"
   },
   {
    "duration": 225,
    "start_time": "2024-06-05T15:36:29.916Z"
   },
   {
    "duration": 13,
    "start_time": "2024-06-05T15:36:30.145Z"
   },
   {
    "duration": 210,
    "start_time": "2024-06-05T15:36:30.162Z"
   },
   {
    "duration": 14,
    "start_time": "2024-06-05T15:36:30.375Z"
   },
   {
    "duration": 254,
    "start_time": "2024-06-05T15:36:30.415Z"
   },
   {
    "duration": 4,
    "start_time": "2024-06-05T15:36:30.672Z"
   },
   {
    "duration": 5,
    "start_time": "2024-06-05T15:36:30.680Z"
   },
   {
    "duration": 47,
    "start_time": "2024-06-05T15:36:30.714Z"
   },
   {
    "duration": 6,
    "start_time": "2024-06-05T15:36:30.764Z"
   },
   {
    "duration": 552,
    "start_time": "2024-06-05T15:36:30.773Z"
   },
   {
    "duration": 0,
    "start_time": "2024-06-05T15:36:31.330Z"
   },
   {
    "duration": 0,
    "start_time": "2024-06-05T15:36:31.332Z"
   },
   {
    "duration": 0,
    "start_time": "2024-06-05T15:36:31.334Z"
   },
   {
    "duration": 0,
    "start_time": "2024-06-05T15:36:31.337Z"
   },
   {
    "duration": 0,
    "start_time": "2024-06-05T15:36:31.339Z"
   },
   {
    "duration": 1424,
    "start_time": "2024-06-05T15:36:47.178Z"
   },
   {
    "duration": 789,
    "start_time": "2024-06-05T15:36:48.606Z"
   },
   {
    "duration": 41,
    "start_time": "2024-06-05T15:36:49.399Z"
   },
   {
    "duration": 99,
    "start_time": "2024-06-05T15:36:49.445Z"
   },
   {
    "duration": 116,
    "start_time": "2024-06-05T15:36:49.547Z"
   },
   {
    "duration": 11,
    "start_time": "2024-06-05T15:36:49.666Z"
   },
   {
    "duration": 50,
    "start_time": "2024-06-05T15:36:49.679Z"
   },
   {
    "duration": 19,
    "start_time": "2024-06-05T15:36:49.733Z"
   },
   {
    "duration": 62,
    "start_time": "2024-06-05T15:36:49.756Z"
   },
   {
    "duration": 9,
    "start_time": "2024-06-05T15:36:49.823Z"
   },
   {
    "duration": 30,
    "start_time": "2024-06-05T15:36:49.835Z"
   },
   {
    "duration": 62,
    "start_time": "2024-06-05T15:36:49.867Z"
   },
   {
    "duration": 169,
    "start_time": "2024-06-05T15:36:49.933Z"
   },
   {
    "duration": 11,
    "start_time": "2024-06-05T15:36:50.111Z"
   },
   {
    "duration": 4,
    "start_time": "2024-06-05T15:36:50.127Z"
   },
   {
    "duration": 19,
    "start_time": "2024-06-05T15:36:50.134Z"
   },
   {
    "duration": 10,
    "start_time": "2024-06-05T15:36:50.155Z"
   },
   {
    "duration": 52,
    "start_time": "2024-06-05T15:36:50.168Z"
   },
   {
    "duration": 13,
    "start_time": "2024-06-05T15:36:50.222Z"
   },
   {
    "duration": 8,
    "start_time": "2024-06-05T15:36:50.238Z"
   },
   {
    "duration": 64,
    "start_time": "2024-06-05T15:36:50.249Z"
   },
   {
    "duration": 9,
    "start_time": "2024-06-05T15:36:50.316Z"
   },
   {
    "duration": 10,
    "start_time": "2024-06-05T15:36:50.328Z"
   },
   {
    "duration": 9,
    "start_time": "2024-06-05T15:36:50.341Z"
   },
   {
    "duration": 17,
    "start_time": "2024-06-05T15:36:50.354Z"
   },
   {
    "duration": 11,
    "start_time": "2024-06-05T15:36:50.417Z"
   },
   {
    "duration": 13,
    "start_time": "2024-06-05T15:36:50.431Z"
   },
   {
    "duration": 5,
    "start_time": "2024-06-05T15:36:50.453Z"
   },
   {
    "duration": 412,
    "start_time": "2024-06-05T15:36:50.461Z"
   },
   {
    "duration": 384,
    "start_time": "2024-06-05T15:36:50.876Z"
   },
   {
    "duration": 386,
    "start_time": "2024-06-05T15:36:51.263Z"
   },
   {
    "duration": 11,
    "start_time": "2024-06-05T15:36:51.652Z"
   },
   {
    "duration": 12,
    "start_time": "2024-06-05T15:36:51.667Z"
   },
   {
    "duration": 1142,
    "start_time": "2024-06-05T15:36:51.711Z"
   },
   {
    "duration": 23,
    "start_time": "2024-06-05T15:36:52.856Z"
   },
   {
    "duration": 32,
    "start_time": "2024-06-05T15:36:52.883Z"
   },
   {
    "duration": 236,
    "start_time": "2024-06-05T15:36:52.918Z"
   },
   {
    "duration": 14,
    "start_time": "2024-06-05T15:36:53.157Z"
   },
   {
    "duration": 225,
    "start_time": "2024-06-05T15:36:53.174Z"
   },
   {
    "duration": 40,
    "start_time": "2024-06-05T15:36:53.402Z"
   },
   {
    "duration": 310,
    "start_time": "2024-06-05T15:36:53.445Z"
   },
   {
    "duration": 4,
    "start_time": "2024-06-05T15:36:53.759Z"
   },
   {
    "duration": 17,
    "start_time": "2024-06-05T15:36:53.767Z"
   },
   {
    "duration": 68,
    "start_time": "2024-06-05T15:36:53.787Z"
   },
   {
    "duration": 11,
    "start_time": "2024-06-05T15:36:53.858Z"
   },
   {
    "duration": 6,
    "start_time": "2024-06-05T15:36:53.872Z"
   },
   {
    "duration": 534,
    "start_time": "2024-06-05T15:36:53.882Z"
   },
   {
    "duration": 0,
    "start_time": "2024-06-05T15:36:54.419Z"
   },
   {
    "duration": 0,
    "start_time": "2024-06-05T15:36:54.422Z"
   },
   {
    "duration": 0,
    "start_time": "2024-06-05T15:36:54.424Z"
   },
   {
    "duration": 0,
    "start_time": "2024-06-05T15:36:54.426Z"
   },
   {
    "duration": 1414,
    "start_time": "2024-06-05T15:37:33.263Z"
   },
   {
    "duration": 798,
    "start_time": "2024-06-05T15:37:34.681Z"
   },
   {
    "duration": 50,
    "start_time": "2024-06-05T15:37:35.482Z"
   },
   {
    "duration": 103,
    "start_time": "2024-06-05T15:37:35.537Z"
   },
   {
    "duration": 113,
    "start_time": "2024-06-05T15:37:35.642Z"
   },
   {
    "duration": 10,
    "start_time": "2024-06-05T15:37:35.759Z"
   },
   {
    "duration": 47,
    "start_time": "2024-06-05T15:37:35.773Z"
   },
   {
    "duration": 20,
    "start_time": "2024-06-05T15:37:35.823Z"
   },
   {
    "duration": 32,
    "start_time": "2024-06-05T15:37:35.846Z"
   },
   {
    "duration": 37,
    "start_time": "2024-06-05T15:37:35.883Z"
   },
   {
    "duration": 33,
    "start_time": "2024-06-05T15:37:35.923Z"
   },
   {
    "duration": 60,
    "start_time": "2024-06-05T15:37:35.959Z"
   },
   {
    "duration": 154,
    "start_time": "2024-06-05T15:37:36.023Z"
   },
   {
    "duration": 11,
    "start_time": "2024-06-05T15:37:36.181Z"
   },
   {
    "duration": 5,
    "start_time": "2024-06-05T15:37:36.212Z"
   },
   {
    "duration": 19,
    "start_time": "2024-06-05T15:37:36.220Z"
   },
   {
    "duration": 8,
    "start_time": "2024-06-05T15:37:36.242Z"
   },
   {
    "duration": 13,
    "start_time": "2024-06-05T15:37:36.253Z"
   },
   {
    "duration": 10,
    "start_time": "2024-06-05T15:37:36.313Z"
   },
   {
    "duration": 8,
    "start_time": "2024-06-05T15:37:36.326Z"
   },
   {
    "duration": 28,
    "start_time": "2024-06-05T15:37:36.338Z"
   },
   {
    "duration": 46,
    "start_time": "2024-06-05T15:37:36.369Z"
   },
   {
    "duration": 6,
    "start_time": "2024-06-05T15:37:36.417Z"
   },
   {
    "duration": 8,
    "start_time": "2024-06-05T15:37:36.427Z"
   },
   {
    "duration": 14,
    "start_time": "2024-06-05T15:37:36.437Z"
   },
   {
    "duration": 9,
    "start_time": "2024-06-05T15:37:36.453Z"
   },
   {
    "duration": 13,
    "start_time": "2024-06-05T15:37:36.513Z"
   },
   {
    "duration": 5,
    "start_time": "2024-06-05T15:37:36.536Z"
   },
   {
    "duration": 383,
    "start_time": "2024-06-05T15:37:36.544Z"
   },
   {
    "duration": 356,
    "start_time": "2024-06-05T15:37:36.931Z"
   },
   {
    "duration": 340,
    "start_time": "2024-06-05T15:37:37.290Z"
   },
   {
    "duration": 16,
    "start_time": "2024-06-05T15:37:37.633Z"
   },
   {
    "duration": 13,
    "start_time": "2024-06-05T15:37:37.652Z"
   },
   {
    "duration": 1205,
    "start_time": "2024-06-05T15:37:37.668Z"
   },
   {
    "duration": 35,
    "start_time": "2024-06-05T15:37:38.877Z"
   },
   {
    "duration": 14,
    "start_time": "2024-06-05T15:37:38.915Z"
   },
   {
    "duration": 226,
    "start_time": "2024-06-05T15:37:38.932Z"
   },
   {
    "duration": 13,
    "start_time": "2024-06-05T15:37:39.162Z"
   },
   {
    "duration": 206,
    "start_time": "2024-06-05T15:37:39.178Z"
   },
   {
    "duration": 24,
    "start_time": "2024-06-05T15:37:39.388Z"
   },
   {
    "duration": 238,
    "start_time": "2024-06-05T15:37:39.415Z"
   },
   {
    "duration": 5,
    "start_time": "2024-06-05T15:37:39.655Z"
   },
   {
    "duration": 7,
    "start_time": "2024-06-05T15:37:39.663Z"
   },
   {
    "duration": 72,
    "start_time": "2024-06-05T15:37:39.674Z"
   },
   {
    "duration": 5,
    "start_time": "2024-06-05T15:37:39.751Z"
   },
   {
    "duration": 4,
    "start_time": "2024-06-05T15:37:39.759Z"
   },
   {
    "duration": 366,
    "start_time": "2024-06-05T15:37:39.766Z"
   },
   {
    "duration": 33372,
    "start_time": "2024-06-05T15:37:40.134Z"
   },
   {
    "duration": 2280,
    "start_time": "2024-06-05T15:38:13.517Z"
   },
   {
    "duration": 536,
    "start_time": "2024-06-05T15:38:15.800Z"
   },
   {
    "duration": 0,
    "start_time": "2024-06-05T15:38:16.340Z"
   },
   {
    "duration": 233,
    "start_time": "2024-06-05T15:38:39.699Z"
   },
   {
    "duration": 61,
    "start_time": "2024-06-05T15:39:21.099Z"
   },
   {
    "duration": 3319,
    "start_time": "2024-06-05T15:42:33.416Z"
   },
   {
    "duration": 6,
    "start_time": "2024-06-05T15:47:09.047Z"
   },
   {
    "duration": 7,
    "start_time": "2024-06-05T15:47:48.068Z"
   },
   {
    "duration": 1496,
    "start_time": "2024-06-05T15:48:12.306Z"
   },
   {
    "duration": 852,
    "start_time": "2024-06-05T15:48:13.807Z"
   },
   {
    "duration": 33,
    "start_time": "2024-06-05T15:48:14.662Z"
   },
   {
    "duration": 83,
    "start_time": "2024-06-05T15:48:14.713Z"
   },
   {
    "duration": 127,
    "start_time": "2024-06-05T15:48:14.801Z"
   },
   {
    "duration": 10,
    "start_time": "2024-06-05T15:48:14.932Z"
   },
   {
    "duration": 31,
    "start_time": "2024-06-05T15:48:14.945Z"
   },
   {
    "duration": 18,
    "start_time": "2024-06-05T15:48:15.011Z"
   },
   {
    "duration": 32,
    "start_time": "2024-06-05T15:48:15.032Z"
   },
   {
    "duration": 9,
    "start_time": "2024-06-05T15:48:15.067Z"
   },
   {
    "duration": 63,
    "start_time": "2024-06-05T15:48:15.078Z"
   },
   {
    "duration": 29,
    "start_time": "2024-06-05T15:48:15.144Z"
   },
   {
    "duration": 178,
    "start_time": "2024-06-05T15:48:15.176Z"
   },
   {
    "duration": 11,
    "start_time": "2024-06-05T15:48:15.363Z"
   },
   {
    "duration": 5,
    "start_time": "2024-06-05T15:48:15.377Z"
   },
   {
    "duration": 19,
    "start_time": "2024-06-05T15:48:15.412Z"
   },
   {
    "duration": 8,
    "start_time": "2024-06-05T15:48:15.434Z"
   },
   {
    "duration": 13,
    "start_time": "2024-06-05T15:48:15.446Z"
   },
   {
    "duration": 55,
    "start_time": "2024-06-05T15:48:15.464Z"
   },
   {
    "duration": 7,
    "start_time": "2024-06-05T15:48:15.522Z"
   },
   {
    "duration": 29,
    "start_time": "2024-06-05T15:48:15.532Z"
   },
   {
    "duration": 47,
    "start_time": "2024-06-05T15:48:15.565Z"
   },
   {
    "duration": 5,
    "start_time": "2024-06-05T15:48:15.616Z"
   },
   {
    "duration": 11,
    "start_time": "2024-06-05T15:48:15.625Z"
   },
   {
    "duration": 13,
    "start_time": "2024-06-05T15:48:15.640Z"
   },
   {
    "duration": 58,
    "start_time": "2024-06-05T15:48:15.656Z"
   },
   {
    "duration": 14,
    "start_time": "2024-06-05T15:48:15.717Z"
   },
   {
    "duration": 6,
    "start_time": "2024-06-05T15:48:15.734Z"
   },
   {
    "duration": 402,
    "start_time": "2024-06-05T15:48:15.745Z"
   },
   {
    "duration": 368,
    "start_time": "2024-06-05T15:48:16.150Z"
   },
   {
    "duration": 354,
    "start_time": "2024-06-05T15:48:16.521Z"
   },
   {
    "duration": 11,
    "start_time": "2024-06-05T15:48:16.878Z"
   },
   {
    "duration": 29,
    "start_time": "2024-06-05T15:48:16.892Z"
   },
   {
    "duration": 1126,
    "start_time": "2024-06-05T15:48:16.923Z"
   },
   {
    "duration": 21,
    "start_time": "2024-06-05T15:48:18.052Z"
   },
   {
    "duration": 36,
    "start_time": "2024-06-05T15:48:18.076Z"
   },
   {
    "duration": 222,
    "start_time": "2024-06-05T15:48:18.115Z"
   },
   {
    "duration": 14,
    "start_time": "2024-06-05T15:48:18.342Z"
   },
   {
    "duration": 203,
    "start_time": "2024-06-05T15:48:18.360Z"
   },
   {
    "duration": 14,
    "start_time": "2024-06-05T15:48:18.567Z"
   },
   {
    "duration": 232,
    "start_time": "2024-06-05T15:48:18.612Z"
   },
   {
    "duration": 5,
    "start_time": "2024-06-05T15:48:18.847Z"
   },
   {
    "duration": 6,
    "start_time": "2024-06-05T15:48:18.855Z"
   },
   {
    "duration": 74,
    "start_time": "2024-06-05T15:48:18.865Z"
   },
   {
    "duration": 6,
    "start_time": "2024-06-05T15:48:18.943Z"
   },
   {
    "duration": 381,
    "start_time": "2024-06-05T15:48:18.952Z"
   },
   {
    "duration": 33399,
    "start_time": "2024-06-05T15:48:19.413Z"
   },
   {
    "duration": 2283,
    "start_time": "2024-06-05T15:48:52.815Z"
   },
   {
    "duration": 3328,
    "start_time": "2024-06-05T15:48:55.102Z"
   },
   {
    "duration": 7,
    "start_time": "2024-06-05T15:48:58.432Z"
   },
   {
    "duration": 3457,
    "start_time": "2024-06-05T17:03:29.601Z"
   },
   {
    "duration": 2408,
    "start_time": "2024-06-05T17:04:07.111Z"
   },
   {
    "duration": 1429,
    "start_time": "2024-06-05T17:04:46.542Z"
   },
   {
    "duration": 833,
    "start_time": "2024-06-05T17:04:47.974Z"
   },
   {
    "duration": 32,
    "start_time": "2024-06-05T17:04:48.812Z"
   },
   {
    "duration": 105,
    "start_time": "2024-06-05T17:04:48.847Z"
   },
   {
    "duration": 120,
    "start_time": "2024-06-05T17:04:48.959Z"
   },
   {
    "duration": 11,
    "start_time": "2024-06-05T17:04:49.082Z"
   },
   {
    "duration": 29,
    "start_time": "2024-06-05T17:04:49.112Z"
   },
   {
    "duration": 20,
    "start_time": "2024-06-05T17:04:49.144Z"
   },
   {
    "duration": 66,
    "start_time": "2024-06-05T17:04:49.166Z"
   },
   {
    "duration": 8,
    "start_time": "2024-06-05T17:04:49.235Z"
   },
   {
    "duration": 28,
    "start_time": "2024-06-05T17:04:49.247Z"
   },
   {
    "duration": 54,
    "start_time": "2024-06-05T17:04:49.278Z"
   },
   {
    "duration": 170,
    "start_time": "2024-06-05T17:04:49.336Z"
   },
   {
    "duration": 10,
    "start_time": "2024-06-05T17:04:49.516Z"
   },
   {
    "duration": 6,
    "start_time": "2024-06-05T17:04:49.529Z"
   },
   {
    "duration": 19,
    "start_time": "2024-06-05T17:04:49.539Z"
   },
   {
    "duration": 53,
    "start_time": "2024-06-05T17:04:49.561Z"
   },
   {
    "duration": 14,
    "start_time": "2024-06-05T17:04:49.620Z"
   },
   {
    "duration": 10,
    "start_time": "2024-06-05T17:04:49.637Z"
   },
   {
    "duration": 7,
    "start_time": "2024-06-05T17:04:49.650Z"
   },
   {
    "duration": 62,
    "start_time": "2024-06-05T17:04:49.659Z"
   },
   {
    "duration": 6,
    "start_time": "2024-06-05T17:04:49.725Z"
   },
   {
    "duration": 9,
    "start_time": "2024-06-05T17:04:49.734Z"
   },
   {
    "duration": 11,
    "start_time": "2024-06-05T17:04:49.748Z"
   },
   {
    "duration": 12,
    "start_time": "2024-06-05T17:04:49.812Z"
   },
   {
    "duration": 9,
    "start_time": "2024-06-05T17:04:49.827Z"
   },
   {
    "duration": 14,
    "start_time": "2024-06-05T17:04:49.839Z"
   },
   {
    "duration": 6,
    "start_time": "2024-06-05T17:04:49.856Z"
   },
   {
    "duration": 358,
    "start_time": "2024-06-05T17:04:49.913Z"
   },
   {
    "duration": 365,
    "start_time": "2024-06-05T17:04:50.274Z"
   },
   {
    "duration": 386,
    "start_time": "2024-06-05T17:04:50.642Z"
   },
   {
    "duration": 12,
    "start_time": "2024-06-05T17:04:51.031Z"
   },
   {
    "duration": 11,
    "start_time": "2024-06-05T17:04:51.046Z"
   },
   {
    "duration": 1245,
    "start_time": "2024-06-05T17:04:51.060Z"
   },
   {
    "duration": 22,
    "start_time": "2024-06-05T17:04:52.311Z"
   },
   {
    "duration": 14,
    "start_time": "2024-06-05T17:04:52.337Z"
   },
   {
    "duration": 240,
    "start_time": "2024-06-05T17:04:52.354Z"
   },
   {
    "duration": 18,
    "start_time": "2024-06-05T17:04:52.596Z"
   },
   {
    "duration": 201,
    "start_time": "2024-06-05T17:04:52.618Z"
   },
   {
    "duration": 17,
    "start_time": "2024-06-05T17:04:52.822Z"
   },
   {
    "duration": 271,
    "start_time": "2024-06-05T17:04:52.850Z"
   },
   {
    "duration": 7,
    "start_time": "2024-06-05T17:04:53.125Z"
   },
   {
    "duration": 47,
    "start_time": "2024-06-05T17:04:53.136Z"
   },
   {
    "duration": 30,
    "start_time": "2024-06-05T17:04:53.186Z"
   },
   {
    "duration": 405,
    "start_time": "2024-06-05T17:04:53.220Z"
   },
   {
    "duration": 33965,
    "start_time": "2024-06-05T17:04:53.629Z"
   },
   {
    "duration": 2271,
    "start_time": "2024-06-05T17:05:27.597Z"
   },
   {
    "duration": 3324,
    "start_time": "2024-06-05T17:05:29.874Z"
   },
   {
    "duration": 19,
    "start_time": "2024-06-05T17:05:33.201Z"
   },
   {
    "duration": 1427,
    "start_time": "2024-06-05T17:16:15.892Z"
   },
   {
    "duration": 1081,
    "start_time": "2024-06-05T17:16:17.323Z"
   },
   {
    "duration": 33,
    "start_time": "2024-06-05T17:16:18.407Z"
   },
   {
    "duration": 105,
    "start_time": "2024-06-05T17:16:18.443Z"
   },
   {
    "duration": 120,
    "start_time": "2024-06-05T17:16:18.553Z"
   },
   {
    "duration": 10,
    "start_time": "2024-06-05T17:16:18.676Z"
   },
   {
    "duration": 44,
    "start_time": "2024-06-05T17:16:18.692Z"
   },
   {
    "duration": 19,
    "start_time": "2024-06-05T17:16:18.740Z"
   },
   {
    "duration": 66,
    "start_time": "2024-06-05T17:16:18.762Z"
   },
   {
    "duration": 9,
    "start_time": "2024-06-05T17:16:18.831Z"
   },
   {
    "duration": 28,
    "start_time": "2024-06-05T17:16:18.843Z"
   },
   {
    "duration": 57,
    "start_time": "2024-06-05T17:16:18.874Z"
   },
   {
    "duration": 163,
    "start_time": "2024-06-05T17:16:18.934Z"
   },
   {
    "duration": 11,
    "start_time": "2024-06-05T17:16:19.111Z"
   },
   {
    "duration": 4,
    "start_time": "2024-06-05T17:16:19.128Z"
   },
   {
    "duration": 26,
    "start_time": "2024-06-05T17:16:19.136Z"
   },
   {
    "duration": 46,
    "start_time": "2024-06-05T17:16:19.166Z"
   },
   {
    "duration": 12,
    "start_time": "2024-06-05T17:16:19.215Z"
   },
   {
    "duration": 11,
    "start_time": "2024-06-05T17:16:19.231Z"
   },
   {
    "duration": 8,
    "start_time": "2024-06-05T17:16:19.245Z"
   },
   {
    "duration": 65,
    "start_time": "2024-06-05T17:16:19.256Z"
   },
   {
    "duration": 9,
    "start_time": "2024-06-05T17:16:19.324Z"
   },
   {
    "duration": 8,
    "start_time": "2024-06-05T17:16:19.336Z"
   },
   {
    "duration": 17,
    "start_time": "2024-06-05T17:16:19.347Z"
   },
   {
    "duration": 55,
    "start_time": "2024-06-05T17:16:19.367Z"
   },
   {
    "duration": 10,
    "start_time": "2024-06-05T17:16:19.425Z"
   },
   {
    "duration": 12,
    "start_time": "2024-06-05T17:16:19.437Z"
   },
   {
    "duration": 5,
    "start_time": "2024-06-05T17:16:19.455Z"
   },
   {
    "duration": 426,
    "start_time": "2024-06-05T17:16:19.464Z"
   },
   {
    "duration": 371,
    "start_time": "2024-06-05T17:16:19.893Z"
   },
   {
    "duration": 348,
    "start_time": "2024-06-05T17:16:20.267Z"
   },
   {
    "duration": 12,
    "start_time": "2024-06-05T17:16:20.619Z"
   },
   {
    "duration": 11,
    "start_time": "2024-06-05T17:16:20.634Z"
   },
   {
    "duration": 1195,
    "start_time": "2024-06-05T17:16:20.648Z"
   },
   {
    "duration": 23,
    "start_time": "2024-06-05T17:16:21.846Z"
   },
   {
    "duration": 15,
    "start_time": "2024-06-05T17:16:21.873Z"
   },
   {
    "duration": 219,
    "start_time": "2024-06-05T17:16:21.915Z"
   },
   {
    "duration": 13,
    "start_time": "2024-06-05T17:16:22.136Z"
   },
   {
    "duration": 208,
    "start_time": "2024-06-05T17:16:22.153Z"
   },
   {
    "duration": 13,
    "start_time": "2024-06-05T17:16:22.364Z"
   },
   {
    "duration": 250,
    "start_time": "2024-06-05T17:16:22.386Z"
   },
   {
    "duration": 6,
    "start_time": "2024-06-05T17:16:22.640Z"
   },
   {
    "duration": 64,
    "start_time": "2024-06-05T17:16:22.648Z"
   },
   {
    "duration": 5,
    "start_time": "2024-06-05T17:16:22.715Z"
   },
   {
    "duration": 404,
    "start_time": "2024-06-05T17:16:22.724Z"
   },
   {
    "duration": 33436,
    "start_time": "2024-06-05T17:16:23.131Z"
   },
   {
    "duration": 2261,
    "start_time": "2024-06-05T17:16:56.572Z"
   },
   {
    "duration": 3339,
    "start_time": "2024-06-05T17:16:58.836Z"
   },
   {
    "duration": 7,
    "start_time": "2024-06-05T17:17:02.178Z"
   },
   {
    "duration": 2237,
    "start_time": "2024-06-05T22:09:21.864Z"
   },
   {
    "duration": 6,
    "start_time": "2024-06-05T22:09:24.105Z"
   },
   {
    "duration": 44,
    "start_time": "2024-06-05T22:09:24.116Z"
   },
   {
    "duration": 5,
    "start_time": "2024-06-05T22:09:24.164Z"
   },
   {
    "duration": 436,
    "start_time": "2024-06-05T22:09:24.173Z"
   },
   {
    "duration": 34697,
    "start_time": "2024-06-05T22:09:24.612Z"
   },
   {
    "duration": 2325,
    "start_time": "2024-06-05T22:09:59.312Z"
   },
   {
    "duration": 3415,
    "start_time": "2024-06-05T22:10:01.640Z"
   },
   {
    "duration": 7,
    "start_time": "2024-06-05T22:10:05.058Z"
   },
   {
    "duration": 805,
    "start_time": "2024-06-05T22:21:42.614Z"
   },
   {
    "duration": 8,
    "start_time": "2024-06-05T22:21:43.422Z"
   },
   {
    "duration": 41,
    "start_time": "2024-06-05T22:21:44.084Z"
   },
   {
    "duration": 6,
    "start_time": "2024-06-05T22:26:10.762Z"
   },
   {
    "duration": 1800,
    "start_time": "2024-06-05T22:26:11.151Z"
   },
   {
    "duration": 2225,
    "start_time": "2024-06-05T22:27:44.704Z"
   },
   {
    "duration": 7,
    "start_time": "2024-06-05T22:27:46.932Z"
   },
   {
    "duration": 65,
    "start_time": "2024-06-05T22:27:46.942Z"
   },
   {
    "duration": 5,
    "start_time": "2024-06-05T22:27:47.012Z"
   },
   {
    "duration": 390,
    "start_time": "2024-06-05T22:27:47.020Z"
   },
   {
    "duration": 33537,
    "start_time": "2024-06-05T22:27:47.413Z"
   },
   {
    "duration": 2273,
    "start_time": "2024-06-05T22:28:20.953Z"
   },
   {
    "duration": 3528,
    "start_time": "2024-06-05T22:28:23.229Z"
   },
   {
    "duration": 8,
    "start_time": "2024-06-05T22:28:26.762Z"
   },
   {
    "duration": 1505,
    "start_time": "2024-06-05T22:36:41.112Z"
   },
   {
    "duration": 788,
    "start_time": "2024-06-05T22:36:42.625Z"
   },
   {
    "duration": 33,
    "start_time": "2024-06-05T22:36:43.420Z"
   },
   {
    "duration": 107,
    "start_time": "2024-06-05T22:36:43.456Z"
   },
   {
    "duration": 119,
    "start_time": "2024-06-05T22:36:43.566Z"
   },
   {
    "duration": 21,
    "start_time": "2024-06-05T22:36:43.688Z"
   },
   {
    "duration": 31,
    "start_time": "2024-06-05T22:36:43.713Z"
   },
   {
    "duration": 54,
    "start_time": "2024-06-05T22:36:43.747Z"
   },
   {
    "duration": 33,
    "start_time": "2024-06-05T22:36:43.807Z"
   },
   {
    "duration": 9,
    "start_time": "2024-06-05T22:36:43.843Z"
   },
   {
    "duration": 60,
    "start_time": "2024-06-05T22:36:43.854Z"
   },
   {
    "duration": 24,
    "start_time": "2024-06-05T22:36:43.917Z"
   },
   {
    "duration": 169,
    "start_time": "2024-06-05T22:36:43.944Z"
   },
   {
    "duration": 11,
    "start_time": "2024-06-05T22:36:44.117Z"
   },
   {
    "duration": 5,
    "start_time": "2024-06-05T22:36:44.130Z"
   },
   {
    "duration": 18,
    "start_time": "2024-06-05T22:36:44.139Z"
   },
   {
    "duration": 45,
    "start_time": "2024-06-05T22:36:44.159Z"
   },
   {
    "duration": 12,
    "start_time": "2024-06-05T22:36:44.207Z"
   },
   {
    "duration": 10,
    "start_time": "2024-06-05T22:36:44.222Z"
   },
   {
    "duration": 7,
    "start_time": "2024-06-05T22:36:44.235Z"
   },
   {
    "duration": 70,
    "start_time": "2024-06-05T22:36:44.245Z"
   },
   {
    "duration": 6,
    "start_time": "2024-06-05T22:36:44.318Z"
   },
   {
    "duration": 6,
    "start_time": "2024-06-05T22:36:44.327Z"
   },
   {
    "duration": 10,
    "start_time": "2024-06-05T22:36:44.336Z"
   },
   {
    "duration": 57,
    "start_time": "2024-06-05T22:36:44.349Z"
   },
   {
    "duration": 8,
    "start_time": "2024-06-05T22:36:44.409Z"
   },
   {
    "duration": 11,
    "start_time": "2024-06-05T22:36:44.425Z"
   },
   {
    "duration": 6,
    "start_time": "2024-06-05T22:36:44.439Z"
   },
   {
    "duration": 401,
    "start_time": "2024-06-05T22:36:44.448Z"
   },
   {
    "duration": 362,
    "start_time": "2024-06-05T22:36:44.853Z"
   },
   {
    "duration": 339,
    "start_time": "2024-06-05T22:36:45.218Z"
   },
   {
    "duration": 12,
    "start_time": "2024-06-05T22:36:45.560Z"
   },
   {
    "duration": 32,
    "start_time": "2024-06-05T22:36:45.575Z"
   },
   {
    "duration": 2407,
    "start_time": "2024-06-05T22:36:54.597Z"
   },
   {
    "duration": 8,
    "start_time": "2024-06-05T22:36:57.010Z"
   },
   {
    "duration": 48,
    "start_time": "2024-06-05T22:36:57.025Z"
   },
   {
    "duration": 26,
    "start_time": "2024-06-05T22:36:57.076Z"
   },
   {
    "duration": 407,
    "start_time": "2024-06-05T22:36:57.107Z"
   },
   {
    "duration": 34124,
    "start_time": "2024-06-05T22:36:57.517Z"
   },
   {
    "duration": 2265,
    "start_time": "2024-06-05T22:37:31.644Z"
   },
   {
    "duration": 3368,
    "start_time": "2024-06-05T22:37:33.912Z"
   },
   {
    "duration": 12,
    "start_time": "2024-06-05T22:37:37.289Z"
   },
   {
    "duration": 793,
    "start_time": "2024-06-05T23:42:37.137Z"
   },
   {
    "duration": 7,
    "start_time": "2024-06-05T23:42:37.934Z"
   },
   {
    "duration": 5,
    "start_time": "2024-06-05T23:42:37.946Z"
   },
   {
    "duration": 827,
    "start_time": "2024-06-05T23:42:37.955Z"
   },
   {
    "duration": 0,
    "start_time": "2024-06-05T23:42:38.785Z"
   },
   {
    "duration": 0,
    "start_time": "2024-06-05T23:42:38.787Z"
   },
   {
    "duration": 0,
    "start_time": "2024-06-05T23:42:38.801Z"
   },
   {
    "duration": 0,
    "start_time": "2024-06-05T23:42:38.803Z"
   },
   {
    "duration": 0,
    "start_time": "2024-06-05T23:42:38.805Z"
   },
   {
    "duration": 0,
    "start_time": "2024-06-05T23:42:38.808Z"
   },
   {
    "duration": 6,
    "start_time": "2024-06-05T23:43:30.951Z"
   },
   {
    "duration": 765,
    "start_time": "2024-06-05T23:43:30.962Z"
   },
   {
    "duration": 32,
    "start_time": "2024-06-05T23:43:31.730Z"
   },
   {
    "duration": 41,
    "start_time": "2024-06-05T23:43:31.765Z"
   },
   {
    "duration": 114,
    "start_time": "2024-06-05T23:43:31.810Z"
   },
   {
    "duration": 13,
    "start_time": "2024-06-05T23:43:31.929Z"
   },
   {
    "duration": 62,
    "start_time": "2024-06-05T23:43:31.945Z"
   },
   {
    "duration": 18,
    "start_time": "2024-06-05T23:43:32.010Z"
   },
   {
    "duration": 32,
    "start_time": "2024-06-05T23:43:32.031Z"
   },
   {
    "duration": 41,
    "start_time": "2024-06-05T23:43:32.066Z"
   },
   {
    "duration": 31,
    "start_time": "2024-06-05T23:43:32.110Z"
   },
   {
    "duration": 24,
    "start_time": "2024-06-05T23:43:32.144Z"
   },
   {
    "duration": 146,
    "start_time": "2024-06-05T23:43:32.203Z"
   },
   {
    "duration": 12,
    "start_time": "2024-06-05T23:43:32.356Z"
   },
   {
    "duration": 5,
    "start_time": "2024-06-05T23:43:32.371Z"
   },
   {
    "duration": 15,
    "start_time": "2024-06-05T23:43:32.403Z"
   },
   {
    "duration": 8,
    "start_time": "2024-06-05T23:43:32.422Z"
   },
   {
    "duration": 11,
    "start_time": "2024-06-05T23:43:32.433Z"
   },
   {
    "duration": 56,
    "start_time": "2024-06-05T23:43:32.447Z"
   },
   {
    "duration": 7,
    "start_time": "2024-06-05T23:43:32.507Z"
   },
   {
    "duration": 23,
    "start_time": "2024-06-05T23:43:32.517Z"
   },
   {
    "duration": 6,
    "start_time": "2024-06-05T23:43:32.543Z"
   },
   {
    "duration": 50,
    "start_time": "2024-06-05T23:43:32.552Z"
   },
   {
    "duration": 9,
    "start_time": "2024-06-05T23:43:32.605Z"
   },
   {
    "duration": 12,
    "start_time": "2024-06-05T23:43:32.617Z"
   },
   {
    "duration": 10,
    "start_time": "2024-06-05T23:43:32.631Z"
   },
   {
    "duration": 60,
    "start_time": "2024-06-05T23:43:32.644Z"
   },
   {
    "duration": 6,
    "start_time": "2024-06-05T23:43:32.707Z"
   },
   {
    "duration": 473,
    "start_time": "2024-06-05T23:43:32.715Z"
   },
   {
    "duration": 362,
    "start_time": "2024-06-05T23:43:33.192Z"
   },
   {
    "duration": 347,
    "start_time": "2024-06-05T23:43:33.557Z"
   },
   {
    "duration": 12,
    "start_time": "2024-06-05T23:43:33.907Z"
   },
   {
    "duration": 13,
    "start_time": "2024-06-05T23:43:33.922Z"
   },
   {
    "duration": 1197,
    "start_time": "2024-06-05T23:43:33.938Z"
   },
   {
    "duration": 21,
    "start_time": "2024-06-05T23:43:35.140Z"
   },
   {
    "duration": 14,
    "start_time": "2024-06-05T23:43:35.164Z"
   },
   {
    "duration": 213,
    "start_time": "2024-06-05T23:43:35.202Z"
   },
   {
    "duration": 14,
    "start_time": "2024-06-05T23:43:35.418Z"
   },
   {
    "duration": 208,
    "start_time": "2024-06-05T23:43:35.435Z"
   },
   {
    "duration": 15,
    "start_time": "2024-06-05T23:43:35.646Z"
   },
   {
    "duration": 259,
    "start_time": "2024-06-05T23:43:35.668Z"
   },
   {
    "duration": 2191,
    "start_time": "2024-06-05T23:43:46.734Z"
   },
   {
    "duration": 7,
    "start_time": "2024-06-05T23:43:48.928Z"
   },
   {
    "duration": 5,
    "start_time": "2024-06-05T23:43:48.938Z"
   },
   {
    "duration": 23,
    "start_time": "2024-06-05T23:43:48.946Z"
   },
   {
    "duration": 510,
    "start_time": "2024-06-05T23:43:48.972Z"
   },
   {
    "duration": 0,
    "start_time": "2024-06-05T23:43:49.485Z"
   },
   {
    "duration": 0,
    "start_time": "2024-06-05T23:43:49.487Z"
   },
   {
    "duration": 0,
    "start_time": "2024-06-05T23:43:49.489Z"
   },
   {
    "duration": 0,
    "start_time": "2024-06-05T23:43:49.491Z"
   },
   {
    "duration": 0,
    "start_time": "2024-06-05T23:43:49.501Z"
   },
   {
    "duration": 789,
    "start_time": "2024-06-05T23:44:43.135Z"
   },
   {
    "duration": 7,
    "start_time": "2024-06-05T23:44:43.927Z"
   },
   {
    "duration": 5,
    "start_time": "2024-06-05T23:44:43.938Z"
   },
   {
    "duration": 26,
    "start_time": "2024-06-05T23:44:43.945Z"
   },
   {
    "duration": 25,
    "start_time": "2024-06-05T23:44:44.004Z"
   },
   {
    "duration": 0,
    "start_time": "2024-06-05T23:44:44.032Z"
   },
   {
    "duration": 0,
    "start_time": "2024-06-05T23:44:44.034Z"
   },
   {
    "duration": 0,
    "start_time": "2024-06-05T23:44:44.036Z"
   },
   {
    "duration": 0,
    "start_time": "2024-06-05T23:44:44.038Z"
   },
   {
    "duration": 0,
    "start_time": "2024-06-05T23:44:44.040Z"
   },
   {
    "duration": 2220,
    "start_time": "2024-06-05T23:45:58.482Z"
   },
   {
    "duration": 6,
    "start_time": "2024-06-05T23:46:00.706Z"
   },
   {
    "duration": 4,
    "start_time": "2024-06-05T23:46:00.715Z"
   },
   {
    "duration": 36,
    "start_time": "2024-06-05T23:46:00.725Z"
   },
   {
    "duration": 37,
    "start_time": "2024-06-05T23:46:00.763Z"
   },
   {
    "duration": 40,
    "start_time": "2024-06-05T23:46:00.804Z"
   },
   {
    "duration": 210,
    "start_time": "2024-06-05T23:46:00.847Z"
   },
   {
    "duration": 143,
    "start_time": "2024-06-05T23:46:01.062Z"
   },
   {
    "duration": 796,
    "start_time": "2024-06-05T23:46:01.208Z"
   },
   {
    "duration": 0,
    "start_time": "2024-06-05T23:46:02.006Z"
   },
   {
    "duration": 2273,
    "start_time": "2024-06-05T23:49:00.786Z"
   },
   {
    "duration": 7,
    "start_time": "2024-06-05T23:49:03.063Z"
   },
   {
    "duration": 4,
    "start_time": "2024-06-05T23:49:03.073Z"
   },
   {
    "duration": 45,
    "start_time": "2024-06-05T23:49:03.105Z"
   },
   {
    "duration": 6,
    "start_time": "2024-06-05T23:49:03.156Z"
   },
   {
    "duration": 494,
    "start_time": "2024-06-05T23:49:03.166Z"
   },
   {
    "duration": 0,
    "start_time": "2024-06-05T23:49:03.663Z"
   },
   {
    "duration": 0,
    "start_time": "2024-06-05T23:49:03.665Z"
   },
   {
    "duration": 0,
    "start_time": "2024-06-05T23:49:03.668Z"
   },
   {
    "duration": 0,
    "start_time": "2024-06-05T23:49:03.670Z"
   },
   {
    "duration": 0,
    "start_time": "2024-06-05T23:49:03.673Z"
   },
   {
    "duration": 25,
    "start_time": "2024-06-05T23:49:21.805Z"
   },
   {
    "duration": 2978,
    "start_time": "2024-06-05T23:50:21.573Z"
   },
   {
    "duration": 15,
    "start_time": "2024-06-05T23:50:24.560Z"
   },
   {
    "duration": 5,
    "start_time": "2024-06-05T23:50:24.580Z"
   },
   {
    "duration": 36,
    "start_time": "2024-06-05T23:50:24.594Z"
   },
   {
    "duration": 5,
    "start_time": "2024-06-05T23:50:24.649Z"
   },
   {
    "duration": 21,
    "start_time": "2024-06-05T23:50:24.658Z"
   },
   {
    "duration": 95,
    "start_time": "2024-06-05T23:50:24.683Z"
   },
   {
    "duration": 545,
    "start_time": "2024-06-05T23:50:24.782Z"
   },
   {
    "duration": 0,
    "start_time": "2024-06-05T23:50:25.338Z"
   },
   {
    "duration": 0,
    "start_time": "2024-06-05T23:50:25.347Z"
   },
   {
    "duration": 0,
    "start_time": "2024-06-05T23:50:25.353Z"
   },
   {
    "duration": 0,
    "start_time": "2024-06-05T23:50:25.356Z"
   },
   {
    "duration": 0,
    "start_time": "2024-06-05T23:50:25.365Z"
   },
   {
    "duration": 2250,
    "start_time": "2024-06-06T00:00:31.495Z"
   },
   {
    "duration": 7,
    "start_time": "2024-06-06T00:00:33.748Z"
   },
   {
    "duration": 5,
    "start_time": "2024-06-06T00:00:33.758Z"
   },
   {
    "duration": 845,
    "start_time": "2024-06-06T00:00:33.766Z"
   },
   {
    "duration": 0,
    "start_time": "2024-06-06T00:00:34.614Z"
   },
   {
    "duration": 0,
    "start_time": "2024-06-06T00:00:34.617Z"
   },
   {
    "duration": 0,
    "start_time": "2024-06-06T00:00:34.620Z"
   },
   {
    "duration": 0,
    "start_time": "2024-06-06T00:00:34.622Z"
   },
   {
    "duration": 0,
    "start_time": "2024-06-06T00:00:34.624Z"
   },
   {
    "duration": 0,
    "start_time": "2024-06-06T00:00:34.625Z"
   },
   {
    "duration": 0,
    "start_time": "2024-06-06T00:00:34.627Z"
   },
   {
    "duration": 0,
    "start_time": "2024-06-06T00:00:34.630Z"
   },
   {
    "duration": 0,
    "start_time": "2024-06-06T00:00:34.632Z"
   },
   {
    "duration": 0,
    "start_time": "2024-06-06T00:00:34.635Z"
   },
   {
    "duration": 48,
    "start_time": "2024-06-06T00:02:00.540Z"
   },
   {
    "duration": 2227,
    "start_time": "2024-06-06T00:02:42.561Z"
   },
   {
    "duration": 6,
    "start_time": "2024-06-06T00:02:44.793Z"
   },
   {
    "duration": 4,
    "start_time": "2024-06-06T00:02:44.804Z"
   },
   {
    "duration": 837,
    "start_time": "2024-06-06T00:02:44.811Z"
   },
   {
    "duration": 0,
    "start_time": "2024-06-06T00:02:45.653Z"
   },
   {
    "duration": 0,
    "start_time": "2024-06-06T00:02:45.656Z"
   },
   {
    "duration": 0,
    "start_time": "2024-06-06T00:02:45.658Z"
   },
   {
    "duration": 1,
    "start_time": "2024-06-06T00:02:45.661Z"
   },
   {
    "duration": 0,
    "start_time": "2024-06-06T00:02:45.665Z"
   },
   {
    "duration": 0,
    "start_time": "2024-06-06T00:02:45.667Z"
   },
   {
    "duration": 0,
    "start_time": "2024-06-06T00:02:45.670Z"
   },
   {
    "duration": 0,
    "start_time": "2024-06-06T00:02:45.672Z"
   },
   {
    "duration": 0,
    "start_time": "2024-06-06T00:02:45.705Z"
   },
   {
    "duration": 0,
    "start_time": "2024-06-06T00:02:45.707Z"
   },
   {
    "duration": 47,
    "start_time": "2024-06-06T00:03:27.412Z"
   },
   {
    "duration": 45,
    "start_time": "2024-06-06T01:20:35.294Z"
   },
   {
    "duration": 1458,
    "start_time": "2024-06-06T01:20:53.018Z"
   },
   {
    "duration": 774,
    "start_time": "2024-06-06T01:20:54.479Z"
   },
   {
    "duration": 45,
    "start_time": "2024-06-06T01:20:55.256Z"
   },
   {
    "duration": 83,
    "start_time": "2024-06-06T01:20:55.304Z"
   },
   {
    "duration": 113,
    "start_time": "2024-06-06T01:20:55.407Z"
   },
   {
    "duration": 11,
    "start_time": "2024-06-06T01:20:55.523Z"
   },
   {
    "duration": 28,
    "start_time": "2024-06-06T01:20:55.537Z"
   },
   {
    "duration": 50,
    "start_time": "2024-06-06T01:20:55.568Z"
   },
   {
    "duration": 32,
    "start_time": "2024-06-06T01:20:55.621Z"
   },
   {
    "duration": 9,
    "start_time": "2024-06-06T01:20:55.656Z"
   },
   {
    "duration": 61,
    "start_time": "2024-06-06T01:20:55.667Z"
   },
   {
    "duration": 25,
    "start_time": "2024-06-06T01:20:55.731Z"
   },
   {
    "duration": 184,
    "start_time": "2024-06-06T01:20:55.759Z"
   },
   {
    "duration": 13,
    "start_time": "2024-06-06T01:20:55.960Z"
   },
   {
    "duration": 6,
    "start_time": "2024-06-06T01:20:55.976Z"
   },
   {
    "duration": 21,
    "start_time": "2024-06-06T01:20:56.002Z"
   },
   {
    "duration": 9,
    "start_time": "2024-06-06T01:20:56.026Z"
   },
   {
    "duration": 11,
    "start_time": "2024-06-06T01:20:56.038Z"
   },
   {
    "duration": 50,
    "start_time": "2024-06-06T01:20:56.051Z"
   },
   {
    "duration": 9,
    "start_time": "2024-06-06T01:20:56.104Z"
   },
   {
    "duration": 23,
    "start_time": "2024-06-06T01:20:56.116Z"
   },
   {
    "duration": 5,
    "start_time": "2024-06-06T01:20:56.142Z"
   },
   {
    "duration": 6,
    "start_time": "2024-06-06T01:20:56.150Z"
   },
   {
    "duration": 9,
    "start_time": "2024-06-06T01:20:56.203Z"
   },
   {
    "duration": 13,
    "start_time": "2024-06-06T01:20:56.215Z"
   },
   {
    "duration": 9,
    "start_time": "2024-06-06T01:20:56.230Z"
   },
   {
    "duration": 68,
    "start_time": "2024-06-06T01:20:56.242Z"
   },
   {
    "duration": 7,
    "start_time": "2024-06-06T01:20:56.316Z"
   },
   {
    "duration": 391,
    "start_time": "2024-06-06T01:20:56.328Z"
   },
   {
    "duration": 384,
    "start_time": "2024-06-06T01:20:56.723Z"
   },
   {
    "duration": 348,
    "start_time": "2024-06-06T01:20:57.111Z"
   },
   {
    "duration": 11,
    "start_time": "2024-06-06T01:20:57.463Z"
   },
   {
    "duration": 32,
    "start_time": "2024-06-06T01:20:57.477Z"
   },
   {
    "duration": 1177,
    "start_time": "2024-06-06T01:20:57.512Z"
   },
   {
    "duration": 28,
    "start_time": "2024-06-06T01:20:58.693Z"
   },
   {
    "duration": 14,
    "start_time": "2024-06-06T01:20:58.725Z"
   },
   {
    "duration": 229,
    "start_time": "2024-06-06T01:20:58.743Z"
   },
   {
    "duration": 13,
    "start_time": "2024-06-06T01:20:58.976Z"
   },
   {
    "duration": 202,
    "start_time": "2024-06-06T01:20:58.991Z"
   },
   {
    "duration": 13,
    "start_time": "2024-06-06T01:20:59.202Z"
   },
   {
    "duration": 248,
    "start_time": "2024-06-06T01:20:59.225Z"
   },
   {
    "duration": 815,
    "start_time": "2024-06-06T01:20:59.476Z"
   },
   {
    "duration": 11,
    "start_time": "2024-06-06T01:21:00.294Z"
   },
   {
    "duration": 4,
    "start_time": "2024-06-06T01:21:00.308Z"
   },
   {
    "duration": 874,
    "start_time": "2024-06-06T01:21:00.316Z"
   },
   {
    "duration": 0,
    "start_time": "2024-06-06T01:21:01.193Z"
   },
   {
    "duration": 0,
    "start_time": "2024-06-06T01:21:01.194Z"
   },
   {
    "duration": 0,
    "start_time": "2024-06-06T01:21:01.195Z"
   },
   {
    "duration": 0,
    "start_time": "2024-06-06T01:21:01.201Z"
   },
   {
    "duration": 0,
    "start_time": "2024-06-06T01:21:01.203Z"
   },
   {
    "duration": 0,
    "start_time": "2024-06-06T01:21:01.205Z"
   },
   {
    "duration": 0,
    "start_time": "2024-06-06T01:21:01.207Z"
   },
   {
    "duration": 0,
    "start_time": "2024-06-06T01:21:01.209Z"
   },
   {
    "duration": 0,
    "start_time": "2024-06-06T01:21:01.210Z"
   },
   {
    "duration": 0,
    "start_time": "2024-06-06T01:21:01.213Z"
   },
   {
    "duration": 54,
    "start_time": "2024-06-06T02:37:56.963Z"
   },
   {
    "duration": 2203,
    "start_time": "2024-06-06T02:38:41.867Z"
   },
   {
    "duration": 7,
    "start_time": "2024-06-06T02:38:44.073Z"
   },
   {
    "duration": 4,
    "start_time": "2024-06-06T02:38:44.084Z"
   },
   {
    "duration": 51,
    "start_time": "2024-06-06T02:38:44.103Z"
   },
   {
    "duration": 5,
    "start_time": "2024-06-06T02:38:44.157Z"
   },
   {
    "duration": 508,
    "start_time": "2024-06-06T02:38:44.165Z"
   },
   {
    "duration": 0,
    "start_time": "2024-06-06T02:38:44.677Z"
   },
   {
    "duration": 0,
    "start_time": "2024-06-06T02:38:44.679Z"
   },
   {
    "duration": 0,
    "start_time": "2024-06-06T02:38:44.681Z"
   },
   {
    "duration": 0,
    "start_time": "2024-06-06T02:38:44.685Z"
   },
   {
    "duration": 0,
    "start_time": "2024-06-06T02:38:44.701Z"
   },
   {
    "duration": 0,
    "start_time": "2024-06-06T02:38:44.703Z"
   },
   {
    "duration": 0,
    "start_time": "2024-06-06T02:38:44.706Z"
   },
   {
    "duration": 0,
    "start_time": "2024-06-06T02:38:44.709Z"
   },
   {
    "duration": 2493,
    "start_time": "2024-06-06T02:41:26.444Z"
   },
   {
    "duration": 9,
    "start_time": "2024-06-06T02:41:28.940Z"
   },
   {
    "duration": 5,
    "start_time": "2024-06-06T02:41:28.952Z"
   },
   {
    "duration": 3,
    "start_time": "2024-06-06T02:41:28.963Z"
   },
   {
    "duration": 64,
    "start_time": "2024-06-06T02:41:28.970Z"
   },
   {
    "duration": 5,
    "start_time": "2024-06-06T02:41:29.038Z"
   },
   {
    "duration": 18,
    "start_time": "2024-06-06T02:41:29.046Z"
   },
   {
    "duration": 124,
    "start_time": "2024-06-06T02:41:29.067Z"
   },
   {
    "duration": 451,
    "start_time": "2024-06-06T02:41:29.193Z"
   },
   {
    "duration": 0,
    "start_time": "2024-06-06T02:41:29.648Z"
   },
   {
    "duration": 0,
    "start_time": "2024-06-06T02:41:29.651Z"
   },
   {
    "duration": 0,
    "start_time": "2024-06-06T02:41:29.657Z"
   },
   {
    "duration": 0,
    "start_time": "2024-06-06T02:41:29.659Z"
   },
   {
    "duration": 0,
    "start_time": "2024-06-06T02:41:29.661Z"
   },
   {
    "duration": 24,
    "start_time": "2024-06-06T02:42:11.101Z"
   },
   {
    "duration": 386,
    "start_time": "2024-06-06T02:42:38.926Z"
   },
   {
    "duration": 2382,
    "start_time": "2024-06-06T02:43:08.734Z"
   },
   {
    "duration": 8,
    "start_time": "2024-06-06T02:43:11.121Z"
   },
   {
    "duration": 4,
    "start_time": "2024-06-06T02:43:11.133Z"
   },
   {
    "duration": 4,
    "start_time": "2024-06-06T02:43:11.141Z"
   },
   {
    "duration": 68,
    "start_time": "2024-06-06T02:43:11.151Z"
   },
   {
    "duration": 14,
    "start_time": "2024-06-06T02:43:11.226Z"
   },
   {
    "duration": 18,
    "start_time": "2024-06-06T02:43:11.249Z"
   },
   {
    "duration": 100,
    "start_time": "2024-06-06T02:43:11.270Z"
   },
   {
    "duration": 15,
    "start_time": "2024-06-06T02:43:11.373Z"
   },
   {
    "duration": 57,
    "start_time": "2024-06-06T02:43:11.391Z"
   },
   {
    "duration": 199,
    "start_time": "2024-06-06T02:43:11.452Z"
   },
   {
    "duration": 177,
    "start_time": "2024-06-06T02:43:11.656Z"
   },
   {
    "duration": 907,
    "start_time": "2024-06-06T02:43:11.837Z"
   },
   {
    "duration": 0,
    "start_time": "2024-06-06T02:43:12.748Z"
   },
   {
    "duration": 15,
    "start_time": "2024-06-06T02:43:47.438Z"
   },
   {
    "duration": 15,
    "start_time": "2024-06-06T02:43:52.390Z"
   },
   {
    "duration": 2257,
    "start_time": "2024-06-06T02:45:49.031Z"
   },
   {
    "duration": 11,
    "start_time": "2024-06-06T02:45:51.291Z"
   },
   {
    "duration": 5,
    "start_time": "2024-06-06T02:45:51.305Z"
   },
   {
    "duration": 3,
    "start_time": "2024-06-06T02:45:51.315Z"
   },
   {
    "duration": 33,
    "start_time": "2024-06-06T02:45:51.321Z"
   },
   {
    "duration": 5,
    "start_time": "2024-06-06T02:45:51.357Z"
   },
   {
    "duration": 40,
    "start_time": "2024-06-06T02:45:51.403Z"
   },
   {
    "duration": 201,
    "start_time": "2024-06-06T02:45:51.446Z"
   },
   {
    "duration": 137,
    "start_time": "2024-06-06T02:45:51.650Z"
   },
   {
    "duration": 815,
    "start_time": "2024-06-06T02:45:51.791Z"
   },
   {
    "duration": 0,
    "start_time": "2024-06-06T02:45:52.609Z"
   },
   {
    "duration": 2186,
    "start_time": "2024-06-06T02:49:18.459Z"
   },
   {
    "duration": 7,
    "start_time": "2024-06-06T02:49:20.649Z"
   },
   {
    "duration": 5,
    "start_time": "2024-06-06T02:49:20.658Z"
   },
   {
    "duration": 4,
    "start_time": "2024-06-06T02:49:20.666Z"
   },
   {
    "duration": 71,
    "start_time": "2024-06-06T02:49:20.674Z"
   },
   {
    "duration": 6,
    "start_time": "2024-06-06T02:49:20.747Z"
   },
   {
    "duration": 950,
    "start_time": "2024-06-06T02:49:20.757Z"
   },
   {
    "duration": 43550,
    "start_time": "2024-06-06T02:49:21.713Z"
   },
   {
    "duration": 3041,
    "start_time": "2024-06-06T02:50:05.266Z"
   },
   {
    "duration": 3602,
    "start_time": "2024-06-06T02:50:08.312Z"
   },
   {
    "duration": 6,
    "start_time": "2024-06-06T02:50:11.917Z"
   },
   {
    "duration": 2218,
    "start_time": "2024-06-06T02:55:57.106Z"
   },
   {
    "duration": 6,
    "start_time": "2024-06-06T02:55:59.327Z"
   },
   {
    "duration": 4,
    "start_time": "2024-06-06T02:55:59.337Z"
   },
   {
    "duration": 4,
    "start_time": "2024-06-06T02:55:59.344Z"
   },
   {
    "duration": 76,
    "start_time": "2024-06-06T02:55:59.352Z"
   },
   {
    "duration": 5,
    "start_time": "2024-06-06T02:55:59.431Z"
   },
   {
    "duration": 569,
    "start_time": "2024-06-06T02:55:59.439Z"
   },
   {
    "duration": 43546,
    "start_time": "2024-06-06T02:56:00.019Z"
   },
   {
    "duration": 2921,
    "start_time": "2024-06-06T02:56:43.569Z"
   },
   {
    "duration": 3602,
    "start_time": "2024-06-06T02:56:46.493Z"
   },
   {
    "duration": 7,
    "start_time": "2024-06-06T02:56:50.098Z"
   },
   {
    "duration": 4,
    "start_time": "2024-06-06T02:58:20.269Z"
   },
   {
    "duration": 323,
    "start_time": "2024-06-06T02:58:20.278Z"
   },
   {
    "duration": 0,
    "start_time": "2024-06-06T02:58:20.605Z"
   },
   {
    "duration": 0,
    "start_time": "2024-06-06T02:58:20.606Z"
   },
   {
    "duration": 0,
    "start_time": "2024-06-06T02:58:20.608Z"
   },
   {
    "duration": 0,
    "start_time": "2024-06-06T02:58:20.611Z"
   },
   {
    "duration": 0,
    "start_time": "2024-06-06T02:58:20.613Z"
   },
   {
    "duration": 0,
    "start_time": "2024-06-06T02:58:20.614Z"
   },
   {
    "duration": 0,
    "start_time": "2024-06-06T02:58:20.617Z"
   },
   {
    "duration": 2141,
    "start_time": "2024-06-06T02:58:58.462Z"
   },
   {
    "duration": 6,
    "start_time": "2024-06-06T02:59:00.606Z"
   },
   {
    "duration": 45,
    "start_time": "2024-06-06T02:59:00.615Z"
   },
   {
    "duration": 6,
    "start_time": "2024-06-06T02:59:00.663Z"
   },
   {
    "duration": 908,
    "start_time": "2024-06-06T02:59:00.702Z"
   },
   {
    "duration": 43711,
    "start_time": "2024-06-06T02:59:01.615Z"
   },
   {
    "duration": 2946,
    "start_time": "2024-06-06T02:59:45.329Z"
   },
   {
    "duration": 3617,
    "start_time": "2024-06-06T02:59:48.279Z"
   },
   {
    "duration": 7,
    "start_time": "2024-06-06T02:59:51.898Z"
   },
   {
    "duration": 19,
    "start_time": "2024-06-06T03:01:55.344Z"
   },
   {
    "duration": 417,
    "start_time": "2024-06-06T03:02:06.303Z"
   },
   {
    "duration": 7,
    "start_time": "2024-06-06T03:02:18.984Z"
   },
   {
    "duration": 25,
    "start_time": "2024-06-06T03:02:30.600Z"
   },
   {
    "duration": 22,
    "start_time": "2024-06-06T03:02:35.055Z"
   },
   {
    "duration": 17,
    "start_time": "2024-06-06T03:02:57.093Z"
   },
   {
    "duration": 7,
    "start_time": "2024-06-06T03:04:13.326Z"
   },
   {
    "duration": 6,
    "start_time": "2024-06-06T03:16:42.096Z"
   },
   {
    "duration": 6,
    "start_time": "2024-06-06T03:18:10.165Z"
   },
   {
    "duration": 2152,
    "start_time": "2024-06-06T03:19:21.658Z"
   },
   {
    "duration": 6,
    "start_time": "2024-06-06T03:19:23.815Z"
   },
   {
    "duration": 46,
    "start_time": "2024-06-06T03:19:23.824Z"
   },
   {
    "duration": 27,
    "start_time": "2024-06-06T03:19:23.875Z"
   },
   {
    "duration": 819,
    "start_time": "2024-06-06T03:19:23.905Z"
   },
   {
    "duration": 43437,
    "start_time": "2024-06-06T03:19:24.728Z"
   },
   {
    "duration": 2924,
    "start_time": "2024-06-06T03:20:08.169Z"
   },
   {
    "duration": 3575,
    "start_time": "2024-06-06T03:20:11.101Z"
   },
   {
    "duration": 7,
    "start_time": "2024-06-06T03:20:14.678Z"
   },
   {
    "duration": 5399,
    "start_time": "2024-06-06T03:41:44.487Z"
   },
   {
    "duration": 1394,
    "start_time": "2024-06-06T03:42:00.417Z"
   },
   {
    "duration": 801,
    "start_time": "2024-06-06T03:42:01.815Z"
   },
   {
    "duration": 32,
    "start_time": "2024-06-06T03:42:02.619Z"
   },
   {
    "duration": 104,
    "start_time": "2024-06-06T03:42:02.655Z"
   },
   {
    "duration": 115,
    "start_time": "2024-06-06T03:42:02.762Z"
   },
   {
    "duration": 23,
    "start_time": "2024-06-06T03:42:02.881Z"
   },
   {
    "duration": 29,
    "start_time": "2024-06-06T03:42:02.907Z"
   },
   {
    "duration": 18,
    "start_time": "2024-06-06T03:42:02.939Z"
   },
   {
    "duration": 67,
    "start_time": "2024-06-06T03:42:02.960Z"
   },
   {
    "duration": 9,
    "start_time": "2024-06-06T03:42:03.033Z"
   },
   {
    "duration": 27,
    "start_time": "2024-06-06T03:42:03.045Z"
   },
   {
    "duration": 24,
    "start_time": "2024-06-06T03:42:03.103Z"
   },
   {
    "duration": 164,
    "start_time": "2024-06-06T03:42:03.130Z"
   },
   {
    "duration": 10,
    "start_time": "2024-06-06T03:42:03.303Z"
   },
   {
    "duration": 5,
    "start_time": "2024-06-06T03:42:03.316Z"
   },
   {
    "duration": 18,
    "start_time": "2024-06-06T03:42:03.324Z"
   },
   {
    "duration": 9,
    "start_time": "2024-06-06T03:42:03.345Z"
   },
   {
    "duration": 15,
    "start_time": "2024-06-06T03:42:03.401Z"
   },
   {
    "duration": 11,
    "start_time": "2024-06-06T03:42:03.418Z"
   },
   {
    "duration": 7,
    "start_time": "2024-06-06T03:42:03.432Z"
   },
   {
    "duration": 64,
    "start_time": "2024-06-06T03:42:03.442Z"
   },
   {
    "duration": 7,
    "start_time": "2024-06-06T03:42:03.508Z"
   },
   {
    "duration": 6,
    "start_time": "2024-06-06T03:42:03.518Z"
   },
   {
    "duration": 8,
    "start_time": "2024-06-06T03:42:03.529Z"
   },
   {
    "duration": 12,
    "start_time": "2024-06-06T03:42:03.540Z"
   },
   {
    "duration": 53,
    "start_time": "2024-06-06T03:42:03.555Z"
   },
   {
    "duration": 12,
    "start_time": "2024-06-06T03:42:03.611Z"
   },
   {
    "duration": 5,
    "start_time": "2024-06-06T03:42:03.631Z"
   },
   {
    "duration": 389,
    "start_time": "2024-06-06T03:42:03.639Z"
   },
   {
    "duration": 349,
    "start_time": "2024-06-06T03:42:04.031Z"
   },
   {
    "duration": 340,
    "start_time": "2024-06-06T03:42:04.383Z"
   },
   {
    "duration": 12,
    "start_time": "2024-06-06T03:42:04.727Z"
   },
   {
    "duration": 12,
    "start_time": "2024-06-06T03:42:04.742Z"
   },
   {
    "duration": 1159,
    "start_time": "2024-06-06T03:42:04.757Z"
   },
   {
    "duration": 35,
    "start_time": "2024-06-06T03:42:05.922Z"
   },
   {
    "duration": 17,
    "start_time": "2024-06-06T03:42:05.961Z"
   },
   {
    "duration": 240,
    "start_time": "2024-06-06T03:42:05.980Z"
   },
   {
    "duration": 13,
    "start_time": "2024-06-06T03:42:06.223Z"
   },
   {
    "duration": 204,
    "start_time": "2024-06-06T03:42:06.239Z"
   },
   {
    "duration": 14,
    "start_time": "2024-06-06T03:42:06.447Z"
   },
   {
    "duration": 268,
    "start_time": "2024-06-06T03:42:06.464Z"
   },
   {
    "duration": 808,
    "start_time": "2024-06-06T03:42:06.735Z"
   },
   {
    "duration": 6,
    "start_time": "2024-06-06T03:42:07.547Z"
   },
   {
    "duration": 57,
    "start_time": "2024-06-06T03:42:07.557Z"
   },
   {
    "duration": 9,
    "start_time": "2024-06-06T03:42:07.617Z"
   },
   {
    "duration": 689,
    "start_time": "2024-06-06T03:42:07.629Z"
   },
   {
    "duration": 43392,
    "start_time": "2024-06-06T03:42:08.321Z"
   },
   {
    "duration": 2907,
    "start_time": "2024-06-06T03:42:51.717Z"
   },
   {
    "duration": 5422,
    "start_time": "2024-06-06T03:42:54.627Z"
   },
   {
    "duration": 7,
    "start_time": "2024-06-06T03:43:00.052Z"
   },
   {
    "duration": 8,
    "start_time": "2024-06-06T03:58:13.511Z"
   },
   {
    "duration": 1358,
    "start_time": "2024-06-06T03:58:20.458Z"
   },
   {
    "duration": 821,
    "start_time": "2024-06-06T03:58:21.820Z"
   },
   {
    "duration": 33,
    "start_time": "2024-06-06T03:58:22.643Z"
   },
   {
    "duration": 101,
    "start_time": "2024-06-06T03:58:22.681Z"
   },
   {
    "duration": 117,
    "start_time": "2024-06-06T03:58:22.785Z"
   },
   {
    "duration": 11,
    "start_time": "2024-06-06T03:58:22.904Z"
   },
   {
    "duration": 27,
    "start_time": "2024-06-06T03:58:22.918Z"
   },
   {
    "duration": 57,
    "start_time": "2024-06-06T03:58:22.948Z"
   },
   {
    "duration": 32,
    "start_time": "2024-06-06T03:58:23.008Z"
   },
   {
    "duration": 9,
    "start_time": "2024-06-06T03:58:23.046Z"
   },
   {
    "duration": 60,
    "start_time": "2024-06-06T03:58:23.058Z"
   },
   {
    "duration": 22,
    "start_time": "2024-06-06T03:58:23.121Z"
   },
   {
    "duration": 168,
    "start_time": "2024-06-06T03:58:23.149Z"
   },
   {
    "duration": 11,
    "start_time": "2024-06-06T03:58:23.320Z"
   },
   {
    "duration": 4,
    "start_time": "2024-06-06T03:58:23.334Z"
   },
   {
    "duration": 19,
    "start_time": "2024-06-06T03:58:23.342Z"
   },
   {
    "duration": 8,
    "start_time": "2024-06-06T03:58:23.401Z"
   },
   {
    "duration": 11,
    "start_time": "2024-06-06T03:58:23.413Z"
   },
   {
    "duration": 10,
    "start_time": "2024-06-06T03:58:23.426Z"
   },
   {
    "duration": 9,
    "start_time": "2024-06-06T03:58:23.440Z"
   },
   {
    "duration": 68,
    "start_time": "2024-06-06T03:58:23.452Z"
   },
   {
    "duration": 5,
    "start_time": "2024-06-06T03:58:23.523Z"
   },
   {
    "duration": 5,
    "start_time": "2024-06-06T03:58:23.531Z"
   },
   {
    "duration": 9,
    "start_time": "2024-06-06T03:58:23.540Z"
   },
   {
    "duration": 56,
    "start_time": "2024-06-06T03:58:23.552Z"
   },
   {
    "duration": 9,
    "start_time": "2024-06-06T03:58:23.611Z"
   },
   {
    "duration": 13,
    "start_time": "2024-06-06T03:58:23.622Z"
   },
   {
    "duration": 6,
    "start_time": "2024-06-06T03:58:23.642Z"
   },
   {
    "duration": 403,
    "start_time": "2024-06-06T03:58:23.651Z"
   },
   {
    "duration": 358,
    "start_time": "2024-06-06T03:58:24.057Z"
   },
   {
    "duration": 338,
    "start_time": "2024-06-06T03:58:24.418Z"
   },
   {
    "duration": 12,
    "start_time": "2024-06-06T03:58:24.760Z"
   },
   {
    "duration": 32,
    "start_time": "2024-06-06T03:58:24.777Z"
   },
   {
    "duration": 1140,
    "start_time": "2024-06-06T03:58:24.812Z"
   },
   {
    "duration": 24,
    "start_time": "2024-06-06T03:58:25.956Z"
   },
   {
    "duration": 15,
    "start_time": "2024-06-06T03:58:26.002Z"
   },
   {
    "duration": 235,
    "start_time": "2024-06-06T03:58:26.020Z"
   },
   {
    "duration": 13,
    "start_time": "2024-06-06T03:58:26.258Z"
   },
   {
    "duration": 222,
    "start_time": "2024-06-06T03:58:26.275Z"
   },
   {
    "duration": 15,
    "start_time": "2024-06-06T03:58:26.504Z"
   },
   {
    "duration": 249,
    "start_time": "2024-06-06T03:58:26.522Z"
   },
   {
    "duration": 839,
    "start_time": "2024-06-06T03:58:26.775Z"
   },
   {
    "duration": 6,
    "start_time": "2024-06-06T03:58:27.617Z"
   },
   {
    "duration": 38,
    "start_time": "2024-06-06T03:58:27.626Z"
   },
   {
    "duration": 5,
    "start_time": "2024-06-06T03:58:27.667Z"
   },
   {
    "duration": 701,
    "start_time": "2024-06-06T03:58:27.703Z"
   },
   {
    "duration": 43280,
    "start_time": "2024-06-06T03:58:28.410Z"
   },
   {
    "duration": 2920,
    "start_time": "2024-06-06T03:59:11.694Z"
   },
   {
    "duration": 5717,
    "start_time": "2024-06-06T03:59:14.617Z"
   },
   {
    "duration": 7,
    "start_time": "2024-06-06T03:59:20.336Z"
   },
   {
    "duration": 2145,
    "start_time": "2024-06-06T04:12:50.644Z"
   },
   {
    "duration": 10,
    "start_time": "2024-06-06T04:12:52.793Z"
   },
   {
    "duration": 59,
    "start_time": "2024-06-06T04:12:52.807Z"
   },
   {
    "duration": 6,
    "start_time": "2024-06-06T04:12:52.870Z"
   },
   {
    "duration": 820,
    "start_time": "2024-06-06T04:12:52.880Z"
   },
   {
    "duration": 43757,
    "start_time": "2024-06-06T04:12:53.709Z"
   },
   {
    "duration": 421,
    "start_time": "2024-06-06T04:13:37.469Z"
   },
   {
    "duration": 0,
    "start_time": "2024-06-06T04:13:37.893Z"
   },
   {
    "duration": 0,
    "start_time": "2024-06-06T04:13:37.902Z"
   },
   {
    "duration": 2910,
    "start_time": "2024-06-06T04:14:58.091Z"
   },
   {
    "duration": 5384,
    "start_time": "2024-06-06T04:15:09.914Z"
   },
   {
    "duration": 8,
    "start_time": "2024-06-06T04:15:15.301Z"
   },
   {
    "duration": 2201,
    "start_time": "2024-06-06T04:16:00.233Z"
   },
   {
    "duration": 6,
    "start_time": "2024-06-06T04:16:02.438Z"
   },
   {
    "duration": 64,
    "start_time": "2024-06-06T04:16:02.448Z"
   },
   {
    "duration": 5,
    "start_time": "2024-06-06T04:16:02.515Z"
   },
   {
    "duration": 787,
    "start_time": "2024-06-06T04:16:02.525Z"
   },
   {
    "duration": 43562,
    "start_time": "2024-06-06T04:16:03.325Z"
   },
   {
    "duration": 2923,
    "start_time": "2024-06-06T04:16:46.890Z"
   },
   {
    "duration": 5603,
    "start_time": "2024-06-06T04:16:49.816Z"
   },
   {
    "duration": 7,
    "start_time": "2024-06-06T04:16:55.421Z"
   },
   {
    "duration": 2224,
    "start_time": "2024-06-06T04:18:35.823Z"
   },
   {
    "duration": 6,
    "start_time": "2024-06-06T04:18:38.051Z"
   },
   {
    "duration": 57,
    "start_time": "2024-06-06T04:18:38.061Z"
   },
   {
    "duration": 5,
    "start_time": "2024-06-06T04:18:38.121Z"
   },
   {
    "duration": 591,
    "start_time": "2024-06-06T04:18:38.131Z"
   },
   {
    "duration": 32277,
    "start_time": "2024-06-06T04:18:38.725Z"
   },
   {
    "duration": 2167,
    "start_time": "2024-06-06T04:19:11.005Z"
   },
   {
    "duration": 5633,
    "start_time": "2024-06-06T04:19:13.176Z"
   },
   {
    "duration": 7,
    "start_time": "2024-06-06T04:19:18.812Z"
   },
   {
    "duration": 2150,
    "start_time": "2024-06-06T04:21:29.133Z"
   },
   {
    "duration": 7,
    "start_time": "2024-06-06T04:21:31.286Z"
   },
   {
    "duration": 42,
    "start_time": "2024-06-06T04:21:31.303Z"
   },
   {
    "duration": 5,
    "start_time": "2024-06-06T04:21:31.349Z"
   },
   {
    "duration": 663,
    "start_time": "2024-06-06T04:21:31.358Z"
   },
   {
    "duration": 32358,
    "start_time": "2024-06-06T04:21:32.025Z"
   },
   {
    "duration": 2185,
    "start_time": "2024-06-06T04:22:04.386Z"
   },
   {
    "duration": 5410,
    "start_time": "2024-06-06T04:22:06.574Z"
   },
   {
    "duration": 6,
    "start_time": "2024-06-06T04:22:11.987Z"
   },
   {
    "duration": 2177,
    "start_time": "2024-06-06T04:24:44.555Z"
   },
   {
    "duration": 6,
    "start_time": "2024-06-06T04:24:46.736Z"
   },
   {
    "duration": 63,
    "start_time": "2024-06-06T04:24:46.747Z"
   },
   {
    "duration": 6,
    "start_time": "2024-06-06T04:24:46.814Z"
   },
   {
    "duration": 597,
    "start_time": "2024-06-06T04:24:46.824Z"
   },
   {
    "duration": 54594,
    "start_time": "2024-06-06T04:24:47.501Z"
   },
   {
    "duration": 3624,
    "start_time": "2024-06-06T04:25:42.097Z"
   },
   {
    "duration": 5413,
    "start_time": "2024-06-06T04:25:45.724Z"
   },
   {
    "duration": 7,
    "start_time": "2024-06-06T04:25:51.140Z"
   },
   {
    "duration": 6142,
    "start_time": "2024-06-06T12:59:15.578Z"
   },
   {
    "duration": 6,
    "start_time": "2024-06-06T12:59:21.725Z"
   },
   {
    "duration": 45,
    "start_time": "2024-06-06T12:59:21.734Z"
   },
   {
    "duration": 29,
    "start_time": "2024-06-06T12:59:21.784Z"
   },
   {
    "duration": 609,
    "start_time": "2024-06-06T12:59:21.816Z"
   },
   {
    "duration": 3,
    "start_time": "2024-06-06T12:59:22.428Z"
   },
   {
    "duration": 635,
    "start_time": "2024-06-06T12:59:22.434Z"
   },
   {
    "duration": 0,
    "start_time": "2024-06-06T12:59:23.072Z"
   },
   {
    "duration": 0,
    "start_time": "2024-06-06T12:59:23.075Z"
   },
   {
    "duration": 0,
    "start_time": "2024-06-06T12:59:23.077Z"
   },
   {
    "duration": 0,
    "start_time": "2024-06-06T12:59:23.080Z"
   },
   {
    "duration": 0,
    "start_time": "2024-06-06T12:59:23.082Z"
   },
   {
    "duration": 2204,
    "start_time": "2024-06-06T13:00:28.100Z"
   },
   {
    "duration": 6,
    "start_time": "2024-06-06T13:00:30.312Z"
   },
   {
    "duration": 49,
    "start_time": "2024-06-06T13:00:30.322Z"
   },
   {
    "duration": 6,
    "start_time": "2024-06-06T13:00:30.375Z"
   },
   {
    "duration": 520,
    "start_time": "2024-06-06T13:00:30.413Z"
   },
   {
    "duration": 5,
    "start_time": "2024-06-06T13:00:31.017Z"
   },
   {
    "duration": 2269,
    "start_time": "2024-06-06T13:06:52.966Z"
   },
   {
    "duration": 7,
    "start_time": "2024-06-06T13:06:55.239Z"
   },
   {
    "duration": 63,
    "start_time": "2024-06-06T13:06:55.249Z"
   },
   {
    "duration": 6,
    "start_time": "2024-06-06T13:06:55.315Z"
   },
   {
    "duration": 489,
    "start_time": "2024-06-06T13:06:55.325Z"
   },
   {
    "duration": 4,
    "start_time": "2024-06-06T13:06:55.817Z"
   },
   {
    "duration": 2212,
    "start_time": "2024-06-06T13:07:58.374Z"
   },
   {
    "duration": 6,
    "start_time": "2024-06-06T13:08:00.590Z"
   },
   {
    "duration": 45,
    "start_time": "2024-06-06T13:08:00.612Z"
   },
   {
    "duration": 6,
    "start_time": "2024-06-06T13:08:00.660Z"
   },
   {
    "duration": 456,
    "start_time": "2024-06-06T13:08:00.670Z"
   },
   {
    "duration": 4,
    "start_time": "2024-06-06T13:08:01.130Z"
   },
   {
    "duration": 2260,
    "start_time": "2024-06-06T13:13:44.989Z"
   },
   {
    "duration": 7,
    "start_time": "2024-06-06T13:13:47.254Z"
   },
   {
    "duration": 65,
    "start_time": "2024-06-06T13:13:47.264Z"
   },
   {
    "duration": 5,
    "start_time": "2024-06-06T13:13:47.332Z"
   },
   {
    "duration": 283,
    "start_time": "2024-06-06T13:13:47.342Z"
   },
   {
    "duration": 3,
    "start_time": "2024-06-06T13:13:47.628Z"
   },
   {
    "duration": 2291,
    "start_time": "2024-06-06T13:25:31.450Z"
   },
   {
    "duration": 7,
    "start_time": "2024-06-06T13:25:33.744Z"
   },
   {
    "duration": 58,
    "start_time": "2024-06-06T13:25:33.755Z"
   },
   {
    "duration": 7,
    "start_time": "2024-06-06T13:25:33.817Z"
   },
   {
    "duration": 290,
    "start_time": "2024-06-06T13:25:33.827Z"
   },
   {
    "duration": 6,
    "start_time": "2024-06-06T13:25:34.124Z"
   },
   {
    "duration": 2584,
    "start_time": "2024-06-06T13:26:41.213Z"
   },
   {
    "duration": 13,
    "start_time": "2024-06-06T13:26:43.801Z"
   },
   {
    "duration": 46,
    "start_time": "2024-06-06T13:26:43.818Z"
   },
   {
    "duration": 6,
    "start_time": "2024-06-06T13:26:43.870Z"
   },
   {
    "duration": 533,
    "start_time": "2024-06-06T13:26:43.880Z"
   },
   {
    "duration": 8,
    "start_time": "2024-06-06T13:26:44.424Z"
   },
   {
    "duration": 2551,
    "start_time": "2024-06-06T13:27:18.192Z"
   },
   {
    "duration": 8,
    "start_time": "2024-06-06T13:27:20.746Z"
   },
   {
    "duration": 71,
    "start_time": "2024-06-06T13:27:20.758Z"
   },
   {
    "duration": 6,
    "start_time": "2024-06-06T13:27:20.832Z"
   },
   {
    "duration": 386,
    "start_time": "2024-06-06T13:27:20.844Z"
   },
   {
    "duration": 3,
    "start_time": "2024-06-06T13:27:21.233Z"
   },
   {
    "duration": 2439,
    "start_time": "2024-06-06T13:30:03.190Z"
   },
   {
    "duration": 11,
    "start_time": "2024-06-06T13:30:05.635Z"
   },
   {
    "duration": 47,
    "start_time": "2024-06-06T13:30:05.650Z"
   },
   {
    "duration": 5,
    "start_time": "2024-06-06T13:30:05.714Z"
   },
   {
    "duration": 417,
    "start_time": "2024-06-06T13:30:05.725Z"
   },
   {
    "duration": 15,
    "start_time": "2024-06-06T13:30:06.214Z"
   },
   {
    "duration": 76,
    "start_time": "2024-06-06T13:30:06.240Z"
   },
   {
    "duration": 0,
    "start_time": "2024-06-06T13:30:06.321Z"
   },
   {
    "duration": 0,
    "start_time": "2024-06-06T13:30:06.323Z"
   },
   {
    "duration": 0,
    "start_time": "2024-06-06T13:30:06.326Z"
   },
   {
    "duration": 0,
    "start_time": "2024-06-06T13:30:06.328Z"
   },
   {
    "duration": 0,
    "start_time": "2024-06-06T13:30:06.414Z"
   },
   {
    "duration": 562,
    "start_time": "2024-06-06T13:30:21.402Z"
   },
   {
    "duration": 25064,
    "start_time": "2024-06-06T13:33:56.333Z"
   },
   {
    "duration": 4,
    "start_time": "2024-06-06T13:36:52.822Z"
   },
   {
    "duration": 9,
    "start_time": "2024-06-06T14:06:54.647Z"
   },
   {
    "duration": 18907,
    "start_time": "2024-06-06T14:15:08.657Z"
   },
   {
    "duration": 27347,
    "start_time": "2024-06-06T14:15:58.915Z"
   },
   {
    "duration": 2356,
    "start_time": "2024-06-06T14:16:32.457Z"
   },
   {
    "duration": 16,
    "start_time": "2024-06-06T14:16:34.817Z"
   },
   {
    "duration": 47,
    "start_time": "2024-06-06T14:16:34.841Z"
   },
   {
    "duration": 6,
    "start_time": "2024-06-06T14:16:34.892Z"
   },
   {
    "duration": 517,
    "start_time": "2024-06-06T14:16:34.901Z"
   },
   {
    "duration": 12,
    "start_time": "2024-06-06T14:16:35.421Z"
   },
   {
    "duration": 0,
    "start_time": "2024-06-06T14:16:35.444Z"
   },
   {
    "duration": 0,
    "start_time": "2024-06-06T14:16:35.446Z"
   },
   {
    "duration": 0,
    "start_time": "2024-06-06T14:16:35.449Z"
   },
   {
    "duration": 0,
    "start_time": "2024-06-06T14:16:35.453Z"
   },
   {
    "duration": 0,
    "start_time": "2024-06-06T14:16:35.644Z"
   },
   {
    "duration": 0,
    "start_time": "2024-06-06T14:16:35.646Z"
   },
   {
    "duration": 0,
    "start_time": "2024-06-06T14:16:35.649Z"
   },
   {
    "duration": 8,
    "start_time": "2024-06-06T14:16:54.361Z"
   },
   {
    "duration": 17117,
    "start_time": "2024-06-06T14:17:01.747Z"
   },
   {
    "duration": 29865,
    "start_time": "2024-06-06T14:18:11.458Z"
   },
   {
    "duration": 1076,
    "start_time": "2024-06-06T14:25:36.544Z"
   },
   {
    "duration": 9204,
    "start_time": "2024-06-06T14:26:12.440Z"
   },
   {
    "duration": 7798,
    "start_time": "2024-06-06T14:27:10.491Z"
   },
   {
    "duration": 2269,
    "start_time": "2024-06-06T14:28:12.442Z"
   },
   {
    "duration": 8,
    "start_time": "2024-06-06T14:28:14.714Z"
   },
   {
    "duration": 43,
    "start_time": "2024-06-06T14:28:14.728Z"
   },
   {
    "duration": 6,
    "start_time": "2024-06-06T14:28:14.775Z"
   },
   {
    "duration": 333,
    "start_time": "2024-06-06T14:28:14.784Z"
   },
   {
    "duration": 34294,
    "start_time": "2024-06-06T14:28:15.120Z"
   },
   {
    "duration": 4,
    "start_time": "2024-06-06T14:28:49.417Z"
   },
   {
    "duration": 4,
    "start_time": "2024-06-06T14:28:49.424Z"
   },
   {
    "duration": 11155,
    "start_time": "2024-06-06T14:28:49.432Z"
   },
   {
    "duration": 1488,
    "start_time": "2024-06-06T14:29:00.593Z"
   },
   {
    "duration": 5418,
    "start_time": "2024-06-06T14:29:02.083Z"
   },
   {
    "duration": 14,
    "start_time": "2024-06-06T14:29:07.504Z"
   },
   {
    "duration": 11575,
    "start_time": "2024-06-06T14:29:17.543Z"
   },
   {
    "duration": 11604,
    "start_time": "2024-06-06T14:33:44.292Z"
   },
   {
    "duration": 2360,
    "start_time": "2024-06-06T14:35:27.536Z"
   },
   {
    "duration": 6,
    "start_time": "2024-06-06T14:35:29.900Z"
   },
   {
    "duration": 42,
    "start_time": "2024-06-06T14:35:29.914Z"
   },
   {
    "duration": 6,
    "start_time": "2024-06-06T14:35:29.959Z"
   },
   {
    "duration": 552,
    "start_time": "2024-06-06T14:35:29.971Z"
   },
   {
    "duration": 62744,
    "start_time": "2024-06-06T14:35:30.529Z"
   },
   {
    "duration": 4,
    "start_time": "2024-06-06T14:36:33.277Z"
   },
   {
    "duration": 18,
    "start_time": "2024-06-06T14:36:33.294Z"
   },
   {
    "duration": 21323,
    "start_time": "2024-06-06T14:36:33.316Z"
   },
   {
    "duration": 1459,
    "start_time": "2024-06-06T14:36:54.642Z"
   },
   {
    "duration": 5426,
    "start_time": "2024-06-06T14:36:56.104Z"
   },
   {
    "duration": 7,
    "start_time": "2024-06-06T14:37:01.533Z"
   },
   {
    "duration": 21119,
    "start_time": "2024-06-06T14:39:31.814Z"
   },
   {
    "duration": 21123,
    "start_time": "2024-06-06T14:41:03.493Z"
   },
   {
    "duration": 21339,
    "start_time": "2024-06-06T14:45:24.984Z"
   },
   {
    "duration": 2245,
    "start_time": "2024-06-06T14:46:46.192Z"
   },
   {
    "duration": 7,
    "start_time": "2024-06-06T14:46:48.440Z"
   },
   {
    "duration": 66,
    "start_time": "2024-06-06T14:46:48.450Z"
   },
   {
    "duration": 5,
    "start_time": "2024-06-06T14:46:48.520Z"
   },
   {
    "duration": 395,
    "start_time": "2024-06-06T14:46:48.528Z"
   },
   {
    "duration": 70202,
    "start_time": "2024-06-06T14:46:48.926Z"
   },
   {
    "duration": 5,
    "start_time": "2024-06-06T14:47:59.131Z"
   },
   {
    "duration": 21912,
    "start_time": "2024-06-06T14:47:59.141Z"
   },
   {
    "duration": 468,
    "start_time": "2024-06-06T14:48:21.056Z"
   },
   {
    "duration": 0,
    "start_time": "2024-06-06T14:48:21.529Z"
   },
   {
    "duration": 0,
    "start_time": "2024-06-06T14:48:21.537Z"
   },
   {
    "duration": 0,
    "start_time": "2024-06-06T14:48:21.540Z"
   },
   {
    "duration": 21192,
    "start_time": "2024-06-06T14:56:59.977Z"
   },
   {
    "duration": 17737,
    "start_time": "2024-06-06T15:04:10.378Z"
   },
   {
    "duration": 18131,
    "start_time": "2024-06-06T15:05:55.065Z"
   },
   {
    "duration": 18010,
    "start_time": "2024-06-06T15:07:56.117Z"
   },
   {
    "duration": 2198,
    "start_time": "2024-06-06T15:13:05.125Z"
   },
   {
    "duration": 7,
    "start_time": "2024-06-06T15:13:07.326Z"
   },
   {
    "duration": 47,
    "start_time": "2024-06-06T15:13:07.336Z"
   },
   {
    "duration": 27,
    "start_time": "2024-06-06T15:13:07.387Z"
   },
   {
    "duration": 409,
    "start_time": "2024-06-06T15:13:07.417Z"
   },
   {
    "duration": 36677,
    "start_time": "2024-06-06T15:13:07.832Z"
   },
   {
    "duration": 4,
    "start_time": "2024-06-06T15:13:44.515Z"
   },
   {
    "duration": 17849,
    "start_time": "2024-06-06T15:13:44.523Z"
   },
   {
    "duration": 420,
    "start_time": "2024-06-06T15:14:02.374Z"
   },
   {
    "duration": 0,
    "start_time": "2024-06-06T15:14:02.797Z"
   },
   {
    "duration": 0,
    "start_time": "2024-06-06T15:14:02.799Z"
   },
   {
    "duration": 0,
    "start_time": "2024-06-06T15:14:02.811Z"
   },
   {
    "duration": 2212,
    "start_time": "2024-06-06T15:14:49.615Z"
   },
   {
    "duration": 6,
    "start_time": "2024-06-06T15:14:51.831Z"
   },
   {
    "duration": 44,
    "start_time": "2024-06-06T15:14:51.841Z"
   },
   {
    "duration": 5,
    "start_time": "2024-06-06T15:14:51.912Z"
   },
   {
    "duration": 713,
    "start_time": "2024-06-06T15:14:51.920Z"
   },
   {
    "duration": 38928,
    "start_time": "2024-06-06T15:14:52.714Z"
   },
   {
    "duration": 3,
    "start_time": "2024-06-06T15:15:31.645Z"
   },
   {
    "duration": 17779,
    "start_time": "2024-06-06T15:15:31.652Z"
   },
   {
    "duration": 425,
    "start_time": "2024-06-06T15:15:49.433Z"
   },
   {
    "duration": 0,
    "start_time": "2024-06-06T15:15:49.861Z"
   },
   {
    "duration": 0,
    "start_time": "2024-06-06T15:15:49.863Z"
   },
   {
    "duration": 0,
    "start_time": "2024-06-06T15:15:49.865Z"
   },
   {
    "duration": 2254,
    "start_time": "2024-06-06T15:29:16.230Z"
   },
   {
    "duration": 7,
    "start_time": "2024-06-06T15:29:18.487Z"
   },
   {
    "duration": 56,
    "start_time": "2024-06-06T15:29:18.497Z"
   },
   {
    "duration": 6,
    "start_time": "2024-06-06T15:29:18.558Z"
   },
   {
    "duration": 750,
    "start_time": "2024-06-06T15:29:18.568Z"
   },
   {
    "duration": 36467,
    "start_time": "2024-06-06T15:29:19.324Z"
   },
   {
    "duration": 3,
    "start_time": "2024-06-06T15:29:55.794Z"
   },
   {
    "duration": 18072,
    "start_time": "2024-06-06T15:29:55.813Z"
   },
   {
    "duration": 4,
    "start_time": "2024-06-06T15:30:13.888Z"
   },
   {
    "duration": 441,
    "start_time": "2024-06-06T15:30:13.897Z"
   },
   {
    "duration": 0,
    "start_time": "2024-06-06T15:30:14.341Z"
   },
   {
    "duration": 0,
    "start_time": "2024-06-06T15:30:14.344Z"
   },
   {
    "duration": 711,
    "start_time": "2024-06-06T15:33:44.722Z"
   },
   {
    "duration": 697,
    "start_time": "2024-06-06T15:33:56.347Z"
   },
   {
    "duration": 2315,
    "start_time": "2024-06-06T15:34:33.086Z"
   },
   {
    "duration": 7,
    "start_time": "2024-06-06T15:34:35.411Z"
   },
   {
    "duration": 43,
    "start_time": "2024-06-06T15:34:35.421Z"
   },
   {
    "duration": 5,
    "start_time": "2024-06-06T15:34:35.467Z"
   },
   {
    "duration": 951,
    "start_time": "2024-06-06T15:34:35.477Z"
   },
   {
    "duration": 59377,
    "start_time": "2024-06-06T15:34:36.437Z"
   },
   {
    "duration": 4,
    "start_time": "2024-06-06T15:35:35.817Z"
   },
   {
    "duration": 17769,
    "start_time": "2024-06-06T15:35:35.825Z"
   },
   {
    "duration": 15,
    "start_time": "2024-06-06T15:35:53.598Z"
   },
   {
    "duration": 427,
    "start_time": "2024-06-06T15:35:53.617Z"
   },
   {
    "duration": 0,
    "start_time": "2024-06-06T15:35:54.047Z"
   },
   {
    "duration": 0,
    "start_time": "2024-06-06T15:35:54.048Z"
   },
   {
    "duration": 320,
    "start_time": "2024-06-07T13:32:19.371Z"
   },
   {
    "duration": 6082,
    "start_time": "2024-06-07T13:32:34.571Z"
   },
   {
    "duration": 7,
    "start_time": "2024-06-07T13:32:40.656Z"
   },
   {
    "duration": 42,
    "start_time": "2024-06-07T13:32:40.667Z"
   },
   {
    "duration": 26,
    "start_time": "2024-06-07T13:32:40.711Z"
   },
   {
    "duration": 694,
    "start_time": "2024-06-07T13:32:40.746Z"
   },
   {
    "duration": 46376,
    "start_time": "2024-06-07T13:32:41.443Z"
   },
   {
    "duration": 4,
    "start_time": "2024-06-07T13:33:27.832Z"
   },
   {
    "duration": 17713,
    "start_time": "2024-06-07T13:33:27.839Z"
   },
   {
    "duration": 3,
    "start_time": "2024-06-07T13:33:45.556Z"
   },
   {
    "duration": 1752,
    "start_time": "2024-06-07T13:33:45.563Z"
   },
   {
    "duration": 17,
    "start_time": "2024-06-07T13:33:47.319Z"
   },
   {
    "duration": 1738,
    "start_time": "2024-06-07T13:41:41.225Z"
   },
   {
    "duration": 2220,
    "start_time": "2024-06-07T14:48:08.722Z"
   },
   {
    "duration": 6,
    "start_time": "2024-06-07T14:48:10.947Z"
   },
   {
    "duration": 51,
    "start_time": "2024-06-07T14:48:10.956Z"
   },
   {
    "duration": 21,
    "start_time": "2024-06-07T14:48:11.015Z"
   },
   {
    "duration": 606,
    "start_time": "2024-06-07T14:48:11.039Z"
   },
   {
    "duration": 52822,
    "start_time": "2024-06-07T14:48:11.652Z"
   },
   {
    "duration": 3,
    "start_time": "2024-06-07T14:49:04.477Z"
   },
   {
    "duration": 17670,
    "start_time": "2024-06-07T14:49:04.483Z"
   },
   {
    "duration": 4,
    "start_time": "2024-06-07T14:49:22.157Z"
   },
   {
    "duration": 19,
    "start_time": "2024-06-07T14:49:22.166Z"
   },
   {
    "duration": 8,
    "start_time": "2024-06-07T14:49:22.188Z"
   },
   {
    "duration": 572,
    "start_time": "2024-06-07T14:51:28.388Z"
   },
   {
    "duration": 8,
    "start_time": "2024-06-07T14:52:32.542Z"
   },
   {
    "duration": 2329,
    "start_time": "2024-06-07T16:36:36.905Z"
   },
   {
    "duration": 8,
    "start_time": "2024-06-07T16:36:39.239Z"
   },
   {
    "duration": 44,
    "start_time": "2024-06-07T16:36:39.251Z"
   },
   {
    "duration": 33,
    "start_time": "2024-06-07T16:36:39.299Z"
   },
   {
    "duration": 1013,
    "start_time": "2024-06-07T16:36:39.337Z"
   },
   {
    "duration": 57698,
    "start_time": "2024-06-07T16:36:40.363Z"
   },
   {
    "duration": 4,
    "start_time": "2024-06-07T16:37:38.064Z"
   },
   {
    "duration": 2343,
    "start_time": "2024-06-07T16:38:57.355Z"
   },
   {
    "duration": 10,
    "start_time": "2024-06-07T16:38:59.702Z"
   },
   {
    "duration": 55,
    "start_time": "2024-06-07T16:38:59.714Z"
   },
   {
    "duration": 5,
    "start_time": "2024-06-07T16:38:59.772Z"
   },
   {
    "duration": 961,
    "start_time": "2024-06-07T16:38:59.782Z"
   },
   {
    "duration": 53011,
    "start_time": "2024-06-07T16:39:00.752Z"
   },
   {
    "duration": 4,
    "start_time": "2024-06-07T16:39:53.769Z"
   },
   {
    "duration": 18491,
    "start_time": "2024-06-07T16:39:53.777Z"
   },
   {
    "duration": 5,
    "start_time": "2024-06-07T16:40:12.271Z"
   },
   {
    "duration": 120055,
    "start_time": "2024-06-07T16:40:12.280Z"
   },
   {
    "duration": 0,
    "start_time": "2024-06-07T16:42:12.338Z"
   },
   {
    "duration": 0,
    "start_time": "2024-06-07T16:42:12.340Z"
   },
   {
    "duration": 0,
    "start_time": "2024-06-07T16:42:12.342Z"
   },
   {
    "duration": 2367,
    "start_time": "2024-06-07T16:44:31.863Z"
   },
   {
    "duration": 6,
    "start_time": "2024-06-07T16:44:34.235Z"
   },
   {
    "duration": 44,
    "start_time": "2024-06-07T16:44:34.245Z"
   },
   {
    "duration": 6,
    "start_time": "2024-06-07T16:44:34.292Z"
   },
   {
    "duration": 812,
    "start_time": "2024-06-07T16:44:34.332Z"
   },
   {
    "duration": 70105,
    "start_time": "2024-06-07T16:44:35.149Z"
   },
   {
    "duration": 5,
    "start_time": "2024-06-07T16:45:45.257Z"
   },
   {
    "duration": 18135,
    "start_time": "2024-06-07T16:45:45.265Z"
   },
   {
    "duration": 7,
    "start_time": "2024-06-07T16:46:03.403Z"
   },
   {
    "duration": 5,
    "start_time": "2024-06-07T16:46:03.413Z"
   },
   {
    "duration": 22,
    "start_time": "2024-06-07T16:46:03.435Z"
   },
   {
    "duration": 7,
    "start_time": "2024-06-07T16:46:03.460Z"
   },
   {
    "duration": 9,
    "start_time": "2024-06-07T16:46:03.471Z"
   },
   {
    "duration": 1420,
    "start_time": "2024-06-07T17:58:42.839Z"
   },
   {
    "duration": 789,
    "start_time": "2024-06-07T17:58:44.262Z"
   },
   {
    "duration": 34,
    "start_time": "2024-06-07T17:58:45.054Z"
   },
   {
    "duration": 103,
    "start_time": "2024-06-07T17:58:45.090Z"
   },
   {
    "duration": 115,
    "start_time": "2024-06-07T17:58:45.199Z"
   },
   {
    "duration": 18,
    "start_time": "2024-06-07T17:58:45.316Z"
   },
   {
    "duration": 27,
    "start_time": "2024-06-07T17:58:45.337Z"
   },
   {
    "duration": 18,
    "start_time": "2024-06-07T17:58:45.367Z"
   },
   {
    "duration": 67,
    "start_time": "2024-06-07T17:58:45.389Z"
   },
   {
    "duration": 9,
    "start_time": "2024-06-07T17:58:45.459Z"
   },
   {
    "duration": 26,
    "start_time": "2024-06-07T17:58:45.471Z"
   },
   {
    "duration": 23,
    "start_time": "2024-06-07T17:58:45.532Z"
   },
   {
    "duration": 165,
    "start_time": "2024-06-07T17:58:45.558Z"
   },
   {
    "duration": 10,
    "start_time": "2024-06-07T17:58:45.732Z"
   },
   {
    "duration": 7,
    "start_time": "2024-06-07T17:58:45.745Z"
   },
   {
    "duration": 19,
    "start_time": "2024-06-07T17:58:45.755Z"
   },
   {
    "duration": 9,
    "start_time": "2024-06-07T17:58:45.776Z"
   },
   {
    "duration": 55,
    "start_time": "2024-06-07T17:58:45.788Z"
   },
   {
    "duration": 12,
    "start_time": "2024-06-07T17:58:45.847Z"
   },
   {
    "duration": 8,
    "start_time": "2024-06-07T17:58:45.862Z"
   },
   {
    "duration": 66,
    "start_time": "2024-06-07T17:58:45.874Z"
   },
   {
    "duration": 6,
    "start_time": "2024-06-07T17:58:45.944Z"
   },
   {
    "duration": 6,
    "start_time": "2024-06-07T17:58:45.952Z"
   },
   {
    "duration": 8,
    "start_time": "2024-06-07T17:58:45.961Z"
   },
   {
    "duration": 11,
    "start_time": "2024-06-07T17:58:45.972Z"
   },
   {
    "duration": 10,
    "start_time": "2024-06-07T17:58:46.033Z"
   },
   {
    "duration": 12,
    "start_time": "2024-06-07T17:58:46.046Z"
   },
   {
    "duration": 5,
    "start_time": "2024-06-07T17:58:46.060Z"
   },
   {
    "duration": 379,
    "start_time": "2024-06-07T17:58:46.068Z"
   },
   {
    "duration": 356,
    "start_time": "2024-06-07T17:58:46.450Z"
   },
   {
    "duration": 361,
    "start_time": "2024-06-07T17:58:46.809Z"
   },
   {
    "duration": 19,
    "start_time": "2024-06-07T17:58:47.173Z"
   },
   {
    "duration": 13,
    "start_time": "2024-06-07T17:58:47.195Z"
   },
   {
    "duration": 1108,
    "start_time": "2024-06-07T17:58:47.233Z"
   },
   {
    "duration": 21,
    "start_time": "2024-06-07T17:58:48.344Z"
   },
   {
    "duration": 13,
    "start_time": "2024-06-07T17:58:48.368Z"
   },
   {
    "duration": 233,
    "start_time": "2024-06-07T17:58:48.384Z"
   },
   {
    "duration": 22,
    "start_time": "2024-06-07T17:58:48.620Z"
   },
   {
    "duration": 193,
    "start_time": "2024-06-07T17:58:48.645Z"
   },
   {
    "duration": 13,
    "start_time": "2024-06-07T17:58:48.841Z"
   },
   {
    "duration": 245,
    "start_time": "2024-06-07T17:58:48.863Z"
   },
   {
    "duration": 810,
    "start_time": "2024-06-07T17:58:49.111Z"
   },
   {
    "duration": 11,
    "start_time": "2024-06-07T17:58:49.924Z"
   },
   {
    "duration": 37,
    "start_time": "2024-06-07T17:58:49.938Z"
   },
   {
    "duration": 5,
    "start_time": "2024-06-07T17:58:49.978Z"
   },
   {
    "duration": 4,
    "start_time": "2024-06-07T17:58:49.986Z"
   },
   {
    "duration": 855,
    "start_time": "2024-06-07T17:58:49.994Z"
   },
   {
    "duration": 47138,
    "start_time": "2024-06-07T17:58:50.852Z"
   },
   {
    "duration": 4,
    "start_time": "2024-06-07T17:59:37.993Z"
   },
   {
    "duration": 17701,
    "start_time": "2024-06-07T17:59:38.000Z"
   },
   {
    "duration": 3,
    "start_time": "2024-06-07T17:59:55.704Z"
   },
   {
    "duration": 4,
    "start_time": "2024-06-07T17:59:55.710Z"
   },
   {
    "duration": 17,
    "start_time": "2024-06-07T17:59:55.734Z"
   },
   {
    "duration": 7,
    "start_time": "2024-06-07T17:59:55.754Z"
   },
   {
    "duration": 8,
    "start_time": "2024-06-07T17:59:55.764Z"
   },
   {
    "duration": 5227,
    "start_time": "2024-06-08T01:13:01.647Z"
   },
   {
    "duration": 1006,
    "start_time": "2024-06-08T01:13:06.879Z"
   },
   {
    "duration": 42,
    "start_time": "2024-06-08T01:13:07.888Z"
   },
   {
    "duration": 24,
    "start_time": "2024-06-08T01:13:07.934Z"
   },
   {
    "duration": 128,
    "start_time": "2024-06-08T01:13:07.960Z"
   },
   {
    "duration": 12,
    "start_time": "2024-06-08T01:13:08.091Z"
   },
   {
    "duration": 27,
    "start_time": "2024-06-08T01:13:08.122Z"
   },
   {
    "duration": 19,
    "start_time": "2024-06-08T01:13:08.153Z"
   },
   {
    "duration": 69,
    "start_time": "2024-06-08T01:13:08.175Z"
   },
   {
    "duration": 11,
    "start_time": "2024-06-08T01:13:08.250Z"
   },
   {
    "duration": 63,
    "start_time": "2024-06-08T01:13:08.264Z"
   },
   {
    "duration": 23,
    "start_time": "2024-06-08T01:13:08.330Z"
   },
   {
    "duration": 168,
    "start_time": "2024-06-08T01:13:08.356Z"
   },
   {
    "duration": 13,
    "start_time": "2024-06-08T01:13:08.527Z"
   },
   {
    "duration": 4,
    "start_time": "2024-06-08T01:13:08.543Z"
   },
   {
    "duration": 18,
    "start_time": "2024-06-08T01:13:08.551Z"
   },
   {
    "duration": 50,
    "start_time": "2024-06-08T01:13:08.572Z"
   },
   {
    "duration": 15,
    "start_time": "2024-06-08T01:13:08.625Z"
   },
   {
    "duration": 10,
    "start_time": "2024-06-08T01:13:08.643Z"
   },
   {
    "duration": 7,
    "start_time": "2024-06-08T01:13:08.657Z"
   },
   {
    "duration": 73,
    "start_time": "2024-06-08T01:13:08.667Z"
   },
   {
    "duration": 6,
    "start_time": "2024-06-08T01:13:08.743Z"
   },
   {
    "duration": 6,
    "start_time": "2024-06-08T01:13:08.752Z"
   },
   {
    "duration": 9,
    "start_time": "2024-06-08T01:13:08.761Z"
   },
   {
    "duration": 53,
    "start_time": "2024-06-08T01:13:08.772Z"
   },
   {
    "duration": 9,
    "start_time": "2024-06-08T01:13:08.828Z"
   },
   {
    "duration": 12,
    "start_time": "2024-06-08T01:13:08.840Z"
   },
   {
    "duration": 6,
    "start_time": "2024-06-08T01:13:08.859Z"
   },
   {
    "duration": 408,
    "start_time": "2024-06-08T01:13:08.868Z"
   },
   {
    "duration": 467,
    "start_time": "2024-06-08T01:13:09.283Z"
   },
   {
    "duration": 378,
    "start_time": "2024-06-08T01:13:09.753Z"
   },
   {
    "duration": 12,
    "start_time": "2024-06-08T01:13:10.135Z"
   },
   {
    "duration": 11,
    "start_time": "2024-06-08T01:13:10.150Z"
   },
   {
    "duration": 1250,
    "start_time": "2024-06-08T01:13:10.164Z"
   },
   {
    "duration": 28,
    "start_time": "2024-06-08T01:13:11.422Z"
   },
   {
    "duration": 20,
    "start_time": "2024-06-08T01:13:11.461Z"
   },
   {
    "duration": 264,
    "start_time": "2024-06-08T01:13:11.485Z"
   },
   {
    "duration": 14,
    "start_time": "2024-06-08T01:13:11.752Z"
   },
   {
    "duration": 218,
    "start_time": "2024-06-08T01:13:11.770Z"
   },
   {
    "duration": 14,
    "start_time": "2024-06-08T01:13:11.992Z"
   },
   {
    "duration": 244,
    "start_time": "2024-06-08T01:13:12.024Z"
   },
   {
    "duration": 6,
    "start_time": "2024-06-08T01:13:12.272Z"
   },
   {
    "duration": 66,
    "start_time": "2024-06-08T01:13:12.282Z"
   },
   {
    "duration": 6,
    "start_time": "2024-06-08T01:13:12.351Z"
   },
   {
    "duration": 771,
    "start_time": "2024-06-08T01:13:12.361Z"
   },
   {
    "duration": 593,
    "start_time": "2024-06-08T01:13:13.138Z"
   },
   {
    "duration": 0,
    "start_time": "2024-06-08T01:13:13.734Z"
   },
   {
    "duration": 0,
    "start_time": "2024-06-08T01:13:13.736Z"
   },
   {
    "duration": 0,
    "start_time": "2024-06-08T01:13:13.739Z"
   },
   {
    "duration": 1550,
    "start_time": "2024-06-08T01:35:32.558Z"
   },
   {
    "duration": 857,
    "start_time": "2024-06-08T01:35:34.115Z"
   },
   {
    "duration": 34,
    "start_time": "2024-06-08T01:35:34.974Z"
   },
   {
    "duration": 105,
    "start_time": "2024-06-08T01:35:35.026Z"
   },
   {
    "duration": 145,
    "start_time": "2024-06-08T01:35:35.134Z"
   },
   {
    "duration": 12,
    "start_time": "2024-06-08T01:35:35.283Z"
   },
   {
    "duration": 53,
    "start_time": "2024-06-08T01:35:35.298Z"
   },
   {
    "duration": 22,
    "start_time": "2024-06-08T01:35:35.356Z"
   },
   {
    "duration": 65,
    "start_time": "2024-06-08T01:35:35.382Z"
   },
   {
    "duration": 11,
    "start_time": "2024-06-08T01:35:35.453Z"
   },
   {
    "duration": 59,
    "start_time": "2024-06-08T01:35:35.467Z"
   },
   {
    "duration": 26,
    "start_time": "2024-06-08T01:35:35.530Z"
   },
   {
    "duration": 192,
    "start_time": "2024-06-08T01:35:35.562Z"
   },
   {
    "duration": 14,
    "start_time": "2024-06-08T01:35:35.759Z"
   },
   {
    "duration": 8,
    "start_time": "2024-06-08T01:35:35.779Z"
   },
   {
    "duration": 42,
    "start_time": "2024-06-08T01:35:35.790Z"
   },
   {
    "duration": 10,
    "start_time": "2024-06-08T01:35:35.835Z"
   },
   {
    "duration": 13,
    "start_time": "2024-06-08T01:35:35.849Z"
   },
   {
    "duration": 61,
    "start_time": "2024-06-08T01:35:35.866Z"
   },
   {
    "duration": 10,
    "start_time": "2024-06-08T01:35:35.930Z"
   },
   {
    "duration": 24,
    "start_time": "2024-06-08T01:35:35.944Z"
   },
   {
    "duration": 9,
    "start_time": "2024-06-08T01:35:35.972Z"
   },
   {
    "duration": 40,
    "start_time": "2024-06-08T01:35:35.985Z"
   },
   {
    "duration": 12,
    "start_time": "2024-06-08T01:35:36.029Z"
   },
   {
    "duration": 14,
    "start_time": "2024-06-08T01:35:36.044Z"
   },
   {
    "duration": 10,
    "start_time": "2024-06-08T01:35:36.061Z"
   },
   {
    "duration": 57,
    "start_time": "2024-06-08T01:35:36.075Z"
   },
   {
    "duration": 7,
    "start_time": "2024-06-08T01:35:36.142Z"
   },
   {
    "duration": 432,
    "start_time": "2024-06-08T01:35:36.153Z"
   },
   {
    "duration": 386,
    "start_time": "2024-06-08T01:35:36.589Z"
   },
   {
    "duration": 371,
    "start_time": "2024-06-08T01:35:36.978Z"
   },
   {
    "duration": 18,
    "start_time": "2024-06-08T01:35:37.353Z"
   },
   {
    "duration": 14,
    "start_time": "2024-06-08T01:35:37.381Z"
   },
   {
    "duration": 1146,
    "start_time": "2024-06-08T01:35:37.404Z"
   },
   {
    "duration": 25,
    "start_time": "2024-06-08T01:35:38.553Z"
   },
   {
    "duration": 42,
    "start_time": "2024-06-08T01:35:38.582Z"
   },
   {
    "duration": 252,
    "start_time": "2024-06-08T01:35:38.628Z"
   },
   {
    "duration": 17,
    "start_time": "2024-06-08T01:35:38.883Z"
   },
   {
    "duration": 243,
    "start_time": "2024-06-08T01:35:38.904Z"
   },
   {
    "duration": 17,
    "start_time": "2024-06-08T01:35:39.150Z"
   },
   {
    "duration": 280,
    "start_time": "2024-06-08T01:35:39.172Z"
   },
   {
    "duration": 8,
    "start_time": "2024-06-08T01:35:39.459Z"
   },
   {
    "duration": 81,
    "start_time": "2024-06-08T01:35:39.471Z"
   },
   {
    "duration": 6,
    "start_time": "2024-06-08T01:35:39.556Z"
   },
   {
    "duration": 1079,
    "start_time": "2024-06-08T01:35:39.566Z"
   },
   {
    "duration": 46101,
    "start_time": "2024-06-08T01:35:40.651Z"
   },
   {
    "duration": 17971,
    "start_time": "2024-06-08T01:36:26.755Z"
   },
   {
    "duration": 16,
    "start_time": "2024-06-08T01:36:44.728Z"
   },
   {
    "duration": 7,
    "start_time": "2024-06-08T01:36:44.747Z"
   }
  ],
  "kernelspec": {
   "display_name": "Python 3 (ipykernel)",
   "language": "python",
   "name": "python3"
  },
  "language_info": {
   "codemirror_mode": {
    "name": "ipython",
    "version": 3
   },
   "file_extension": ".py",
   "mimetype": "text/x-python",
   "name": "python",
   "nbconvert_exporter": "python",
   "pygments_lexer": "ipython3",
   "version": "3.9.19"
  },
  "toc": {
   "base_numbering": 1,
   "nav_menu": {},
   "number_sections": true,
   "sideBar": true,
   "skip_h1_title": true,
   "title_cell": "Table of Contents",
   "title_sidebar": "Contents",
   "toc_cell": false,
   "toc_position": {},
   "toc_section_display": true,
   "toc_window_display": false
  }
 },
 "nbformat": 4,
 "nbformat_minor": 2
}
